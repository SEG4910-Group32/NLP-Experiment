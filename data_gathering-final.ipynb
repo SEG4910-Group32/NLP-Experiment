{
 "cells": [
  {
   "cell_type": "markdown",
   "id": "5ab73c3d",
   "metadata": {},
   "source": [
    "# 1.Reading the data from the pdf document"
   ]
  },
  {
   "cell_type": "code",
   "execution_count": 1,
   "id": "3ac6e71d",
   "metadata": {},
   "outputs": [
    {
     "name": "stdout",
     "output_type": "stream",
     "text": [
      "Requirement already satisfied: pypdf in c:\\users\\ghaza\\anaconda3\\lib\\site-packages (3.5.0)\n",
      "Requirement already satisfied: typing_extensions>=3.10.0.0 in c:\\users\\ghaza\\anaconda3\\lib\\site-packages (from pypdf) (4.4.0)\n",
      "Note: you may need to restart the kernel to use updated packages.\n"
     ]
    }
   ],
   "source": [
    "pip install pypdf"
   ]
  },
  {
   "cell_type": "code",
   "execution_count": 2,
   "id": "bed491c0",
   "metadata": {},
   "outputs": [],
   "source": [
    "import pandas as pd"
   ]
  },
  {
   "cell_type": "code",
   "execution_count": 3,
   "id": "a8ea6dd7",
   "metadata": {},
   "outputs": [],
   "source": [
    "from pypdf import PdfReader"
   ]
  },
  {
   "cell_type": "code",
   "execution_count": 4,
   "id": "f54347fe",
   "metadata": {},
   "outputs": [],
   "source": [
    "#reading the text from the pdf\n",
    "def returnText(reader):\n",
    "    number_of_pages = len(reader.pages)\n",
    "    text = \"\"\n",
    "    for i in range(number_of_pages):\n",
    "      page = reader.pages[i]\n",
    "      text += page.extract_text()\n",
    "    return text"
   ]
  },
  {
   "cell_type": "markdown",
   "id": "6d9530d8",
   "metadata": {},
   "source": [
    "# 2.Splitting the text line by line"
   ]
  },
  {
   "cell_type": "code",
   "execution_count": 5,
   "id": "1d2ed295",
   "metadata": {},
   "outputs": [],
   "source": [
    "#print(lines)"
   ]
  },
  {
   "cell_type": "markdown",
   "id": "14c3b938",
   "metadata": {},
   "source": [
    "# 3.removing punctuation(except % and . )"
   ]
  },
  {
   "cell_type": "code",
   "execution_count": 6,
   "id": "ca3d3cc9",
   "metadata": {},
   "outputs": [],
   "source": [
    "import string"
   ]
  },
  {
   "cell_type": "code",
   "execution_count": 7,
   "id": "89d51f5f",
   "metadata": {},
   "outputs": [],
   "source": [
    "def remove_punct(text):\n",
    "    allowed_chars = string.ascii_letters + string.digits + \" %\" + '.'\n",
    "    text_nopunct = \"\".join([char for char in text if char in allowed_chars])\n",
    "    return text_nopunct\n",
    "\n"
   ]
  },
  {
   "cell_type": "code",
   "execution_count": 8,
   "id": "6f0c4805",
   "metadata": {},
   "outputs": [],
   "source": [
    "#print(remove_punct(lines))"
   ]
  },
  {
   "cell_type": "code",
   "execution_count": 9,
   "id": "89bdc4f1",
   "metadata": {},
   "outputs": [],
   "source": [
    "#split into sentences before deleting the punctuation"
   ]
  },
  {
   "cell_type": "code",
   "execution_count": 10,
   "id": "bbe6afdb",
   "metadata": {},
   "outputs": [],
   "source": [
    "#data_without_punct = [remove_punct(line) for line in lines] #remove_punct(text1) #[remove_punct(line) for line in lines]  #"
   ]
  },
  {
   "cell_type": "code",
   "execution_count": 11,
   "id": "f03650e2",
   "metadata": {},
   "outputs": [],
   "source": [
    "#print(text1[:200])"
   ]
  },
  {
   "cell_type": "code",
   "execution_count": 12,
   "id": "939957a9",
   "metadata": {},
   "outputs": [],
   "source": [
    "#print(data_without_punct[:200])"
   ]
  },
  {
   "cell_type": "markdown",
   "id": "3265a36f",
   "metadata": {},
   "source": [
    "# 4.removing empty strings"
   ]
  },
  {
   "cell_type": "code",
   "execution_count": 13,
   "id": "f91fdec8",
   "metadata": {},
   "outputs": [],
   "source": [
    "#cleaned_list = [element for element in data_without_punct if not element.isspace()]\n",
    "#print(cleaned_list)"
   ]
  },
  {
   "cell_type": "markdown",
   "id": "20bdfba6",
   "metadata": {},
   "source": [
    "# 5.removing white spaces from the beginning & end of strings"
   ]
  },
  {
   "cell_type": "code",
   "execution_count": 14,
   "id": "dfa28aa3",
   "metadata": {},
   "outputs": [],
   "source": [
    "#cleaned_list2 = [element.strip() for element in cleaned_list]\n",
    "#print(cleaned_list2)"
   ]
  },
  {
   "cell_type": "markdown",
   "id": "a1b3c400",
   "metadata": {},
   "source": [
    "# 6.removing stopwords"
   ]
  },
  {
   "cell_type": "code",
   "execution_count": 15,
   "id": "f998d1f5",
   "metadata": {},
   "outputs": [],
   "source": [
    "import nltk"
   ]
  },
  {
   "cell_type": "code",
   "execution_count": 16,
   "id": "152c80bb",
   "metadata": {},
   "outputs": [
    {
     "name": "stdout",
     "output_type": "stream",
     "text": [
      "['i', 'me', 'my', 'myself', 'we', 'our', 'ours', 'ourselves', 'you', \"you're\", \"you've\", \"you'll\", \"you'd\", 'your', 'yours', 'yourself', 'yourselves', 'he', 'him', 'his', 'himself', 'she', \"she's\", 'her', 'hers', 'herself', 'it', \"it's\", 'its', 'itself', 'they', 'them', 'their', 'theirs', 'themselves', 'what', 'which', 'who', 'whom', 'this', 'that', \"that'll\", 'these', 'those', 'am', 'is', 'are', 'was', 'were', 'be', 'been', 'being', 'have', 'has', 'had', 'having', 'do', 'does', 'did', 'doing', 'a', 'an', 'the', 'and', 'but', 'if', 'or', 'because', 'as', 'until', 'while', 'of', 'at', 'by', 'for', 'with', 'about', 'against', 'between', 'into', 'through', 'during', 'before', 'after', 'above', 'below', 'to', 'from', 'up', 'down', 'in', 'out', 'on', 'off', 'over', 'under', 'again', 'further', 'then', 'once', 'here', 'there', 'when', 'where', 'why', 'how', 'all', 'any', 'both', 'each', 'few', 'more', 'most', 'other', 'some', 'such', 'no', 'nor', 'not', 'only', 'own', 'same', 'so', 'than', 'too', 'very', 's', 't', 'can', 'will', 'just', 'don', \"don't\", 'should', \"should've\", 'now', 'd', 'll', 'm', 'o', 're', 've', 'y', 'ain', 'aren', \"aren't\", 'couldn', \"couldn't\", 'didn', \"didn't\", 'doesn', \"doesn't\", 'hadn', \"hadn't\", 'hasn', \"hasn't\", 'haven', \"haven't\", 'isn', \"isn't\", 'ma', 'mightn', \"mightn't\", 'mustn', \"mustn't\", 'needn', \"needn't\", 'shan', \"shan't\", 'shouldn', \"shouldn't\", 'wasn', \"wasn't\", 'weren', \"weren't\", 'won', \"won't\", 'wouldn', \"wouldn't\"]\n"
     ]
    }
   ],
   "source": [
    "stopword = nltk.corpus.stopwords.words('english')\n",
    "print(stopword)"
   ]
  },
  {
   "cell_type": "code",
   "execution_count": 17,
   "id": "f4eae50e",
   "metadata": {},
   "outputs": [],
   "source": [
    "def remove_stopwords(tokenized_list):\n",
    "    text = [word for word in tokenized_list if word not in stopword]\n",
    "    return text"
   ]
  },
  {
   "cell_type": "markdown",
   "id": "bec38ce1",
   "metadata": {},
   "source": [
    "## getting the year of the syllabus"
   ]
  },
  {
   "cell_type": "code",
   "execution_count": 18,
   "id": "f067c97f",
   "metadata": {},
   "outputs": [],
   "source": [
    "import re\n",
    "pattern = r'2\\d{3}'  # any year > 2000\n",
    "\n",
    "import datetime\n",
    "\n",
    "# Get the current date\n",
    "current_date = datetime.datetime.now()\n",
    "\n",
    "# Extract the year from the current date\n",
    "current_year = current_date.year\n",
    "\n"
   ]
  },
  {
   "cell_type": "markdown",
   "id": "773d9a49",
   "metadata": {},
   "source": [
    "# "
   ]
  },
  {
   "cell_type": "code",
   "execution_count": 19,
   "id": "dab2e754",
   "metadata": {},
   "outputs": [
    {
     "name": "stdout",
     "output_type": "stream",
     "text": [
      "Empty DataFrame\n",
      "Columns: [Sentences]\n",
      "Index: []\n",
      "matches ['2020', '2005', '2020', '2020']\n",
      "Selected year: 2020\n",
      "len(df) 288  pdf_name  ECO1104F\n",
      "matches []\n",
      "Selected year: 2023\n",
      "len(df) 680  pdf_name  ADM3313\n",
      "matches ['2020', '2348', '2020']\n",
      "Selected year: 2020\n",
      "len(df) 852  pdf_name  MAT1348B\n",
      "matches ['2022', '2110', '2101', '2110', '2141', '2143', '2006', '2009', '2012', '2022', '2022', '2022', '2022', '2022', '2022', '2022', '2022', '2022', '2022', '2022']\n",
      "Selected year: 2022\n",
      "len(df) 943  pdf_name  CSI3105\n",
      "matches ['2021', '2021', '2021', '2021', '2021', '2021', '2021', '2021', '2021', '2021', '2021', '2016', '2010', '2870', '2016', '2907']\n",
      "Selected year: 2021\n",
      "len(df) 1081  pdf_name  ITI1121\n",
      "matches ['2020', '2020']\n",
      "Selected year: 2020\n",
      "len(df) 1263  pdf_name  mat1322\n",
      "matches ['2019', '2019', '2019', '2019', '2019', '2016']\n",
      "Selected year: 2019\n",
      "len(df) 1533  pdf_name  ADM1100\n",
      "matches ['2101', '2017', '2101', '2101', '2012', '2101', '2101', '2017']\n",
      "Selected year: 2017\n",
      "len(df) 1608  pdf_name  CSI2101\n",
      "matches ['2022', '2105', '2016', '2006', '2004', '2015', '2017', '2015', '2019', '2012']\n",
      "Selected year: 2022\n",
      "len(df) 1787  pdf_name  SEG3102\n",
      "matches ['2105', '2014', '2105', '2105']\n",
      "Selected year: 2014\n",
      "len(df) 1788  pdf_name  SEG2105\n"
     ]
    }
   ],
   "source": [
    "columns = ['Sentences']\n",
    "df = pd.DataFrame(columns=columns)\n",
    "print(df.head())\n",
    "###\n",
    "pdf_names = [\"ECO1104F\", \"ADM3313\", \"MAT1348B\", \"CSI3105\", \"ITI1121\", \"mat1322\", \"ADM1100\",\"CSI2101\", \"SEG3102\", \"SEG2105\"]\n",
    "for pdf_name in pdf_names:\n",
    "    pdf_filename = f\"{pdf_name}.pdf\"\n",
    "    \n",
    "    #1. reading the data\n",
    "    reader = PdfReader(pdf_filename)\n",
    "    text1 = returnText(reader)\n",
    "    #print(text1)\n",
    "    \n",
    "    #finding the year of the syllabus\n",
    "    matches = re.findall(pattern, text1)\n",
    "    #year = matches[0]\n",
    "    print(\"matches\",matches)\n",
    "    # Convert matches to integers\n",
    "    years_found = [int(match) for match in matches]\n",
    "\n",
    "    # Initialize the year variable(in the case that the year is not found)\n",
    "    year = current_year\n",
    "\n",
    "    # Check if there are matching years within the specified range(from 2000 to current year+1)\n",
    "    for y in years_found:\n",
    "        if 2000 < y < current_year + 1:\n",
    "            year = y\n",
    "            break\n",
    "\n",
    "    # Print the selected year\n",
    "    print(\"Selected year:\", year)\n",
    "    \n",
    "    #2. splitting the text by line\n",
    "    lines = text1.split('\\n')\n",
    "    #print(pdf_filename)\n",
    "    #print(lines)\n",
    "    \n",
    "    #3. removing the punctuation\n",
    "    data_without_punct = [remove_punct(line) for line in lines] \n",
    "    #print(\"data_without_punct\", data_without_punct)\n",
    "    \n",
    "    #4. removing empty strings\n",
    "    cleaned_list = [element for element in data_without_punct if not element.isspace()]\n",
    "    \n",
    "    #5. removing white spaces from the beginning & end of strings\n",
    "    cleaned_list2 = [element.strip() for element in cleaned_list]\n",
    "    \n",
    "    #6. removing the stopwords\n",
    "    data_without_stopwords = remove_stopwords(cleaned_list2)\n",
    "    \n",
    "    # Append each sentence to the DataFrame as a separate row\n",
    "    for sentence in data_without_stopwords:\n",
    "        df=df.append({'Sentences': sentence}, ignore_index=True)\n",
    "        #df=df.append({'Year': year}, ignore_index=True)\n",
    "    #df = pd.DataFrame(data_without_stopwords, columns=['Sentences'])\n",
    "    #print(df.head())\n",
    "    print(\"len(df)\",len(df),\" pdf_name \", pdf_name)\n",
    "    #df = df.append({'Sentences': data_without_stopwords} ,ignore_index=True)"
   ]
  },
  {
   "cell_type": "code",
   "execution_count": null,
   "id": "2a66077f",
   "metadata": {},
   "outputs": [],
   "source": []
  },
  {
   "cell_type": "markdown",
   "id": "d129e64d",
   "metadata": {},
   "source": [
    "# 7.creating a dataframe"
   ]
  },
  {
   "cell_type": "code",
   "execution_count": 20,
   "id": "76ebb498",
   "metadata": {},
   "outputs": [],
   "source": [
    "#df = pd.DataFrame(data_without_stopwords, columns=['Sentences'])\n",
    "#, 'contains_a_deadline' , 'deadline', 'deadline_type'\n",
    "#columns = ['Sentences']\n",
    "#df = pd.DataFrame(columns=columns)"
   ]
  },
  {
   "cell_type": "code",
   "execution_count": 21,
   "id": "d292254d",
   "metadata": {},
   "outputs": [],
   "source": [
    "df['contains_a_deadline'] = 0 #False\n",
    "df['deadline']= ''\n",
    "df['deadline_type'] = ''"
   ]
  },
  {
   "cell_type": "code",
   "execution_count": 22,
   "id": "acf98544",
   "metadata": {},
   "outputs": [
    {
     "data": {
      "text/plain": [
       "1788"
      ]
     },
     "execution_count": 22,
     "metadata": {},
     "output_type": "execute_result"
    }
   ],
   "source": [
    "df.head()\n",
    "len(df)"
   ]
  },
  {
   "cell_type": "code",
   "execution_count": 23,
   "id": "0a5c5e2a",
   "metadata": {},
   "outputs": [],
   "source": [
    "pd.set_option('display.max_colwidth', None) #to see all the length of each string"
   ]
  },
  {
   "cell_type": "markdown",
   "id": "55b31cff",
   "metadata": {},
   "source": [
    "# 8.adding the label to the contains_a_deadline column"
   ]
  },
  {
   "cell_type": "code",
   "execution_count": 24,
   "id": "77ec0c3a",
   "metadata": {},
   "outputs": [],
   "source": [
    "# 40 -> [0:48]  , 61 -> [48:100],  81 [40:100]\n",
    "has_deadlines = [61, 62, 63, 90, 121, 126,\n",
    "                 302, 303, 304, 377,\n",
    "                 770, 771, 772, 774, 775, 776,\n",
    "                 900, 901, 902, 906, 908, 910, 914, 915,\n",
    "                 999, 1003, 1004, 1005, 1006,\n",
    "                 1111, 1114, 1167, 1168, 1169, 1170, 1171,\n",
    "                 1281, 1282, 1335, 1462, 1467,\n",
    "                 1596, 1597, 1598,1599, 1602\n",
    "                ]\n",
    "for idx in has_deadlines:\n",
    "    df.loc[idx, 'contains_a_deadline'] =1 \n"
   ]
  },
  {
   "cell_type": "code",
   "execution_count": 25,
   "id": "9fc317b7",
   "metadata": {},
   "outputs": [
    {
     "data": {
      "text/plain": [
       "60     0\n",
       "61     1\n",
       "62     1\n",
       "63     1\n",
       "64     0\n",
       "      ..\n",
       "122    0\n",
       "123    0\n",
       "124    0\n",
       "125    0\n",
       "126    1\n",
       "Name: contains_a_deadline, Length: 67, dtype: int64"
      ]
     },
     "execution_count": 25,
     "metadata": {},
     "output_type": "execute_result"
    }
   ],
   "source": [
    "df['contains_a_deadline'][60:127]\n",
    "#900, 901, 902, 906, 908, 910, 914, 915]"
   ]
  },
  {
   "cell_type": "markdown",
   "id": "c6d08317",
   "metadata": {},
   "source": [
    "# 9. getting the year "
   ]
  },
  {
   "cell_type": "markdown",
   "id": "469b651d",
   "metadata": {},
   "source": [
    "# 10.adding the label to the deadline column"
   ]
  },
  {
   "cell_type": "code",
   "execution_count": 26,
   "id": "1e4d3841",
   "metadata": {},
   "outputs": [],
   "source": [
    "#remove all the years\n",
    "\n",
    "#dates are in format of 'MM-DD'\n",
    "#ECO1104F\n",
    "df.loc[61, 'deadline'] = '02-6' \n",
    "df.loc[62, 'deadline'] = '03-12'\n",
    "df.loc[63, 'deadline'] = ''\n",
    "df.loc[90, 'deadline'] = '05-05'\n",
    "df.loc[121, 'deadline'] = '02-6'\n",
    "df.loc[126, 'deadline'] = '03-12'\n",
    "\n",
    "# \"ADM3313\"\n",
    "df.loc[302, 'deadline'] = '02-09'\n",
    "df.loc[303, 'deadline'] = '03-2'\n",
    "df.loc[304, 'deadline'] = '04-26'\n",
    "df.loc[377, 'deadline'] = '02-09'\n",
    "\n",
    "#\"MAT1348B\"\n",
    "df.loc[770, 'deadline'] = '01-28'\n",
    "df.loc[771, 'deadline'] = '03-03'\n",
    "df.loc[772, 'deadline'] = '04-01'\n",
    "df.loc[774, 'deadline'] = '02-10'\n",
    "df.loc[775, 'deadline'] = '03-16'\n",
    "df.loc[776, 'deadline'] = ''\n",
    "\n",
    "#900, 901, 902, 906, 908, 910, 914, 915]\n",
    "\n",
    "#\"CSI3105\"\n",
    "df.loc[900, 'deadline'] = '09-22'\n",
    "df.loc[901, 'deadline'] = '10-06'\n",
    "df.loc[902, 'deadline'] = '11-10'\n",
    "df.loc[906, 'deadline'] = '09-29'\n",
    "df.loc[908, 'deadline'] = '10-13'\n",
    "df.loc[910, 'deadline'] = '11-17'\n",
    "df.loc[914, 'deadline'] = '10-17'\n",
    "df.loc[915, 'deadline'] = '11-21'\n",
    "\n",
    "#\"ITI1121\",\n",
    "df.loc[999, 'deadline'] = '03-06'\n",
    "df.loc[1003, 'deadline'] = '02-05'\n",
    "df.loc[1004, 'deadline'] = '02-26'\n",
    "df.loc[1005, 'deadline'] = '03-19'\n",
    "df.loc[1006, 'deadline'] = '04-09'\n",
    "\n",
    "\n",
    "\n",
    "#mat1322\n",
    "df.loc[1111, 'deadline'] = '02-03'\n",
    "df.loc[1114, 'deadline'] = '03-16'\n",
    "df.loc[1167, 'deadline'] = '01-22'\n",
    "df.loc[1168, 'deadline'] = '02-05'\n",
    "df.loc[1169, 'deadline'] = '02-26'\n",
    "df.loc[1170, 'deadline'] = '03-11'\n",
    "df.loc[1171, 'deadline'] = '04-01'\n",
    "\n",
    "#ADM1100\n",
    "df.loc[1281, 'deadline'] = '10-21'\n",
    "df.loc[1282, 'deadline'] = '11-14'\n",
    "df.loc[1335, 'deadline'] = '10-21'\n",
    "df.loc[1462, 'deadline'] = '10-21'\n",
    "df.loc[1467, 'deadline'] = '11-14'\n",
    "\n",
    "#CSI2101\n",
    "#1596, 1597, 1598,1599, 1602\n",
    "df.loc[1596, 'deadline'] = '02-06'\n",
    "df.loc[1597, 'deadline'] = '02-17'\n",
    "df.loc[1598, 'deadline'] = '03-13'\n",
    "df.loc[1599, 'deadline'] = '03-27'\n",
    "df.loc[1602, 'deadline'] = '03-01'\n",
    "\n"
   ]
  },
  {
   "cell_type": "markdown",
   "id": "c5d09583",
   "metadata": {},
   "source": [
    "# 11.adding the label to the deadline_type column"
   ]
  },
  {
   "cell_type": "code",
   "execution_count": 27,
   "id": "71ed825f",
   "metadata": {},
   "outputs": [],
   "source": [
    "#ECO1104F\n",
    "df.loc[61, 'deadline_type'] = 'midterm'\n",
    "df.loc[62, 'deadline_type'] = 'midterm'\n",
    "df.loc[63, 'deadline_type'] = 'final'\n",
    "df.loc[90, 'deadline_type'] = 'final'\n",
    "df.loc[121, 'deadline_type'] = 'midterm'\n",
    "df.loc[126, 'deadline_type'] = 'midterm'\n",
    "\n",
    "# \"ADM3313\"\n",
    "df.loc[302, 'deadline_type'] = 'midterm'\n",
    "df.loc[303, 'deadline_type'] = 'report'\n",
    "df.loc[304, 'deadline_type'] = 'final'\n",
    "df.loc[377, 'deadline_type'] = 'midterm'\n",
    "\n",
    "#\"MAT1348B\"\n",
    "df.loc[770, 'deadline_type'] = 'assignment'\n",
    "df.loc[771, 'deadline_type'] = 'assignment'\n",
    "df.loc[772, 'deadline_type'] = 'assignment'\n",
    "df.loc[377, 'deadline_type'] = 'test'\n",
    "df.loc[377, 'deadline_type'] = 'test'\n",
    "df.loc[774, 'deadline_type'] = 'final'\n",
    "\n",
    "#\"CSI3105\"\n",
    "df.loc[900, 'deadline_type'] = 'assignment'\n",
    "df.loc[901, 'deadline_type'] = 'assignment'\n",
    "df.loc[902, 'deadline_type'] = 'assignment'\n",
    "df.loc[906, 'deadline_type'] = 'test'\n",
    "df.loc[908, 'deadline_type'] = 'test'\n",
    "df.loc[910, 'deadline_type'] = 'test'\n",
    "df.loc[914, 'deadline_type'] = 'exam'\n",
    "df.loc[915, 'deadline_type'] = 'exam'\n",
    "\n",
    "#\"ITI1121\",\n",
    "df.loc[999, 'deadline_type'] = 'midterm'\n",
    "df.loc[1003, 'deadline_type'] = 'assignment'\n",
    "df.loc[1004, 'deadline_type'] = 'assignment'\n",
    "df.loc[1005, 'deadline_type'] = 'assignment'\n",
    "df.loc[1006, 'deadline_type'] = 'assignment'\n",
    "\n",
    "#mat1322\n",
    "df.loc[1111, 'deadline_type'] = 'midterm'\n",
    "df.loc[1114, 'deadline_type'] = 'midterm'\n",
    "df.loc[1167, 'deadline_type'] = 'assignment'\n",
    "df.loc[1168, 'deadline_type'] = 'assignment'\n",
    "df.loc[1169, 'deadline_type'] = 'assignment'\n",
    "df.loc[1170, 'deadline_type'] = 'assignment'\n",
    "df.loc[1171, 'deadline_type'] = 'assignment'\n",
    "\n",
    "\n",
    "#ADM1100\n",
    "df.loc[1281, 'deadline_type'] = 'midterm'\n",
    "df.loc[1282, 'deadline_type'] = 'project'\n",
    "df.loc[1335, 'deadline_type'] = 'midterm'\n",
    "df.loc[1462, 'deadline_type'] = 'midterm'\n",
    "df.loc[1467, 'deadline_type'] = 'project'\n",
    "\n",
    "#CSI2101\n",
    "df.loc[1596,'deadline_type'] = 'assignment'\n",
    "df.loc[1597,'deadline_type'] = 'assignment'\n",
    "df.loc[1598,'deadline_type'] = 'assignment'\n",
    "df.loc[1599,'deadline_type'] = 'assignment'\n",
    "df.loc[1602,'deadline_type'] = 'midterm'\n",
    "       \n",
    "#total of 46 rows"
   ]
  },
  {
   "cell_type": "markdown",
   "id": "6245e8d3",
   "metadata": {},
   "source": [
    "# Adding some data manually"
   ]
  },
  {
   "cell_type": "code",
   "execution_count": 28,
   "id": "448252c8",
   "metadata": {},
   "outputs": [],
   "source": [
    "# List of dictionaries representing new rows\n",
    "#Total of 55 rows\n",
    "new_rows = [\n",
    "    {'Sentences': 'Mid-term will take place at class time on Thursday October 19, with duration of 80 minutes. It will be open-book', 'contains_a_deadline': 1, 'deadline': '10-19', 'deadline_type': 'midterm'},\n",
    "    {'Sentences': 'SATURDAY Oct. 14, 2:00 – 3:20 pm * MIDTERM EXAM', 'contains_a_deadline': 1, 'deadline': '10-14', 'deadline_type': 'midterm'},\n",
    "    {'Sentences': 'Deliverable #0 Sep 22 Team / Project', 'contains_a_deadline': 1, 'deadline': '09-22', 'deadline_type': 'deliverable'},\n",
    "    {'Sentences': 'Deliverable #1 Oct 06 Shaped Work', 'contains_a_deadline': 1, 'deadline': '10-06', 'deadline_type': 'deiverable'},\n",
    "    {'Sentences': 'Deliverable #2 Oct 15 The Bet', 'contains_a_deadline': 1, 'deadline': '10-15', 'deadline_type': 'deiverable'},\n",
    "    {'Sentences': 'Asg #1 Oct 26 Prep for final', 'contains_a_deadline': 1, 'deadline': '10-26', 'deadline_type': 'assignment'},\n",
    "    {'Sentences': 'Deliverable #3 Dec 01 Project (management) execution', 'contains_a_deadline': 1, 'deadline': '12-01', 'deadline_type': 'deliverable'},\n",
    "    {'Sentences': 'Asg #2 Dec 6 Prep for final', 'contains_a_deadline': 1, 'deadline': '12-06', 'deadline_type': 'assignment'},\n",
    "    #8\n",
    "    {'Sentences': 'Q1 Sep 15', 'contains_a_deadline': 1, 'deadline': '09-15', 'deadline_type': 'quiz'},\n",
    "    {'Sentences': 'Q2 Sep 22', 'contains_a_deadline': 1, 'deadline': '09-22', 'deadline_type': 'quiz'},\n",
    "    {'Sentences': 'Q3 Sep 29', 'contains_a_deadline': 1, 'deadline': '09-29', 'deadline_type': 'quiz'},\n",
    "    {'Sentences': 'Q4 Oct 06', 'contains_a_deadline': 1, 'deadline': '10-06', 'deadline_type': 'quiz'},\n",
    "    {'Sentences': 'Q5 Oct 13', 'contains_a_deadline': 1, 'deadline': '10-13', 'deadline_type': 'quiz'},\n",
    "    {'Sentences': 'Q6 Oct 20', 'contains_a_deadline': 1, 'deadline': '10-20', 'deadline_type': 'quiz'},\n",
    "    {'Sentences': 'Q7 Nov 03', 'contains_a_deadline': 1, 'deadline': '11-03', 'deadline_type': 'quiz'},\n",
    "    {'Sentences': 'Q8 Nov 10', 'contains_a_deadline': 1, 'deadline': '11-10', 'deadline_type': 'quiz'},\n",
    "    {'Sentences': 'Q9 Nov 17', 'contains_a_deadline': 1, 'deadline': '11-17', 'deadline_type': 'quiz'},\n",
    "    {'Sentences': 'Q10 Nov 24', 'contains_a_deadline': 1,'deadline':'11-24',  'deadline_type': 'quiz'},\n",
    "    #18 total\n",
    "    \n",
    "    {'Sentences': 'Assignment 1 (Behavioural modeling + Petri Nets, 6%) is out on Jan 28th and is due on Feb 12th.', 'contains_a_deadline': 1, 'deadline': '02-12', 'deadline_type': 'assignment'},\n",
    "    {'Sentences': 'Assignment 2 (Lexical Analysis, 6%) is out Feb 11th and is due on March 7th.', 'contains_a_deadline': 1, 'deadline': '03-07', 'deadline_type': 'assignment'},\n",
    "    {'Sentences': 'Assignment 3 (Parsing, 6%) is out on March 7th and is due on March 27th.', 'contains_a_deadline': 1, 'deadline': '03-27', 'deadline_type': 'assignment'},\n",
    "    {'Sentences': 'Assignment 4 (concurrency, 7%) is out on March 25th and is due on April 10th.', 'contains_a_deadline': 1, 'deadline': '04-10', 'deadline_type': 'assignment'},\n",
    "    {'Sentences': 'Midterm Exam will be on Sunday March 6th from 4pm to 5:30pm.', 'contains_a_deadline': 1, 'deadline': '03-06', 'deadline_type': 'midterm'},\n",
    "    {'Sentences': 'Lab 1 (Domain analysis and Requirements, 1%) in Week 3 (Jan 24 -- Jan 28) --> Due Date: Jan 28', 'contains_a_deadline': 1, 'deadline': '01-28', 'deadline_type': 'lab'},\n",
    "    {'Sentences': 'Lab 2 (UML State Machines, 3%) in Week 4 (Jan 31 -- Feb 4) --> Due Date: Feb 11', 'contains_a_deadline': 1, 'deadline': '02-11', 'deadline_type': 'lab'},\n",
    "    {'Sentences': 'Lab 3 (Petri Nets, 1%) in Week 5 (Feb 7 -- Feb 11) --> Due Date: Feb 18', 'contains_a_deadline': 1, 'deadline': '02-18', 'deadline_type': 'lab'},\n",
    "    {'Sentences': 'Lab 4 (Regular Expressions and LEX, 1%) in Week 6 (Feb 14 -- Feb 18 ) --> Due Date: Feb 28', 'contains_a_deadline': 1, 'deadline': '02-28', 'deadline_type': 'lab'},\n",
    "    {'Sentences': 'Lab 5 (Finite Automata and Syntax Analysis, 4%) in Week 8 (March 7 -- March 11)--> Due Date: March 18', 'contains_a_deadline': 1, 'deadline': '03-18', 'deadline_type': 'lab'},\n",
    "    {'Sentences': 'Lab 6 (LL(1) Parsing, 1%) in Week 9 (March 14 -- March 18) --> Due Date: March 21', 'contains_a_deadline': 1, 'deadline': '03-21', 'deadline_type': 'lab'},\n",
    "    {'Sentences': 'Lab 7 (Dining Philosophers Problem, 4%) in Week 10 (March 21 -- March 25)--> Due Date: April 4th', 'contains_a_deadline': 1, 'deadline': '04-04', 'deadline_type': 'lab'},\n",
    "    #30 in total\n",
    "    \n",
    "    {'Sentences': 'Midterm June 7 (7-9 pm) 25% ', 'contains_a_deadline': 1, 'deadline': '06-07', 'deadline_type': 'midterm'},\n",
    "    {'Sentences': 'Peer feedback and Team Dynamics 1 Oct. 8th 0%', 'contains_a_deadline': 1, 'deadline': '10-08', 'deadline_type': 'assignment'},\n",
    "    {'Sentences': 'Peer feedback and Team Dynamics 2 Oct. 15th 1%', 'contains_a_deadline': 1, 'deadline': '10-15', 'deadline_type': 'assignment'},\n",
    "    {'Sentences': 'Quiz 1 Sep. 21st Online modules 1 and 2', 'contains_a_deadline': 1, 'deadline': '09-21', 'deadline_type': 'quiz'},\n",
    "    {'Sentences': 'Quiz 2 Oct. 12th Ideation --> Team Dynamics', 'contains_a_deadline': 1, 'deadline': '10-12', 'deadline_type': 'quiz'},\n",
    "    {'Sentences': 'Quiz 3 Nov. 4th Economics', 'contains_a_deadline': 1, 'deadline': '11-04', 'deadline_type': 'quiz'},\n",
    "    {'Sentences': 'Midterm Lab Exam Nov. 11th All lab trainings', 'contains_a_deadline': 1, 'deadline': '11-11', 'deadline_type': 'midterm'},\n",
    "    {'Sentences': 'Quiz 4 Nov. 25th Marketing/Sales +Design Constraints', 'contains_a_deadline': 1, 'deadline': '11-25', 'deadline_type': 'quiz'},\n",
    "    \n",
    "    #38 total\n",
    "    \n",
    "    {'Sentences': 'Final Examination: Thursday, December 13th, 12:15pm to 3:15pm', 'contains_a_deadline': 1, 'deadline': '12-13', 'deadline_type': 'exam'},\n",
    "    {'Sentences': 'Tuesday, October 30th 7:00-8:30pm: Midterm', 'contains_a_deadline': 1, 'deadline': '10-30', 'deadline_type': 'midterm'},\n",
    "    {'Sentences': 'Sat Oct 25 Midterm: 9:00-10:20 a.m. Section A: STE G0103 and Section B: STE H0104', 'contains_a_deadline': 1, 'deadline': '10-25', 'deadline_type': 'midterm'},\n",
    "    {'Sentences': 'Assignment 1 (individual) - Due Jan 22, noon', 'contains_a_deadline': 1, 'deadline': '01-22', 'deadline_type': 'assignment'},\n",
    "    {'Sentences': 'Assignment 2 (individual) - Due Feb 4, noon', 'contains_a_deadline': 1, 'deadline': '02-04', 'deadline_type': 'assignment'},\n",
    "    {'Sentences': 'Midterm (Feb 12): 12%', 'contains_a_deadline': 1, 'deadline': '02-12', 'deadline_type': 'midterm'},\n",
    "    {'Sentences': 'a midterm exam (Tuesday, February 23rd) and a final exam.', 'contains_a_deadline': 1, 'deadline': '02-23', 'deadline_type': 'midterm'},\n",
    "    \n",
    "    #45 total\n",
    "    \n",
    "    {'Sentences': 'Assignment 1 5% January 27 (Wed)', 'contains_a_deadline': 1, 'deadline': '01-27', 'deadline_type': 'assignment'},\n",
    "    {'Sentences': 'Midterm Test 1 25% February 6 (Saturday)', 'contains_a_deadline': 1, 'deadline': '02-06', 'deadline_type': 'midterm'},\n",
    "    {'Sentences': 'Project Proposal 5%  March 1 (Monday)', 'contains_a_deadline': 1, 'deadline': '03-01', 'deadline_type': 'project'},\n",
    "    {'Sentences': 'Assignment 2 5%  March 10 (Wednesday)', 'contains_a_deadline': 1, 'deadline': '03-10', 'deadline_type': 'assignment'},\n",
    "    {'Sentences': 'Midterm Test 2 25% March 20 (Saturday)', 'contains_a_deadline': 1, 'deadline': '03-20', 'deadline_type': 'midterm'},\n",
    "    {'Sentences': 'Assignment 3 5%  March 31 (Wednesday)', 'contains_a_deadline': 1, 'deadline': '03-31', 'deadline_type': 'assignment'},\n",
    "    {'Sentences': 'Project Report 25% April 29', 'contains_a_deadline': 1, 'deadline': '04-29', 'deadline_type': 'project'},\n",
    "    \n",
    "    #52 total\n",
    "    \n",
    "    {'Sentences': 'Assignment 1, due Feb 12,10pm', 'contains_a_deadline': 1, 'deadline': '02-12', 'deadline_type': 'assignment'},\n",
    "    {'Sentences': 'Midterm (Fri, Mar 3, during class time)', 'contains_a_deadline': 1, 'deadline': '03-03', 'deadline_type': 'midterm'},\n",
    "    {'Sentences': 'Assignment 2, due April 2, 10pm.', 'contains_a_deadline': 1, 'deadline': '04-02', 'deadline_type': 'assignment'},\n",
    "    \n",
    "    #total = 55\n",
    "   \n",
    "]\n",
    "\n",
    "# Add the new rows in a loop\n",
    "for row in new_rows:\n",
    "    df = df.append(row, ignore_index=True)"
   ]
  },
  {
   "cell_type": "code",
   "execution_count": 29,
   "id": "84c099a9",
   "metadata": {},
   "outputs": [
    {
     "name": "stdout",
     "output_type": "stream",
     "text": [
      "                                                                                           Sentences  \\\n",
      "61                                                   First m idterm exam   20 or 25  % February  6th   \n",
      "62                                                      Second midterm exam  20 or 25  % March  12th   \n",
      "63                                 Assignments  20 %   Final exam  35  % Exam Period  April  7th  to   \n",
      "90           9evaluationofstudentlearning . The date of the deferred final exam is May 5 th  2020 at   \n",
      "121                                                                First midterm exam  February 6 th   \n",
      "126                                                                 Second midterm exam  March 12 th   \n",
      "302                                                         Midterm exam  February 9  230 530pm  30%   \n",
      "303                         Customer Validation  Report  March 2  230pm Presentation and Report  30%   \n",
      "304                                                                   Final Report  April 26 8pm 30%   \n",
      "377                                                                    Feb 9  Mid Term  Exam  Online   \n",
      "770                                          Due DatesAssignment 1  Tuesday January 28 before 900 pm   \n",
      "771                                                      Assignment 2  Tuesday March 3 before 900 pm   \n",
      "772                                                      Assignment 3  Tuesday April 1 before 900 pm   \n",
      "774                                                               in classTEST 1  Monday February 10   \n",
      "775                                                                          TEST 2  Monday March 16   \n",
      "776                      Final Exam  The exam will be scheduled during the nal exam period April 724   \n",
      "900                                         Deadline for Assignment 1 September 22 2022 before 1300.   \n",
      "901                                            Deadline for Assignment 2 October 6 2022 before 1300.   \n",
      "902                                          Deadline for Assignment 3 November 10 2022 before 1300.   \n",
      "906                     MiniTest 1 To be done directly in BrightSpace between Sept. 29 2022 at 14h30   \n",
      "908                      MiniTest 2 To be done directly in BrightSpace between Oct. 13 2022 at 14h30   \n",
      "910                      MiniTest 3 To be done directly in BrightSpace between Nov. 17 2022 at 14h30   \n",
      "914                                                         Exam 1 October 17 2022 from 1130 to 1250   \n",
      "915                                                        Exam 2 November 21 2022 from 1130 to 1250   \n",
      "999                       midterm test will be held on Saturday March  6th 2021 from 11 am to 1 pm .   \n",
      "1003                                                                    Assignment 1 February 5 2021   \n",
      "1004                                                                   Assignment 2 February 26 2021   \n",
      "1005                                                                      Assignment 3 March 19 2021   \n",
      "1006                                                                       Assignment 4 April 9 2021   \n",
      "1111                                                                     Midterm 1 Monday February 3   \n",
      "1114                                                                       Midterm 2 Monday March 16   \n",
      "1167                                                                  Homework 1 deadline January 22   \n",
      "1168                                                                  Homework 2 deadline February 5   \n",
      "1169                                                                 Homework 3 deadline February 26   \n",
      "1170                                                                    Homework 4 deadline March 11   \n",
      "1171                                                                    Homework 5 deadline April 01   \n",
      "1281                                                   MidTerm Exam  2 hours  Oct 21st in class  35%   \n",
      "1282                                                           Team  Case Study  Nov 14th 10AM   20%   \n",
      "1335  There will be a 2hour  midterm examination held during the semester on October 21  201 9.  The   \n",
      "1462                                                              Oct. 21   October 21  MIDTERM EXAM   \n",
      "1467                                                    Group PROJECT DUE AT 1000AM ON NOV. 14  Ch14   \n",
      "1596                                                                         Assignment 1  Mon Feb 6   \n",
      "1597                                                                        Assignment 2  Fri Feb 17   \n",
      "1598                                                                                    Assignment 3   \n",
      "1599                                                                        Assignment 4  Mon Mar 13   \n",
      "1602                         Midterm test date  Wednesday March 1st 830 1000 room STEA0150  STEF0126   \n",
      "\n",
      "      contains_a_deadline deadline deadline_type  \n",
      "61                      1     02-6       midterm  \n",
      "62                      1    03-12       midterm  \n",
      "63                      1                  final  \n",
      "90                      1    05-05         final  \n",
      "121                     1     02-6       midterm  \n",
      "126                     1    03-12       midterm  \n",
      "302                     1    02-09       midterm  \n",
      "303                     1     03-2        report  \n",
      "304                     1    04-26         final  \n",
      "377                     1    02-09          test  \n",
      "770                     1    01-28    assignment  \n",
      "771                     1    03-03    assignment  \n",
      "772                     1    04-01    assignment  \n",
      "774                     1    02-10         final  \n",
      "775                     1    03-16                \n",
      "776                     1                         \n",
      "900                     1    09-22    assignment  \n",
      "901                     1    10-06    assignment  \n",
      "902                     1    11-10    assignment  \n",
      "906                     1    09-29          test  \n",
      "908                     1    10-13          test  \n",
      "910                     1    11-17          test  \n",
      "914                     1    10-17          exam  \n",
      "915                     1    11-21          exam  \n",
      "999                     1    03-06       midterm  \n",
      "1003                    1    02-05    assignment  \n",
      "1004                    1    02-26    assignment  \n",
      "1005                    1    03-19    assignment  \n",
      "1006                    1    04-09    assignment  \n",
      "1111                    1    02-03       midterm  \n",
      "1114                    1    03-16       midterm  \n",
      "1167                    1    01-22    assignment  \n",
      "1168                    1    02-05    assignment  \n",
      "1169                    1    02-26    assignment  \n",
      "1170                    1    03-11    assignment  \n",
      "1171                    1    04-01    assignment  \n",
      "1281                    1    10-21       midterm  \n",
      "1282                    1    11-14       project  \n",
      "1335                    1    10-21       midterm  \n",
      "1462                    1    10-21       midterm  \n",
      "1467                    1    11-14       project  \n",
      "1596                    1    02-06    assignment  \n",
      "1597                    1    02-17    assignment  \n",
      "1598                    1    03-13    assignment  \n",
      "1599                    1    03-27    assignment  \n",
      "1602                    1    03-01       midterm  \n"
     ]
    }
   ],
   "source": [
    "# Rows you want to print\n",
    "rows_to_print = [61, 62, 63, 90, 121, 126,\n",
    "                 302, 303, 304, 377,\n",
    "                 770, 771, 772, 774, 775, 776,\n",
    "                 900, 901, 902, 906, 908, 910, 914, 915,\n",
    "                 999, 1003, 1004, 1005, 1006,\n",
    "                 1111, 1114, 1167, 1168, 1169, 1170, 1171,\n",
    "                 1281, 1282, 1335, 1462, 1467,\n",
    "                 1596, 1597, 1598,1599, 1602\n",
    "                ]\n",
    "\n",
    "# Print the selected rows\n",
    "selected_rows = df.iloc[rows_to_print]\n",
    "print(selected_rows)"
   ]
  },
  {
   "cell_type": "code",
   "execution_count": 30,
   "id": "b70de406",
   "metadata": {},
   "outputs": [
    {
     "name": "stdout",
     "output_type": "stream",
     "text": [
      "<class 'pandas.core.frame.DataFrame'>\n",
      "RangeIndex: 1843 entries, 0 to 1842\n",
      "Data columns (total 4 columns):\n",
      " #   Column               Non-Null Count  Dtype \n",
      "---  ------               --------------  ----- \n",
      " 0   Sentences            1843 non-null   object\n",
      " 1   contains_a_deadline  1843 non-null   int64 \n",
      " 2   deadline             1843 non-null   object\n",
      " 3   deadline_type        1843 non-null   object\n",
      "dtypes: int64(1), object(3)\n",
      "memory usage: 57.7+ KB\n"
     ]
    }
   ],
   "source": [
    "df.head()\n",
    "# if there are no deadlines put 0 or '' instead of NaN\n",
    "#replace anything without data'None'\n",
    "\n",
    "df.info()\n",
    "#type(df['deadline'])"
   ]
  },
  {
   "cell_type": "code",
   "execution_count": 31,
   "id": "0244c8bb",
   "metadata": {},
   "outputs": [
    {
     "name": "stdout",
     "output_type": "stream",
     "text": [
      "<class 'pandas.core.frame.DataFrame'>\n",
      "RangeIndex: 1843 entries, 0 to 1842\n",
      "Data columns (total 4 columns):\n",
      " #   Column               Non-Null Count  Dtype \n",
      "---  ------               --------------  ----- \n",
      " 0   Sentences            1843 non-null   object\n",
      " 1   contains_a_deadline  1843 non-null   int64 \n",
      " 2   deadline             1843 non-null   object\n",
      " 3   deadline_type        1843 non-null   object\n",
      "dtypes: int64(1), object(3)\n",
      "memory usage: 57.7+ KB\n"
     ]
    }
   ],
   "source": [
    "df.info()"
   ]
  },
  {
   "cell_type": "code",
   "execution_count": 32,
   "id": "046db400",
   "metadata": {},
   "outputs": [
    {
     "data": {
      "text/html": [
       "<div>\n",
       "<style scoped>\n",
       "    .dataframe tbody tr th:only-of-type {\n",
       "        vertical-align: middle;\n",
       "    }\n",
       "\n",
       "    .dataframe tbody tr th {\n",
       "        vertical-align: top;\n",
       "    }\n",
       "\n",
       "    .dataframe thead th {\n",
       "        text-align: right;\n",
       "    }\n",
       "</style>\n",
       "<table border=\"1\" class=\"dataframe\">\n",
       "  <thead>\n",
       "    <tr style=\"text-align: right;\">\n",
       "      <th></th>\n",
       "      <th>Sentences</th>\n",
       "      <th>contains_a_deadline</th>\n",
       "      <th>deadline</th>\n",
       "      <th>deadline_type</th>\n",
       "    </tr>\n",
       "  </thead>\n",
       "  <tbody>\n",
       "    <tr>\n",
       "      <th>0</th>\n",
       "      <td>Introduction to Microeconomics</td>\n",
       "      <td>0</td>\n",
       "      <td></td>\n",
       "      <td></td>\n",
       "    </tr>\n",
       "    <tr>\n",
       "      <th>1</th>\n",
       "      <td>1104F</td>\n",
       "      <td>0</td>\n",
       "      <td></td>\n",
       "      <td></td>\n",
       "    </tr>\n",
       "    <tr>\n",
       "      <th>2</th>\n",
       "      <td>Cristina BlancoPerez</td>\n",
       "      <td>0</td>\n",
       "      <td></td>\n",
       "      <td></td>\n",
       "    </tr>\n",
       "    <tr>\n",
       "      <th>3</th>\n",
       "      <td>Winter 2020</td>\n",
       "      <td>0</td>\n",
       "      <td></td>\n",
       "      <td></td>\n",
       "    </tr>\n",
       "    <tr>\n",
       "      <th>4</th>\n",
       "      <td>COURSE OUTLINE</td>\n",
       "      <td>0</td>\n",
       "      <td></td>\n",
       "      <td></td>\n",
       "    </tr>\n",
       "  </tbody>\n",
       "</table>\n",
       "</div>"
      ],
      "text/plain": [
       "                        Sentences  contains_a_deadline deadline deadline_type\n",
       "0  Introduction to Microeconomics                    0                       \n",
       "1                           1104F                    0                       \n",
       "2            Cristina BlancoPerez                    0                       \n",
       "3                     Winter 2020                    0                       \n",
       "4                  COURSE OUTLINE                    0                       "
      ]
     },
     "execution_count": 32,
     "metadata": {},
     "output_type": "execute_result"
    }
   ],
   "source": [
    "df.head()"
   ]
  },
  {
   "cell_type": "code",
   "execution_count": 36,
   "id": "50c974b9",
   "metadata": {},
   "outputs": [],
   "source": [
    "#saving the data\n",
    "df.to_csv('data.csv', sep=',', index=False, encoding='utf-8')"
   ]
  }
 ],
 "metadata": {
  "kernelspec": {
   "display_name": "Python 3 (ipykernel)",
   "language": "python",
   "name": "python3"
  },
  "language_info": {
   "codemirror_mode": {
    "name": "ipython",
    "version": 3
   },
   "file_extension": ".py",
   "mimetype": "text/x-python",
   "name": "python",
   "nbconvert_exporter": "python",
   "pygments_lexer": "ipython3",
   "version": "3.9.7"
  }
 },
 "nbformat": 4,
 "nbformat_minor": 5
}
