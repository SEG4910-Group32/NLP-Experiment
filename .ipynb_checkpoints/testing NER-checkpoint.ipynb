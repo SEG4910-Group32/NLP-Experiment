{
 "cells": [
  {
   "cell_type": "markdown",
   "id": "5d834e36",
   "metadata": {},
   "source": [
    "## Reading the 3 pdfs that we will use as training data"
   ]
  },
  {
   "cell_type": "code",
   "execution_count": 1,
   "id": "5d717986",
   "metadata": {
    "scrolled": true
   },
   "outputs": [
    {
     "name": "stdout",
     "output_type": "stream",
     "text": [
      "Requirement already satisfied: pypdf in c:\\users\\ghaza\\anaconda3\\lib\\site-packages (3.5.0)\n",
      "Requirement already satisfied: typing_extensions>=3.10.0.0 in c:\\users\\ghaza\\anaconda3\\lib\\site-packages (from pypdf) (4.4.0)\n",
      "Note: you may need to restart the kernel to use updated packages.\n"
     ]
    }
   ],
   "source": [
    "pip install pypdf"
   ]
  },
  {
   "cell_type": "code",
   "execution_count": 2,
   "id": "9794850c",
   "metadata": {},
   "outputs": [],
   "source": [
    "from pypdf import PdfReader\n",
    "\n",
    "reader = PdfReader(\"CEG4166Syllabus.pdf\")\n",
    "reader2 = PdfReader(\"CSI3131 Course Syllabus.pdf\")\n",
    "reader3 = PdfReader(\"CEG3185A _ course_outline.pdf\")\n",
    "reader4 = PdfReader(\"CSI2132SyllabusW2023.pdf\")\n",
    "reader5 = PdfReader(\"CourseOutline.pdf\")\n",
    "def returnText(reader):\n",
    "    number_of_pages = len(reader.pages)\n",
    "    text = \"\"\n",
    "    for i in range(number_of_pages):\n",
    "      page = reader.pages[i]\n",
    "      text += page.extract_text()\n",
    "    return text\n",
    "    \n"
   ]
  },
  {
   "cell_type": "code",
   "execution_count": 3,
   "id": "f8e9b50d",
   "metadata": {},
   "outputs": [],
   "source": [
    "text1 = returnText(reader)\n",
    "text2 = returnText(reader2)\n",
    "text3 = returnText(reader3)\n",
    "text4 = returnText(reader4)\n",
    "text5 = returnText(reader5)\n",
    "text5 = text5.lower()\n",
    "text1 = text1.lower()\n",
    "text2 = text2.lower()\n",
    "text3 = text3.lower()\n",
    "text4 = text4.lower()"
   ]
  },
  {
   "cell_type": "markdown",
   "id": "49647624",
   "metadata": {},
   "source": [
    "## Putting the data in dataframe"
   ]
  },
  {
   "cell_type": "code",
   "execution_count": 5,
   "id": "6515d78e",
   "metadata": {},
   "outputs": [],
   "source": [
    "# Importing Pandas to create DataFrame\n",
    "import pandas as pd\n",
    "  \n",
    "# Creating Empty DataFrames and Storing it in variable df\n",
    "df1 = pd.DataFrame()\n",
    "df2 = pd.DataFrame()\n",
    "df3 = pd.DataFrame()\n"
   ]
  },
  {
   "cell_type": "code",
   "execution_count": 6,
   "id": "89b37728",
   "metadata": {},
   "outputs": [],
   "source": [
    "listOfText1 = text1.split('\\n')\n",
    "listOfText2 = text2.split('\\n')\n",
    "listOfText3 = text3.split('\\n')\n",
    "#print(listOfText1)"
   ]
  },
  {
   "cell_type": "code",
   "execution_count": 7,
   "id": "720bafa9",
   "metadata": {},
   "outputs": [],
   "source": [
    "df1 = pd.DataFrame(listOfText1, columns=['words'])\n",
    "df2 = pd.DataFrame(listOfText2, columns=['words'])\n",
    "df3 = pd.DataFrame(listOfText3, columns=['words'])"
   ]
  },
  {
   "cell_type": "markdown",
   "id": "aed4ed60",
   "metadata": {},
   "source": [
    "## removing punctuation"
   ]
  },
  {
   "cell_type": "code",
   "execution_count": 8,
   "id": "6e20b4da",
   "metadata": {},
   "outputs": [],
   "source": [
    "def remove_punct(text):\n",
    "    text_nopunct = \"\".join([char for char in text if char not in string.punctuation])\n",
    "    return text_nopunct\n",
    "\n"
   ]
  },
  {
   "cell_type": "code",
   "execution_count": 9,
   "id": "e0fcbe9a",
   "metadata": {},
   "outputs": [],
   "source": [
    "import string\n",
    "df1['words-no-punctuation'] = df1['words'].apply(lambda x: remove_punct(x))\n",
    "df2['words-no-punctuation'] = df2['words'].apply(lambda x: remove_punct(x))\n",
    "df3['words-no-punctuation'] = df3['words'].apply(lambda x: remove_punct(x))"
   ]
  },
  {
   "cell_type": "markdown",
   "id": "8d0f2f7e",
   "metadata": {},
   "source": [
    "## Tokenization"
   ]
  },
  {
   "cell_type": "code",
   "execution_count": 10,
   "id": "123b5a82",
   "metadata": {},
   "outputs": [
    {
     "data": {
      "text/html": [
       "<div>\n",
       "<style scoped>\n",
       "    .dataframe tbody tr th:only-of-type {\n",
       "        vertical-align: middle;\n",
       "    }\n",
       "\n",
       "    .dataframe tbody tr th {\n",
       "        vertical-align: top;\n",
       "    }\n",
       "\n",
       "    .dataframe thead th {\n",
       "        text-align: right;\n",
       "    }\n",
       "</style>\n",
       "<table border=\"1\" class=\"dataframe\">\n",
       "  <thead>\n",
       "    <tr style=\"text-align: right;\">\n",
       "      <th></th>\n",
       "      <th>words</th>\n",
       "      <th>words-no-punctuation</th>\n",
       "      <th>body_text_tokenized</th>\n",
       "    </tr>\n",
       "  </thead>\n",
       "  <tbody>\n",
       "    <tr>\n",
       "      <th>0</th>\n",
       "      <td>1</td>\n",
       "      <td>1</td>\n",
       "      <td>[1, ]</td>\n",
       "    </tr>\n",
       "    <tr>\n",
       "      <th>1</th>\n",
       "      <td>ceg3185 a – winter 2023</td>\n",
       "      <td>ceg3185 a – winter 2023</td>\n",
       "      <td>[, ceg3185, a, winter, 2023, ]</td>\n",
       "    </tr>\n",
       "    <tr>\n",
       "      <th>2</th>\n",
       "      <td>introduction to data communication &amp; networking</td>\n",
       "      <td>introduction to data communication  networking</td>\n",
       "      <td>[introduction, to, data, communication, networ...</td>\n",
       "    </tr>\n",
       "    <tr>\n",
       "      <th>3</th>\n",
       "      <td></td>\n",
       "      <td></td>\n",
       "      <td>[, ]</td>\n",
       "    </tr>\n",
       "    <tr>\n",
       "      <th>4</th>\n",
       "      <td>instructor:  prof. dimitrios makrakis, phd, p....</td>\n",
       "      <td>instructor  prof dimitrios makrakis phd peng</td>\n",
       "      <td>[instructor, prof, dimitrios, makrakis, phd, p...</td>\n",
       "    </tr>\n",
       "  </tbody>\n",
       "</table>\n",
       "</div>"
      ],
      "text/plain": [
       "                                               words  \\\n",
       "0                                                 1    \n",
       "1                          ceg3185 a – winter 2023     \n",
       "2  introduction to data communication & networking     \n",
       "3                                                      \n",
       "4  instructor:  prof. dimitrios makrakis, phd, p....   \n",
       "\n",
       "                               words-no-punctuation  \\\n",
       "0                                                1    \n",
       "1                         ceg3185 a – winter 2023     \n",
       "2  introduction to data communication  networking     \n",
       "3                                                     \n",
       "4     instructor  prof dimitrios makrakis phd peng    \n",
       "\n",
       "                                 body_text_tokenized  \n",
       "0                                              [1, ]  \n",
       "1                     [, ceg3185, a, winter, 2023, ]  \n",
       "2  [introduction, to, data, communication, networ...  \n",
       "3                                               [, ]  \n",
       "4  [instructor, prof, dimitrios, makrakis, phd, p...  "
      ]
     },
     "execution_count": 10,
     "metadata": {},
     "output_type": "execute_result"
    }
   ],
   "source": [
    "from decorator import DEF\n",
    "import re\n",
    "\n",
    "def tokenize(text):\n",
    "    tokens = re.split('\\W+', text)\n",
    "    return tokens\n",
    "\n",
    "df1['body_text_tokenized'] = df1['words-no-punctuation'].apply(lambda x: tokenize(x.lower()))\n",
    "df2['body_text_tokenized'] = df2['words-no-punctuation'].apply(lambda x: tokenize(x.lower()))\n",
    "df3['body_text_tokenized'] = df3['words-no-punctuation'].apply(lambda x: tokenize(x.lower()))\n",
    "\n",
    "df1.head()\n",
    "df2.head()\n",
    "df3.head()"
   ]
  },
  {
   "cell_type": "markdown",
   "id": "3748cd9d",
   "metadata": {},
   "source": [
    "## Removing stopwords"
   ]
  },
  {
   "cell_type": "code",
   "execution_count": 11,
   "id": "ed11909e",
   "metadata": {},
   "outputs": [
    {
     "name": "stderr",
     "output_type": "stream",
     "text": [
      "[nltk_data] Downloading package stopwords to\n",
      "[nltk_data]     C:\\Users\\ghaza\\AppData\\Roaming\\nltk_data...\n",
      "[nltk_data]   Package stopwords is already up-to-date!\n"
     ]
    }
   ],
   "source": [
    "import nltk\n",
    "nltk.download('stopwords')\n",
    "stopword = nltk.corpus.stopwords.words('english')"
   ]
  },
  {
   "cell_type": "code",
   "execution_count": 12,
   "id": "079d9b7d",
   "metadata": {},
   "outputs": [
    {
     "data": {
      "text/html": [
       "<div>\n",
       "<style scoped>\n",
       "    .dataframe tbody tr th:only-of-type {\n",
       "        vertical-align: middle;\n",
       "    }\n",
       "\n",
       "    .dataframe tbody tr th {\n",
       "        vertical-align: top;\n",
       "    }\n",
       "\n",
       "    .dataframe thead th {\n",
       "        text-align: right;\n",
       "    }\n",
       "</style>\n",
       "<table border=\"1\" class=\"dataframe\">\n",
       "  <thead>\n",
       "    <tr style=\"text-align: right;\">\n",
       "      <th></th>\n",
       "      <th>words</th>\n",
       "      <th>words-no-punctuation</th>\n",
       "      <th>body_text_tokenized</th>\n",
       "      <th>body_text_nostop</th>\n",
       "    </tr>\n",
       "  </thead>\n",
       "  <tbody>\n",
       "    <tr>\n",
       "      <th>0</th>\n",
       "      <td>1</td>\n",
       "      <td>1</td>\n",
       "      <td>[1, ]</td>\n",
       "      <td>[1, ]</td>\n",
       "    </tr>\n",
       "    <tr>\n",
       "      <th>1</th>\n",
       "      <td>ceg3185 a – winter 2023</td>\n",
       "      <td>ceg3185 a – winter 2023</td>\n",
       "      <td>[, ceg3185, a, winter, 2023, ]</td>\n",
       "      <td>[, ceg3185, winter, 2023, ]</td>\n",
       "    </tr>\n",
       "    <tr>\n",
       "      <th>2</th>\n",
       "      <td>introduction to data communication &amp; networking</td>\n",
       "      <td>introduction to data communication  networking</td>\n",
       "      <td>[introduction, to, data, communication, networ...</td>\n",
       "      <td>[introduction, data, communication, networking, ]</td>\n",
       "    </tr>\n",
       "    <tr>\n",
       "      <th>3</th>\n",
       "      <td></td>\n",
       "      <td></td>\n",
       "      <td>[, ]</td>\n",
       "      <td>[, ]</td>\n",
       "    </tr>\n",
       "    <tr>\n",
       "      <th>4</th>\n",
       "      <td>instructor:  prof. dimitrios makrakis, phd, p....</td>\n",
       "      <td>instructor  prof dimitrios makrakis phd peng</td>\n",
       "      <td>[instructor, prof, dimitrios, makrakis, phd, p...</td>\n",
       "      <td>[instructor, prof, dimitrios, makrakis, phd, p...</td>\n",
       "    </tr>\n",
       "  </tbody>\n",
       "</table>\n",
       "</div>"
      ],
      "text/plain": [
       "                                               words  \\\n",
       "0                                                 1    \n",
       "1                          ceg3185 a – winter 2023     \n",
       "2  introduction to data communication & networking     \n",
       "3                                                      \n",
       "4  instructor:  prof. dimitrios makrakis, phd, p....   \n",
       "\n",
       "                               words-no-punctuation  \\\n",
       "0                                                1    \n",
       "1                         ceg3185 a – winter 2023     \n",
       "2  introduction to data communication  networking     \n",
       "3                                                     \n",
       "4     instructor  prof dimitrios makrakis phd peng    \n",
       "\n",
       "                                 body_text_tokenized  \\\n",
       "0                                              [1, ]   \n",
       "1                     [, ceg3185, a, winter, 2023, ]   \n",
       "2  [introduction, to, data, communication, networ...   \n",
       "3                                               [, ]   \n",
       "4  [instructor, prof, dimitrios, makrakis, phd, p...   \n",
       "\n",
       "                                    body_text_nostop  \n",
       "0                                              [1, ]  \n",
       "1                        [, ceg3185, winter, 2023, ]  \n",
       "2  [introduction, data, communication, networking, ]  \n",
       "3                                               [, ]  \n",
       "4  [instructor, prof, dimitrios, makrakis, phd, p...  "
      ]
     },
     "execution_count": 12,
     "metadata": {},
     "output_type": "execute_result"
    }
   ],
   "source": [
    "def remove_stopwords(tokenized_list):\n",
    "    text = [word for word in tokenized_list if word not in stopword]\n",
    "    return text\n",
    "\n",
    "df1['body_text_nostop'] = df1['body_text_tokenized'].apply(lambda x: remove_stopwords(x))\n",
    "df2['body_text_nostop'] = df2['body_text_tokenized'].apply(lambda x: remove_stopwords(x))\n",
    "df3['body_text_nostop'] = df3['body_text_tokenized'].apply(lambda x: remove_stopwords(x))\n",
    "df3.head()\n"
   ]
  },
  {
   "cell_type": "markdown",
   "id": "f70489e3",
   "metadata": {},
   "source": [
    "## Using a Lemmatizer"
   ]
  },
  {
   "cell_type": "code",
   "execution_count": 13,
   "id": "44cbf4b7",
   "metadata": {},
   "outputs": [
    {
     "data": {
      "text/plain": [
       "['__class__',\n",
       " '__delattr__',\n",
       " '__dict__',\n",
       " '__dir__',\n",
       " '__doc__',\n",
       " '__eq__',\n",
       " '__format__',\n",
       " '__ge__',\n",
       " '__getattribute__',\n",
       " '__gt__',\n",
       " '__hash__',\n",
       " '__init__',\n",
       " '__init_subclass__',\n",
       " '__le__',\n",
       " '__lt__',\n",
       " '__module__',\n",
       " '__ne__',\n",
       " '__new__',\n",
       " '__reduce__',\n",
       " '__reduce_ex__',\n",
       " '__repr__',\n",
       " '__setattr__',\n",
       " '__sizeof__',\n",
       " '__str__',\n",
       " '__subclasshook__',\n",
       " '__weakref__',\n",
       " 'lemmatize']"
      ]
     },
     "execution_count": 13,
     "metadata": {},
     "output_type": "execute_result"
    }
   ],
   "source": [
    "import nltk\n",
    "\n",
    "wn = nltk.WordNetLemmatizer()\n",
    "ps = nltk.PorterStemmer()\n",
    "dir(wn)"
   ]
  },
  {
   "cell_type": "code",
   "execution_count": 14,
   "id": "69e7533c",
   "metadata": {},
   "outputs": [
    {
     "name": "stderr",
     "output_type": "stream",
     "text": [
      "[nltk_data] Downloading package wordnet to\n",
      "[nltk_data]     C:\\Users\\ghaza\\AppData\\Roaming\\nltk_data...\n",
      "[nltk_data]   Package wordnet is already up-to-date!\n",
      "[nltk_data] Downloading package omw-1.4 to\n",
      "[nltk_data]     C:\\Users\\ghaza\\AppData\\Roaming\\nltk_data...\n",
      "[nltk_data]   Package omw-1.4 is already up-to-date!\n"
     ]
    },
    {
     "data": {
      "text/html": [
       "<div>\n",
       "<style scoped>\n",
       "    .dataframe tbody tr th:only-of-type {\n",
       "        vertical-align: middle;\n",
       "    }\n",
       "\n",
       "    .dataframe tbody tr th {\n",
       "        vertical-align: top;\n",
       "    }\n",
       "\n",
       "    .dataframe thead th {\n",
       "        text-align: right;\n",
       "    }\n",
       "</style>\n",
       "<table border=\"1\" class=\"dataframe\">\n",
       "  <thead>\n",
       "    <tr style=\"text-align: right;\">\n",
       "      <th></th>\n",
       "      <th>words</th>\n",
       "      <th>words-no-punctuation</th>\n",
       "      <th>body_text_tokenized</th>\n",
       "      <th>body_text_nostop</th>\n",
       "      <th>body_text_lemmatized</th>\n",
       "    </tr>\n",
       "  </thead>\n",
       "  <tbody>\n",
       "    <tr>\n",
       "      <th>0</th>\n",
       "      <td></td>\n",
       "      <td></td>\n",
       "      <td>[, ]</td>\n",
       "      <td>[, ]</td>\n",
       "      <td>[, ]</td>\n",
       "    </tr>\n",
       "    <tr>\n",
       "      <th>1</th>\n",
       "      <td>1/9</td>\n",
       "      <td>19</td>\n",
       "      <td>[, 19, ]</td>\n",
       "      <td>[, 19, ]</td>\n",
       "      <td>[, 19, ]</td>\n",
       "    </tr>\n",
       "    <tr>\n",
       "      <th>2</th>\n",
       "      <td></td>\n",
       "      <td></td>\n",
       "      <td>[, ]</td>\n",
       "      <td>[, ]</td>\n",
       "      <td>[, ]</td>\n",
       "    </tr>\n",
       "    <tr>\n",
       "      <th>3</th>\n",
       "      <td></td>\n",
       "      <td></td>\n",
       "      <td>[, ]</td>\n",
       "      <td>[, ]</td>\n",
       "      <td>[, ]</td>\n",
       "    </tr>\n",
       "    <tr>\n",
       "      <th>4</th>\n",
       "      <td></td>\n",
       "      <td></td>\n",
       "      <td>[, ]</td>\n",
       "      <td>[, ]</td>\n",
       "      <td>[, ]</td>\n",
       "    </tr>\n",
       "    <tr>\n",
       "      <th>5</th>\n",
       "      <td></td>\n",
       "      <td></td>\n",
       "      <td>[, ]</td>\n",
       "      <td>[, ]</td>\n",
       "      <td>[, ]</td>\n",
       "    </tr>\n",
       "    <tr>\n",
       "      <th>6</th>\n",
       "      <td>school of electrical engineering</td>\n",
       "      <td>school of electrical engineering</td>\n",
       "      <td>[school, of, electrical, engineering, ]</td>\n",
       "      <td>[school, electrical, engineering, ]</td>\n",
       "      <td>[school, electrical, engineering, ]</td>\n",
       "    </tr>\n",
       "    <tr>\n",
       "      <th>7</th>\n",
       "      <td>and computer science  (eecs)  école de science...</td>\n",
       "      <td>and computer science  eecs  école de science i...</td>\n",
       "      <td>[and, computer, science, eecs, école, de, scie...</td>\n",
       "      <td>[computer, science, eecs, école, de, science, ...</td>\n",
       "      <td>[computer, science, eec, école, de, science, i...</td>\n",
       "    </tr>\n",
       "    <tr>\n",
       "      <th>8</th>\n",
       "      <td>de génie électrique  (sige)</td>\n",
       "      <td>de génie électrique  sige</td>\n",
       "      <td>[de, génie, électrique, sige, ]</td>\n",
       "      <td>[de, génie, électrique, sige, ]</td>\n",
       "      <td>[de, génie, électrique, sige, ]</td>\n",
       "    </tr>\n",
       "    <tr>\n",
       "      <th>9</th>\n",
       "      <td></td>\n",
       "      <td></td>\n",
       "      <td>[, ]</td>\n",
       "      <td>[, ]</td>\n",
       "      <td>[, ]</td>\n",
       "    </tr>\n",
       "    <tr>\n",
       "      <th>10</th>\n",
       "      <td>ceg4166/csi4141</td>\n",
       "      <td>ceg4166csi4141</td>\n",
       "      <td>[ceg4166csi4141, ]</td>\n",
       "      <td>[ceg4166csi4141, ]</td>\n",
       "      <td>[ceg4166csi4141, ]</td>\n",
       "    </tr>\n",
       "    <tr>\n",
       "      <th>11</th>\n",
       "      <td>real time systems design  (3, 1.5, 3 )</td>\n",
       "      <td>real time systems design  3 15 3</td>\n",
       "      <td>[real, time, systems, design, 3, 15, 3, ]</td>\n",
       "      <td>[real, time, systems, design, 3, 15, 3, ]</td>\n",
       "      <td>[real, time, system, design, 3, 15, 3, ]</td>\n",
       "    </tr>\n",
       "    <tr>\n",
       "      <th>12</th>\n",
       "      <td>winter 202 3</td>\n",
       "      <td>winter 202 3</td>\n",
       "      <td>[winter, 202, 3, ]</td>\n",
       "      <td>[winter, 202, 3, ]</td>\n",
       "      <td>[winter, 202, 3, ]</td>\n",
       "    </tr>\n",
       "    <tr>\n",
       "      <th>13</th>\n",
       "      <td>instructor  gilbert arbez</td>\n",
       "      <td>instructor  gilbert arbez</td>\n",
       "      <td>[instructor, gilbert, arbez, ]</td>\n",
       "      <td>[instructor, gilbert, arbez, ]</td>\n",
       "      <td>[instructor, gilbert, arbez, ]</td>\n",
       "    </tr>\n",
       "    <tr>\n",
       "      <th>14</th>\n",
       "      <td>email  garbez@uottawa.ca</td>\n",
       "      <td>email  garbezuottawaca</td>\n",
       "      <td>[email, garbezuottawaca, ]</td>\n",
       "      <td>[email, garbezuottawaca, ]</td>\n",
       "      <td>[email, garbezuottawaca, ]</td>\n",
       "    </tr>\n",
       "  </tbody>\n",
       "</table>\n",
       "</div>"
      ],
      "text/plain": [
       "                                                words  \\\n",
       "0                                                       \n",
       "1                                                1/9    \n",
       "2                                                       \n",
       "3                                                       \n",
       "4                                                       \n",
       "5                                                       \n",
       "6                   school of electrical engineering    \n",
       "7   and computer science  (eecs)  école de science...   \n",
       "8                      de génie électrique  (sige)      \n",
       "9                                                       \n",
       "10                                  ceg4166/csi4141     \n",
       "11            real time systems design  (3, 1.5, 3 )    \n",
       "12                                      winter 202 3    \n",
       "13                        instructor  gilbert arbez     \n",
       "14                        email  garbez@uottawa.ca      \n",
       "\n",
       "                                 words-no-punctuation  \\\n",
       "0                                                       \n",
       "1                                                 19    \n",
       "2                                                       \n",
       "3                                                       \n",
       "4                                                       \n",
       "5                                                       \n",
       "6                   school of electrical engineering    \n",
       "7   and computer science  eecs  école de science i...   \n",
       "8                        de génie électrique  sige      \n",
       "9                                                       \n",
       "10                                   ceg4166csi4141     \n",
       "11                 real time systems design  3 15 3     \n",
       "12                                      winter 202 3    \n",
       "13                        instructor  gilbert arbez     \n",
       "14                          email  garbezuottawaca      \n",
       "\n",
       "                                  body_text_tokenized  \\\n",
       "0                                                [, ]   \n",
       "1                                            [, 19, ]   \n",
       "2                                                [, ]   \n",
       "3                                                [, ]   \n",
       "4                                                [, ]   \n",
       "5                                                [, ]   \n",
       "6             [school, of, electrical, engineering, ]   \n",
       "7   [and, computer, science, eecs, école, de, scie...   \n",
       "8                     [de, génie, électrique, sige, ]   \n",
       "9                                                [, ]   \n",
       "10                                 [ceg4166csi4141, ]   \n",
       "11          [real, time, systems, design, 3, 15, 3, ]   \n",
       "12                                 [winter, 202, 3, ]   \n",
       "13                     [instructor, gilbert, arbez, ]   \n",
       "14                         [email, garbezuottawaca, ]   \n",
       "\n",
       "                                     body_text_nostop  \\\n",
       "0                                                [, ]   \n",
       "1                                            [, 19, ]   \n",
       "2                                                [, ]   \n",
       "3                                                [, ]   \n",
       "4                                                [, ]   \n",
       "5                                                [, ]   \n",
       "6                 [school, electrical, engineering, ]   \n",
       "7   [computer, science, eecs, école, de, science, ...   \n",
       "8                     [de, génie, électrique, sige, ]   \n",
       "9                                                [, ]   \n",
       "10                                 [ceg4166csi4141, ]   \n",
       "11          [real, time, systems, design, 3, 15, 3, ]   \n",
       "12                                 [winter, 202, 3, ]   \n",
       "13                     [instructor, gilbert, arbez, ]   \n",
       "14                         [email, garbezuottawaca, ]   \n",
       "\n",
       "                                 body_text_lemmatized  \n",
       "0                                                [, ]  \n",
       "1                                            [, 19, ]  \n",
       "2                                                [, ]  \n",
       "3                                                [, ]  \n",
       "4                                                [, ]  \n",
       "5                                                [, ]  \n",
       "6                 [school, electrical, engineering, ]  \n",
       "7   [computer, science, eec, école, de, science, i...  \n",
       "8                     [de, génie, électrique, sige, ]  \n",
       "9                                                [, ]  \n",
       "10                                 [ceg4166csi4141, ]  \n",
       "11           [real, time, system, design, 3, 15, 3, ]  \n",
       "12                                 [winter, 202, 3, ]  \n",
       "13                     [instructor, gilbert, arbez, ]  \n",
       "14                         [email, garbezuottawaca, ]  "
      ]
     },
     "execution_count": 14,
     "metadata": {},
     "output_type": "execute_result"
    }
   ],
   "source": [
    "nltk.download('wordnet')\n",
    "nltk.download('omw-1.4')\n",
    "def lemmatizing(tokenized_text):\n",
    "    text = [wn.lemmatize(word) for word in tokenized_text]\n",
    "    return text\n",
    "\n",
    "df1['body_text_lemmatized'] = df1['body_text_nostop'].apply(lambda x: lemmatizing(x))\n",
    "df2['body_text_lemmatized'] = df2['body_text_nostop'].apply(lambda x: lemmatizing(x))\n",
    "df3['body_text_lemmatized'] = df3['body_text_nostop'].apply(lambda x: lemmatizing(x))\n",
    "\n",
    "df1.head(15)"
   ]
  },
  {
   "cell_type": "markdown",
   "id": "b193c59b",
   "metadata": {},
   "source": [
    "## Training NER"
   ]
  },
  {
   "cell_type": "code",
   "execution_count": 15,
   "id": "e91d503c",
   "metadata": {},
   "outputs": [],
   "source": [
    "# Load Packages\n",
    "from __future__ import unicode_literals, print_function\n",
    "\n",
    "import plac #  wrapper over argparse\n",
    "import random\n",
    "from pathlib import Path\n",
    "import spacy\n",
    "from tqdm import tqdm # loading bar"
   ]
  },
  {
   "cell_type": "code",
   "execution_count": 16,
   "id": "d07f672b",
   "metadata": {},
   "outputs": [
    {
     "name": "stdout",
     "output_type": "stream",
     "text": [
      "\u001b[38;5;2m✔ Download and installation successful\u001b[0m\n",
      "You can now load the package via spacy.load('en_core_web_sm')\n"
     ]
    }
   ],
   "source": [
    "from spacy.cli.download import download\n",
    "download(model=\"en_core_web_sm\")"
   ]
  },
  {
   "cell_type": "code",
   "execution_count": 17,
   "id": "f2ec7efe",
   "metadata": {},
   "outputs": [],
   "source": [
    "nlp1 = spacy.load('en_core_web_sm')"
   ]
  },
  {
   "cell_type": "code",
   "execution_count": 18,
   "id": "d882fd9c",
   "metadata": {},
   "outputs": [],
   "source": [
    "docx = nlp1(text1)"
   ]
  },
  {
   "cell_type": "code",
   "execution_count": 19,
   "id": "632d43f7",
   "metadata": {},
   "outputs": [
    {
     "name": "stdout",
     "output_type": "stream",
     "text": [
      "3 CARDINAL\n",
      "1.5 DATE\n",
      "3 CARDINAL\n",
      "202 3 CARDINAL\n",
      "613 CARDINAL\n",
      "6315 DATE\n",
      "5104 DATE\n",
      "1 CARDINAL\n",
      "fed ORG\n",
      "hese CARDINAL\n",
      "2 CARDINAL\n",
      "weekly DATE\n",
      "lea der PERSON\n",
      "2/9 3 CARDINAL\n",
      "3131 DATE\n",
      "4 CARDINAL\n",
      "mondays 13h00 to 14h30  \n",
      "wednesdays 11h30 to 12h50 DATE\n",
      "mondays 17h30 DATE\n",
      "18h50 CARDINAL\n",
      "tuesdays 11h30 DATE\n",
      "friday 14h30 to 17h20 DATE\n",
      "only one CARDINAL\n",
      "tuesdays 14h 30 to 1 5h50 DATE\n",
      "16h00 to 1 CARDINAL\n",
      "wednesdays  11h30 to 1 2h50 DATE\n",
      "11h30 to 14h 20 \n",
      "wednesdays DATE\n",
      "16h00 to CARDINAL\n",
      "only one CARDINAL\n",
      "5 CARDINAL\n",
      "6 CARDINAL\n",
      "haopeng wang PERSON\n",
      "edwin thomas PERSON\n",
      "two CARDINAL\n",
      "7 CARDINAL\n",
      "ovaska GPE\n",
      "wiley ORG\n",
      "4th ORDINAL\n",
      "2012 DATE\n",
      "3/9 8 CARDINAL\n",
      "9 CARDINAL\n",
      "4 CARDINAL\n",
      "two CARDINAL\n",
      "2 CARDINAL\n",
      "10 CARDINAL\n",
      "4 CARDINAL\n",
      "11 CARDINAL\n",
      "1 CARDINAL\n",
      "2 CARDINAL\n",
      "3 CARDINAL\n",
      "4 CARDINAL\n",
      "first ORDINAL\n",
      "two CARDINAL\n",
      "first ORDINAL\n",
      "sunday , march 5 DATE\n",
      "12 CARDINAL\n",
      "13 CARDINAL\n",
      "50% PERCENT\n",
      "15% PERCENT\n",
      "35% PERCENT\n",
      "4/9 14 CARDINAL\n",
      "55% PERCENT\n",
      "15 CARDINAL\n",
      "80% PERCENT\n",
      "16 CARDINAL\n",
      "second ORDINAL\n",
      "the university of ottawa’s ORG\n",
      "9.4 CARDINAL\n",
      "9.5 DATE\n",
      "9.6 CARDINAL\n",
      "14.2 DATE\n",
      "14.3 CARDINAL\n",
      "the university of ottawa’s ORG\n",
      "the academic year DATE\n",
      "ottawa GPE\n",
      "informat ORG\n",
      "5/9 17 CARDINAL\n",
      "18 CARDINAL\n",
      "6/9 19 CARDINAL\n",
      "1 CARDINAL\n",
      "1.1 CARDINAL\n",
      "2 CARDINAL\n",
      "2.1 CARDINAL\n",
      "3 CARDINAL\n",
      "3.1 CARDINAL\n",
      "4 CARDINAL\n",
      "4.1 CARDINAL\n",
      "4.2 CARDINAL\n",
      "4.3 CARDINAL\n",
      "5 CARDINAL\n",
      "5.1 CARDINAL\n",
      "5.2 CARDINAL\n",
      "6 CARDINAL\n",
      "6.1 CARDINAL\n",
      "7 CARDINAL\n",
      "7.1 CARDINAL\n",
      "7.2 CARDINAL\n",
      "7.3 CARDINAL\n",
      "weekly DATE\n",
      "8 CARDINAL\n",
      "8.1 CARDINAL\n",
      "9 CARDINAL\n",
      "10 CARDINAL\n",
      "11 CARDINAL\n",
      "11.1 CARDINAL\n",
      "12 CARDINAL\n",
      "20 CARDINAL\n",
      "8/9 CARDINAL\n",
      "the university of ottawa ORG\n",
      "the university of ottawa ORG\n",
      "9/9 CARDINAL\n",
      "the university of ottawa ORG\n"
     ]
    }
   ],
   "source": [
    "for token in docx.ents:\n",
    "    print(token.text, token.label_)\n",
    "  "
   ]
  },
  {
   "cell_type": "code",
   "execution_count": 20,
   "id": "de2f83b0",
   "metadata": {},
   "outputs": [
    {
     "data": {
      "text/plain": [
       "6719"
      ]
     },
     "execution_count": 20,
     "metadata": {},
     "output_type": "execute_result"
    }
   ],
   "source": [
    "re.search(\"deliverable 1 – draft design.\",text1).start()"
   ]
  },
  {
   "cell_type": "code",
   "execution_count": 21,
   "id": "e8c5139c",
   "metadata": {},
   "outputs": [],
   "source": [
    "import re\n",
    "#1st syllabus\n",
    "d1 = re.search(\"deliverable 1\",text1)\n",
    "d1s = d1.start()\n",
    "d1e = d1.end()\n",
    "d2 = re.search(\"deliverable 2\",text1)\n",
    "d2s = d2.start()\n",
    "d2e = d2.end()\n",
    "d3 = re.search(\"deliverable 3\",text1)\n",
    "d3s = d3.start()\n",
    "d3e = d3.end()\n",
    "# d4 = re.search(\"Deliverable 4 – Final version\",text1)\n",
    "# d4s = d4.start()\n",
    "# d4e = d4.end()\n",
    "mid1 = re.search('midterm quiz',text1)\n",
    "mid1s = mid1.start()\n",
    "mid1e = mid1.end()\n",
    "fin1 = re.search('final exam',text1)\n",
    "fin1s = fin1.start()\n",
    "fin1e = fin1.end()\n",
    "proj1 = re.search('project',text1)\n",
    "proj1s = proj1.start()\n",
    "proj1e=proj1.end()\n",
    "\n",
    "#2nd syllabus\n",
    "assignments = re.search('assignments',text2)\n",
    "assignmentss = assignments.start()\n",
    "assignmentse = assignments.end()\n",
    "mid2 = re.search('midterm',text2)\n",
    "mid2s = mid2.start()\n",
    "mid2e = mid2.end()\n",
    "fin2 = re.search('final exam',text2)\n",
    "fin2s = fin2.start()\n",
    "fin2e = fin2.end()\n",
    "\n",
    "#3rd syllabus\n",
    "labs = re.search('labs',text3)\n",
    "labss = labs.start()\n",
    "labse = labs.end()\n",
    "\n",
    "mid3 = re.search('midterm 1',text3)\n",
    "mid3s = mid3.start()\n",
    "mid3e = mid3.end()\n",
    "\n",
    "mid4 = re.search('midterm 2',text3)\n",
    "mid4s = mid4.start()\n",
    "mid4e = mid4.end()\n",
    "\n",
    "fin3 = re.search('final exam',text3)\n",
    "fin3s = fin3.start()\n",
    "fin3e = fin3.end()\n"
   ]
  },
  {
   "cell_type": "code",
   "execution_count": 22,
   "id": "5d7e82c1",
   "metadata": {},
   "outputs": [],
   "source": [
    "#training data\n",
    "import re\n",
    "TRAIN_DATA = [(text1, {'entities': [(d1s, d1e, 'DELIVERABLE'), (d2s, d2e, 'DELIVERABLE'), (d3s, d3e, 'DELIVERABLE'), (mid1s, mid1e, 'EXAM'), (fin1s, fin1e, 'EXAM'), (proj1s, proj1e, 'DELIVERABLE')]}),\n",
    "     (text2, {\n",
    "        'entities': [(assignmentss, assignmentse, 'DELIVERABLE'),\n",
    "                     (mid2s, mid2e,'EXAM'),\n",
    "                     (fin2s, fin2e,'EXAM')]\n",
    "    }),\n",
    "    (text3, {\n",
    "        'entities': [(labss, labse, 'DELIVERABLE'),\n",
    "                     (mid3s, mid3e, 'EXAM'),\n",
    "                     (mid4s, mid4e, 'EXAM'),\n",
    "                     (fin3s, fin3e, 'EXAM')]\n",
    "    })\n",
    "]"
   ]
  },
  {
   "cell_type": "code",
   "execution_count": 23,
   "id": "4dc12c38",
   "metadata": {},
   "outputs": [],
   "source": [
    "model = None\n",
    "output_dir = Path(\"C:\\\\Users\\\\This PC\\\\Documents\\\\nlpModel\")\n",
    "n_iter=100"
   ]
  },
  {
   "cell_type": "code",
   "execution_count": 24,
   "id": "62ad8dc2",
   "metadata": {},
   "outputs": [
    {
     "name": "stdout",
     "output_type": "stream",
     "text": [
      "Created blank model\n"
     ]
    }
   ],
   "source": [
    "if model is not None:\n",
    "    nlp=spacy.load(model)\n",
    "    print(\"Loaded model '%s'\" % model)\n",
    "else:\n",
    "    nlp = spacy.blank('en')\n",
    "    print(\"Created blank model\")"
   ]
  },
  {
   "cell_type": "markdown",
   "id": "342a5d8f",
   "metadata": {},
   "source": [
    "## Setting up pipelines"
   ]
  },
  {
   "cell_type": "code",
   "execution_count": 25,
   "id": "15772552",
   "metadata": {},
   "outputs": [],
   "source": [
    "# create the built-in pipeline components and add them to the pipeline\n",
    "    # nlp.create_pipe works for built-ins that are registered with spaCy\n",
    "if 'ner' not in nlp.pipe_names:\n",
    "#     ner = nlp.create_pipe('ner')\n",
    "    ner  = nlp.add_pipe('ner', last=True)\n",
    "# otherwise, get it so we can add labels\n",
    "else:\n",
    "    ner = nlp.get_pipe('ner')"
   ]
  },
  {
   "cell_type": "markdown",
   "id": "a17377e2",
   "metadata": {},
   "source": [
    "## Training the recognizer \n",
    "https://github.com/dreji18/NER-Training-Spacy-3.0/blob/main/NER%20Training%20with%20Spacy%20v3%20Notebook.ipynb"
   ]
  },
  {
   "cell_type": "code",
   "execution_count": 26,
   "id": "ab1d7d44",
   "metadata": {},
   "outputs": [
    {
     "name": "stderr",
     "output_type": "stream",
     "text": [
      "100%|████████████████████████████████████████████████████████████████████████████████████| 3/3 [00:00<00:00, 36.04it/s]"
     ]
    },
    {
     "name": "stdout",
     "output_type": "stream",
     "text": [
      "Skipping entity\n"
     ]
    },
    {
     "name": "stderr",
     "output_type": "stream",
     "text": [
      "\n"
     ]
    }
   ],
   "source": [
    "import pandas as pd\n",
    "import os\n",
    "from tqdm import tqdm\n",
    "import spacy\n",
    "from spacy.tokens import DocBin\n",
    "\n",
    "#nlp = spacy.blank(\"en\") # load a new spacy model\n",
    "nlp = spacy.load(\"en_core_web_sm\") # load other spacy model\n",
    "\n",
    "db = DocBin() # create a DocBin object\n",
    "\n",
    "for text, annot in tqdm(TRAIN_DATA): # data in previous format\n",
    "    doc = nlp.make_doc(text) # create doc object from text\n",
    "    ents = []\n",
    "    for start, end, label in annot[\"entities\"]: # add character indexes\n",
    "        span = doc.char_span(start, end, label=label, alignment_mode=\"contract\")\n",
    "        if span is None:\n",
    "            print(\"Skipping entity\")\n",
    "        else:\n",
    "            ents.append(span)\n",
    "    doc.ents = ents # label the text with the ents\n",
    "    db.add(doc)\n",
    "\n",
    "os.chdir(r'C:\\Users\\ghaza\\nlp')\n",
    "db.to_disk(\"./train.spacy\") # save the docbin object"
   ]
  },
  {
   "cell_type": "code",
   "execution_count": 27,
   "id": "03f76114",
   "metadata": {},
   "outputs": [],
   "source": [
    "from spacy.training.example import Example"
   ]
  },
  {
   "cell_type": "code",
   "execution_count": 28,
   "id": "e1c58036",
   "metadata": {},
   "outputs": [
    {
     "name": "stderr",
     "output_type": "stream",
     "text": [
      "C:\\Users\\ghaza\\anaconda3\\lib\\site-packages\\spacy\\training\\iob_utils.py:149: UserWarning: [W030] Some entities could not be aligned in the text \"csi 3131 winter 2023\n",
      "operating systems\n",
      "instructor ...\" with entities \"[(1003, 1014, 'DELIVERABLE'), (1102, 1109, 'EXAM')...\". Use `spacy.training.offsets_to_biluo_tags(nlp.make_doc(text), entities)` to check the alignment. Misaligned entities ('-') will be ignored during training.\n",
      "  warnings.warn(\n"
     ]
    },
    {
     "name": "stdout",
     "output_type": "stream",
     "text": [
      "{'ner': 346.38376096957796}\n",
      "{'ner': 111.45616071400495}\n",
      "{'ner': 40.458200327461576}\n",
      "{'ner': 26.050860548898587}\n",
      "{'ner': 23.91918199661722}\n",
      "{'ner': 23.71405191681015}\n",
      "{'ner': 149.93036754344575}\n",
      "{'ner': 22.5368672072982}\n",
      "{'ner': 23.033828349005034}\n",
      "{'ner': 21.670026789349777}\n",
      "{'ner': 18.514282162305875}\n",
      "{'ner': 24.04436203745926}\n",
      "{'ner': 17.74093889188168}\n",
      "{'ner': 171.00399752173496}\n",
      "{'ner': 19.67063119005732}\n",
      "{'ner': 23.87910695752355}\n",
      "{'ner': 22.945286896158503}\n",
      "{'ner': 22.44161814803242}\n",
      "{'ner': 19.713540627028127}\n",
      "{'ner': 15.322721849857654}\n",
      "{'ner': 14.583644871484882}\n",
      "{'ner': 13.092631452987899}\n",
      "{'ner': 11.985054132287198}\n",
      "{'ner': 11.54157291816613}\n",
      "{'ner': 9.68990529778896}\n",
      "{'ner': 9.252334320399783}\n",
      "{'ner': 7.590780745297645}\n",
      "{'ner': 32.103359429704916}\n",
      "{'ner': 5.895559116085509}\n",
      "{'ner': 13.077092421900158}\n",
      "{'ner': 10.752931297477808}\n",
      "{'ner': 7.0557879964763766}\n",
      "{'ner': 5.855752592608109}\n",
      "{'ner': 10.63272536087606}\n",
      "{'ner': 7.7093668486521265}\n",
      "{'ner': 5.645323980789221}\n",
      "{'ner': 8.14945140364129}\n",
      "{'ner': 8.367191082702632}\n",
      "{'ner': 5.809562659561576}\n",
      "{'ner': 6.879947594663344}\n",
      "{'ner': 3.3356562923424415}\n",
      "{'ner': 3.436735343196476}\n",
      "{'ner': 1.891731066154978}\n",
      "{'ner': 2.3524310667780046}\n",
      "{'ner': 1.8893300767873813}\n",
      "{'ner': 0.8700090031083039}\n",
      "{'ner': 0.4060133644859938}\n",
      "{'ner': 1.4078959036076755}\n",
      "{'ner': 0.5345878116784402}\n",
      "{'ner': 0.4400811665728809}\n",
      "{'ner': 0.1766997577949739}\n",
      "{'ner': 1.9101118192361}\n",
      "{'ner': 0.4051552525252218}\n",
      "{'ner': 0.5572157482156012}\n",
      "{'ner': 1.3327719044341677}\n",
      "{'ner': 2.0142135054481485}\n",
      "{'ner': 1.384425075791255}\n",
      "{'ner': 0.1791704634742674}\n",
      "{'ner': 1.9420507342214153}\n",
      "{'ner': 1.9293962013727417}\n",
      "{'ner': 1.885802760968301}\n",
      "{'ner': 0.11801447827536132}\n",
      "{'ner': 2.492353337238591}\n",
      "{'ner': 1.7296194698497125}\n",
      "{'ner': 0.012492020329724145}\n",
      "{'ner': 0.0049984844555974435}\n",
      "{'ner': 1.7702751648850807}\n",
      "{'ner': 0.020633844847693636}\n",
      "{'ner': 0.00964967576452624}\n",
      "{'ner': 0.29327703958314916}\n",
      "{'ner': 0.584862841466659}\n",
      "{'ner': 0.12053502144740923}\n",
      "{'ner': 0.000690169948352891}\n",
      "{'ner': 1.1077865659370385}\n",
      "{'ner': 1.8843822535187942}\n",
      "{'ner': 0.3430192522354967}\n",
      "{'ner': 1.0192950135892591}\n",
      "{'ner': 0.1842099236974328}\n",
      "{'ner': 0.012776865195187639}\n",
      "{'ner': 1.7239716106579175}\n",
      "{'ner': 0.6299259458868142}\n",
      "{'ner': 0.02639937447024671}\n",
      "{'ner': 0.04551825581053036}\n",
      "{'ner': 1.8891328387758353}\n",
      "{'ner': 1.8731634073434418}\n",
      "{'ner': 0.020024756476356386}\n",
      "{'ner': 0.24898018101698477}\n",
      "{'ner': 0.14365413237056635}\n",
      "{'ner': 1.7536820665528452}\n",
      "{'ner': 0.0004483541247546644}\n",
      "{'ner': 0.0006731686473057703}\n",
      "{'ner': 0.30015505343171356}\n",
      "{'ner': 1.9391229261855332}\n",
      "{'ner': 4.2729372253011345e-05}\n",
      "{'ner': 0.22286324222929635}\n",
      "{'ner': 0.0025328571378728966}\n",
      "{'ner': 4.090727474125278e-06}\n",
      "{'ner': 0.0003885932218258147}\n",
      "{'ner': 0.40222101484092726}\n",
      "{'ner': 0.001964907607536512}\n"
     ]
    }
   ],
   "source": [
    "for _, annotations in TRAIN_DATA:\n",
    "    for ent in annotations.get('entities'):\n",
    "        ner.add_label(ent[2])\n",
    "\n",
    "    # get names of other pipes to disable them during training\n",
    "other_pipes = [pipe for pipe in nlp.pipe_names if pipe != 'ner']\n",
    "with nlp.disable_pipes(*other_pipes):  # only train NER\n",
    "    optimizer = nlp.create_optimizer()\n",
    "    for itn in range(n_iter):\n",
    "        random.shuffle(TRAIN_DATA)\n",
    "        losses = {}\n",
    "        for batch in spacy.util.minibatch(TRAIN_DATA, size=2):\n",
    "            for text, annotations in batch:\n",
    "                # create Example\n",
    "                doc = nlp.make_doc(text)\n",
    "                example = Example.from_dict(doc, annotations)\n",
    "                # Update the model\n",
    "                nlp.update([example], losses=losses, drop=0.3)\n",
    "        print(losses)"
   ]
  },
  {
   "cell_type": "markdown",
   "id": "47dda955",
   "metadata": {},
   "source": [
    "## Testing the trained model"
   ]
  },
  {
   "cell_type": "code",
   "execution_count": 29,
   "id": "310d61ae",
   "metadata": {},
   "outputs": [
    {
     "name": "stdout",
     "output_type": "stream",
     "text": [
      "Entities [('project', 'DELIVERABLE'), ('deliverable 1', 'DELIVERABLE'), ('deliverable 2', 'DELIVERABLE'), ('deliverable 3', 'DELIVERABLE'), ('midterm quiz', 'EXAM'), ('final exam', 'EXAM')]\n",
      "Tokens [(' \\n  ', '', 2), ('1/9', '', 2), ('\\n \\n \\n \\n \\n', '', 2), ('school', '', 2), ('of', '', 2), ('electrical', '', 2), ('engineering', '', 2), ('\\n', '', 2), ('and', '', 2), ('computer', '', 2), ('science', '', 2), (' ', '', 2), ('(', '', 2), ('eecs', '', 2), (')', '', 2), (' ', '', 2), ('école', '', 2), ('de', '', 2), ('science', '', 2), ('informatique', '', 2), ('et', '', 2), ('\\n', '', 2), ('de', '', 2), ('génie', '', 2), ('électrique', '', 2), (' ', '', 2), ('(', '', 2), ('sige', '', 2), (')', '', 2), ('  \\n \\n', '', 2), ('ceg4166', '', 2), ('/', '', 2), ('csi4141', '', 2), (' \\n', '', 2), ('real', '', 2), ('time', '', 2), ('systems', '', 2), ('design', '', 2), (' ', '', 2), ('(', '', 2), ('3', '', 2), (',', '', 2), ('1.5', '', 2), (',', '', 2), ('3', '', 2), (')', '', 2), ('\\n', '', 2), ('winter', '', 2), ('202', '', 2), ('3', '', 2), ('\\n', '', 2), ('instructor', '', 2), (' ', '', 2), ('gilbert', '', 2), ('arbez', '', 2), (' \\n', '', 2), ('email', '', 2), (' ', '', 2), ('garbez@uottawa.ca', '', 2), ('  \\n', '', 2), ('ms', '', 2), ('teams', '', 2), (' ', '', 2), ('the', '', 2), ('preferred', '', 2), ('method', '', 2), ('of', '', 2), ('communication', '', 2), ('is', '', 2), ('via', '', 2), ('ms', '', 2), ('teams', '', 2), ('chat', '', 2), ('/', '', 2), ('video', '', 2), ('.', '', 2), (' \\n', '', 2), ('phone', '', 2), (' ', '', 2), ('613', '', 2), ('-', '', 2), ('562', '', 2), ('-', '', 2), ('5800', '', 2), (' ', '', 2), ('ext', '', 2), ('6315', '', 2), (' \\n', '', 2), ('office', '', 2), (' ', '', 2), ('site', '', 2), ('5104', '', 2), (' \\n', '', 2), ('office', '', 2), ('hours', '', 2), (' ', '', 2), ('by', '', 2), ('appointment', '', 2), (' \\n', '', 2), ('1', '', 2), ('–', '', 2), ('course', '', 2), ('description', '', 2), (' \\n', '', 2), ('definition', '', 2), ('of', '', 2), ('real', '', 2), ('-', '', 2), ('time', '', 2), ('systems', '', 2), (';', '', 2), ('examples', '', 2), ('.', '', 2), ('characteristics', '', 2), ('of', '', 2), ('real', '', 2), ('-time', '', 2), ('systems', '', 2), ('.', '', 2), ('analysis', '', 2), ('frameworks', '', 2), ('and', '', 2), ('tools', '', 2), ('.', '', 2), ('\\n', '', 2), ('elements', '', 2), ('of', '', 2), ('real', '', 2), ('-time', '', 2), ('system', '', 2), ('structure', '', 2), ('.', '', 2), ('reliability', '', 2), ('and', '', 2), ('fault', '', 2), ('tolerance', '', 2), ('.', '', 2), ('exceptions', '', 2), ('and', '', 2), ('exception', '', 2), ('handling', '', 2), ('.', '', 2), ('\\n', '', 2), ('concurrency', '', 2), ('and', '', 2), ('concurrent', '', 2), ('programming', '', 2), ('in', '', 2), ('real', '', 2), ('-time', '', 2), ('systems', '', 2), ('.', '', 2), ('synchronisation', '', 2), ('and', '', 2), ('communication', '', 2), (',', '', 2), ('resource', '', 2), ('\\n', '', 2), ('control', '', 2), (',', '', 2), ('and', '', 2), ('scheduling', '', 2), ('in', '', 2), ('real', '', 2), ('-time', '', 2), ('systems', '', 2), ('.', '', 2), ('real', '', 2), ('-time', '', 2), ('systems', '', 2), ('design', '', 2), ('methodologies', '', 2), ('.', '', 2), ('computer', '', 2), ('assisted', '', 2), ('design', '', 2), ('\\n', '', 2), ('of', '', 2), ('real', '', 2), ('-time', '', 2), ('systems', '', 2), ('.', '', 2), (' ', '', 2), ('the', '', 2), ('course', '', 2), ('will', '', 2), ('focus', '', 2), ('on', '', 2), ('the', '', 2), ('design', '', 2), ('of', '', 2), ('a', '', 2), ('n', '', 2), ('embedded', '', 2), ('real', '', 2), ('-time', '', 2), ('system', '', 2), (' ', '', 2), ('which', '', 2), ('can', '', 2), ('be', '', 2), ('defined', '', 2), ('\\n', '', 2), ('as', '', 2), (':', '', 2), ('\\n', '', 2), ('embedded', '', 2), ('real', '', 2), ('-time', '', 2), ('systems', '', 2), ('are', '', 2), ('comprised', '', 2), ('of', '', 2), ('computer', '', 2), ('software', '', 2), ('/', '', 2), ('hardware', '', 2), ('components', '', 2), ('embedded', '', 2), ('\\n', '', 2), ('into', '', 2), ('larger', '', 2), ('systems', '', 2), ('composed', '', 2), ('of', '', 2), ('other', '', 2), ('sub', '', 2), ('-systems', '', 2), ('(', '', 2), ('both', '', 2), ('mechanical', '', 2), ('and', '', 2), ('electronic', '', 2), (')', '', 2), ('.', '', 2), ('input', '', 2), ('\\n', '', 2), ('information', '', 2), ('from', '', 2), ('sensors', '', 2), (' ', '', 2), ('are', '', 2), ('fed', '', 2), ('into', '', 2), ('t', '', 2), ('hese', '', 2), ('systems', '', 2), (',', '', 2), ('which', '', 2), ('compute', '', 2), ('control', '', 2), ('signals', '', 2), ('for', '', 2), ('driving', '', 2), ('the', '', 2), ('\\n', '', 2), ('devices', '', 2), ('(', '', 2), ('e.g.', '', 2), ('an', '', 2), ('actuator', '', 2), (')', '', 2), (';', '', 2), ('that', '', 2), ('is', '', 2), ('the', '', 2), ('system', '', 2), ('is', '', 2), ('continuously', '', 2), ('interacting', '', 2), ('with', '', 2), ('the', '', 2), ('environment', '', 2), ('.', '', 2), ('in', '', 2), ('real', '', 2), ('-', '', 2), ('\\n', '', 2), ('time', '', 2), ('systems', '', 2), (',', '', 2), ('correctness', '', 2), ('of', '', 2), ('operation', '', 2), ('depends', '', 2), ('not', '', 2), ('only', '', 2), ('its', '', 2), ('logical', '', 2), ('behavior', '', 2), (',', '', 2), ('but', '', 2), ('also', '', 2), ('the', '', 2), ('time', '', 2), (' ', '', 2), ('at', '', 2), ('\\n', '', 2), ('which', '', 2), ('the', '', 2), ('results', '', 2), ('are', '', 2), ('produced', '', 2), ('.', '', 2), (' \\n', '', 2), ('2', '', 2), ('–', '', 2), ('course', '', 2), ('learning', '', 2), ('objective', '', 2), ('s', '', 2), ('\\n', '', 2), ('upon', '', 2), ('successful', '', 2), ('completion', '', 2), ('of', '', 2), ('this', '', 2), ('course', '', 2), (',', '', 2), ('the', '', 2), ('student', '', 2), (' \\n', '', 2), ('\\uf0b7', '', 2), ('will', '', 2), ('be', '', 2), ('able', '', 2), ('to', '', 2), ('describe', '', 2), ('the', '', 2), ('main', '', 2), ('characteristics', '', 2), ('of', '', 2), ('a', '', 2), ('real', '', 2), ('-time', '', 2), ('embedded', '', 2), ('system', '', 2), (' \\n', '', 2), ('\\uf0b7', '', 2), ('will', '', 2), ('be', '', 2), ('able', '', 2), ('to', '', 2), ('integrate', '', 2), (' ', '', 2), ('hardware', '', 2), ('components', '', 2), ('into', '', 2), ('the', '', 2), ('design', '', 2), ('of', '', 2), ('a', '', 2), ('real', '', 2), ('-', '', 2), ('time', '', 2), ('embedded', '', 2), ('systems', '', 2), (' \\n', '', 2), ('\\uf0b7', '', 2), ('will', '', 2), ('be', '', 2), ('able', '', 2), ('to', '', 2), ('and', '', 2), ('have', '', 2), ('applied', '', 2), (' ', '', 2), ('various', '', 2), ('task', '', 2), ('scheduling', '', 2), ('methods', '', 2), ('into', '', 2), ('the', '', 2), ('design', '', 2), ('of', '', 2), ('real', '', 2), ('-', '', 2), ('time', '', 2), ('embedded', '', 2), ('systems', '', 2), (' \\n', '', 2), ('\\uf0b7', '', 2), ('will', '', 2), ('have', '', 2), ('gained', '', 2), ('skills', '', 2), ('in', '', 2), ('utilizing', '', 2), ('a', '', 2), ('real', '', 2), ('-time', '', 2), ('operating', '', 2), ('system', '', 2), ('and', '', 2), ('software', '', 2), ('develop', '', 2), ('ment', '', 2), ('tools', '', 2), ('to', '', 2), ('developing', '', 2), ('real', '', 2), ('-', '', 2), ('\\n', '', 2), ('time', '', 2), ('embedded', '', 2), ('system', '', 2), ('products', '', 2), ('.', '', 2), (' \\n', '', 2), ('\\uf0b7', '', 2), ('will', '', 2), ('have', '', 2), ('evaluated', '', 2), ('real', '', 2), ('embedded', '', 2), ('systems', '', 2), ('requirements', '', 2), ('documents', '', 2), (' \\n', '', 2), ('\\uf0b7', '', 2), ('will', '', 2), (' ', '', 2), ('have', '', 2), ('worked', '', 2), ('successfully', '', 2), ('in', '', 2), ('a', '', 2), ('team', '', 2), ('-based', '', 2), ('real', '', 2), ('-time', '', 2), ('embedded', '', 2), ('systems', '', 2), ('development', '', 2), ('project', 'DELIVERABLE', 3), (' \\n', '', 2), ('\\uf0b7', '', 2), ('will', '', 2), ('have', '', 2), ('contributed', '', 2), ('to', '', 2), ('the', '', 2), ('various', '', 2), ('designs', '', 2), ('and', '', 2), ('design', '', 2), ('documentation', '', 2), ('created', '', 2), ('to', '', 2), ('meet', '', 2), ('given', '', 2), ('requirements', '', 2), ('during', '', 2), ('\\n', '', 2), ('team', '', 2), ('-based', '', 2), ('embedded', '', 2), ('system', '', 2), ('development', '', 2), ('project', '', 2), (' \\n', '', 2), ('\\uf0b7', '', 2), ('will', '', 2), ('have', '', 2), ('contributed', '', 2), ('to', '', 2), (' ', '', 2), ('the', '', 2), ('implementation', '', 2), ('of', '', 2), ('a', '', 2), ('real', '', 2), ('-time', '', 2), ('embedded', '', 2), ('system', '', 2), ('s', '', 2), ('from', '', 2), (' ', '', 2), ('documented', '', 2), ('desig', '', 2), ('ns', '', 2), ('\\n', '', 2), ('\\uf0b7', '', 2), ('will', '', 2), ('have', '', 2), (' ', '', 2), ('tested', '', 2), ('and', '', 2), ('analyze', '', 2), ('d', '', 2), ('a', '', 2), ('real', '', 2), ('-time', '', 2), ('system', '', 2), (' ', '', 2), ('as', '', 2), ('well', '', 2), ('as', '', 2), ('its', '', 2), ('performance', '', 2), (' \\n', '', 2), ('\\uf0b7', '', 2), ('will', '', 2), ('have', '', 2), ('applied', '', 2), (' ', '', 2), ('an', '', 2), ('iterative', '', 2), ('and', '', 2), ('agile', '', 2), ('development', '', 2), ('process', '', 2), ('(', '', 2), ('scrum', '', 2), (')', '', 2), ('to', '', 2), ('developing', '', 2), ('a', '', 2), ('number', '', 2), ('of', '', 2), (' ', '', 2), ('real', '', 2), ('-', '', 2), ('time', '', 2), ('\\n', '', 2), ('embedded', '', 2), ('system', '', 2), (' ', '', 2), ('products', '', 2), (' \\n', '', 2), ('\\uf0b7', '', 2), ('will', '', 2), ('have', '', 2), ('worked', '', 2), ('as', '', 2), ('a', '', 2), ('team', '', 2), ('and', '', 2), ('with', '', 2), ('the', '', 2), ('teachin', '', 2), ('g', '', 2), ('assistants', '', 2), ('to', '', 2), ('communicate', '', 2), ('their', '', 2), ('progress', '', 2), ('through', '', 2), ('regular', '', 2), ('\\n', '', 2), ('weekly', '', 2), ('discussions', '', 2), ('(', '', 2), ('scrums', '', 2), (')', '', 2), ('and', '', 2), ('online', '', 2), ('task', '', 2), ('tracking', '', 2), ('tool', '', 2), (',', '', 2), ('thereby', '', 2), ('further', '', 2), ('enhancing', '', 2), ('their', '', 2), ('communication', '', 2), ('skills', '', 2), (' \\n', '', 2), ('\\uf0b7', '', 2), ('will', '', 2), ('demonstrate', '', 2), ('a', '', 2), ('responsible', '', 2), ('and', '', 2), ('professional', '', 2), ('attitude', '', 2), ('as', '', 2), ('a', '', 2), ('team', '', 2), ('member', '', 2), ('or', '', 2), ('team', '', 2), ('lea', '', 2), ('der', '', 2), ('during', '', 2), ('the', '', 2), ('real', '', 2), ('time', '', 2), (' \\n', '', 2), ('embedded', '', 2), ('systems', '', 2), ('project', '', 2), (' \\n', '', 2), ('\\uf0b7', '', 2), ('will', '', 2), ('have', '', 2), ('further', '', 2), ('developed', '', 2), ('life', '', 2), ('-long', '', 2), ('learning', '', 2), ('and', '', 2), ('independent', '', 2), ('study', '', 2), ('skills', '', 2), ('to', '', 2), ('master', '', 2), ('the', '', 2), ('hardware', '', 2), ('and', '', 2), ('software', '', 2), ('\\n', '', 2), ('building', '', 2), ('blocks', '', 2), ('of', '', 2), ('real', '', 2), ('-time', '', 2), ('embedded', '', 2), ('systems', '', 2), ('  \\n  ', '', 2), ('2/9', '', 2), ('3', '', 2), ('–', '', 2), ('prerequisite', '', 2), ('s', '', 2), ('\\n', '', 2), ('csi', '', 2), ('3131', '', 2), ('operating', '', 2), ('systems', '', 2), (' \\n', '', 2), ('4', '', 2), ('–', '', 2), ('lecture', '', 2), ('/tutorials', '', 2), ('/', '', 2), ('labs', '', 2), (' ', '', 2), ('schedule', '', 2), (' \\n', '', 2), ('section', '', 2), ('b', '', 2), ('\\n', '', 2), ('lectures', '', 2), (':', '', 2), (' ', '', 2), ('mondays', '', 2), ('13h00', '', 2), ('to', '', 2), ('14h30', '', 2), (' \\n', '', 2), ('wednesdays', '', 2), ('11h30', '', 2), ('to', '', 2), ('12h50', '', 2), (' \\n', '', 2), ('tutorials', '', 2), (':', '', 2), (' ', '', 2), ('mondays', '', 2), ('17h30', '', 2), ('to', '', 2), ('18h50', '', 2), (' \\n', '', 2), ('laboratories', '', 2), ('*', '', 2), (':', '', 2), ('tuesdays', '', 2), ('11h30', '', 2), ('to', '', 2), ('14h30', '', 2), (' \\n', '', 2), ('tuesdays', '', 2), ('14h30', '', 2), ('to', '', 2), ('17h20', '', 2), (' \\n', '', 2), ('friday', '', 2), ('14h30', '', 2), ('to', '', 2), ('17h20', '', 2), (' \\n', '', 2), ('thursday', '', 2), ('13h00', '', 2), ('to', '', 2), ('15h50', '', 2), (' \\n', '', 2), ('*', '', 2), ('participate', '', 2), ('in', '', 2), ('only', '', 2), ('one', '', 2), ('lab', '', 2), ('session', '', 2), ('.', '', 2), (' \\n', '', 2), ('section', '', 2), ('c', '', 2), ('\\n', '', 2), ('lectures', '', 2), (':', '', 2), (' ', '', 2), ('tuesdays', '', 2), ('14h', '', 2), ('30', '', 2), ('to', '', 2), ('1', '', 2), ('5h50', '', 2), ('\\n', '', 2), ('fridays', '', 2), ('16h00', '', 2), ('to', '', 2), ('1', '', 2), ('7h20', '', 2), ('\\n', '', 2), ('tutorials', '', 2), (':', '', 2), (' ', '', 2), ('wednesdays', '', 2), (' ', '', 2), ('11h30', '', 2), ('to', '', 2), ('1', '', 2), ('2h50', '', 2), ('\\n', '', 2), ('laboratories', '', 2), ('*', '', 2), (':', '', 2), ('saturdays', '', 2), (' ', '', 2), ('11h30', '', 2), ('to', '', 2), ('14h', '', 2), ('20', '', 2), ('\\n', '', 2), ('wednesdays', '', 2), (' ', '', 2), ('16h00', '', 2), ('to', '', 2), ('1', '', 2), ('8h50', '', 2), ('\\n', '', 2), ('*', '', 2), ('participate', '', 2), ('in', '', 2), ('only', '', 2), ('one', '', 2), ('lab', '', 2), ('session', '', 2), ('.', '', 2), (' \\n \\n', '', 2), ('5', '', 2), ('–', '', 2), ('lecture', '', 2), ('format', '', 2), (' \\n', '', 2), ('lectures', '', 2), ('shall', '', 2), ('be', '', 2), ('used', '', 2), ('in', '', 2), ('a', '', 2), ('flipped', '', 2), ('classroom', '', 2), ('format', '', 2), ('in', '', 2), ('order', '', 2), ('to', '', 2), ('explore', '', 2), ('and', '', 2), ('discuss', '', 2), ('the', '', 2), ('principles', '', 2), ('to', '', 2), ('be', '', 2), ('applied', '', 2), ('with', '', 2), ('the', '', 2), ('re', '', 2), ('al-', '', 2), ('\\n', '', 2), ('time', '', 2), ('embedded', '', 2), ('development', '', 2), ('project', '', 2), ('.', '', 2), ('the', '', 2), ('main', '', 2), ('objective', '', 2), ('is', '', 2), ('have', '', 2), ('students', '', 2), ('engage', '', 2), ('in', '', 2), ('active', '', 2), ('participation', '', 2), ('for', '', 2), ('learnin', '', 2), ('g', '', 2), ('these', '', 2), ('\\n', '', 2), ('principles', '', 2), ('rather', '', 2), ('than', '', 2), ('follow', '', 2), ('presentation', '', 2), ('s', '', 2), ('of', '', 2), ('the', '', 2), ('information', '', 2), ('.', '', 2), (' ', '', 2), ('it', '', 2), ('is', '', 2), ('thus', '', 2), ('expected', '', 2), ('that', '', 2), ('students', '', 2), ('prepare', '', 2), ('for', '', 2), ('class', '', 2), ('completing', '', 2), ('\\n', '', 2), ('assigned', '', 2), ('readings', '', 2), (',', '', 2), ('explore', '', 2), ('the', '', 2), ('project', '', 2), ('documents', '', 2), ('(', '', 2), ('requirements', '', 2), (',', '', 2), ('hardware', '', 2), ('documentation', '', 2), (',', '', 2), ('software', '', 2), ('tool', '', 2), ('documentation', '', 2), (',', '', 2), ('\\n', '', 2), ('etc', '', 2), ('.', '', 2), (')', '', 2), ('in', '', 2), ('order', '', 2), ('to', '', 2), ('contribute', '', 2), ('to', '', 2), ('class', '', 2), ('discussions', '', 2), ('.', '', 2), (' ', '', 2), ('a', '', 2), ('tentative', '', 2), ('schedule', '', 2), ('of', '', 2), ('topics', '', 2), ('for', '', 2), ('lectures', '', 2), ('is', '', 2), ('presented', '', 2), ('in', '', 2), ('this', '', 2), ('syllabus', '', 2), ('an', '', 2), ('d', '', 2), ('\\n', '', 2), ('online', '', 2), ('(', '', 2), ('brightspace', '', 2), (')', '', 2), ('.', '', 2), (' ', '', 2), ('the', '', 2), ('schedule', '', 2), ('is', '', 2), ('subject', '', 2), ('to', '', 2), ('changes', '', 2), ('.', '', 2), (' \\n', '', 2), ('6', '', 2), ('-', '', 2), ('teaching', '', 2), ('assistants', '', 2), (' \\n', '', 2), ('haopeng', '', 2), ('wang', '', 2), ('.', '', 2), ('hwang266@uottawa.ca', '', 2), ('  \\n', '', 2), ('palwasha', '', 2), ('waheed', '', 2), ('shaikh', '', 2), (',', '', 2), ('pshai065@uottawa.ca', '', 2), ('  \\n', '', 2), ('edwin', '', 2), ('thomas', '', 2), (',', '', 2), ('ethom123@uottawa.ca', '', 2), ('  \\n', '', 2), ('abhillash', '', 2), ('paal', '', 2), (',', '', 2), ('apaal022@uottawa.ca', '', 2), ('  \\n', '', 2), ('to', '', 2), ('be', '', 2), ('determined', '', 2), ('(', '', 2), ('two', '', 2), ('other', '', 2), ('tas', '', 2), (')', '', 2), ('.', '', 2), (' \\n', '', 2), ('7', '', 2), ('–', '', 2), ('textboo', '', 2), ('k', '', 2), ('and', '', 2), ('lecture', '', 2), ('notes', '', 2), (' \\n', '', 2), ('the', '', 2), ('following', '', 2), ('book', '', 2), ('is', '', 2), ('required', '', 2), ('.', '', 2), ('students', '', 2), ('are', '', 2), ('expected', '', 2), ('to', '', 2), ('complete', '', 2), ('reading', '', 2), ('assignments', '', 2), ('before', '', 2), ('class', '', 2), ('.', '', 2), ('\\n', '', 2), ('phillip', '', 2), ('laplante', '', 2), ('and', '', 2), ('seppo', '', 2), ('ovaska', '', 2), ('.', '', 2), ('real', '', 2), ('-time', '', 2), ('systems', '', 2), ('design', '', 2), ('and', '', 2), ('analysis', '', 2), (',', '', 2), ('tools', '', 2), ('for', '', 2), ('the', '', 2), ('\\n', '', 2), ('practitioner', '', 2), (',', '', 2), ('wiley', '', 2), (',', '', 2), ('4th', '', 2), ('edition', '', 2), (',', '', 2), ('2012', '', 2), ('.', '', 2), (' \\n', '', 2), ('a', '', 2), ('copy', '', 2), (' ', '', 2), ('of', '', 2), ('the', '', 2), ('e', '', 2), ('-book', '', 2), ('is', '', 2), ('available', '', 2), ('at', '', 2), ('the', '', 2), ('following', '', 2), ('link', '', 2), ('.', '', 2), ('a', '', 2), ('copy', '', 2), ('of', '', 2), ('the', '', 2), ('book', '', 2), ('may', '', 2), ('be', '', 2), ('downloaded', '', 2), ('for', '', 2), ('free', '', 2), ('\\n', '', 2), ('from', '', 2), ('the', '', 2), ('university', '', 2), (';', '', 2), ('using', '', 2), ('the', '', 2), ('following', '', 2), ('link', '', 2), ('(', '', 2), ('select', '', 2), ('o', '', 2), ('-book', '', 2), ('):', '', 2), (' \\n', '', 2), ('https://www.wiley.com/en', '', 2), ('-', '', 2), ('\\n', '', 2), ('us', '', 2), ('/', '', 2), ('real+time+systems+design+and+analysis%3a+t', '', 2), ('ools+for+the+practitioner%2c+4th+edition', '', 2), ('-', '', 2), ('\\n', '', 2), ('p-9781118136607', '', 2), ('   \\n   \\n  ', '', 2), ('3/9', '', 2), ('8', '', 2), ('–', '', 2), ('additional', '', 2), ('reading', '', 2), (' \\n', '', 2), ('documentation', '', 2), ('on', '', 2), ('software', '', 2), ('tools', '', 2), (',', '', 2), ('hardware', '', 2), (',', '', 2), ('and', '', 2), ('the', '', 2), ('system', '', 2), ('used', '', 2), ('during', '', 2), ('the', '', 2), ('embedded', '', 2), ('system', '', 2), ('project', '', 2), ('\\n', '', 2), ('development', '', 2), ('is', '', 2), ('provided', '', 2), ('online', '', 2), ('through', '', 2), ('brightspace', '', 2), ('.', '', 2), (' \\n', '', 2), ('9', '', 2), ('–', '', 2), ('tutorial', '', 2), ('s', '', 2), ('/', '', 2), ('labs', '', 2), (' \\n', '', 2), ('groups', '', 2), ('of', '', 2), ('4', '', 2), ('-6', '', 2), ('students', '', 2), ('participate', '', 2), ('in', '', 2), ('a', '', 2), ('real', '', 2), ('-time', '', 2), ('embedded', '', 2), ('systems', '', 2), ('design', '', 2), ('and', '', 2), ('implementation', '', 2), ('project', '', 2), (';', '', 2), ('the', '', 2), ('project', '', 2), ('\\n', '', 2), ('experience', '', 2), ('will', '', 2), ('mimic', '', 2), ('a', '', 2), ('professional', '', 2), ('process', '', 2), ('including', '', 2), ('a', '', 2), ('methodology', '', 2), (',', '', 2), ('programming', '', 2), ('/', '', 2), ('documentation', '', 2), ('standards', '', 2), ('and', '', 2), ('\\n', '', 2), ('management', '', 2), ('/', '', 2), ('tracking', '', 2), ('time', '', 2), ('with', '', 2), ('a', '', 2), ('project', '', 2), ('management', '', 2), ('software', '', 2), ('.', '', 2), (' \\n', '', 2), ('the', '', 2), ('tutorial', '', 2), ('and', '', 2), ('lab', '', 2), ('sessions', '', 2), ('are', '', 2), ('dedicated', '', 2), ('to', '', 2), ('the', '', 2), ('real', '', 2), ('time', '', 2), ('embedded', '', 2), ('systems', '', 2), ('project', '', 2), ('.', '', 2), (' ', '', 2), ('the', '', 2), ('tutorial', '', 2), ('shall', '', 2), ('be', '', 2), ('used', '', 2), ('for', '', 2), ('\\n', '', 2), ('planning', '', 2), (',', '', 2), ('research', '', 2), (',', '', 2), ('design', '', 2), (',', '', 2), ('documentation', '', 2), (',', '', 2), ('software', '', 2), ('development', '', 2), (',', '', 2), ('etc', '', 2), ('.', '', 2), (' ', '', 2), ('these', '', 2), ('activities', '', 2), ('can', '', 2), ('also', '', 2), ('be', '', 2), ('underta', '', 2), ('ken', '', 2), ('during', '', 2), ('the', '', 2), ('\\n', '', 2), ('lab', '', 2), ('session', '', 2), (';', '', 2), ('in', '', 2), ('addition', '', 2), (',', '', 2), ('the', '', 2), ('system', '', 2), ('is', '', 2), ('tested', '', 2), ('during', '', 2), ('these', '', 2), ('sessions', '', 2), ('.', '', 2), (' ', '', 2), ('the', '', 2), ('hardware', '', 2), ('system', '', 2), ('is', '', 2), ('shared', '', 2), ('among', '', 2), ('all', '', 2), ('team', '', 2), ('\\n', '', 2), ('members', '', 2), ('.', '', 2), ('two', '', 2), (' ', '', 2), ('different', '', 2), ('products', '', 2), ('shall', '', 2), ('be', '', 2), ('developed', '', 2), ('during', '', 2), ('2', '', 2), ('sprints', '', 2), ('throughout', '', 2), ('the', '', 2), ('session', '', 2), ('.', '', 2), (' \\n', '', 2), ('10', '', 2), ('–', '', 2), ('assignements', '', 2), (' \\n', '', 2), ('assignments', '', 2), ('are', '', 2), ('not', '', 2), ('used', '', 2), ('in', '', 2), ('this', '', 2), ('course', '', 2), ('.', '', 2), (' ', '', 2), ('for', '', 2), ('each', '', 2), ('sprint', '', 2), ('of', '', 2), ('the', '', 2), ('project', '', 2), (',', '', 2), ('4', '', 2), ('deliverables', '', 2), ('shall', '', 2), ('be', '', 2), ('submitted', '', 2), ('for', '', 2), ('review', '', 2), ('.', '', 2), (' \\n', '', 2), ('11', '', 2), ('–', '', 2), ('exams', '', 2), ('/laboratory', '', 2), (' ', '', 2), ('reports/', '', 2), ('project', '', 2), ('reports', '', 2), (' \\n', '', 2), ('project', '', 2), (':', '', 2), ('the', '', 2), ('project', '', 2), ('work', '', 2), ('is', '', 2), ('mandatory', '', 2), ('.', '', 2), (' ', '', 2), ('for', '', 2), ('each', '', 2), ('sprint', '', 2), (',', '', 2), ('each', '', 2), ('project', '', 2), ('teams', '', 2), ('shall', '', 2), ('provide', '', 2), ('the', '', 2), ('following', '', 2), ('deliverables', '', 2), ('to', '', 2), ('be', '', 2), ('\\n', '', 2), ('submitted', '', 2), ('to', '', 2), ('brigh', '', 2), ('tspace', '', 2), (':', '', 2), (' \\n', '', 2), ('\\uf0b7', '', 2), ('deliverable', 'DELIVERABLE', 3), ('1', 'DELIVERABLE', 1), ('–', '', 2), ('draft', '', 2), ('design', '', 2), ('.', '', 2), (' \\n', '', 2), ('\\uf0b7', '', 2), ('deliverable', 'DELIVERABLE', 3), ('2', 'DELIVERABLE', 1), ('–', '', 2), ('reviewed', '', 2), ('design', '', 2), ('and', '', 2), ('implementation', '', 2), (' \\n', '', 2), ('\\uf0b7', '', 2), ('deliverable', 'DELIVERABLE', 3), ('3', 'DELIVERABLE', 1), ('–', '', 2), ('demonstration', '', 2), ('of', '', 2), ('unit', '', 2), ('tests', '', 2), ('and', '', 2), ('final', '', 2), ('product', '', 2), (' \\n', '', 2), ('\\uf0b7', '', 2), ('deliver', '', 2), ('able', '', 2), ('4', '', 2), ('–', '', 2), ('final', '', 2), ('version', '', 2), ('(', '', 2), ('release', '', 2), ('document', '', 2), ('and', '', 2), ('implementation', '', 2), ('.', '', 2), (' \\n', '', 2), ('\\uf0b7', '', 2), ('notes', '', 2), (':', '', 2), (' \\n', '', 2), ('o', '', 2), ('the', '', 2), ('design', '', 2), ('is', '', 2), ('documented', '', 2), ('in', '', 2), ('the', '', 2), ('release', '', 2), ('document', '', 2), ('.', '', 2), ('for', '', 2), ('the', '', 2), ('first', '', 2), ('two', '', 2), ('deliverables', '', 2), (',', '', 2), ('only', '', 2), ('the', '', 2), ('design', '', 2), ('sections', '', 2), ('of', '', 2), ('\\n', '', 2), ('new', '', 2), ('modules', '', 2), ('are', '', 2), ('included', '', 2), ('in', '', 2), ('a', '', 2), ('pdf', '', 2), ('document', '', 2), ('.', '', 2), ('for', '', 2), ('the', '', 2), ('final', '', 2), ('deliverable', '', 2), (',', '', 2), ('the', '', 2), ('com', '', 2), ('plete', '', 2), (' ', '', 2), ('release', '', 2), (' ', '', 2), ('document', '', 2), (' ', '', 2), ('is', '', 2), ('\\n', '', 2), ('submitted', '', 2), ('in', '', 2), ('pdf', '', 2), ('format', '', 2), (';', '', 2), ('b', '', 2), ('e', '', 2), ('sure', '', 2), ('to', '', 2), ('supply', '', 2), ('the', '', 2), ('complete', '', 2), ('release', '', 2), ('document', '', 2), ('and', '', 2), (' ', '', 2), ('not', '', 2), ('only', '', 2), ('the', '', 2), ('sections', '', 2), (' ', '', 2), ('developed', '', 2), ('\\n', '', 2), ('by', '', 2), ('the', '', 2), ('team', '', 2), ('.', '', 2), ('\\n', '', 2), ('o', '', 2), ('the', '', 2), ('implementation', '', 2), ('consists', '', 2), ('of', '', 2), ('a', '', 2), (' ', '', 2), ('zipped', '', 2), ('file', '', 2), ('of', '', 2), ('a', '', 2), ('code', '', 2), ('composer', '', 2), ('project', '', 2), ('.', '', 2), ('this', '', 2), ('project', '', 2), (' ', '', 2), ('contains', '', 2), ('the', '', 2), ('complete', '', 2), ('\\n', '', 2), ('source', '', 2), ('code', '', 2), ('for', '', 2), ('the', '', 2), ('sprint', '', 2), ('’s', '', 2), ('softwar', '', 2), ('e', '', 2), ('product', '', 2), ('as', '', 2), ('well', '', 2), ('as', '', 2), ('the', '', 2), (' ', '', 2), ('api', '', 2), ('html', '', 2), ('documentation', '', 2), ('generated', '', 2), ('with', '', 2), ('\\n', '', 2), ('doxygen', '', 2), ('.', '', 2), ('be', '', 2), ('sure', '', 2), ('to', '', 2), ('update', '', 2), ('the', '', 2), ('doxygen', '', 2), ('documentation', '', 2), ('to', '', 2), ('reflect', '', 2), ('changes', '', 2), ('and', '', 2), ('additions', '', 2), ('made', '', 2), ('to', '', 2), ('the', '', 2), ('\\n', '', 2), ('software', '', 2), ('.', '', 2), (' ', '', 2), ('run', '', 2), ('a', '', 2), ('“', '', 2), ('project', '', 2), ('clean', '', 2), ('”', '', 2), ('to', '', 2), ('k', '', 2), ('eep', '', 2), ('the', '', 2), ('size', '', 2), ('of', '', 2), ('the', '', 2), ('project', '', 2), ('to', '', 2), ('a', '', 2), ('minimum', '', 2), ('.', '', 2), (' \\n', '', 2), ('o', '', 2), ('for', '', 2), ('each', '', 2), ('deliverable', '', 2), (',', '', 2), ('t', '', 2), ('he', '', 2), ('form', '', 2), ('“', '', 2), ('personal', '', 2), ('ethics', '', 2), ('agreement', '', 2), ('concerning', '', 2), ('university', '', 2), ('assignments', '', 2), ('”', '', 2), (',', '', 2), ('signed', '', 2), ('by', '', 2), ('all', '', 2), ('\\n', '', 2), ('team', '', 2), ('members', '', 2), ('.', '', 2), (' \\n', '', 2), ('project', '', 2), ('deliverables', '', 2), ('are', '', 2), ('evaluated', '', 2), ('using', '', 2), ('a', '', 2), ('rubric', '', 2), ('scheme', '', 2), ('(', '', 2), ('posted', '', 2), ('on', '', 2), ('brightspace', '', 2), (')', '', 2), ('.', '', 2), (' \\n', '', 2), ('midterm', 'EXAM', 3), ('quiz', 'EXAM', 1), (':', '', 2), ('this', '', 2), ('quiz', '', 2), ('shall', '', 2), ('given', '', 2), ('in', '', 2), ('brigthspace', '', 2), ('and', '', 2), ('contain', '', 2), ('questions', '', 2), ('on', '', 2), ('fundamentals', '', 2), ('of', '', 2), ('real', '', 2), ('time', '', 2), ('systems', '', 2), ('topics', '', 2), ('\\n', '', 2), ('studied', '', 2), ('in', '', 2), ('the', '', 2), ('first', '', 2), ('part', '', 2), ('of', '', 2), ('the', '', 2), ('course', '', 2), ('.', '', 2), ('the', '', 2), ('midterm', '', 2), ('exam', '', 2), ('is', '', 2), ('scheduled', '', 2), ('on', '', 2), ('sunday', '', 2), (',', '', 2), ('march', '', 2), ('5', '', 2), ('between', '', 2), ('1', '', 2), ('0h00', '', 2), ('and', '', 2), ('1', '', 2), ('1h30', '', 2), ('.', '', 2), ('\\n', '', 2), ('final', 'EXAM', 3), ('exam', 'EXAM', 1), (':', '', 2), ('this', '', 2), ('exam', '', 2), ('will', '', 2), ('be', '', 2), ('op', '', 2), ('en', '', 2), ('book', '', 2), ('.', '', 2), ('it', '', 2), ('will', '', 2), ('consist', '', 2), ('of', '', 2), ('an', '', 2), ('analysis', '', 2), (' ', '', 2), ('and', '', 2), ('design', '', 2), ('exercise', '', 2), ('of', '', 2), (' ', '', 2), ('a', '', 2), ('real', '', 2), ('time', '', 2), ('embedded', '', 2), ('system', '', 2), (' \\n', '', 2), ('using', '', 2), ('the', '', 2), ('software', '', 2), ('tools', '', 2), ('(', '', 2), ('e.g.', '', 2), ('real', '', 2), ('-time', '', 2), ('os', '', 2), (')', '', 2), (',', '', 2), ('hardware', '', 2), (',', '', 2), ('and', '', 2), ('design', '', 2), ('methods', '', 2), ('applied', '', 2), ('during', '', 2), ('the', '', 2), ('term', '', 2), ('project', '', 2), ('.', '', 2), ('the', '', 2), ('university', '', 2), ('\\n', '', 2), ('will', '', 2), ('release', '', 2), ('the', '', 2), ('time', '', 2), ('and', '', 2), ('date', '', 2), ('of', '', 2), ('the', '', 2), ('final', '', 2), ('exam', '', 2), ('during', '', 2), ('the', '', 2), ('semester', '', 2), (' \\n', '', 2), ('12', '', 2), ('–', '', 2), ('in', '', 2), ('-', '', 2), ('class', '', 2), ('expectations', '', 2), (' \\n', '', 2), ('be', '', 2), ('prepared', '', 2), ('before', '', 2), ('class', '', 2), ('.', '', 2), ('an', '', 2), ('active', '', 2), ('participation', '', 2), (',', '', 2), ('both', '', 2), ('individual', '', 2), ('and', '', 2), ('especially', '', 2), ('as', '', 2), ('a', '', 2), ('team', '', 2), (',', '', 2), ('is', '', 2), ('expected', '', 2), ('.', '', 2), (' ', '', 2), ('arrive', '', 2), ('in', '', 2), ('class', '', 2), ('wi', '', 2), ('th', '', 2), ('\\n', '', 2), ('questions', '', 2), ('to', '', 2), ('help', '', 2), ('advance', '', 2), ('the', '', 2), ('work', '', 2), ('in', '', 2), ('the', '', 2), ('project', '', 2), ('.', '', 2), (' \\n', '', 2), ('13', '', 2), ('–', '', 2), ('grading', '', 2), ('s', '', 2), ('cheme', '', 2), (' \\n  \\n', '', 2), ('project', '', 2), (' ', '', 2), ('50', '', 2), ('%', '', 2), (' \\n', '', 2), ('mid', '', 2), ('-', '', 2), ('term', '', 2), ('exam', '', 2), (' ', '', 2), ('15', '', 2), ('%', '', 2), (' \\n', '', 2), ('final', '', 2), ('exam', '', 2), (' ', '', 2), ('35', '', 2), ('%', '', 2), (' \\n  \\n  ', '', 2), ('4/9', '', 2), ('14', '', 2), ('–', '', 2), ('passing', '', 2), ('grade', '', 2), (' \\n', '', 2), ('the', '', 2), ('passing', '', 2), ('grade', '', 2), ('for', '', 2), ('this', '', 2), ('course', '', 2), ('is', '', 2), ('55', '', 2), ('%', '', 2), ('(', '', 2), ('d+', '', 2), (')', '', 2), ('.', '', 2), (' \\n', '', 2), ('15', '', 2), ('–', '', 2), ('attendance', '', 2), ('and', '', 2), ('classroom', '', 2), ('etiquette', '', 2), (' \\n', '', 2), ('\\uf0a7', '', 2), ('attendance', '', 2), ('at', '', 2), ('lectures', '', 2), (',', '', 2), ('labs', '', 2), (' ', '', 2), ('and', '', 2), ('tutorials', '', 2), ('is', '', 2), ('mandatory', '', 2), ('.', '', 2), ('as', '', 2), ('per', '', 2), ('academic', '', 2), ('regulations', '', 2), (',', '', 2), ('students', '', 2), ('who', '', 2), ('do', '', 2), ('not', '', 2), ('attend', '', 2), ('\\n', '', 2), ('80', '', 2), ('%', '', 2), ('of', '', 2), ('these', '', 2), (' ', '', 2), ('class', '', 2), ('activities', '', 2), ('will', '', 2), ('not', '', 2), ('be', '', 2), ('allowed', '', 2), ('to', '', 2), ('write', '', 2), ('the', '', 2), ('final', '', 2), ('examination', '', 2), ('.', '', 2), ('  \\n', '', 2), ('\\uf0a7', '', 2), ('time', '', 2), ('spend', '', 2), ('on', '', 2), ('all', '', 2), ('course', '', 2), ('activities', '', 2), ('shall', '', 2), ('be', '', 2), ('reported', '', 2), ('via', '', 2), ('a', '', 2), ('project', '', 2), ('management', '', 2), ('software', '', 2), ('.', '', 2), (' \\n', '', 2), ('\\uf0a7', '', 2), ('cell', '', 2), ('-', '', 2), ('phones', '', 2), (' ', '', 2), ('should', '', 2), ('be', '', 2), ('turned', '', 2), ('to', '', 2), ('silent', '', 2), ('.', '', 2), (' \\n', '', 2), ('16', '', 2), ('–', '', 2), ('reminders', '', 2), (' \\n', '', 2), ('\\uf0a7', '', 2), ('all', '', 2), ('components', '', 2), ('of', '', 2), ('the', '', 2), ('course', '', 2), ('(', '', 2), ('i.e.', '', 2), (',', '', 2), ('laboratory', '', 2), ('reports', '', 2), (',', '', 2), ('assignments', '', 2), (',', '', 2), ('etc', '', 2), ('.', '', 2), (')', '', 2), ('must', '', 2), ('be', '', 2), ('fulfilled', '', 2), (';', '', 2), ('otherwise', '', 2), (',', '', 2), (' ', '', 2), ('students', '', 2), ('may', '', 2), ('\\n', '', 2), ('receive', '', 2), ('an', '', 2), ('inc', '', 2), ('as', '', 2), ('a', '', 2), ('final', '', 2), ('mark', '', 2), ('(', '', 2), ('equivalent', '', 2), ('to', '', 2), ('an', '', 2), ('f', '', 2), (')', '', 2), ('.', '', 2), ('this', '', 2), ('is', '', 2), ('also', '', 2), ('valid', '', 2), ('for', '', 2), ('a', '', 2), ('student', '', 2), ('who', '', 2), ('is', '', 2), ('taking', '', 2), ('the', '', 2), ('course', '', 2), ('for', '', 2), ('the', '', 2), ('\\n', '', 2), ('second', '', 2), ('time', '', 2), ('.', '', 2), ('\\n', '', 2), ('\\uf0a7', '', 2), ('information', '', 2), ('on', '', 2), ('academic', '', 2), ('fraud', '', 2), ('can', '', 2), ('be', '', 2), ('found', '', 2), ('at', '', 2), ('the', '', 2), ('following', '', 2), ('link', '', 2), (':', '', 2), ('\\n', '', 2), ('https://www.uottawa.ca/about', '', 2), ('-us', '', 2), ('/', '', 2), ('policies', '', 2), ('-regulations', '', 2), ('/', '', 2), ('academic', '', 2), ('-regulation', '', 2), ('-i-14', '', 2), ('-', '', 2), ('academic', '', 2), ('-fraud', '', 2), ('  \\n', '', 2), ('students', '', 2), ('are', '', 2), ('to', '', 2), ('become', '', 2), ('familiar', '', 2), ('with', '', 2), ('the', '', 2), ('faculty', '', 2), ('of', '', 2), ('engineering', '', 2), ('rules', '', 2), ('and', '', 2), ('regulations', '', 2), (';', '', 2), ('you', '', 2), ('may', '', 2), ('refer', '', 2), ('to', '', 2), ('them', '', 2), ('if', '', 2), ('you', '', 2), ('\\n', '', 2), ('happen', '', 2), ('to', '', 2), ('miss', '', 2), ('an', '', 2), ('exam', '', 2), ('.', '', 2), (' ', '', 2), ('these', '', 2), ('are', '', 2), ('within', '', 2), ('the', '', 2), ('university', '', 2), ('of', '', 2), ('ottawa', '', 2), ('’s', '', 2), ('regulations', '', 2), ('sections', '', 2), ('9.4', '', 2), (',', '', 2), ('9.5', '', 2), (',', '', 2), ('9.6', '', 2), (',', '', 2), ('14.2', '', 2), ('and', '', 2), ('\\n', '', 2), ('14.3', '', 2), (',', '', 2), ('which', '', 2), (' ', '', 2), ('define', '', 2), ('conduct', '', 2), ('during', '', 2), ('an', '', 2), ('examination', '', 2), (',', '', 2), ('academic', '', 2), ('fraud', '', 2), (',', '', 2), ('the', '', 2), ('sanctions', '', 2), ('and', '', 2), ('the', '', 2), ('decision', '', 2), ('and', '', 2), ('appeal', '', 2), ('\\n', '', 2), ('processes', '', 2), (':', '', 2), (' ', '', 2), ('https://www.uottawa.ca/about', '', 2), ('-us', '', 2), ('/', '', 2), ('policies', '', 2), ('-regulations', '', 2), ('/', '', 2), ('academic', '', 2), ('-regulation', '', 2), ('-i-9', '', 2), ('-', '', 2), ('evalu', '', 2), ('ation', '', 2), ('-student', '', 2), ('-', '', 2), ('\\n', '', 2), ('learning', '', 2), ('  \\n', '', 2), ('\\uf0a7', '', 2), ('students', '', 2), ('are', '', 2), ('to', '', 2), ('familiarize', '', 2), ('themselves', '', 2), ('with', '', 2), ('the', '', 2), ('university', '', 2), ('of', '', 2), ('ottawa', '', 2), ('’s', '', 2), ('policy', '', 2), ('on', '', 2), ('plagiarism', '', 2), ('\\n', '', 2), ('https://www.uottawa.ca/current', '', 2), ('-students', '', 2), ('/', '', 2), ('academic', '', 2), ('-integrity', '', 2), ('.', '', 2), ('this', '', 2), ('policy', '', 2), ('will', '', 2), ('be', '', 2), ('strictly', '', 2), ('enforced', '', 2), ('in', '', 2), ('this', '', 2), ('course', '', 2), ('.', '', 2), (' \\n', '', 2), ('\\uf0a7', '', 2), ('important', '', 2), ('dates', '', 2), ('and', '', 2), ('deadlines', '', 2), ('for', '', 2), ('the', '', 2), ('academic', '', 2), ('year', '', 2), ('can', '', 2), ('be', '', 2), ('found', '', 2), ('at', '', 2), ('the', '', 2), ('following', '', 2), ('link', '', 2), (':', '', 2), ('\\n', '', 2), ('https://www.uottawa.ca/important', '', 2), ('-academic', '', 2), ('-dates', '', 2), ('-and', '', 2), ('-', '', 2), ('deadlines/', '', 2), ('.', '', 2), (' \\n', '', 2), ('\\uf0a7', '', 2), ('several', '', 2), ('resources', '', 2), ('from', '', 2), ('the', '', 2), ('faculty', '', 2), ('of', '', 2), ('engineering', '', 2), ('can', '', 2), ('be', '', 2), ('found', '', 2), ('at', '', 2), ('the', '', 2), ('following', '', 2), ('link', '', 2), (':', '', 2), (' \\n', '', 2), ('https://www.uottawa', '', 2), ('.', '', 2), ('ca', '', 2), ('/', '', 2), ('en', '', 2), ('/', '', 2), ('students', '', 2), (' \\n', '', 2), ('\\uf0a7', '', 2), ('if', '', 2), ('necessary', '', 2), (',', '', 2), ('the', '', 2), ('instructor', '', 2), ('will', '', 2), ('contact', '', 2), ('students', '', 2), ('through', '', 2), ('their', '', 2), ('official', '', 2), ('university', '', 2), ('of', '', 2), ('ottawa', '', 2), ('’s', '', 2), ('e', '', 2), ('-mail', '', 2), ('address', '', 2), ('\\n', '', 2), ('(', '', 2), ('username@uottawa.ca', '', 2), (')', '', 2), ('.', '', 2), ('if', '', 2), ('you', '', 2), ('are', '', 2), ('using', '', 2), ('a', '', 2), ('personal', '', 2), ('e', '', 2), ('-mail', '', 2), ('address', '', 2), (',', '', 2), ('please', '', 2), ('go', '', 2), ('to', '', 2), ('the', '', 2), ('university', '', 2), ('mail', '', 2), ('management', '', 2), ('\\n', '', 2), ('web', '', 2), ('site', '', 2), ('to', '', 2), ('set', '', 2), ('a', '', 2), ('forwarding', '', 2), ('address', '', 2), ('(', '', 2), ('https://www.uottawa.ca/about', '', 2), ('-us', '', 2), ('/', '', 2), ('information', '', 2), ('-', '', 2), ('\\n', '', 2), ('technology', '', 2), ('/', '', 2), ('services', '', 2), ('/', '', 2), ('account', '', 2), ('/', '', 2), ('email', '', 2), (' ', '', 2), (')', '', 2), ('.', '', 2), ('you', '', 2), ('are', '', 2), ('responsible', '', 2), ('for', '', 2), ('ensuring', '', 2), ('you', '', 2), ('are', '', 2), ('receiving', '', 2), ('official', '', 2), ('course', '', 2), ('informat', '', 2), ('ion', '', 2), ('\\n', '', 2), ('in', '', 2), ('an', '', 2), ('efficient', '', 2), ('and', '', 2), ('timely', '', 2), ('manner', '', 2), ('.', '', 2), (' \\n   \\n  ', '', 2), ('5/9', '', 2), ('17', '', 2), ('–', '', 2), ('topics', '', 2), (' ', '', 2), ('and', '', 2), ('tentative', '', 2), ('schedule†', '', 2), ('\\n \\n', '', 2), ('the', '', 2), ('above', '', 2), (' ', '', 2), ('schedule', '', 2), ('is', '', 2), ('available', '', 2), ('on', '', 2), ('brightspace', '', 2), ('.', '', 2), (' \\n', '', 2), ('18', '', 2), ('–', '', 2), ('other', '', 2), ('information', '', 2), (' \\n', '', 2), ('\\uf0a7', '', 2), ('the', '', 2), ('university', '', 2), ('of', '', 2), ('ottawa', '', 2), ('provides', '', 2), (',', '', 2), ('upon', '', 2), ('request', '', 2), (',', '', 2), ('appropriate', '', 2), ('academic', '', 2), ('adjustments', '', 2), ('for', '', 2), ('students', '', 2), ('who', '', 2), ('have', '', 2), ('\\n', '', 2), ('learning', '', 2), ('disabilities', '', 2), (',', '', 2), ('health', '', 2), (',', '', 2), ('psychiatric', '', 2), ('or', '', 2), ('physical', '', 2), ('conditions', '', 2), ('.', '', 2), ('for', '', 2), ('more', '', 2), ('information', '', 2), (',', '', 2), ('please', '', 2), ('contact', '', 2), ('access', '', 2), ('\\n', '', 2), ('service', '', 2), ('(', '', 2), ('http://www.sass.uottawa.ca/access/', '', 2), (')', '', 2), ('.', '', 2), ('the', '', 2), ('student', '', 2), ('academic', '', 2), ('success', '', 2), ('service', '', 2), ('provides', '', 2), ('many', '', 2), ('more', '', 2), ('\\n', '', 2), ('services', '', 2), ('to', '', 2), ('help', '', 2), ('you', '', 2), ('succeed', '', 2), ('(', '', 2), ('http://www.sass.uottawa.ca/about/our', '', 2), ('-services.php', '', 2), (')', '', 2), ('.', '', 2), ('\\n \\n  \\n                                                 \\n', '', 2), ('†', '', 2), ('exact', '', 2), ('content', '', 2), ('and', '', 2), ('dates', '', 2), ('may', '', 2), ('vary', '', 2), ('from', '', 2), ('this', '', 2), ('list', '', 2), (':', '', 2), ('refer', '', 2), ('to', '', 2), ('course', '', 2), ('website', '', 2), ('for', '', 2), ('notifications', '', 2), (' \\n \\n  ', '', 2), ('6/9', '', 2), ('19', '', 2), ('–', '', 2), ('graduate', '', 2), ('a', '', 2), ('ttributes', '', 2), ('a', '', 2), ('ssessment', '', 2), ('  \\n', '', 2), ('.', '', 2), ('1', '', 2), (' ', '', 2), ('a', '', 2), ('knowledge', '', 2), ('base', '', 2), ('for', '', 2), ('engineering', '', 2), (':', '', 2), ('demonstrated', '', 2), ('competence', '', 2), ('in', '', 2), ('university', '', 2), ('level', '', 2), ('mathematics', '', 2), (',', '', 2), ('natural', '', 2), ('sciences', '', 2), (',', '', 2), ('engineering', '', 2), ('\\n', '', 2), ('fundamentals', '', 2), (',', '', 2), ('and', '', 2), ('specialized', '', 2), ('engineering', '', 2), ('knowledge', '', 2), ('appropriate', '', 2), ('to', '', 2), ('the', '', 2), ('program', '', 2), ('.', '', 2), (' \\n', '', 2), ('1.1', '', 2), ('will', '', 2), ('be', '', 2), ('able', '', 2), ('to', '', 2), ('describe', '', 2), ('the', '', 2), ('main', '', 2), ('characteristics', '', 2), ('of', '', 2), ('a', '', 2), ('real', '', 2), ('-time', '', 2), ('embedded', '', 2), ('system', '', 2), (' \\n', '', 2), ('.', '', 2), ('2', '', 2), (' ', '', 2), ('problem', '', 2), ('analysis', '', 2), (':', '', 2), ('an', '', 2), ('ability', '', 2), ('to', '', 2), ('use', '', 2), ('appropriate', '', 2), ('knowledge', '', 2), ('and', '', 2), ('skills', '', 2), ('to', '', 2), ('identify', '', 2), (',', '', 2), ('formulate', '', 2), (',', '', 2), ('analyze', '', 2), (',', '', 2), ('and', '', 2), ('solve', '', 2), ('complex', '', 2), ('engineering', '', 2), ('\\n', '', 2), ('problems', '', 2), ('in', '', 2), ('order', '', 2), ('to', '', 2), ('reach', '', 2), ('substantiated', '', 2), ('conclusions', '', 2), (' \\n', '', 2), ('2.1', '', 2), ('will', '', 2), ('have', '', 2), ('further', '', 2), ('developed', '', 2), ('independent', '', 2), ('study', '', 2), ('skills', '', 2), ('to', '', 2), ('master', '', 2), ('the', '', 2), ('hardware', '', 2), ('and', '', 2), ('software', '', 2), ('building', '', 2), ('blocks', '', 2), ('of', '', 2), ('real', '', 2), ('-time', '', 2), ('embedde', '', 2), ('d', '', 2), ('\\n', '', 2), ('systems', '', 2), (' \\n', '', 2), ('.', '', 2), ('3', '', 2), (' ', '', 2), ('investigation', '', 2), (':', '', 2), ('an', '', 2), ('ability', '', 2), ('to', '', 2), ('conduct', '', 2), ('investigations', '', 2), ('of', '', 2), ('complex', '', 2), ('problems', '', 2), ('by', '', 2), ('methods', '', 2), ('that', '', 2), ('include', '', 2), ('appropriate', '', 2), ('experiments', '', 2), (',', '', 2), ('analysis', '', 2), ('and', '', 2), ('\\n', '', 2), ('interpretation', '', 2), ('of', '', 2), ('data', '', 2), (',', '', 2), ('and', '', 2), ('synthesis', '', 2), ('of', '', 2), ('information', '', 2), ('in', '', 2), ('o', '', 2), ('rder', '', 2), ('to', '', 2), ('reach', '', 2), ('valid', '', 2), ('conclusions', '', 2), (' \\n', '', 2), ('3.1', '', 2), ('will', '', 2), ('have', '', 2), ('tested', '', 2), (' ', '', 2), ('and', '', 2), ('analyzed', '', 2), ('a', '', 2), ('real', '', 2), ('-time', '', 2), ('system', '', 2), ('as', '', 2), ('well', '', 2), ('as', '', 2), ('its', '', 2), ('performance', '', 2), (' \\n', '', 2), ('.', '', 2), ('4', '', 2), (' ', '', 2), ('design', '', 2), (':', '', 2), ('an', '', 2), ('ability', '', 2), ('to', '', 2), ('design', '', 2), ('solutions', '', 2), ('for', '', 2), ('complex', '', 2), (',', '', 2), ('open', '', 2), ('-ended', '', 2), ('engineering', '', 2), ('problems', '', 2), ('and', '', 2), ('to', '', 2), ('design', '', 2), ('systems', '', 2), (',', '', 2), ('components', '', 2), ('or', '', 2), ('processes', '', 2), ('\\n', '', 2), ('that', '', 2), ('meet', '', 2), ('specified', '', 2), ('needs', '', 2), ('with', '', 2), ('appropriate', '', 2), ('attention', '', 2), ('to', '', 2), ('health', '', 2), (' ', '', 2), ('and', '', 2), ('safety', '', 2), ('risks', '', 2), (',', '', 2), ('applicable', '', 2), ('standards', '', 2), (',', '', 2), ('and', '', 2), ('economic', '', 2), (',', '', 2), ('environmental', '', 2), (',', '', 2), ('\\n', '', 2), ('cultural', '', 2), ('and', '', 2), ('societal', '', 2), ('considerations', '', 2), ('.', '', 2), (' \\n', '', 2), ('4.1', '', 2), ('will', '', 2), ('be', '', 2), ('able', '', 2), ('to', '', 2), ('integrate', '', 2), ('hardware', '', 2), ('components', '', 2), ('into', '', 2), ('the', '', 2), ('design', '', 2), ('of', '', 2), (' ', '', 2), ('real', '', 2), ('-', '', 2), ('time', '', 2), ('embedded', '', 2), ('systems', '', 2), (' \\n', '', 2), ('4.2', '', 2), ('will', '', 2), ('be', '', 2), ('able', '', 2), ('to', '', 2), ('and', '', 2), ('have', '', 2), ('applied', '', 2), ('various', '', 2), ('task', '', 2), ('sc', '', 2), ('heduling', '', 2), ('methods', '', 2), ('into', '', 2), ('the', '', 2), ('design', '', 2), ('of', '', 2), ('real', '', 2), ('-time', '', 2), ('embedded', '', 2), ('systems', '', 2), (' \\n', '', 2), ('4.3', '', 2), ('will', '', 2), ('have', '', 2), ('contributed', '', 2), ('to', '', 2), ('the', '', 2), ('various', '', 2), ('designs', '', 2), ('and', '', 2), ('design', '', 2), ('documentation', '', 2), ('created', '', 2), ('to', '', 2), ('meet', '', 2), ('given', '', 2), ('requirements', '', 2), ('during', '', 2), ('team', '', 2), ('-based', '', 2), ('\\n', '', 2), ('embedded', '', 2), ('system', '', 2), ('development', '', 2), ('project', '', 2), (' \\n', '', 2), ('.', '', 2), ('5', '', 2), (' ', '', 2), ('use', '', 2), ('of', '', 2), ('engineering', '', 2), ('tools', '', 2), (':', '', 2), ('an', '', 2), ('ability', '', 2), ('to', '', 2), ('create', '', 2), (',', '', 2), ('select', '', 2), (',', '', 2), ('apply', '', 2), (',', '', 2), ('adapt', '', 2), (',', '', 2), ('and', '', 2), ('extend', '', 2), ('appropriate', '', 2), ('techniques', '', 2), (',', '', 2), ('resources', '', 2), (',', '', 2), ('and', '', 2), ('modern', '', 2), ('\\n', '', 2), ('engineering', '', 2), ('tools', '', 2), ('to', '', 2), ('a', '', 2), ('range', '', 2), ('of', '', 2), ('engineering', '', 2), ('activities', '', 2), (',', '', 2), ('from', '', 2), ('simple', '', 2), ('to', '', 2), ('complex', '', 2), (',', '', 2), ('with', '', 2), ('an', '', 2), ('understanding', '', 2), ('of', '', 2), ('the', '', 2), ('associated', '', 2), ('limit', '', 2), ('ations', '', 2), ('.', '', 2), (' \\n', '', 2), ('5.1', '', 2), ('will', '', 2), ('have', '', 2), ('gained', '', 2), ('s', '', 2), ('kills', '', 2), ('in', '', 2), ('utilizing', '', 2), ('a', '', 2), ('real', '', 2), ('-time', '', 2), ('operating', '', 2), ('system', '', 2), ('and', '', 2), ('software', '', 2), ('development', '', 2), ('tools', '', 2), ('to', '', 2), ('developing', '', 2), ('real', '', 2), ('-time', '', 2), ('embedded', '', 2), ('\\n', '', 2), ('system', '', 2), ('products', '', 2), (' \\n', '', 2), ('5.2', '', 2), ('will', '', 2), ('have', '', 2), ('contributed', '', 2), ('to', '', 2), ('the', '', 2), ('implementation', '', 2), (' ', '', 2), ('and', '', 2), ('testing', '', 2), (' ', '', 2), ('of', '', 2), ('a', '', 2), ('real', '', 2), ('-time', '', 2), ('embedded', '', 2), ('system', '', 2), ('from', '', 2), ('documented', '', 2), ('designs', '', 2), (' \\n', '', 2), ('.', '', 2), ('6', '', 2), (' ', '', 2), ('individual', '', 2), (' ', '', 2), ('and', '', 2), ('team', '', 2), ('work', '', 2), (':', '', 2), ('an', '', 2), ('ability', '', 2), ('to', '', 2), ('work', '', 2), ('effectively', '', 2), ('as', '', 2), ('a', '', 2), ('member', '', 2), ('and', '', 2), ('leader', '', 2), ('in', '', 2), ('teams', '', 2), (',', '', 2), ('preferably', '', 2), ('in', '', 2), ('a', '', 2), ('multi', '', 2), ('-disciplinary', '', 2), ('setting', '', 2), ('.', '', 2), (' \\n', '', 2), ('6.1', '', 2), ('will', '', 2), ('have', '', 2), (' ', '', 2), ('worked', '', 2), ('successfully', '', 2), ('in', '', 2), ('a', '', 2), ('team', '', 2), ('-based', '', 2), ('real', '', 2), ('-time', '', 2), ('embedded', '', 2), ('systems', '', 2), ('development', '', 2), ('project', '', 2), (' \\n', '', 2), ('.', '', 2), ('7', '', 2), (' ', '', 2), ('communication', '', 2), ('skills', '', 2), (':', '', 2), ('an', '', 2), ('ability', '', 2), ('to', '', 2), ('communicate', '', 2), ('complex', '', 2), ('engineering', '', 2), ('concepts', '', 2), ('within', '', 2), ('the', '', 2), ('profession', '', 2), ('and', '', 2), ('with', '', 2), ('society', '', 2), ('.', '', 2), ('such', '', 2), ('ability', '', 2), ('\\n', '', 2), ('includes', '', 2), ('reading', '', 2), (',', '', 2), ('writing', '', 2), (',', '', 2), ('speaking', '', 2), ('and', '', 2), ('listening', '', 2), (',', '', 2), ('and', '', 2), ('the', '', 2), ('ability', '', 2), ('to', '', 2), ('comprehend', '', 2), ('and', '', 2), ('write', '', 2), ('effective', '', 2), ('reports', '', 2), ('and', '', 2), ('design', '', 2), ('docum', '', 2), ('entation', '', 2), (',', '', 2), ('\\n', '', 2), ('and', '', 2), ('to', '', 2), ('give', '', 2), ('a', '', 2), ('nd', '', 2), ('effectively', '', 2), ('respond', '', 2), ('to', '', 2), ('clear', '', 2), ('instructions', '', 2), ('.', '', 2), (' \\n', '', 2), ('7.1', '', 2), ('will', '', 2), ('have', '', 2), ('contributed', '', 2), ('to', '', 2), ('the', '', 2), ('various', '', 2), ('designs', '', 2), ('and', '', 2), ('design', '', 2), ('documentation', '', 2), ('created', '', 2), ('to', '', 2), ('meet', '', 2), ('given', '', 2), ('requirements', '', 2), ('during', '', 2), ('team', '', 2), ('-based', '', 2), ('\\n', '', 2), ('embedded', '', 2), ('system', '', 2), ('development', '', 2), ('project', '', 2), (' \\n', '', 2), ('7.2', '', 2), ('will', '', 2), ('have', '', 2), ('evaluated', '', 2), ('real', '', 2), ('embedded', '', 2), ('systems', '', 2), ('r', '', 2), ('equirements', '', 2), ('documents', '', 2), (' \\n', '', 2), ('7.3', '', 2), ('will', '', 2), ('have', '', 2), ('worked', '', 2), ('as', '', 2), ('a', '', 2), ('team', '', 2), ('and', '', 2), ('with', '', 2), ('the', '', 2), ('teaching', '', 2), ('assistants', '', 2), ('to', '', 2), ('communicate', '', 2), ('their', '', 2), ('progress', '', 2), ('through', '', 2), ('regular', '', 2), ('weekly', '', 2), ('discussions', '', 2), ('\\n', '', 2), ('(', '', 2), ('scrums', '', 2), (')', '', 2), ('and', '', 2), ('online', '', 2), ('task', '', 2), ('tracking', '', 2), ('tool', '', 2), (',', '', 2), ('thereby', '', 2), ('further', '', 2), ('enhancing', '', 2), ('their', '', 2), ('communication', '', 2), ('skills', '', 2), (' \\n', '', 2), ('.', '', 2), ('8', '', 2), (' ', '', 2), ('professio', '', 2), ('nalism', '', 2), (':', '', 2), ('an', '', 2), ('understanding', '', 2), ('of', '', 2), ('the', '', 2), ('roles', '', 2), ('and', '', 2), ('responsibilities', '', 2), ('of', '', 2), ('the', '', 2), ('professional', '', 2), ('engineer', '', 2), ('in', '', 2), ('society', '', 2), (',', '', 2), ('especially', '', 2), ('the', '', 2), ('primary', '', 2), ('role', '', 2), ('of', '', 2), ('\\n', '', 2), ('protection', '', 2), ('of', '', 2), ('the', '', 2), ('public', '', 2), ('and', '', 2), ('the', '', 2), ('public', '', 2), ('interest', '', 2), ('.', '', 2), (' \\n', '', 2), ('8.1', '', 2), ('will', '', 2), ('demonstrate', '', 2), ('a', '', 2), ('responsible', '', 2), ('and', '', 2), ('professional', '', 2), ('attitude', '', 2), ('as', '', 2), ('a', '', 2), ('team', '', 2), ('memb', '', 2), ('er', '', 2), ('or', '', 2), ('team', '', 2), ('leader', '', 2), ('during', '', 2), ('the', '', 2), ('real', '', 2), ('time', '', 2), ('embedded', '', 2), ('systems', '', 2), ('\\n', '', 2), ('project', '', 2), (' \\n', '', 2), ('.', '', 2), ('9', '', 2), (' ', '', 2), ('impact', '', 2), ('of', '', 2), ('engineering', '', 2), ('on', '', 2), ('society', '', 2), ('and', '', 2), ('the', '', 2), ('environment', '', 2), (':', '', 2), ('an', '', 2), ('ability', '', 2), ('to', '', 2), ('analyze', '', 2), ('social', '', 2), ('and', '', 2), ('environmental', '', 2), ('aspects', '', 2), ('of', '', 2), ('engineering', '', 2), ('activities', '', 2), ('.', '', 2), ('\\n', '', 2), ('such', '', 2), ('ability', '', 2), ('includes', '', 2), ('an', '', 2), ('understanding', '', 2), ('of', '', 2), ('the', '', 2), ('interac', '', 2), ('tions', '', 2), ('that', '', 2), ('engineering', '', 2), ('has', '', 2), ('with', '', 2), ('the', '', 2), ('economic', '', 2), (',', '', 2), ('social', '', 2), (',', '', 2), ('health', '', 2), (',', '', 2), ('safety', '', 2), (',', '', 2), ('legal', '', 2), (',', '', 2), ('and', '', 2), ('\\n', '', 2), ('cultural', '', 2), ('aspects', '', 2), ('of', '', 2), ('society', '', 2), (',', '', 2), ('the', '', 2), ('uncertainties', '', 2), ('in', '', 2), ('the', '', 2), ('prediction', '', 2), ('of', '', 2), ('such', '', 2), ('interactions', '', 2), (';', '', 2), ('and', '', 2), ('the', '', 2), ('concepts', '', 2), ('of', '', 2), ('sustainable', '', 2), ('design', '', 2), (' ', '', 2), ('and', '', 2), ('\\n', '', 2), ('development', '', 2), ('and', '', 2), ('environmental', '', 2), ('stewardship', '', 2), ('.', '', 2), (' \\n', '', 2), ('.', '', 2), ('10', '', 2), ('ethics', '', 2), ('and', '', 2), ('equity', '', 2), (':', '', 2), ('an', '', 2), ('ability', '', 2), ('to', '', 2), ('apply', '', 2), ('professional', '', 2), ('ethics', '', 2), (',', '', 2), ('accountability', '', 2), (',', '', 2), ('and', '', 2), ('equity', '', 2), ('.', '', 2), (' \\n', '', 2), ('.', '', 2), ('11', '', 2), ('economics', '', 2), ('and', '', 2), ('project', '', 2), ('management', '', 2), (':', '', 2), ('an', '', 2), ('ability', '', 2), ('to', '', 2), ('appropriately', '', 2), ('incorporate', '', 2), ('economics', '', 2), ('and', '', 2), ('business', '', 2), ('practices', '', 2), ('including', '', 2), ('project', '', 2), (',', '', 2), ('risk', '', 2), (',', '', 2), ('\\n', '', 2), ('and', '', 2), ('change', '', 2), ('management', '', 2), ('into', '', 2), ('the', '', 2), ('p', '', 2), ('ractice', '', 2), ('of', '', 2), ('engineering', '', 2), ('and', '', 2), ('to', '', 2), ('understand', '', 2), ('their', '', 2), ('limitations', '', 2), ('.', '', 2), (' \\n', '', 2), ('11.1', '', 2), ('will', '', 2), ('have', '', 2), ('applied', '', 2), ('an', '', 2), ('iterative', '', 2), ('and', '', 2), ('agile', '', 2), ('development', '', 2), ('process', '', 2), ('(', '', 2), ('scrum', '', 2), (')', '', 2), ('to', '', 2), ('developing', '', 2), ('a', '', 2), ('number', '', 2), ('of', '', 2), ('real', '', 2), ('-time', '', 2), ('embedded', '', 2), ('system', '', 2), ('\\n', '', 2), ('products', '', 2), (' \\n', '', 2), ('.', '', 2), ('12', '', 2), ('life', '', 2), ('-', '', 2), ('long', '', 2), ('learning', '', 2), (':', '', 2), ('an', '', 2), ('ability', '', 2), ('to', '', 2), ('identify', '', 2), ('and', '', 2), ('to', '', 2), ('address', '', 2), ('their', '', 2), ('own', '', 2), ('educational', '', 2), ('needs', '', 2), ('in', '', 2), ('a', '', 2), ('changing', '', 2), ('world', '', 2), ('in', '', 2), ('ways', '', 2), ('sufficient', '', 2), ('to', '', 2), ('maintain', '', 2), ('\\n', '', 2), ('their', '', 2), ('competence', '', 2), ('and', '', 2), ('to', '', 2), ('allow', '', 2), ('them', '', 2), ('to', '', 2), ('contribute', '', 2), ('to', '', 2), ('the', '', 2), ('advancement', '', 2), ('of', '', 2), ('knowledge', '', 2), ('.', '', 2), (' \\n \\n   \\n  ', '', 2), ('7/9', '', 2), ('20', '', 2), ('-', '', 2), ('personnal', '', 2), ('ethics', '', 2), ('agreement', '', 2), ('concerning', '', 2), ('university', '', 2), ('\\n', '', 2), ('assignments', '', 2), ('/projects', '', 2), (' \\n \\n', '', 2), ('see', '', 2), ('following', '', 2), ('pages', '', 2), (' \\n   \\n  ', '', 2), ('8/9', '', 2), (' \\n \\n', '', 2), ('personal', '', 2), ('ethics', '', 2), ('agreement', '', 2), ('concerning', '', 2), ('university', '', 2), ('assignments', '', 2), (' \\n \\n', '', 2), ('individual', '', 2), ('assignment', '', 2), (' \\n \\n \\n', '', 2), ('i', '', 2), ('submit', '', 2), ('this', '', 2), ('assignment', '', 2), ('and', '', 2), ('attest', '', 2), ('that', '', 2), ('i', '', 2), ('have', '', 2), ('applied', '', 2), ('all', '', 2), ('the', '', 2), ('appropriate', '', 2), ('rules', '', 2), ('of', '', 2), ('quotation', '', 2), ('and', '', 2), ('referencing', '', 2), ('in', '', 2), ('use', '', 2), ('\\n', '', 2), ('at', '', 2), ('the', '', 2), ('university', '', 2), ('of', '', 2), ('ottawa', '', 2), (',', '', 2), ('https://www.uottawa.ca/current', '', 2), ('-students', '', 2), ('/', '', 2), ('academic', '', 2), ('-integrity', '', 2), ('.', '', 2), ('i', '', 2), ('attest', '', 2), ('that', '', 2), ('this', '', 2), ('work', '', 2), ('\\n', '', 2), ('conforms', '', 2), ('to', '', 2), ('t', '', 2), ('he', '', 2), ('regulations', '', 2), ('on', '', 2), ('academic', '', 2), ('integrity', '', 2), ('of', '', 2), ('the', '', 2), ('university', '', 2), ('of', '', 2), ('ottawa', '', 2), ('.', '', 2), (' \\n \\n \\n \\n', '', 2), ('_', '', 2), ('_', '', 2), ('_', '', 2), ('_', '', 2), ('_', '', 2), ('_', '', 2), ('_', '', 2), ('_', '', 2), ('_', '', 2), ('_', '', 2), ('_', '', 2), ('_', '', 2), ('_', '', 2), ('_', '', 2), ('_', '', 2), ('_', '', 2), ('_', '', 2), ('_', '', 2), ('_', '', 2), ('_', '', 2), ('_', '', 2), ('_', '', 2), ('_', '', 2), ('_', '', 2), ('_', '', 2), ('_', '', 2), ('_', '', 2), ('_', '', 2), ('_', '', 2), ('_', '', 2), ('_', '', 2), ('  ', '', 2), ('_', '', 2), ('_', '', 2), ('_', '', 2), ('_', '', 2), ('_', '', 2), ('_', '', 2), ('_', '', 2), ('_', '', 2), ('_', '', 2), ('_', '', 2), ('_', '', 2), ('_', '', 2), ('_', '', 2), ('_', '', 2), ('_', '', 2), ('_', '', 2), ('_', '', 2), (' \\n', '', 2), ('name', '', 2), (',', '', 2), ('capital', '', 2), ('letters', '', 2), ('    ', '', 2), ('student', '', 2), ('number', '', 2), (' \\n \\n \\n \\n', '', 2), ('_', '', 2), ('_', '', 2), ('_', '', 2), ('_', '', 2), ('_', '', 2), ('_', '', 2), ('_', '', 2), ('_', '', 2), ('_', '', 2), ('_', '', 2), ('_', '', 2), ('_', '', 2), ('_', '', 2), ('_', '', 2), ('_', '', 2), ('_', '', 2), ('_', '', 2), ('_', '', 2), ('_', '', 2), ('_', '', 2), ('_', '', 2), ('_', '', 2), ('_', '', 2), ('_', '', 2), ('_', '', 2), ('_', '', 2), ('_', '', 2), ('_', '', 2), ('_', '', 2), ('_', '', 2), ('_', '', 2), ('  ', '', 2), ('_', '', 2), ('_', '', 2), ('_', '', 2), ('_', '', 2), ('_', '', 2), ('_', '', 2), ('_', '', 2), ('_', '', 2), ('_', '', 2), ('_', '', 2), ('_', '', 2), ('_', '', 2), ('_', '', 2), ('_', '', 2), ('_', '', 2), ('_', '', 2), ('_', '', 2), (' \\n', '', 2), ('signature', '', 2), ('     ', '', 2), ('date', '', 2), (' \\n \\n   \\n  ', '', 2), ('9/9', '', 2), ('personal', '', 2), ('ethics', '', 2), ('agreement', '', 2), ('concerning', '', 2), ('university', '', 2), ('assignments', '', 2), (' \\n \\n', '', 2), ('group', '', 2), ('project', '', 2), (' \\n \\n', '', 2), ('we', '', 2), ('submit', '', 2), ('this', '', 2), ('assignment', '', 2), ('and', '', 2), ('attest', '', 2), ('that', '', 2), ('we', '', 2), ('have', '', 2), ('applied', '', 2), ('all', '', 2), ('the', '', 2), ('appropriate', '', 2), ('rules', '', 2), ('of', '', 2), ('quotation', '', 2), ('and', '', 2), ('referencing', '', 2), ('\\n', '', 2), ('in', '', 2), ('use', '', 2), ('at', '', 2), ('the', '', 2), ('university', '', 2), ('of', '', 2), ('ottawa', '', 2), (',', '', 2), ('https://www.uottawa.ca/current', '', 2), ('-students', '', 2), ('/', '', 2), ('academic', '', 2), ('-integrity', '', 2), ('.', '', 2), (' ', '', 2), ('we', '', 2), ('attest', '', 2), ('that', '', 2), ('this', '', 2), ('\\n', '', 2), ('work', '', 2), ('conforms', '', 2), ('to', '', 2), ('the', '', 2), ('regulations', '', 2), ('on', '', 2), ('academic', '', 2), ('integrity', '', 2), ('of', '', 2), ('the', '', 2), (' ', '', 2), ('university', '', 2), ('of', '', 2), ('ottawa', '', 2), ('.', '', 2), (' ', '', 2), ('we', '', 2), ('understand', '', 2), ('that', '', 2), ('this', '', 2), ('\\n', '', 2), ('assignment', '', 2), ('will', '', 2), ('not', '', 2), ('be', '', 2), ('accepted', '', 2), ('or', '', 2), ('graded', '', 2), ('if', '', 2), ('it', '', 2), ('is', '', 2), ('submitted', '', 2), ('without', '', 2), ('the', '', 2), ('signatures', '', 2), ('of', '', 2), ('all', '', 2), ('group', '', 2), ('members', '', 2), ('.', '', 2), (' \\n \\n \\n \\n', '', 2), ('_', '', 2), ('_', '', 2), ('_', '', 2), ('_', '', 2), ('_', '', 2), ('_', '', 2), ('_', '', 2), ('_', '', 2), ('_', '', 2), ('_', '', 2), ('_', '', 2), ('_', '', 2), ('_', '', 2), ('_', '', 2), ('_', '', 2), ('_', '', 2), ('_', '', 2), ('_', '', 2), ('_', '', 2), ('_', '', 2), ('_', '', 2), ('_', '', 2), ('_', '', 2), ('_', '', 2), ('_', '', 2), ('_', '', 2), ('_', '', 2), ('_', '', 2), ('_', '', 2), ('_', '', 2), ('_', '', 2), ('  ', '', 2), ('_', '', 2), ('_', '', 2), ('_', '', 2), ('_', '', 2), ('_', '', 2), ('_', '', 2), ('_', '', 2), ('_', '', 2), ('_', '', 2), ('_', '', 2), ('_', '', 2), ('_', '', 2), ('_', '', 2), ('_', '', 2), ('_', '', 2), ('_', '', 2), ('_', '', 2), (' \\n', '', 2), ('name', '', 2), (',', '', 2), ('capital', '', 2), ('letters', '', 2), ('    ', '', 2), ('student', '', 2), ('number', '', 2), (' \\n \\n \\n', '', 2), ('_', '', 2), ('_', '', 2), ('_', '', 2), ('_', '', 2), ('_', '', 2), ('_', '', 2), ('_', '', 2), ('_', '', 2), ('_', '', 2), ('_', '', 2), ('_', '', 2), ('_', '', 2), ('_', '', 2), ('_', '', 2), ('_', '', 2), ('_', '', 2), ('_', '', 2), ('_', '', 2), ('_', '', 2), ('_', '', 2), ('_', '', 2), ('_', '', 2), ('_', '', 2), ('_', '', 2), ('_', '', 2), ('_', '', 2), ('_', '', 2), ('_', '', 2), ('_', '', 2), ('_', '', 2), ('_', '', 2), ('  ', '', 2), ('_', '', 2), ('_', '', 2), ('_', '', 2), ('_', '', 2), ('_', '', 2), ('_', '', 2), ('_', '', 2), ('_', '', 2), ('_', '', 2), ('_', '', 2), ('_', '', 2), ('_', '', 2), ('_', '', 2), ('_', '', 2), ('_', '', 2), ('_', '', 2), ('_', '', 2), (' \\n', '', 2), ('signature', '', 2), ('     ', '', 2), ('date', '', 2), (' \\n \\n \\n', '', 2), ('_', '', 2), ('_', '', 2), ('_', '', 2), ('_', '', 2), ('_', '', 2), ('_', '', 2), ('_', '', 2), ('_', '', 2), ('_', '', 2), ('_', '', 2), ('_', '', 2), ('_', '', 2), ('_', '', 2), ('_', '', 2), ('_', '', 2), ('_', '', 2), ('_', '', 2), ('_', '', 2), ('_', '', 2), ('_', '', 2), ('_', '', 2), ('_', '', 2), ('_', '', 2), ('_', '', 2), ('_', '', 2), ('_', '', 2), ('_', '', 2), ('_', '', 2), ('_', '', 2), ('_', '', 2), ('_', '', 2), ('  ', '', 2), ('_', '', 2), ('_', '', 2), ('_', '', 2), ('_', '', 2), ('_', '', 2), ('_', '', 2), ('_', '', 2), ('_', '', 2), ('_', '', 2), ('_', '', 2), ('_', '', 2), ('_', '', 2), ('_', '', 2), ('_', '', 2), ('_', '', 2), ('_', '', 2), ('_', '', 2), (' \\n', '', 2), ('name', '', 2), (',', '', 2), ('capital', '', 2), ('letters', '', 2), ('    ', '', 2), ('student', '', 2), ('number', '', 2), (' \\n \\n \\n', '', 2), ('_', '', 2), ('_', '', 2), ('_', '', 2), ('_', '', 2), ('_', '', 2), ('_', '', 2), ('_', '', 2), ('_', '', 2), ('_', '', 2), ('_', '', 2), ('_', '', 2), ('_', '', 2), ('_', '', 2), ('_', '', 2), ('_', '', 2), ('_', '', 2), ('_', '', 2), ('_', '', 2), ('_', '', 2), ('_', '', 2), ('_', '', 2), ('_', '', 2), ('_', '', 2), ('_', '', 2), ('_', '', 2), ('_', '', 2), ('_', '', 2), ('_', '', 2), ('_', '', 2), ('_', '', 2), ('_', '', 2), ('  ', '', 2), ('_', '', 2), ('_', '', 2), ('_', '', 2), ('_', '', 2), ('_', '', 2), ('_', '', 2), ('_', '', 2), ('_', '', 2), ('_', '', 2), ('_', '', 2), ('_', '', 2), ('_', '', 2), ('_', '', 2), ('_', '', 2), ('_', '', 2), ('_', '', 2), ('_', '', 2), (' \\n', '', 2), ('signature', '', 2), ('     ', '', 2), ('date', '', 2), (' \\n \\n \\n', '', 2), ('_', '', 2), ('_', '', 2), ('_', '', 2), ('_', '', 2), ('_', '', 2), ('_', '', 2), ('_', '', 2), ('_', '', 2), ('_', '', 2), ('_', '', 2), ('_', '', 2), ('_', '', 2), ('_', '', 2), ('_', '', 2), ('_', '', 2), ('_', '', 2), ('_', '', 2), ('_', '', 2), ('_', '', 2), ('_', '', 2), ('_', '', 2), ('_', '', 2), ('_', '', 2), ('_', '', 2), ('_', '', 2), ('_', '', 2), ('_', '', 2), ('_', '', 2), ('_', '', 2), ('_', '', 2), ('_', '', 2), ('  ', '', 2), ('_', '', 2), ('_', '', 2), ('_', '', 2), ('_', '', 2), ('_', '', 2), ('_', '', 2), ('_', '', 2), ('_', '', 2), ('_', '', 2), ('_', '', 2), ('_', '', 2), ('_', '', 2), ('_', '', 2), ('_', '', 2), ('_', '', 2), ('_', '', 2), ('_', '', 2), (' \\n', '', 2), ('name', '', 2), (',', '', 2), ('capital', '', 2), ('letters', '', 2), ('    ', '', 2), ('student', '', 2), ('number', '', 2), (' \\n \\n \\n', '', 2), ('_', '', 2), ('_', '', 2), ('_', '', 2), ('_', '', 2), ('_', '', 2), ('_', '', 2), ('_', '', 2), ('_', '', 2), ('_', '', 2), ('_', '', 2), ('_', '', 2), ('_', '', 2), ('_', '', 2), ('_', '', 2), ('_', '', 2), ('_', '', 2), ('_', '', 2), ('_', '', 2), ('_', '', 2), ('_', '', 2), ('_', '', 2), ('_', '', 2), ('_', '', 2), ('_', '', 2), ('_', '', 2), ('_', '', 2), ('_', '', 2), ('_', '', 2), ('_', '', 2), ('_', '', 2), ('_', '', 2), ('  ', '', 2), ('_', '', 2), ('_', '', 2), ('_', '', 2), ('_', '', 2), ('_', '', 2), ('_', '', 2), ('_', '', 2), ('_', '', 2), ('_', '', 2), ('_', '', 2), ('_', '', 2), ('_', '', 2), ('_', '', 2), ('_', '', 2), ('_', '', 2), ('_', '', 2), ('_', '', 2), (' \\n', '', 2), ('signature', '', 2), ('     ', '', 2), ('date', '', 2), (' \\n \\n \\n', '', 2), ('_', '', 2), ('_', '', 2), ('_', '', 2), ('_', '', 2), ('_', '', 2), ('_', '', 2), ('_', '', 2), ('_', '', 2), ('_', '', 2), ('_', '', 2), ('_', '', 2), ('_', '', 2), ('_', '', 2), ('_', '', 2), ('_', '', 2), ('_', '', 2), ('_', '', 2), ('_', '', 2), ('_', '', 2), ('_', '', 2), ('_', '', 2), ('_', '', 2), ('_', '', 2), ('_', '', 2), ('_', '', 2), ('_', '', 2), ('_', '', 2), ('_', '', 2), ('_', '', 2), ('_', '', 2), ('_', '', 2), ('  ', '', 2), ('_', '', 2), ('_', '', 2), ('_', '', 2), ('_', '', 2), ('_', '', 2), ('_', '', 2), ('_', '', 2), ('_', '', 2), ('_', '', 2), ('_', '', 2), ('_', '', 2), ('_', '', 2), ('_', '', 2), ('_', '', 2), ('_', '', 2), ('_', '', 2), ('_', '', 2), (' \\n', '', 2), ('name', '', 2), (',', '', 2), ('capital', '', 2), ('letters', '', 2), ('    ', '', 2), ('student', '', 2), ('number', '', 2), (' \\n \\n \\n', '', 2), ('_', '', 2), ('_', '', 2), ('_', '', 2), ('_', '', 2), ('_', '', 2), ('_', '', 2), ('_', '', 2), ('_', '', 2), ('_', '', 2), ('_', '', 2), ('_', '', 2), ('_', '', 2), ('_', '', 2), ('_', '', 2), ('_', '', 2), ('_', '', 2), ('_', '', 2), ('_', '', 2), ('_', '', 2), ('_', '', 2), ('_', '', 2), ('_', '', 2), ('_', '', 2), ('_', '', 2), ('_', '', 2), ('_', '', 2), ('_', '', 2), ('_', '', 2), ('_', '', 2), ('_', '', 2), ('_', '', 2), ('  ', '', 2), ('_', '', 2), ('_', '', 2), ('_', '', 2), ('_', '', 2), ('_', '', 2), ('_', '', 2), ('_', '', 2), ('_', '', 2), ('_', '', 2), ('_', '', 2), ('_', '', 2), ('_', '', 2), ('_', '', 2), ('_', '', 2), ('_', '', 2), ('_', '', 2), ('_', '', 2), (' \\n', '', 2), ('signature', '', 2), ('     ', '', 2), ('date', '', 2), (' \\n \\n \\n', '', 2), ('_', '', 2), ('_', '', 2), ('_', '', 2), ('_', '', 2), ('_', '', 2), ('_', '', 2), ('_', '', 2), ('_', '', 2), ('_', '', 2), ('_', '', 2), ('_', '', 2), ('_', '', 2), ('_', '', 2), ('_', '', 2), ('_', '', 2), ('_', '', 2), ('_', '', 2), ('_', '', 2), ('_', '', 2), ('_', '', 2), ('_', '', 2), ('_', '', 2), ('_', '', 2), ('_', '', 2), ('_', '', 2), ('_', '', 2), ('_', '', 2), ('_', '', 2), ('_', '', 2), ('_', '', 2), ('_', '', 2), ('  ', '', 2), ('_', '', 2), ('_', '', 2), ('_', '', 2), ('_', '', 2), ('_', '', 2), ('_', '', 2), ('_', '', 2), ('_', '', 2), ('_', '', 2), ('_', '', 2), ('_', '', 2), ('_', '', 2), ('_', '', 2), ('_', '', 2), ('_', '', 2), ('_', '', 2), ('_', '', 2), (' \\n', '', 2), ('name', '', 2), (',', '', 2), ('capital', '', 2), ('letters', '', 2), ('    ', '', 2), ('student', '', 2), ('number', '', 2), (' \\n \\n \\n', '', 2), ('_', '', 2), ('_', '', 2), ('_', '', 2), ('_', '', 2), ('_', '', 2), ('_', '', 2), ('_', '', 2), ('_', '', 2), ('_', '', 2), ('_', '', 2), ('_', '', 2), ('_', '', 2), ('_', '', 2), ('_', '', 2), ('_', '', 2), ('_', '', 2), ('_', '', 2), ('_', '', 2), ('_', '', 2), ('_', '', 2), ('_', '', 2), ('_', '', 2), ('_', '', 2), ('_', '', 2), ('_', '', 2), ('_', '', 2), ('_', '', 2), ('_', '', 2), ('_', '', 2), ('_', '', 2), ('_', '', 2), ('  ', '', 2), ('_', '', 2), ('_', '', 2), ('_', '', 2), ('_', '', 2), ('_', '', 2), ('_', '', 2), ('_', '', 2), ('_', '', 2), ('_', '', 2), ('_', '', 2), ('_', '', 2), ('_', '', 2), ('_', '', 2), ('_', '', 2), ('_', '', 2), ('_', '', 2), ('_', '', 2), (' \\n', '', 2), ('signature', '', 2), ('     ', '', 2), ('date', '', 2), (' \\n \\n ', '', 2)]\n",
      "Entities [('labs', 'DELIVERABLE'), ('midterm 1', 'EXAM'), ('midterm 2', 'EXAM'), ('final exam', 'EXAM')]\n",
      "Tokens [('1', '', 2), ('\\n ', '', 2), ('ceg3185', '', 2), ('a', '', 2), ('–', '', 2), ('winter', '', 2), ('2023', '', 2), (' \\n', '', 2), ('introduction', '', 2), ('to', '', 2), ('data', '', 2), ('communication', '', 2), ('&', '', 2), ('networking', '', 2), (' \\n \\n', '', 2), ('instructor', '', 2), (':', '', 2), (' ', '', 2), ('prof', '', 2), ('.', '', 2), ('dimitrios', '', 2), ('makrakis', '', 2), (',', '', 2), ('phd', '', 2), (',', '', 2), ('p.eng', '', 2), ('.', '', 2), ('\\n ', '', 2), ('office', '', 2), (':', '', 2), ('cby', '', 2), ('519', '', 2), (',', '', 2), ('e', '', 2), ('-', '', 2), ('mail', '', 2), (':', '', 2), ('dmakraki@uottawa.ca', '', 2), (';', '', 2), (' \\n \\n \\n', '', 2), ('lectures', '', 2), ('and', '', 2), ('tutorials', '', 2), (':', '', 2), (' ', '', 2), ('in', '', 2), ('person', '', 2), ('or', '', 2), ('online', '', 2), (',', '', 2), ('depending', '', 2), ('on', '', 2), ('the', '', 2), ('conditions', '', 2), ('with', '', 2), ('covid-19', '', 2), ('\\n \\n', '', 2), ('consultation', '', 2), (':', '', 2), (' ', '', 2), ('through', '', 2), ('email', '', 2), ('.', '', 2), ('when', '', 2), ('in', '', 2), ('person', '', 2), ('or', '', 2), ('on', '', 2), ('-', '', 2), ('line', '', 2), ('meeting', '', 2), ('is', '', 2), ('needed', '', 2), (',', '', 2), ('it', '', 2), ('will', '', 2), ('be', '', 2), ('arranged', '', 2), ('.', '', 2), ('\\n  \\n', '', 2), ('labs', 'DELIVERABLE', 3), (':', '', 2), (' ', '', 2), ('mondays', '', 2), (',', '', 2), ('13:00', '', 2), ('–', '', 2), ('14:20', '', 2), ('(', '', 2), ('cby', '', 2), ('b402', '', 2), (',', '', 2), ('161', '', 2), ('louis', '', 2), ('pasteur', '', 2), (')', '', 2), ('\\n ', '', 2), ('tuesdays', '', 2), (',', '', 2), ('14.30', '', 2), ('–', '', 2), ('15:50', '', 2), ('(', '', 2), ('cby', '', 2), ('b402', '', 2), (',', '', 2), ('161', '', 2), ('louis', '', 2), ('pasteur', '', 2), (')', '', 2), ('\\n ', '', 2), ('thursdays', '', 2), (',', '', 2), ('11.30', '', 2), ('–', '', 2), ('12:50', '', 2), ('(', '', 2), ('cby', '', 2), ('b402', '', 2), (',', '', 2), ('161', '', 2), ('louis', '', 2), ('pasteur', '', 2), (')', '', 2), ('\\n ', '', 2), ('fridays', '', 2), (',', '', 2), ('17.30', '', 2), ('–', '', 2), ('18:50', '', 2), ('(', '', 2), ('cby', '', 2), ('b402', '', 2), (',', '', 2), ('161', '', 2), ('louis', '', 2), ('pasteur', '', 2), (')', '', 2), ('  \\n', '', 2), ('references', '', 2), (' \\n', '', 2), ('1', '', 2), (':', '', 2), ('w.', '', 2), ('stallings', '', 2), (',', '', 2), ('“', '', 2), ('data', '', 2), ('and', '', 2), ('computer', '', 2), ('communications', '', 2), ('”', '', 2), (',', '', 2), ('pearson', '', 2), ('prentice', '', 2), ('hall', '', 2), ('\\n', '', 2), ('2', '', 2), (':', '', 2), ('tanenbaum', '', 2), (',', '', 2), ('“', '', 2), ('computer', '', 2), ('networ', '', 2), ('ks', '', 2), ('”', '', 2), (',', '', 2), ('pearson', '', 2), ('prentice', '', 2), ('hall', '', 2), ('.', '', 2), ('\\n', '', 2), ('3', '', 2), (':', '', 2), ('j.', '', 2), ('walrand', '', 2), (',', '', 2), ('“', '', 2), ('communications', '', 2), ('networ', '', 2), ('ks', '', 2), (':', '', 2), ('a', '', 2), ('first', '', 2), ('course', '', 2), ('”', '', 2), (',', '', 2), ('r.d', '', 2), ('.', '', 2), ('irwin', '', 2), ('inc', '', 2), ('.', '', 2), ('\\n', '', 2), ('4', '', 2), (':', '', 2), ('d.', '', 2), ('comer', '', 2), (',', '', 2), ('“', '', 2), ('internetworking', '', 2), ('with', '', 2), ('tcp', '', 2), ('/', '', 2), ('ip', '', 2), (',', '', 2), ('vol', '', 2), ('.', '', 2), ('i', '', 2), (':', '', 2), ('principles', '', 2), (',', '', 2), ('protocols', '', 2), ('and', '', 2), ('architecture', '', 2), (',', '', 2), ('pearson', '', 2), ('    ', '', 2), ('prentice', '', 2), ('-', '', 2), ('hall', '', 2), ('.', '', 2), ('5', '', 2), (':', '', 2), ('a.', '', 2), ('leon', '', 2), ('-', '', 2), ('garcia', '', 2), ('&', '', 2), ('i.', '', 2), ('widjaja', '', 2), (',', '', 2), ('“', '', 2), ('communication', '', 2), ('ne', '', 2), ('tworks', '', 2), (':', '', 2), ('fundamental', '', 2), ('concepts', '', 2), ('and', '', 2), ('key', '', 2), ('      \\n    ', '', 2), ('architectures', '', 2), ('”', '', 2), (',', '', 2), ('mcgraw', '', 2), ('-', '', 2), ('hill', '', 2), ('.', '', 2), ('\\n ', '', 2), ('marking', '', 2), ('scheme', '', 2), ('labs', '', 2), ('10', '', 2), ('%', '', 2), (' ', '', 2), ('midterm', 'EXAM', 3), ('1', 'EXAM', 1), ('   ', '', 2), ('20', '', 2), ('%', '', 2), (' ', '', 2), ('midterm', 'EXAM', 3), ('2', 'EXAM', 1), ('20', '', 2), ('%', '', 2), (' ', '', 2), ('final', 'EXAM', 3), ('exam', 'EXAM', 1), (':', '', 2), ('    ', '', 2), ('50', '', 2), ('%', '', 2), ('\\n \\n', '', 2), ('labs', '', 2), ('.', '', 2), ('labs', '', 2), ('will', '', 2), ('be', '', 2), ('in', '', 2), ('-', '', 2), ('person', '', 2), ('.', '', 2), ('the', '', 2), ('lab', '', 2), ('reports', '', 2), ('are', '', 2), ('due', '', 2), ('1', '', 2), ('week', '', 2), ('after', '', 2), ('the', '', 2), ('lab', '', 2), ('takes', '', 2), ('place', '', 2), ('.', '', 2), (' \\n ', '', 2), ('tutorials', '', 2), (':', '', 2), (' ', '', 2), ('students', '', 2), ('will', '', 2), ('be', '', 2), ('provided', '', 2), ('with', '', 2), ('problems', '', 2), ('to', '', 2), ('be', '', 2), ('discussed', '', 2), (' ', '', 2), ('in', '', 2), ('tutorials', '', 2), (',', '', 2), ('in', '', 2), ('advance', '', 2), (',', '', 2), ('so', '', 2), ('that', '', 2), ('they', '', 2), ('try', '', 2), ('\\n', '', 2), ('themselves', '', 2), ('to', '', 2), ('solve', '', 2), ('them', '', 2), ('before', '', 2), (' ', '', 2), ('attending', '', 2), ('the', '', 2), ('tutorial', '', 2), ('session', '', 2), ('.', '', 2), (' \\n \\n', '', 2), ('mid', '', 2), ('-', '', 2), ('term', '', 2), ('exams', '', 2), ('-', '', 2), ('closed', '', 2), ('book', '', 2), ('   ', '', 2), ('dates', '', 2), (':', '', 2), (' ', '', 2), ('tbd', '', 2), ('\\n ', '', 2), ('final', '', 2), ('exam', '', 2), ('-', '', 2), ('closed', '', 2), ('book', '', 2), ('   ', '', 2), ('date', '', 2), (':', '', 2), ('unknown', '', 2), ('(', '', 2), ('on', '', 2), ('-', '', 2), ('line', '', 2), (')', '', 2), (' \\n ', '', 2), ('course', '', 2), ('description', '', 2), ('\\n', '', 2), ('overview', '', 2), ('of', '', 2), ('computer', '', 2), ('networking', '', 2), ('.', '', 2), ('communication', '', 2), ('and', '', 2), ('transmission', '', 2), ('systems', '', 2), ('.', '', 2), ('physical', '', 2), ('layer', '', 2), ('issues', '', 2), (':', '', 2), ('signal', '', 2), ('\\n', '', 2), ('analysis', '', 2), (',', '', 2), ('impairments', '', 2), (',', '', 2), ('analog', '', 2), ('and', '', 2), ('digital', '', 2), ('data', '', 2), ('tran', '', 2), ('smission', '', 2), (',', '', 2), ('channel', '', 2), ('capacity', '', 2), (',', '', 2), ('signal', '', 2), ('encoding', '', 2), ('.', '', 2), ('data', '', 2), ('link', '', 2), ('\\n', '', 2), ('layer', '', 2), (':', '', 2), ('framing', '', 2), (',', '', 2), ('error', '', 2), ('control', '', 2), (',', '', 2), ('flow', '', 2), ('control', '', 2), (',', '', 2), ('line', '', 2), ('conf', '', 2), ('igurations', '', 2), (',', '', 2), ('bridging', '', 2), (',', '', 2), ('protocols', '', 2), (',', '', 2), ('introduction', '', 2), ('to', '', 2), ('lans', '', 2), ('.', '', 2), ('\\n', '', 2), ('network', '', 2), ('layer', '', 2), (':', '', 2), (' ', '', 2), ('circuit', '', 2), ('and', '', 2), ('packet', '', 2), ('switching', '', 2), (';', '', 2), ('intern', '', 2), ('et', '', 2), ('protocols', '', 2), (';', '', 2), ('internet', '', 2), ('architectures', '', 2), (';', '', 2), ('flow', '', 2), ('/', '', 2), ('congestion', '', 2), ('\\n', '', 2), ('control', '', 2), ('and', '', 2), ('routing', '', 2), ('algorithms', '', 2), ('and', '', 2), ('protocols', '', 2), ('.', '', 2), ('\\n \\n', '', 2), ('prerequisite', '', 2), (':', '', 2), (' ', '', 2), ('mat2377', '', 2), ('(', '', 2), ('probability', '', 2), ('and', '', 2), ('statistics', '', 2), ('for', '', 2), ('engineers', '', 2), (')', '', 2), ('or', '', 2), ('corequisite', '', 2), ('elg3126', '', 2), ('\\n', '', 2), ('(', '', 2), ('random', '', 2), ('signals', '', 2), ('and', '', 2), ('systems', '', 2), (')', '', 2), ('.', '', 2), ('\\n \\n', '', 2), ('note', '', 2), (':', '', 2), (' ', '', 2), ('(', '', 2), ('1', '', 2), (')', '', 2), ('problems', '', 2), ('for', '', 2), ('exercising', '', 2), ('will', '', 2), ('be', '', 2), ('provided', '', 2), ('to', '', 2), ('the', '', 2), ('students', '', 2), ('but', '', 2), ('will', '', 2), ('not', '', 2), ('be', '', 2), ('marked', '', 2), ('.', '', 2), ('all', '', 2), ('\\n', '', 2), ('marked', '', 2), ('material', '', 2), ('will', '', 2), ('be', '', 2), ('based', '', 2), ('on', '', 2), ('in', '', 2), ('-', '', 2), ('class', '', 2), ('written', '', 2), ('exams', '', 2), ('.', '', 2), ('this', '', 2), ('reduces', '', 2), ('the', '', 2), ('probability', '', 2), ('of', '', 2), ('plagiarism', '', 2), ('.', '', 2), ('(', '', 2), ('2', '', 2), (')', '', 2), ('the', '', 2), ('current', '', 2), ('plan', '', 2), ('is', '', 2), ('to', '', 2), ('have', '', 2), ('the', '', 2), ('exams', '', 2), ('in', '', 2), ('-', '', 2), ('class', '', 2), ('.', '', 2), ('(', '', 2), ('3', '', 2), (')', '', 2), ('should', '', 2), ('conditions', '', 2), ('require', '', 2), ('to', '', 2), ('\\n', '', 2), ('have', '', 2), ('them', '', 2), ('changed', '', 2), ('and', '', 2), ('happen', '', 2), ('online', '', 2), (',', '', 2), ('they', '', 2), ('will', '', 2), ('be', '', 2), ('contacted', '', 2), ('using', '', 2), ('brightspace', '', 2), ('.', '', 2), ('in', '', 2), ('such', '', 2), ('case', '', 2), (',', '', 2), ('they', '', 2), ('will', '', 2), ('be', '', 2), ('supervised', '', 2), ('online', '', 2), (',', '', 2), ('using', '', 2), ('zoom', '', 2), ('and/or', '', 2), ('re', '', 2), ('spondus', '', 2), ('monitor', '', 2), ('.', '', 2), ('every', '', 2), ('student', '', 2), ('must', '', 2), ('always', '', 2), ('have', '', 2), ('\\n', '', 2), ('his', '', 2), ('/', '', 2), ('her', '', 2), ('camera', '', 2), ('active', '', 2), ('during', '', 2), ('the', '', 2), ('examination', '', 2), ('period', '', 2), ('.', '', 2), ('if', '', 2), ('the', '', 2), ('stude', '', 2), ('nt', '', 2), ('needs', '', 2), ('to', '', 2), ('walk', '', 2), ('away', '', 2), ('for', '', 2), ('2', '', 2), ('\\n ', '', 2), ('“', '', 2), ('nature', '', 2), ('’s', '', 2), ('needs', '', 2), ('”', '', 2), (',', '', 2), ('s', '', 2), ('/', '', 2), ('he', '', 2), ('must', '', 2), ('notify', '', 2), ('the', '', 2), ('proctoring', '', 2), ('team', '', 2), ('that', '', 2), ('s', '', 2), ('/', '', 2), ('he', '', 2), ('is', '', 2), ('going', '', 2), ('to', '', 2), ('be', '', 2), ('away', '', 2), ('.', '', 2), ('please', '', 2), ('note', '', 2), ('\\n', '', 2), ('that', '', 2), ('s', '', 2), ('/', '', 2), ('he', '', 2), ('can', '', 2), ('not', '', 2), ('remain', '', 2), ('absent', '', 2), ('from', '', 2), ('the', '', 2), ('camera', '', 2), ('’s', '', 2), ('view', '', 2), ('for', '', 2), ('more', '', 2), ('than', '', 2), ('10', '', 2), ('mi', '', 2), ('nutes', '', 2), ('in', '', 2), ('total', '', 2), ('over', '', 2), ('the', '', 2), ('\\n', '', 2), ('examination', '', 2), ('period', '', 2), ('.', '', 2), ('(', '', 2), ('4', '', 2), (')', '', 2), ('should', '', 2), ('an', '', 2), ('exam', '', 2), ('be', '', 2), ('conduc', '', 2), ('ted', '', 2), ('through', '', 2), ('brightspace', '', 2), (',', '', 2), ('only', '', 2), ('the', '', 2), ('device', '', 2), ('used', '', 2), ('\\n', '', 2), ('to', '', 2), ('connect', '', 2), ('to', '', 2), ('brightspace', '', 2), ('(', '', 2), ('to', '', 2), ('take', '', 2), ('the', '', 2), ('exam', '', 2), (')', '', 2), ('is', '', 2), ('a', '', 2), ('llowed', '', 2), ('to', '', 2), ('be', '', 2), ('in', '', 2), ('the', '', 2), ('proximity', '', 2), ('of', '', 2), ('the', '', 2), ('student', '', 2), (';', '', 2), ('all', '', 2), ('\\n', '', 2), ('other', '', 2), ('electronic', '', 2), ('devices', '', 2), (',', '', 2), ('includi', '', 2), ('ng', '', 2), ('smartphones', '', 2), (',', '', 2), ('tablets', '', 2), ('etc', '', 2), ('.', '', 2), ('have', '', 2), ('to', '', 2), ('be', '', 2), ('far', '', 2), ('from', '', 2), ('the', '', 2), ('student', '', 2), ('and', '', 2), ('\\n', '', 2), ('have', '', 2), ('to', '', 2), ('be', '', 2), ('switched', '', 2), ('off', '', 2), ('.', '', 2), (' ', '', 2), ('also', '', 2), ('books', '', 2), (',', '', 2), ('notes', '', 2), ('etc', '', 2), ('.', '', 2), ('ca', '', 2), ('nnot', '', 2), ('be', '', 2), ('close', '', 2), ('to', '', 2), ('the', '', 2), ('student', '', 2), ('.', '', 2), ('(', '', 2), ('5', '', 2), (')', '', 2), ('the', '', 2), ('student', '', 2), ('can', '', 2), ('\\n', '', 2), ('communicate', '', 2), ('only', '', 2), ('with', '', 2), ('the', '', 2), ('proctoring', '', 2), ('pe', '', 2), ('rsonnel', '', 2), ('during', '', 2), ('the', '', 2), ('examinat', '', 2), ('ion', '', 2), ('time', '', 2), ('.', '', 2), ('communication', '', 2), ('\\n', '', 2), ('with', '', 2), ('any', '', 2), ('other', '', 2), ('person', '', 2), ('during', '', 2), ('the', '', 2), ('examination', '', 2), ('period', '', 2), ('is', '', 2), ('not', '', 2), ('allowed', '', 2), ('.', '', 2), ('if', '', 2), ('it', '', 2), ('happens', '', 2), (',', '', 2), ('it', '', 2), ('will', '', 2), ('be', '', 2), ('considered', '', 2), ('as', '', 2), ('attempt', '', 2), ('to', '', 2), ('plagia', '', 2), ('rize', '', 2), ('and', '', 2), ('the', '', 2), ('process', '', 2), ('for', '', 2), ('breach', '', 2), ('of', '', 2), (' ', '', 2), ('academic', '', 2), ('integrity', '', 2), ('will', '', 2), ('be', '', 2), ('\\n', '', 2), ('initiated', '', 2), ('.', '', 2), ('(', '', 2), ('6', '', 2), (')', '', 2), ('if', '', 2), ('an', '', 2), ('exam', '', 2), ('does', '', 2), ('not', '', 2), ('take', '', 2), ('place', '', 2), ('in', '', 2), ('-', '', 2), ('cla', '', 2), ('ss', '', 2), (',', '', 2), ('a', '', 2), ('student', '', 2), ('writing', '', 2), ('the', '', 2), ('exam', '', 2), ('must', '', 2), ('be', '', 2), ('alone', '', 2), ('in', '', 2), ('\\n', '', 2), ('the', '', 2), ('physical', '', 2), ('space', '', 2), ('s', '', 2), ('/', '', 2), ('he', '', 2), ('is', '', 2), ('writing', '', 2), ('th', '', 2), ('e', '', 2), ('exam', '', 2), ('.', '', 2), ('(', '', 2), ('7', '', 2), (')', '', 2), ('plagiarism', '', 2), ('detection', '', 2), ('tools', '', 2), ('will', '', 2), ('be', '', 2), ('used', '', 2), (' ', '', 2), ('to', '', 2), ('identify', '', 2), ('\\n', '', 2), ('plagiarism', '', 2), ('.', '', 2), ('if', '', 2), ('plagiarism', '', 2), ('is', '', 2), ('identified', '', 2), (',', '', 2), ('the', '', 2), ('stud', '', 2), ('ent', '', 2), ('will', '', 2), ('be', '', 2), ('reported', '', 2), ('to', '', 2), ('the', '', 2), ('administration', '', 2), ('and', '', 2), ('a', '', 2), ('\\n', '', 2), ('formal', '', 2), ('investigation', '', 2), (',', '', 2), ('which', '', 2), ('might', '', 2), ('lead', '', 2), ('to', '', 2), ('expulsion', '', 2), (',', '', 2), ('will', '', 2), ('be', '', 2), ('initi', '', 2), ('alized', '', 2), ('.', '', 2), ('(', '', 2), ('8)', '', 2), ('every', '', 2), ('student', '', 2), ('taking', '', 2), ('\\n', '', 2), ('an', '', 2), ('examination', '', 2), ('will', '', 2), ('have', '', 2), ('to', '', 2), ('upload', '', 2), ('at', '', 2), ('the', '', 2), ('beginning', '', 2), ('of', '', 2), ('the', '', 2), ('course', '', 2), ('to', '', 2), ('brightspace', '', 2), ('a', '', 2), ('signed', '', 2), ('\\n', '', 2), ('academic', '', 2), ('integrity', '', 2), ('statement', '', 2), ('form', '', 2), ('.', '', 2), ('if', '', 2), ('such', '', 2), ('form', '', 2), ('is', '', 2), ('not', '', 2), ('uploaded', '', 2), (',', '', 2), ('the', '', 2), ('student', '', 2), ('will', '', 2), ('not', '', 2), ('be', '', 2), ('allowed', '', 2), ('\\n', '', 2), ('to', '', 2), ('take', '', 2), ('the', '', 2), ('exam', '', 2), (',', '', 2), ('ort', '', 2), ('if', '', 2), ('it', '', 2), ('is', '', 2), ('ta', '', 2), ('ken', '', 2), ('accidentally', '', 2), (',', '', 2), ('the', '', 2), ('exam', '', 2), ('will', '', 2), ('not', '', 2), ('be', '', 2), (' ', '', 2), ('marked', '', 2), ('and', '', 2), ('will', '', 2), ('receive', '', 2), ('failure', '', 2), ('\\n', '', 2), ('grade', '', 2), ('.', '', 2), ('(', '', 2), ('9', '', 2), (')', '', 2), ('in', '', 2), ('order', '', 2), ('to', '', 2), ('pass', '', 2), ('the', '', 2), ('c', '', 2), ('ourse', '', 2), (',', '', 2), ('you', '', 2), ('need', '', 2), ('to', '', 2), ('receive', '', 2), ('at', '', 2), ('least', '', 2), ('50', '', 2), ('%', '', 2), ('average', '', 2), ('in', '', 2), ('the', '', 2), ('lab', '', 2), ('exercises', '', 2), ('.', '', 2), ('\\n \\n', '', 2), ('course', '', 2), ('delivery', '', 2), ('schedule', '', 2), ('(', '', 2), ('chapters', '', 2), ('refer', '', 2), ('to', '', 2), ('william', '', 2), ('stallings', '', 2), (',', '', 2), ('10th', '', 2), ('addition', '', 2), (')', '', 2), ('\\n ', '', 2), ('1', '', 2), ('.', '', 2), ('data', '', 2), ('transmission', '', 2), ('(', '', 2), ('chapter', '', 2), ('3', '', 2), (')', '', 2), ('1', '', 2), ('week', '', 2), (' \\n', '', 2), ('concepts', '', 2), ('and', '', 2), ('terminology', '', 2), (',', '', 2), ('introduction', '', 2), ('to', '', 2), ('four', '', 2), ('ier', '', 2), ('transform', '', 2), ('and', '', 2), ('signal', '', 2), ('analysis', '', 2), (',', '', 2), ('analog', '', 2), ('and', '', 2), ('\\n', '', 2), ('digital', '', 2), ('data', '', 2), ('transmission', '', 2), (',', '', 2), ('transmis', '', 2), ('sion', '', 2), ('impairments', '', 2), (',', '', 2), ('channel', '', 2), ('capacity', '', 2), ('.', '', 2), (' \\n \\n', '', 2), ('2', '', 2), ('.', '', 2), ('transmission', '', 2), ('media', '', 2), ('(', '', 2), ('chapter', '', 2), ('4', '', 2), (')', '', 2), ('0.5', '', 2), ('week', '', 2), (' \\n', '', 2), ('guided', '', 2), ('transmission', '', 2), ('media', '', 2), (',', '', 2), ('wireless', '', 2), ('transmissi', '', 2), ('on', '', 2), ('and', '', 2), ('propagation', '', 2), (',', '', 2), ('line', '', 2), ('-', '', 2), ('of', '', 2), ('-', '', 2), ('sight', '', 2), ('transmission', '', 2), ('.', '', 2), (' \\n ', '', 2), ('3', '', 2), ('.', '', 2), ('signal', '', 2), ('encoding', '', 2), ('techniques', '', 2), ('(', '', 2), ('chapter', '', 2), ('5', '', 2), (')', '', 2), ('1', '', 2), ('week', '', 2), (' \\n', '', 2), ('digital', '', 2), ('data', '', 2), ('to', '', 2), ('digital', '', 2), ('signals', '', 2), (',', '', 2), ('digital', '', 2), ('data', '', 2), ('to', '', 2), ('analog', '', 2), ('signals', '', 2), (',', '', 2), ('analog', '', 2), ('data', '', 2), ('to', '', 2), ('digital', '', 2), ('signals', '', 2), (',', '', 2), ('analog', '', 2), ('\\n', '', 2), ('data', '', 2), ('to', '', 2), ('analog', '', 2), ('signals', '', 2), ('.', '', 2), (' \\n ', '', 2), ('4', '', 2), ('.', '', 2), ('multiplexing', '', 2), ('(', '', 2), ('chapter', '', 2), ('8)', '', 2), ('0.5', '', 2), ('week', '', 2), (' \\n', '', 2), ('frequency', '', 2), ('division', '', 2), ('multiplexing', '', 2), (',', '', 2), ('synchronous', '', 2), ('time', '', 2), ('division', '', 2), ('multiplexing', '', 2), (',', '', 2), ('statistical', '', 2), ('time', '', 2), ('division', '', 2), ('\\n', '', 2), ('multiplexing', '', 2), (',', '', 2), ('spread', '', 2), ('spectrum', '', 2), ('(', '', 2), ('freque', '', 2), ('ncy', '', 2), ('hopping', '', 2), (',', '', 2), ('direct', '', 2), ('sequence', '', 2), (')', '', 2), ('.', '', 2), (' \\n \\n', '', 2), ('5', '', 2), ('.', '', 2), ('digital', '', 2), ('data', '', 2), ('communication', '', 2), ('techniques', '', 2), ('(', '', 2), ('chapter', '', 2), ('6', '', 2), (')', '', 2), ('1', '', 2), ('week', '', 2), (' \\n', '', 2), ('asynchronous', '', 2), ('and', '', 2), ('synchronous', '', 2), ('transmi', '', 2), ('ssion', '', 2), (',', '', 2), ('type', '', 2), ('of', '', 2), ('errors', '', 2), (',', '', 2), ('error', '', 2), ('detection', '', 2), (',', '', 2), ('error', '', 2), ('correction', '', 2), (',', '', 2), ('line', '', 2), ('\\n', '', 2), ('configuration', '', 2), (',', '', 2), ('interfacing', '', 2), ('.', '', 2), ('  ', '', 2), ('6', '', 2), ('.', '', 2), ('data', '', 2), ('link', '', 2), ('control', '', 2), ('(', '', 2), ('chapter', '', 2), ('7', '', 2), (')', '', 2), ('1', '', 2), ('week', '', 2), (' \\n', '', 2), ('flow', '', 2), ('control', '', 2), (',', '', 2), ('error', '', 2), ('control', '', 2), (',', '', 2), ('hdlc', '', 2), ('.', '', 2), (' \\n ', '', 2), ('7', '', 2), ('.', '', 2), ('data', '', 2), ('communications', '', 2), ('and', '', 2), ('ne', '', 2), ('tworking', '', 2), ('(', '', 2), ('chapters', '', 2), ('1', '', 2), (',', '', 2), ('2', '', 2), (')', '', 2), ('0.5', '', 2), ('week', '', 2), (' \\n', '', 2), ('communications', '', 2), ('model', '', 2), (',', '', 2), ('data', '', 2), ('communications', '', 2), (',', '', 2), ('data', '', 2), ('communica', '', 2), ('tion', '', 2), ('networking', '', 2), (',', '', 2), ('protocol', '', 2), ('\\n', '', 2), ('architecture', '', 2), (',', '', 2), ('osi', '', 2), ('protocol', '', 2), ('architecture', '', 2), (',', '', 2), ('tcp', '', 2), ('/', '', 2), ('ip', '', 2), ('protocol', '', 2), ('architecture', '', 2), ('.', '', 2), ('\\n \\n', '', 2), ('8', '', 2), ('.', '', 2), ('local', '', 2), ('area', '', 2), ('network', '', 2), ('overview', '', 2), (',', '', 2), ('high', '', 2), ('-', '', 2), ('speed', '', 2), ('lans', '', 2), (',', '', 2), ('wireless', '', 2), ('lans', '', 2), ('(', '', 2), ('chapters', '', 2), ('11', '', 2), (',', '', 2), ('12', '', 2), (',', '', 2), ('13', '', 2), (')', '', 2), ('1.5', '', 2), ('\\n', '', 2), ('weeks', '', 2), (' \\n', '', 2), ('topologies', '', 2), ('and', '', 2), ('transmission', '', 2), ('media', '', 2), (',', '', 2), ('lan', '', 2), ('protocol', '', 2), (' ', '', 2), ('architecture', '', 2), (',', '', 2), ('bridges', '', 2), (',', '', 2), ('switches', '', 2), ('.', '', 2), ('ethernet', '', 2), (',', '', 2), ('\\n', '', 2), ('token', '', 2), ('ring', '', 2), (',', '', 2), ('fiber', '', 2), ('channel', '', 2), ('.', '', 2), ('  \\n', '', 2), ('9', '', 2), ('.', '', 2), ('circuit', '', 2), ('switching', '', 2), ('and', '', 2), ('packet', '', 2), ('switching', '', 2), ('(', '', 2), ('chapter', '', 2), ('9', '', 2), (')', '', 2), ('1', '', 2), ('week', '', 2), (' \\n', '', 2), ('switching', '', 2), ('networks', '', 2), (',', '', 2), ('circuit', '', 2), ('-', '', 2), ('switc', '', 2), ('hing', '', 2), ('network', '', 2), ('and', '', 2), ('concepts', '', 2), (',', '', 2), ('packet', '', 2), ('-', '', 2), ('switching', '', 2), ('principles', '', 2), (',', '', 2), ('x.25', '', 2), (',', '', 2), ('\\n', '', 2), ('frame', '', 2), ('relay', '', 2), ('.', '', 2), (' ', '', 2), ('3', '', 2), ('\\n  \\n', '', 2), ('10', '', 2), ('.', '', 2), ('congestion', '', 2), ('control', '', 2), ('in', '', 2), ('data', '', 2), ('networks', '', 2), ('(', '', 2), ('chapter', '', 2), ('20', '', 2), (')', '', 2), ('1', '', 2), ('week', '', 2), (' \\n', '', 2), ('effects', '', 2), ('of', '', 2), ('congestion', '', 2), (',', '', 2), ('congestion', '', 2), ('control', '', 2), (',', '', 2), ('traffic', '', 2), ('management', '', 2), ('.', '', 2), (' \\n ', '', 2), ('11', '', 2), ('.', '', 2), ('internetwork', '', 2), ('protocols', '', 2), ('(', '', 2), ('chapter', '', 2), ('14', '', 2), (')', '', 2), ('1.5', '', 2), ('weeks', '', 2), (' \\n', '', 2), ('tcp', '', 2), ('architecture', '', 2), ('and', '', 2), ('osi', '', 2), (',', '', 2), ('basic', '', 2), ('protocol', '', 2), ('functions', '', 2), (',', '', 2), ('principles', '', 2), ('of', '', 2), ('internetworking', '', 2), (',', '', 2), ('connectionless', '', 2), ('\\n', '', 2), ('internetworking', '', 2), (',', '', 2), ('internet', '', 2), ('protocol', '', 2), (' ', '', 2), ('(', '', 2), ('ipv4', '', 2), (',', '', 2), ('arp', '', 2), (',', '', 2), ('icmp', '', 2), (')', '', 2), (',', '', 2), ('ipv6', '', 2), (',', '', 2), ('tcp', '', 2), ('.', '', 2), (' \\n \\n', '', 2), ('12', '', 2), ('.', '', 2), ('routing', '', 2), ('and', '', 2), ('routing', '', 2), ('protocols', '', 2), ('(', '', 2), ('chapters', '', 2), ('19', '', 2), (')', '', 2), ('1', '', 2), ('week', '', 2), (' \\n', '', 2), ('routing', '', 2), ('in', '', 2), ('packet', '', 2), ('-', '', 2), ('switching', '', 2), ('networks', '', 2), (',', '', 2), ('least', '', 2), ('-', '', 2), ('c', '', 2), ('ost', '', 2), ('algorithms', '', 2), ('.', '', 2), ('routing', '', 2), ('protocols', '', 2), ('(', '', 2), ('rip', '', 2), (',', '', 2), ('ospf', '', 2), (',', '', 2), ('\\n', '', 2), ('bgp', '', 2), (')', '', 2), ('.', '', 2), ('  ', '', 2), ('13', '', 2), ('.', '', 2), ('other', '', 2), ('topics', '', 2), ('and', '', 2), ('reviews', '', 2), ('1', '', 2), ('week', '', 2), (' \\n', '', 2), ('concepts', '', 2), ('of', '', 2), ('atm', '', 2), (',', '', 2), ('cellular', '', 2), ('networks', '', 2), ('a', '', 2), ('nd', '', 2), ('/', '', 2), ('or', '', 2), ('qos', '', 2), ('technologies', '', 2), ('for', '', 2), ('ip', '', 2), ('networks', '', 2), ('.', '', 2)]\n"
     ]
    },
    {
     "name": "stdout",
     "output_type": "stream",
     "text": [
      "Entities [('midterm', 'EXAM'), ('final exam', 'EXAM')]\n",
      "Tokens [('csi', '', 2), ('3131', '', 2), ('winter', '', 2), ('2023', '', 2), ('\\n', '', 2), ('operating', '', 2), ('systems', '', 2), ('\\n', '', 2), ('instructor', '', 2), (':', '', 2), ('mohammad', '', 2), ('alnabhan', '', 2), ('\\n', '', 2), ('e', '', 2), ('-', '', 2), ('mail', '', 2), (':', '', 2), ('malnabha@uottawa.ca', '', 2), ('\\n', '', 2), ('office', '', 2), (':', '', 2), ('ste', '', 2), ('5084', '', 2), ('\\n', '', 2), ('office', '', 2), ('hours', '', 2), (':', '', 2), ('monday', '', 2), ('@', '', 2), ('3:00', '', 2), ('pm', '', 2), ('–', '', 2), ('4:00', '', 2), ('pm', '', 2), ('\\n', '', 2), ('course', '', 2), ('website', '', 2), (':', '', 2), ('brightspace', '', 2), ('\\n', '', 2), ('enquiry', '', 2), ('center', '', 2), (':', '', 2), ('brightspace', '', 2), ('discussion', '', 2), ('group', '', 2), ('–', '', 2), ('no', '', 2), ('emailstextbook', '', 2), ('and', '', 2), ('reading', '', 2), ('\\n', '', 2), ('course', '', 2), ('notes', '', 2), (':', '', 2), ('\\n', '', 2), ('❑', '', 2), ('made', '', 2), ('available', '', 2), ('on', '', 2), ('pdf', '', 2), ('files', '', 2), ('\\n', '', 2), ('textbook', '', 2), (':', '', 2), ('\\n', '', 2), ('operating', '', 2), ('system', '', 2), ('concepts', '', 2), ('by', '', 2), ('silberchatz', '', 2), (',', '', 2), ('galvin', '', 2), (',', '', 2), ('gange', '', 2), (',', '', 2), ('\\n', '', 2), ('10thed', '', 2), ('.', '', 2), (',', '', 2), ('john', '', 2), ('wiley', '', 2), ('&', '', 2), ('sons', '', 2), ('inc', '', 2), ('.', '', 2), (',', '', 2), ('2018', '', 2), ('\\n', '', 2), ('other', '', 2), ('useful', '', 2), ('books', '', 2), (':', '', 2), ('\\n', '', 2), ('“', '', 2), ('operating', '', 2), ('systems', '', 2), (':', '', 2), ('internals', '', 2), ('and', '', 2), ('design', '', 2), ('principles', '', 2), ('”', '', 2), ('by', '', 2), ('william', '', 2), ('\\n', '', 2), ('stallings', '', 2), (',', '', 2), ('9th', '', 2), ('ed', '', 2), ('.', '', 2), (',', '', 2), ('pearson', '', 2), (',', '', 2), ('2018', '', 2), ('.', '', 2), ('\\n', '', 2), ('“', '', 2), ('modern', '', 2), ('operating', '', 2), ('systems', '', 2), ('”', '', 2), ('by', '', 2), ('andrew', '', 2), ('s.', '', 2), ('tanenbaum', '', 2), (',', '', 2), ('4thed', '', 2), ('.', '', 2), (',', '', 2), ('\\n', '', 2), ('pearson', '', 2), (',', '', 2), ('2015', '', 2), ('.', '', 2), ('schedule', '', 2), ('\\n', '', 2), ('lectures', '', 2), (':', '', 2), ('\\n', '', 2), ('tuesdays', '', 2), ('16:00', '', 2), ('–', '', 2), ('17:20', '', 2), ('ste', '', 2), ('b0138', '', 2), ('\\n', '', 2), ('thursdays', '', 2), ('14:30', '', 2), ('–', '', 2), ('15:50', '', 2), ('ste', '', 2), ('b0138', '', 2), ('\\n', '', 2), ('lab', '', 2), ('/', '', 2), ('tutorial', '', 2), ('\\n', '', 2), ('tutorials', '', 2), ('1', '', 2), ('(', '', 2), ('thurs', '', 2), (')', '', 2), ('     ', '', 2), ('16:00', '', 2), ('–', '', 2), ('17:20', '', 2), ('crx', '', 2), ('c030', '', 2), ('\\n', '', 2), ('tutorials', '', 2), ('2', '', 2), ('(', '', 2), ('thurs', '', 2), (')', '', 2), ('     ', '', 2), ('16:00', '', 2), ('–', '', 2), ('17:20', '', 2), ('crx', '', 2), ('c040', '', 2), ('\\n', '', 2), ('lab', '', 2), ('1', '', 2), ('(', '', 2), ('tues', '', 2), (')', '', 2), ('17:30', '', 2), ('–', '', 2), ('18:50', '', 2), ('cby', '', 2), ('b02', '', 2), ('\\n', '', 2), ('lab', '', 2), ('2', '', 2), ('(', '', 2), ('thurs', '', 2), (')', '', 2), ('17:30', '', 2), ('–', '', 2), ('18:50', '', 2), ('cby', '', 2), ('b02', '', 2), ('\\n', '', 2), ('labs', '', 2), ('and', '', 2), ('tutorials', '', 2), ('will', '', 2), ('start', '', 2), ('in', '', 2), ('week', '', 2), ('2', '', 2), ('.', '', 2), ('\\n', '', 2), ('tutorials', '', 2), (':', '', 2), ('theoretical', '', 2), ('exercises', '', 2), ('.', '', 2), ('\\n', '', 2), ('labs', '', 2), (':', '', 2), ('to', '', 2), ('gain', '', 2), ('experience', '', 2), ('with', '', 2), ('tools', '', 2), ('used', '', 2), ('to', '', 2), ('complete', '', 2), ('the', '', 2), ('\\n', '', 2), ('assignments.grading', '', 2), ('\\n', '', 2), ('assignements', '', 2), ('(', '', 2), ('a', '', 2), ('):', '', 2), ('15', '', 2), ('%', '', 2), ('  ', '', 2), ('3', '', 2), ('or', '', 2), ('4', '', 2), ('(', '', 2), ('20', '', 2), ('%', '', 2), ('if', '', 2), ('4', '', 2), ('assignments', '', 2), (')', '', 2), ('\\n', '', 2), ('participation', '', 2), (':', '', 2), ('5', '', 2), ('%', '', 2), ('(', '', 2), ('new', '', 2), (')', '', 2), ('\\n', '', 2), ('midterm', 'EXAM', 3), ('(', '', 2), ('m', '', 2), ('):', '', 2), ('30', '', 2), ('%', '', 2), ('\\n', '', 2), ('final', 'EXAM', 3), ('exam', 'EXAM', 1), ('(', '', 2), ('e', '', 2), ('):', '', 2), ('50', '', 2), ('%', '', 2), ('\\n', '', 2), ('attendance', '', 2), ('policy', '', 2), (':', '', 2), ('\\n', '', 2), ('a', '', 2), ('minimum', '', 2), ('of', '', 2), ('80', '', 2), ('%', '', 2), ('attendance', '', 2), ('policy', '', 2), ('is', '', 2), ('being', '', 2), ('forced', '', 2), ('.', '', 2), ('\\n', '', 2), ('no', '', 2), ('marks', '', 2), ('on', '', 2), ('attendance', '', 2), (',', '', 2), ('but', '', 2), ('we', '', 2), ('will', '', 2), ('counting', '', 2), ('participations', '', 2), ('during', '', 2), ('\\n', '', 2), ('lectures', '', 2), ('.', '', 2), ('\\n', '', 2), ('extra', '', 2), ('marks', '', 2), ('may', '', 2), ('depend', '', 2), ('on', '', 2), ('attendance', '', 2), ('and', '', 2), ('participation', '', 2), ('\\n', '', 2), ('you', '', 2), ('must', '', 2), ('have', '', 2), ('at', '', 2), ('least', '', 2), ('50', '', 2), ('%', '', 2), ('on', '', 2), ('m+e', '', 2), (' ', '', 2), ('to', '', 2), ('pass', '', 2), ('the', '', 2), ('course.assignments', '', 2), ('and', '', 2), ('exams', '', 2), ('\\n', '', 2), ('assignments', '', 2), ('\\n', '', 2), ('c', '', 2), ('-', '', 2), ('programming', '', 2), ('under', '', 2), ('unix', '', 2), ('/', '', 2), ('linux', '', 2), ('(', '', 2), ('process', '', 2), ('creation', '', 2), ('/', '', 2), ('ipc', '', 2), (')', '', 2), ('\\n', '', 2), ('process', '', 2), ('synchronization', '', 2), ('using', '', 2), ('semaphores', '', 2), ('(', '', 2), ('in', '', 2), ('java', '', 2), (')', '', 2), ('\\n', '', 2), ('implementing', '', 2), ('parts', '', 2), ('of', '', 2), ('a', '', 2), ('basic', '', 2), ('os', '', 2), ('in', '', 2), ('a', '', 2), ('simple', '', 2), ('simulator', '', 2), ('(', '', 2), ('in', '', 2), ('java', '', 2), (')', '', 2), ('\\n', '', 2), ('exams', '', 2), ('\\n', '', 2), ('closed', '', 2), ('book', '', 2), ('\\n', '', 2), ('diverse', '', 2), ('format', '', 2), (':', '', 2), ('multiple', '', 2), ('choice', '', 2), (',', '', 2), ('answer', '', 2), ('questions', '', 2), (',', '', 2), ('solve', '', 2), ('problems', '', 2), ('\\n', '', 2), ('need', '', 2), ('to', '', 2), ('know', '', 2), ('and', '', 2), ('understand', '', 2), ('concepts', '', 2), ('and', '', 2), ('algorithms', '', 2), (',', '', 2), ('as', '', 2), ('well', '', 2), ('as', '', 2), ('\\n', '', 2), ('being', '', 2), ('able', '', 2), ('to', '', 2), ('apply', '', 2), ('this', '', 2), ('knowledge', '', 2), ('\\n', '', 2), ('midterm', '', 2), ('\\n', '', 2), ('february', '', 2), ('16', '', 2), (',', '', 2), ('2022', '', 2), ('(', '', 2), ('thursday', '', 2), (',', '', 2), ('14:30', '', 2), ('–', '', 2), ('15:20', '', 2), ('during', '', 2), ('class', '', 2), (')', '', 2), (' \\n', '', 2), ('tentative', '', 2), ('material', '', 2), (',', '', 2), ('module', '', 2), ('1', '', 2), ('to', '', 2), ('5', '', 2), (',', '', 2), ('process', '', 2), ('synchronization', '', 2), ('(', '', 2), ('ch', '', 2), ('1', '', 2), ('to', '', 2), ('6', '', 2), ('\\n', '', 2), ('in', '', 2), ('textbook', '', 2), (')', '', 2), ('.', '', 2), ('\\n', '', 2), ('final', '', 2), ('\\n', '', 2), ('comprehensive', '', 2), (',', '', 2), ('with', '', 2), ('more', '', 2), ('weight', '', 2), ('on', '', 2), ('post', '', 2), ('-midterm', '', 2), ('topics', '', 2), ('(', '', 2), ('tbd)office', '', 2), ('hours', '', 2), ('and', '', 2), ('after', '', 2), ('lectures', '', 2), ('\\n', '', 2), ('what', '', 2), ('are', '', 2), ('students', '', 2), ('expecting', '', 2), (':', '', 2), ('\\n', '', 2), ('during', '', 2), ('lectures', '', 2), ('?', '', 2), ('the', '', 2), ('kind', '', 2), ('of', '', 2), ('questions', '', 2), ('the', '', 2), ('professor', '', 2), ('will', '', 2), ('answer', '', 2), ('!', '', 2), ('\\n', '', 2), ('after', '', 2), ('lectures', '', 2), ('questions', '', 2), ('?', '', 2), ('\\n', '', 2), ('during', '', 2), ('labs', '', 2), ('?', '', 2), ('\\n', '', 2), ('during', '', 2), ('tutorials', '', 2), ('?', '', 2), ('\\n', '', 2), ('professor', '', 2), ('office', '', 2), ('hour', '', 2), ('?', '', 2), ('\\n', '', 2), ('ta', '', 2), ('office', '', 2), ('hour?course', '', 2), ('organization', '', 2), ('questions', '', 2), ('?', '', 2), ('\\n', '', 2), ('course', '', 2), ('objectives', '', 2), ('\\n', '', 2), ('you', '', 2), ('are', '', 2), ('expected', '', 2), ('to', '', 2), (':', '', 2), ('\\n', '', 2), ('learn', '', 2), ('basic', '', 2), ('concepts', '', 2), ('and', '', 2), ('principles', '', 2), ('behind', '', 2), ('the', '', 2), ('design', '', 2), ('of', '', 2), ('operating', '', 2), ('\\n', '', 2), ('systems', '', 2), ('\\n', '', 2), ('get', '', 2), ('exposed', '', 2), ('to', '', 2), ('the', '', 2), ('problems', '', 2), ('operating', '', 2), ('systems', '', 2), ('designers', '', 2), ('face', '', 2), (',', '', 2), ('explore', '', 2), ('\\n', '', 2), ('the', '', 2), ('tradeoffs', '', 2), ('and', '', 2), ('solutions', '', 2), ('to', '', 2), ('these', '', 2), ('problems', '', 2), ('\\n', '', 2), ('see', '', 2), ('how', '', 2), ('are', '', 2), ('these', '', 2), ('issues', '', 2), ('solved', '', 2), ('in', '', 2), ('practice', '', 2), ('in', '', 2), ('real', '', 2), ('operating', '', 2), ('systems', '', 2), ('\\n', '', 2), ('be', '', 2), ('able', '', 2), ('to', '', 2), ('apply', '', 2), ('these', '', 2), ('concepts', '', 2), ('and', '', 2), ('techniques', '', 2), ('in', '', 2), ('relevant', '', 2), ('\\n', '', 2), ('circumstances', '', 2), ('\\n', '', 2), ('get', '', 2), ('some', '', 2), ('hands', '', 2), ('-on', '', 2), ('experience', '', 2), ('programming', '', 2), ('os', '', 2), ('type', '', 2), ('problems', '', 2), ('(', '', 2), ('process', '', 2), ('\\n', '', 2), ('creation', '', 2), (',', '', 2), ('inter', '', 2), ('-process', '', 2), ('-communications', '', 2), (',', '', 2), ('process', '', 2), ('synchronization', '', 2), (',', '', 2), ('mutual', '', 2), ('\\n', '', 2), ('exclusion', '', 2), (',', '', 2), (' ', '', 2), ('deadlock', '', 2), ('avoidance)topics', '', 2), ('covered', '', 2), ('\\n', '', 2), ('what', '', 2), ('operating', '', 2), ('systems', '', 2), ('do', '', 2), ('\\n', '', 2), ('computer', '', 2), ('-system', '', 2), ('organization', '', 2), ('\\n', '', 2), ('computer', '', 2), ('-system', '', 2), ('architecture', '', 2), ('\\n', '', 2), ('operating', '', 2), ('-system', '', 2), ('structure', '', 2), ('\\n', '', 2), ('operating', '', 2), ('-system', '', 2), ('operations', '', 2), ('\\n', '', 2), ('process', '', 2), ('management', '', 2), ('\\n', '', 2), ('memory', '', 2), ('management', '', 2), ('\\n', '', 2), ('storage', '', 2), ('and', '', 2), ('i', '', 2), ('/', '', 2), ('o', '', 2), ('management', '', 2), ('\\n', '', 2), ('protection', '', 2), ('and', '', 2), ('security', '', 2), ('\\n', '', 2), ('distributed', '', 2), ('systems', '', 2), ('\\n', '', 2), ('special', '', 2), ('-purpose', '', 2), ('systems', '', 2), ('\\n', '', 2), ('computing', '', 2), ('environmentsbackground', '', 2), ('/', '', 2), ('intro', '', 2), ('\\n', '', 2), ('the', '', 2), ('main', '', 2), ('stuff', '', 2), ('\\n', '', 2), ('advanced', '', 2), ('topics', '', 2), (',', '', 2), ('not', '', 2), ('coveredtopics', '', 2), ('covered', '', 2), ('\\n', '', 2), ('introduction', '', 2), ('/', '', 2), ('background', '', 2), ('/', '', 2), ('overview', '', 2), ('\\n', '', 2), ('computer', '', 2), ('systems', '', 2), ('overview', '', 2), ('\\n', '', 2), ('operating', '', 2), ('systems', '', 2), ('overview', '', 2), (':', '', 2), ('interface', '', 2), (',', '', 2), ('system', '', 2), ('calls', '', 2), (',', '', 2), ('design', '', 2), ('and', '', 2), ('\\n', '', 2), ('implementation', '', 2), ('issues', '', 2), (',', '', 2), ('os', '', 2), ('structure', '', 2), ('\\n', '', 2), ('process', '', 2), ('management', '', 2), ('\\n', '', 2), ('processes', '', 2), ('and', '', 2), ('threads', '', 2), ('\\n', '', 2), ('interprocess', '', 2), ('communication', '', 2), ('\\n', '', 2), ('cpu', '', 2), ('scheduling', '', 2), ('–', '', 2), ('algorithms', '', 2), ('and', '', 2), ('criteria', '', 2), ('\\n', '', 2), ('process', '', 2), ('/', '', 2), ('thread', '', 2), ('synchronization', '', 2), ('–', '', 2), ('problems', '', 2), ('and', '', 2), ('solutions', '', 2), ('\\n', '', 2), ('deadlocks', '', 2), ('–', '', 2), ('prevention', '', 2), (',', '', 2), ('avoidance', '', 2), (',', '', 2), ('detection', '', 2), (',', '', 2), ('recoverytopics', '', 2), ('covered', '', 2), ('(', '', 2), ('contd', '', 2), ('.', '', 2), (')', '', 2), ('\\n', '', 2), ('memory', '', 2), ('management', '', 2), ('\\n', '', 2), ('basic', '', 2), ('main', '', 2), ('memory', '', 2), ('management', '', 2), ('(', '', 2), ('swapping', '', 2), (',', '', 2), ('contiguous', '', 2), ('\\n', '', 2), ('memory', '', 2), ('allocation', '', 2), (',', '', 2), ('paging', '', 2), (',', '', 2), ('segmentation', '', 2), (')', '', 2), ('\\n', '', 2), ('virtual', '', 2), ('memory', '', 2), ('(', '', 2), ('demand', '', 2), ('paging', '', 2), (',', '', 2), ('copy', '', 2), ('-on', '', 2), ('-', '', 2), ('write', '', 2), (',', '', 2), ('page', '', 2), ('\\n', '', 2), ('replacement', '', 2), (',', '', 2), ('allocating', '', 2), ('kernel', '', 2), ('memory', '', 2), (')', '', 2), ('\\n', '', 2), ('storage', '', 2), ('management', '', 2), ('and', '', 2), ('input', '', 2), ('/', '', 2), ('output', '', 2), ('\\n', '', 2), ('file', '', 2), ('-', '', 2), ('system', '', 2), ('interface', '', 2), ('(', '', 2), ('files', '', 2), (',', '', 2), ('directories', '', 2), (',', '', 2), ('mounting', '', 2), ('file', '', 2), ('system', '', 2), (',', '', 2), ('\\n', '', 2), ('file', '', 2), ('sharing', '', 2), (')', '', 2), ('\\n', '', 2), ('file', '', 2), ('-', '', 2), ('system', '', 2), ('implementation', '', 2), ('\\n', '', 2), ('mass', '', 2), ('-storage', '', 2), ('structure', '', 2), ('(', '', 2), ('disk', '', 2), ('structure', '', 2), (',', '', 2), ('scheduling', '', 2), (',', '', 2), ('\\n', '', 2), ('management', '', 2), (')', '', 2), ('\\n', '', 2), ('swap', '', 2), ('space', '', 2), ('management', '', 2), ('\\n', '', 2), ('i', '', 2), ('/', '', 2), ('o', '', 2), ('systems', '', 2), ('(', '', 2), ('hardware', '', 2), (',', '', 2), ('application', '', 2), ('i', '', 2), ('/', '', 2), ('o', '', 2), ('interface', '', 2), (',', '', 2), ('kernel', '', 2), ('i', '', 2), ('/', '', 2), ('o', '', 2), ('\\n', '', 2), ('subsystem', '', 2), (')', '', 2)]\n"
     ]
    }
   ],
   "source": [
    "# test the trained model\n",
    "for text, _ in TRAIN_DATA:\n",
    "    doc = nlp(text)\n",
    "    print('Entities', [(ent.text, ent.label_) for ent in doc.ents])\n",
    "    print('Tokens', [(t.text, t.ent_type_, t.ent_iob) for t in doc])"
   ]
  },
  {
   "cell_type": "code",
   "execution_count": 30,
   "id": "e76f0166",
   "metadata": {},
   "outputs": [
    {
     "name": "stdout",
     "output_type": "stream",
     "text": [
      "Entities [('midterm exam', 'EXAM'), ('final exam', 'EXAM'), ('final exam', 'EXAM')]\n"
     ]
    }
   ],
   "source": [
    "doc = nlp(text4)\n",
    "print(\"Entities\", [(ent.text, ent.label_) for ent in doc.ents])"
   ]
  },
  {
   "cell_type": "code",
   "execution_count": 31,
   "id": "b2d3d5e4",
   "metadata": {},
   "outputs": [
    {
     "name": "stdout",
     "output_type": "stream",
     "text": [
      "Entities [('exam 2', 'EXAM'), ('final exam', 'EXAM')]\n"
     ]
    }
   ],
   "source": [
    "doc = nlp(text5)\n",
    "print(\"Entities\", [(ent.text, ent.label_) for ent in doc.ents])"
   ]
  },
  {
   "cell_type": "markdown",
   "id": "a4a56ea8",
   "metadata": {},
   "source": [
    "## Save the Model"
   ]
  },
  {
   "cell_type": "code",
   "execution_count": 32,
   "id": "150cd7f1",
   "metadata": {
    "scrolled": true
   },
   "outputs": [
    {
     "name": "stdout",
     "output_type": "stream",
     "text": [
      "Saved model to C:\\Users\\ghaza\\Documents\\4910 proj\\NLP-Experiment\n"
     ]
    }
   ],
   "source": [
    "# save model to output directory\n",
    "if output_dir is not None:\n",
    "    output_dir = Path(r\"C:\\Users\\ghaza\\Documents\\4910 proj\\NLP-Experiment\")\n",
    "    if not output_dir.exists():\n",
    "        output_dir.mkdir()\n",
    "    nlp.to_disk(output_dir)\n",
    "    print(\"Saved model to\", output_dir)\n"
   ]
  },
  {
   "cell_type": "markdown",
   "id": "68415ff6",
   "metadata": {},
   "source": [
    "## Test The Saved Model"
   ]
  },
  {
   "cell_type": "code",
   "execution_count": 33,
   "id": "5bd183b6",
   "metadata": {},
   "outputs": [
    {
     "name": "stdout",
     "output_type": "stream",
     "text": [
      "Loading from C:\\Users\\ghaza\\Documents\\4910 proj\\NLP-Experiment\n",
      "Entities [('project', 'DELIVERABLE'), ('deliverable 1', 'DELIVERABLE'), ('deliverable 2', 'DELIVERABLE'), ('deliverable 3', 'DELIVERABLE'), ('midterm quiz', 'EXAM'), ('final exam', 'EXAM')]\n",
      "Tokens [(' \\n  ', '', 2), ('1/9', '', 2), ('\\n \\n \\n \\n \\n', '', 2), ('school', '', 2), ('of', '', 2), ('electrical', '', 2), ('engineering', '', 2), ('\\n', '', 2), ('and', '', 2), ('computer', '', 2), ('science', '', 2), (' ', '', 2), ('(', '', 2), ('eecs', '', 2), (')', '', 2), (' ', '', 2), ('école', '', 2), ('de', '', 2), ('science', '', 2), ('informatique', '', 2), ('et', '', 2), ('\\n', '', 2), ('de', '', 2), ('génie', '', 2), ('électrique', '', 2), (' ', '', 2), ('(', '', 2), ('sige', '', 2), (')', '', 2), ('  \\n \\n', '', 2), ('ceg4166', '', 2), ('/', '', 2), ('csi4141', '', 2), (' \\n', '', 2), ('real', '', 2), ('time', '', 2), ('systems', '', 2), ('design', '', 2), (' ', '', 2), ('(', '', 2), ('3', '', 2), (',', '', 2), ('1.5', '', 2), (',', '', 2), ('3', '', 2), (')', '', 2), ('\\n', '', 2), ('winter', '', 2), ('202', '', 2), ('3', '', 2), ('\\n', '', 2), ('instructor', '', 2), (' ', '', 2), ('gilbert', '', 2), ('arbez', '', 2), (' \\n', '', 2), ('email', '', 2), (' ', '', 2), ('garbez@uottawa.ca', '', 2), ('  \\n', '', 2), ('ms', '', 2), ('teams', '', 2), (' ', '', 2), ('the', '', 2), ('preferred', '', 2), ('method', '', 2), ('of', '', 2), ('communication', '', 2), ('is', '', 2), ('via', '', 2), ('ms', '', 2), ('teams', '', 2), ('chat', '', 2), ('/', '', 2), ('video', '', 2), ('.', '', 2), (' \\n', '', 2), ('phone', '', 2), (' ', '', 2), ('613', '', 2), ('-', '', 2), ('562', '', 2), ('-', '', 2), ('5800', '', 2), (' ', '', 2), ('ext', '', 2), ('6315', '', 2), (' \\n', '', 2), ('office', '', 2), (' ', '', 2), ('site', '', 2), ('5104', '', 2), (' \\n', '', 2), ('office', '', 2), ('hours', '', 2), (' ', '', 2), ('by', '', 2), ('appointment', '', 2), (' \\n', '', 2), ('1', '', 2), ('–', '', 2), ('course', '', 2), ('description', '', 2), (' \\n', '', 2), ('definition', '', 2), ('of', '', 2), ('real', '', 2), ('-', '', 2), ('time', '', 2), ('systems', '', 2), (';', '', 2), ('examples', '', 2), ('.', '', 2), ('characteristics', '', 2), ('of', '', 2), ('real', '', 2), ('-time', '', 2), ('systems', '', 2), ('.', '', 2), ('analysis', '', 2), ('frameworks', '', 2), ('and', '', 2), ('tools', '', 2), ('.', '', 2), ('\\n', '', 2), ('elements', '', 2), ('of', '', 2), ('real', '', 2), ('-time', '', 2), ('system', '', 2), ('structure', '', 2), ('.', '', 2), ('reliability', '', 2), ('and', '', 2), ('fault', '', 2), ('tolerance', '', 2), ('.', '', 2), ('exceptions', '', 2), ('and', '', 2), ('exception', '', 2), ('handling', '', 2), ('.', '', 2), ('\\n', '', 2), ('concurrency', '', 2), ('and', '', 2), ('concurrent', '', 2), ('programming', '', 2), ('in', '', 2), ('real', '', 2), ('-time', '', 2), ('systems', '', 2), ('.', '', 2), ('synchronisation', '', 2), ('and', '', 2), ('communication', '', 2), (',', '', 2), ('resource', '', 2), ('\\n', '', 2), ('control', '', 2), (',', '', 2), ('and', '', 2), ('scheduling', '', 2), ('in', '', 2), ('real', '', 2), ('-time', '', 2), ('systems', '', 2), ('.', '', 2), ('real', '', 2), ('-time', '', 2), ('systems', '', 2), ('design', '', 2), ('methodologies', '', 2), ('.', '', 2), ('computer', '', 2), ('assisted', '', 2), ('design', '', 2), ('\\n', '', 2), ('of', '', 2), ('real', '', 2), ('-time', '', 2), ('systems', '', 2), ('.', '', 2), (' ', '', 2), ('the', '', 2), ('course', '', 2), ('will', '', 2), ('focus', '', 2), ('on', '', 2), ('the', '', 2), ('design', '', 2), ('of', '', 2), ('a', '', 2), ('n', '', 2), ('embedded', '', 2), ('real', '', 2), ('-time', '', 2), ('system', '', 2), (' ', '', 2), ('which', '', 2), ('can', '', 2), ('be', '', 2), ('defined', '', 2), ('\\n', '', 2), ('as', '', 2), (':', '', 2), ('\\n', '', 2), ('embedded', '', 2), ('real', '', 2), ('-time', '', 2), ('systems', '', 2), ('are', '', 2), ('comprised', '', 2), ('of', '', 2), ('computer', '', 2), ('software', '', 2), ('/', '', 2), ('hardware', '', 2), ('components', '', 2), ('embedded', '', 2), ('\\n', '', 2), ('into', '', 2), ('larger', '', 2), ('systems', '', 2), ('composed', '', 2), ('of', '', 2), ('other', '', 2), ('sub', '', 2), ('-systems', '', 2), ('(', '', 2), ('both', '', 2), ('mechanical', '', 2), ('and', '', 2), ('electronic', '', 2), (')', '', 2), ('.', '', 2), ('input', '', 2), ('\\n', '', 2), ('information', '', 2), ('from', '', 2), ('sensors', '', 2), (' ', '', 2), ('are', '', 2), ('fed', '', 2), ('into', '', 2), ('t', '', 2), ('hese', '', 2), ('systems', '', 2), (',', '', 2), ('which', '', 2), ('compute', '', 2), ('control', '', 2), ('signals', '', 2), ('for', '', 2), ('driving', '', 2), ('the', '', 2), ('\\n', '', 2), ('devices', '', 2), ('(', '', 2), ('e.g.', '', 2), ('an', '', 2), ('actuator', '', 2), (')', '', 2), (';', '', 2), ('that', '', 2), ('is', '', 2), ('the', '', 2), ('system', '', 2), ('is', '', 2), ('continuously', '', 2), ('interacting', '', 2), ('with', '', 2), ('the', '', 2), ('environment', '', 2), ('.', '', 2), ('in', '', 2), ('real', '', 2), ('-', '', 2), ('\\n', '', 2), ('time', '', 2), ('systems', '', 2), (',', '', 2), ('correctness', '', 2), ('of', '', 2), ('operation', '', 2), ('depends', '', 2), ('not', '', 2), ('only', '', 2), ('its', '', 2), ('logical', '', 2), ('behavior', '', 2), (',', '', 2), ('but', '', 2), ('also', '', 2), ('the', '', 2), ('time', '', 2), (' ', '', 2), ('at', '', 2), ('\\n', '', 2), ('which', '', 2), ('the', '', 2), ('results', '', 2), ('are', '', 2), ('produced', '', 2), ('.', '', 2), (' \\n', '', 2), ('2', '', 2), ('–', '', 2), ('course', '', 2), ('learning', '', 2), ('objective', '', 2), ('s', '', 2), ('\\n', '', 2), ('upon', '', 2), ('successful', '', 2), ('completion', '', 2), ('of', '', 2), ('this', '', 2), ('course', '', 2), (',', '', 2), ('the', '', 2), ('student', '', 2), (' \\n', '', 2), ('\\uf0b7', '', 2), ('will', '', 2), ('be', '', 2), ('able', '', 2), ('to', '', 2), ('describe', '', 2), ('the', '', 2), ('main', '', 2), ('characteristics', '', 2), ('of', '', 2), ('a', '', 2), ('real', '', 2), ('-time', '', 2), ('embedded', '', 2), ('system', '', 2), (' \\n', '', 2), ('\\uf0b7', '', 2), ('will', '', 2), ('be', '', 2), ('able', '', 2), ('to', '', 2), ('integrate', '', 2), (' ', '', 2), ('hardware', '', 2), ('components', '', 2), ('into', '', 2), ('the', '', 2), ('design', '', 2), ('of', '', 2), ('a', '', 2), ('real', '', 2), ('-', '', 2), ('time', '', 2), ('embedded', '', 2), ('systems', '', 2), (' \\n', '', 2), ('\\uf0b7', '', 2), ('will', '', 2), ('be', '', 2), ('able', '', 2), ('to', '', 2), ('and', '', 2), ('have', '', 2), ('applied', '', 2), (' ', '', 2), ('various', '', 2), ('task', '', 2), ('scheduling', '', 2), ('methods', '', 2), ('into', '', 2), ('the', '', 2), ('design', '', 2), ('of', '', 2), ('real', '', 2), ('-', '', 2), ('time', '', 2), ('embedded', '', 2), ('systems', '', 2), (' \\n', '', 2), ('\\uf0b7', '', 2), ('will', '', 2), ('have', '', 2), ('gained', '', 2), ('skills', '', 2), ('in', '', 2), ('utilizing', '', 2), ('a', '', 2), ('real', '', 2), ('-time', '', 2), ('operating', '', 2), ('system', '', 2), ('and', '', 2), ('software', '', 2), ('develop', '', 2), ('ment', '', 2), ('tools', '', 2), ('to', '', 2), ('developing', '', 2), ('real', '', 2), ('-', '', 2), ('\\n', '', 2), ('time', '', 2), ('embedded', '', 2), ('system', '', 2), ('products', '', 2), ('.', '', 2), (' \\n', '', 2), ('\\uf0b7', '', 2), ('will', '', 2), ('have', '', 2), ('evaluated', '', 2), ('real', '', 2), ('embedded', '', 2), ('systems', '', 2), ('requirements', '', 2), ('documents', '', 2), (' \\n', '', 2), ('\\uf0b7', '', 2), ('will', '', 2), (' ', '', 2), ('have', '', 2), ('worked', '', 2), ('successfully', '', 2), ('in', '', 2), ('a', '', 2), ('team', '', 2), ('-based', '', 2), ('real', '', 2), ('-time', '', 2), ('embedded', '', 2), ('systems', '', 2), ('development', '', 2), ('project', 'DELIVERABLE', 3), (' \\n', '', 2), ('\\uf0b7', '', 2), ('will', '', 2), ('have', '', 2), ('contributed', '', 2), ('to', '', 2), ('the', '', 2), ('various', '', 2), ('designs', '', 2), ('and', '', 2), ('design', '', 2), ('documentation', '', 2), ('created', '', 2), ('to', '', 2), ('meet', '', 2), ('given', '', 2), ('requirements', '', 2), ('during', '', 2), ('\\n', '', 2), ('team', '', 2), ('-based', '', 2), ('embedded', '', 2), ('system', '', 2), ('development', '', 2), ('project', '', 2), (' \\n', '', 2), ('\\uf0b7', '', 2), ('will', '', 2), ('have', '', 2), ('contributed', '', 2), ('to', '', 2), (' ', '', 2), ('the', '', 2), ('implementation', '', 2), ('of', '', 2), ('a', '', 2), ('real', '', 2), ('-time', '', 2), ('embedded', '', 2), ('system', '', 2), ('s', '', 2), ('from', '', 2), (' ', '', 2), ('documented', '', 2), ('desig', '', 2), ('ns', '', 2), ('\\n', '', 2), ('\\uf0b7', '', 2), ('will', '', 2), ('have', '', 2), (' ', '', 2), ('tested', '', 2), ('and', '', 2), ('analyze', '', 2), ('d', '', 2), ('a', '', 2), ('real', '', 2), ('-time', '', 2), ('system', '', 2), (' ', '', 2), ('as', '', 2), ('well', '', 2), ('as', '', 2), ('its', '', 2), ('performance', '', 2), (' \\n', '', 2), ('\\uf0b7', '', 2), ('will', '', 2), ('have', '', 2), ('applied', '', 2), (' ', '', 2), ('an', '', 2), ('iterative', '', 2), ('and', '', 2), ('agile', '', 2), ('development', '', 2), ('process', '', 2), ('(', '', 2), ('scrum', '', 2), (')', '', 2), ('to', '', 2), ('developing', '', 2), ('a', '', 2), ('number', '', 2), ('of', '', 2), (' ', '', 2), ('real', '', 2), ('-', '', 2), ('time', '', 2), ('\\n', '', 2), ('embedded', '', 2), ('system', '', 2), (' ', '', 2), ('products', '', 2), (' \\n', '', 2), ('\\uf0b7', '', 2), ('will', '', 2), ('have', '', 2), ('worked', '', 2), ('as', '', 2), ('a', '', 2), ('team', '', 2), ('and', '', 2), ('with', '', 2), ('the', '', 2), ('teachin', '', 2), ('g', '', 2), ('assistants', '', 2), ('to', '', 2), ('communicate', '', 2), ('their', '', 2), ('progress', '', 2), ('through', '', 2), ('regular', '', 2), ('\\n', '', 2), ('weekly', '', 2), ('discussions', '', 2), ('(', '', 2), ('scrums', '', 2), (')', '', 2), ('and', '', 2), ('online', '', 2), ('task', '', 2), ('tracking', '', 2), ('tool', '', 2), (',', '', 2), ('thereby', '', 2), ('further', '', 2), ('enhancing', '', 2), ('their', '', 2), ('communication', '', 2), ('skills', '', 2), (' \\n', '', 2), ('\\uf0b7', '', 2), ('will', '', 2), ('demonstrate', '', 2), ('a', '', 2), ('responsible', '', 2), ('and', '', 2), ('professional', '', 2), ('attitude', '', 2), ('as', '', 2), ('a', '', 2), ('team', '', 2), ('member', '', 2), ('or', '', 2), ('team', '', 2), ('lea', '', 2), ('der', '', 2), ('during', '', 2), ('the', '', 2), ('real', '', 2), ('time', '', 2), (' \\n', '', 2), ('embedded', '', 2), ('systems', '', 2), ('project', '', 2), (' \\n', '', 2), ('\\uf0b7', '', 2), ('will', '', 2), ('have', '', 2), ('further', '', 2), ('developed', '', 2), ('life', '', 2), ('-long', '', 2), ('learning', '', 2), ('and', '', 2), ('independent', '', 2), ('study', '', 2), ('skills', '', 2), ('to', '', 2), ('master', '', 2), ('the', '', 2), ('hardware', '', 2), ('and', '', 2), ('software', '', 2), ('\\n', '', 2), ('building', '', 2), ('blocks', '', 2), ('of', '', 2), ('real', '', 2), ('-time', '', 2), ('embedded', '', 2), ('systems', '', 2), ('  \\n  ', '', 2), ('2/9', '', 2), ('3', '', 2), ('–', '', 2), ('prerequisite', '', 2), ('s', '', 2), ('\\n', '', 2), ('csi', '', 2), ('3131', '', 2), ('operating', '', 2), ('systems', '', 2), (' \\n', '', 2), ('4', '', 2), ('–', '', 2), ('lecture', '', 2), ('/tutorials', '', 2), ('/', '', 2), ('labs', '', 2), (' ', '', 2), ('schedule', '', 2), (' \\n', '', 2), ('section', '', 2), ('b', '', 2), ('\\n', '', 2), ('lectures', '', 2), (':', '', 2), (' ', '', 2), ('mondays', '', 2), ('13h00', '', 2), ('to', '', 2), ('14h30', '', 2), (' \\n', '', 2), ('wednesdays', '', 2), ('11h30', '', 2), ('to', '', 2), ('12h50', '', 2), (' \\n', '', 2), ('tutorials', '', 2), (':', '', 2), (' ', '', 2), ('mondays', '', 2), ('17h30', '', 2), ('to', '', 2), ('18h50', '', 2), (' \\n', '', 2), ('laboratories', '', 2), ('*', '', 2), (':', '', 2), ('tuesdays', '', 2), ('11h30', '', 2), ('to', '', 2), ('14h30', '', 2), (' \\n', '', 2), ('tuesdays', '', 2), ('14h30', '', 2), ('to', '', 2), ('17h20', '', 2), (' \\n', '', 2), ('friday', '', 2), ('14h30', '', 2), ('to', '', 2), ('17h20', '', 2), (' \\n', '', 2), ('thursday', '', 2), ('13h00', '', 2), ('to', '', 2), ('15h50', '', 2), (' \\n', '', 2), ('*', '', 2), ('participate', '', 2), ('in', '', 2), ('only', '', 2), ('one', '', 2), ('lab', '', 2), ('session', '', 2), ('.', '', 2), (' \\n', '', 2), ('section', '', 2), ('c', '', 2), ('\\n', '', 2), ('lectures', '', 2), (':', '', 2), (' ', '', 2), ('tuesdays', '', 2), ('14h', '', 2), ('30', '', 2), ('to', '', 2), ('1', '', 2), ('5h50', '', 2), ('\\n', '', 2), ('fridays', '', 2), ('16h00', '', 2), ('to', '', 2), ('1', '', 2), ('7h20', '', 2), ('\\n', '', 2), ('tutorials', '', 2), (':', '', 2), (' ', '', 2), ('wednesdays', '', 2), (' ', '', 2), ('11h30', '', 2), ('to', '', 2), ('1', '', 2), ('2h50', '', 2), ('\\n', '', 2), ('laboratories', '', 2), ('*', '', 2), (':', '', 2), ('saturdays', '', 2), (' ', '', 2), ('11h30', '', 2), ('to', '', 2), ('14h', '', 2), ('20', '', 2), ('\\n', '', 2), ('wednesdays', '', 2), (' ', '', 2), ('16h00', '', 2), ('to', '', 2), ('1', '', 2), ('8h50', '', 2), ('\\n', '', 2), ('*', '', 2), ('participate', '', 2), ('in', '', 2), ('only', '', 2), ('one', '', 2), ('lab', '', 2), ('session', '', 2), ('.', '', 2), (' \\n \\n', '', 2), ('5', '', 2), ('–', '', 2), ('lecture', '', 2), ('format', '', 2), (' \\n', '', 2), ('lectures', '', 2), ('shall', '', 2), ('be', '', 2), ('used', '', 2), ('in', '', 2), ('a', '', 2), ('flipped', '', 2), ('classroom', '', 2), ('format', '', 2), ('in', '', 2), ('order', '', 2), ('to', '', 2), ('explore', '', 2), ('and', '', 2), ('discuss', '', 2), ('the', '', 2), ('principles', '', 2), ('to', '', 2), ('be', '', 2), ('applied', '', 2), ('with', '', 2), ('the', '', 2), ('re', '', 2), ('al-', '', 2), ('\\n', '', 2), ('time', '', 2), ('embedded', '', 2), ('development', '', 2), ('project', '', 2), ('.', '', 2), ('the', '', 2), ('main', '', 2), ('objective', '', 2), ('is', '', 2), ('have', '', 2), ('students', '', 2), ('engage', '', 2), ('in', '', 2), ('active', '', 2), ('participation', '', 2), ('for', '', 2), ('learnin', '', 2), ('g', '', 2), ('these', '', 2), ('\\n', '', 2), ('principles', '', 2), ('rather', '', 2), ('than', '', 2), ('follow', '', 2), ('presentation', '', 2), ('s', '', 2), ('of', '', 2), ('the', '', 2), ('information', '', 2), ('.', '', 2), (' ', '', 2), ('it', '', 2), ('is', '', 2), ('thus', '', 2), ('expected', '', 2), ('that', '', 2), ('students', '', 2), ('prepare', '', 2), ('for', '', 2), ('class', '', 2), ('completing', '', 2), ('\\n', '', 2), ('assigned', '', 2), ('readings', '', 2), (',', '', 2), ('explore', '', 2), ('the', '', 2), ('project', '', 2), ('documents', '', 2), ('(', '', 2), ('requirements', '', 2), (',', '', 2), ('hardware', '', 2), ('documentation', '', 2), (',', '', 2), ('software', '', 2), ('tool', '', 2), ('documentation', '', 2), (',', '', 2), ('\\n', '', 2), ('etc', '', 2), ('.', '', 2), (')', '', 2), ('in', '', 2), ('order', '', 2), ('to', '', 2), ('contribute', '', 2), ('to', '', 2), ('class', '', 2), ('discussions', '', 2), ('.', '', 2), (' ', '', 2), ('a', '', 2), ('tentative', '', 2), ('schedule', '', 2), ('of', '', 2), ('topics', '', 2), ('for', '', 2), ('lectures', '', 2), ('is', '', 2), ('presented', '', 2), ('in', '', 2), ('this', '', 2), ('syllabus', '', 2), ('an', '', 2), ('d', '', 2), ('\\n', '', 2), ('online', '', 2), ('(', '', 2), ('brightspace', '', 2), (')', '', 2), ('.', '', 2), (' ', '', 2), ('the', '', 2), ('schedule', '', 2), ('is', '', 2), ('subject', '', 2), ('to', '', 2), ('changes', '', 2), ('.', '', 2), (' \\n', '', 2), ('6', '', 2), ('-', '', 2), ('teaching', '', 2), ('assistants', '', 2), (' \\n', '', 2), ('haopeng', '', 2), ('wang', '', 2), ('.', '', 2), ('hwang266@uottawa.ca', '', 2), ('  \\n', '', 2), ('palwasha', '', 2), ('waheed', '', 2), ('shaikh', '', 2), (',', '', 2), ('pshai065@uottawa.ca', '', 2), ('  \\n', '', 2), ('edwin', '', 2), ('thomas', '', 2), (',', '', 2), ('ethom123@uottawa.ca', '', 2), ('  \\n', '', 2), ('abhillash', '', 2), ('paal', '', 2), (',', '', 2), ('apaal022@uottawa.ca', '', 2), ('  \\n', '', 2), ('to', '', 2), ('be', '', 2), ('determined', '', 2), ('(', '', 2), ('two', '', 2), ('other', '', 2), ('tas', '', 2), (')', '', 2), ('.', '', 2), (' \\n', '', 2), ('7', '', 2), ('–', '', 2), ('textboo', '', 2), ('k', '', 2), ('and', '', 2), ('lecture', '', 2), ('notes', '', 2), (' \\n', '', 2), ('the', '', 2), ('following', '', 2), ('book', '', 2), ('is', '', 2), ('required', '', 2), ('.', '', 2), ('students', '', 2), ('are', '', 2), ('expected', '', 2), ('to', '', 2), ('complete', '', 2), ('reading', '', 2), ('assignments', '', 2), ('before', '', 2), ('class', '', 2), ('.', '', 2), ('\\n', '', 2), ('phillip', '', 2), ('laplante', '', 2), ('and', '', 2), ('seppo', '', 2), ('ovaska', '', 2), ('.', '', 2), ('real', '', 2), ('-time', '', 2), ('systems', '', 2), ('design', '', 2), ('and', '', 2), ('analysis', '', 2), (',', '', 2), ('tools', '', 2), ('for', '', 2), ('the', '', 2), ('\\n', '', 2), ('practitioner', '', 2), (',', '', 2), ('wiley', '', 2), (',', '', 2), ('4th', '', 2), ('edition', '', 2), (',', '', 2), ('2012', '', 2), ('.', '', 2), (' \\n', '', 2), ('a', '', 2), ('copy', '', 2), (' ', '', 2), ('of', '', 2), ('the', '', 2), ('e', '', 2), ('-book', '', 2), ('is', '', 2), ('available', '', 2), ('at', '', 2), ('the', '', 2), ('following', '', 2), ('link', '', 2), ('.', '', 2), ('a', '', 2), ('copy', '', 2), ('of', '', 2), ('the', '', 2), ('book', '', 2), ('may', '', 2), ('be', '', 2), ('downloaded', '', 2), ('for', '', 2), ('free', '', 2), ('\\n', '', 2), ('from', '', 2), ('the', '', 2), ('university', '', 2), (';', '', 2), ('using', '', 2), ('the', '', 2), ('following', '', 2), ('link', '', 2), ('(', '', 2), ('select', '', 2), ('o', '', 2), ('-book', '', 2), ('):', '', 2), (' \\n', '', 2), ('https://www.wiley.com/en', '', 2), ('-', '', 2), ('\\n', '', 2), ('us', '', 2), ('/', '', 2), ('real+time+systems+design+and+analysis%3a+t', '', 2), ('ools+for+the+practitioner%2c+4th+edition', '', 2), ('-', '', 2), ('\\n', '', 2), ('p-9781118136607', '', 2), ('   \\n   \\n  ', '', 2), ('3/9', '', 2), ('8', '', 2), ('–', '', 2), ('additional', '', 2), ('reading', '', 2), (' \\n', '', 2), ('documentation', '', 2), ('on', '', 2), ('software', '', 2), ('tools', '', 2), (',', '', 2), ('hardware', '', 2), (',', '', 2), ('and', '', 2), ('the', '', 2), ('system', '', 2), ('used', '', 2), ('during', '', 2), ('the', '', 2), ('embedded', '', 2), ('system', '', 2), ('project', '', 2), ('\\n', '', 2), ('development', '', 2), ('is', '', 2), ('provided', '', 2), ('online', '', 2), ('through', '', 2), ('brightspace', '', 2), ('.', '', 2), (' \\n', '', 2), ('9', '', 2), ('–', '', 2), ('tutorial', '', 2), ('s', '', 2), ('/', '', 2), ('labs', '', 2), (' \\n', '', 2), ('groups', '', 2), ('of', '', 2), ('4', '', 2), ('-6', '', 2), ('students', '', 2), ('participate', '', 2), ('in', '', 2), ('a', '', 2), ('real', '', 2), ('-time', '', 2), ('embedded', '', 2), ('systems', '', 2), ('design', '', 2), ('and', '', 2), ('implementation', '', 2), ('project', '', 2), (';', '', 2), ('the', '', 2), ('project', '', 2), ('\\n', '', 2), ('experience', '', 2), ('will', '', 2), ('mimic', '', 2), ('a', '', 2), ('professional', '', 2), ('process', '', 2), ('including', '', 2), ('a', '', 2), ('methodology', '', 2), (',', '', 2), ('programming', '', 2), ('/', '', 2), ('documentation', '', 2), ('standards', '', 2), ('and', '', 2), ('\\n', '', 2), ('management', '', 2), ('/', '', 2), ('tracking', '', 2), ('time', '', 2), ('with', '', 2), ('a', '', 2), ('project', '', 2), ('management', '', 2), ('software', '', 2), ('.', '', 2), (' \\n', '', 2), ('the', '', 2), ('tutorial', '', 2), ('and', '', 2), ('lab', '', 2), ('sessions', '', 2), ('are', '', 2), ('dedicated', '', 2), ('to', '', 2), ('the', '', 2), ('real', '', 2), ('time', '', 2), ('embedded', '', 2), ('systems', '', 2), ('project', '', 2), ('.', '', 2), (' ', '', 2), ('the', '', 2), ('tutorial', '', 2), ('shall', '', 2), ('be', '', 2), ('used', '', 2), ('for', '', 2), ('\\n', '', 2), ('planning', '', 2), (',', '', 2), ('research', '', 2), (',', '', 2), ('design', '', 2), (',', '', 2), ('documentation', '', 2), (',', '', 2), ('software', '', 2), ('development', '', 2), (',', '', 2), ('etc', '', 2), ('.', '', 2), (' ', '', 2), ('these', '', 2), ('activities', '', 2), ('can', '', 2), ('also', '', 2), ('be', '', 2), ('underta', '', 2), ('ken', '', 2), ('during', '', 2), ('the', '', 2), ('\\n', '', 2), ('lab', '', 2), ('session', '', 2), (';', '', 2), ('in', '', 2), ('addition', '', 2), (',', '', 2), ('the', '', 2), ('system', '', 2), ('is', '', 2), ('tested', '', 2), ('during', '', 2), ('these', '', 2), ('sessions', '', 2), ('.', '', 2), (' ', '', 2), ('the', '', 2), ('hardware', '', 2), ('system', '', 2), ('is', '', 2), ('shared', '', 2), ('among', '', 2), ('all', '', 2), ('team', '', 2), ('\\n', '', 2), ('members', '', 2), ('.', '', 2), ('two', '', 2), (' ', '', 2), ('different', '', 2), ('products', '', 2), ('shall', '', 2), ('be', '', 2), ('developed', '', 2), ('during', '', 2), ('2', '', 2), ('sprints', '', 2), ('throughout', '', 2), ('the', '', 2), ('session', '', 2), ('.', '', 2), (' \\n', '', 2), ('10', '', 2), ('–', '', 2), ('assignements', '', 2), (' \\n', '', 2), ('assignments', '', 2), ('are', '', 2), ('not', '', 2), ('used', '', 2), ('in', '', 2), ('this', '', 2), ('course', '', 2), ('.', '', 2), (' ', '', 2), ('for', '', 2), ('each', '', 2), ('sprint', '', 2), ('of', '', 2), ('the', '', 2), ('project', '', 2), (',', '', 2), ('4', '', 2), ('deliverables', '', 2), ('shall', '', 2), ('be', '', 2), ('submitted', '', 2), ('for', '', 2), ('review', '', 2), ('.', '', 2), (' \\n', '', 2), ('11', '', 2), ('–', '', 2), ('exams', '', 2), ('/laboratory', '', 2), (' ', '', 2), ('reports/', '', 2), ('project', '', 2), ('reports', '', 2), (' \\n', '', 2), ('project', '', 2), (':', '', 2), ('the', '', 2), ('project', '', 2), ('work', '', 2), ('is', '', 2), ('mandatory', '', 2), ('.', '', 2), (' ', '', 2), ('for', '', 2), ('each', '', 2), ('sprint', '', 2), (',', '', 2), ('each', '', 2), ('project', '', 2), ('teams', '', 2), ('shall', '', 2), ('provide', '', 2), ('the', '', 2), ('following', '', 2), ('deliverables', '', 2), ('to', '', 2), ('be', '', 2), ('\\n', '', 2), ('submitted', '', 2), ('to', '', 2), ('brigh', '', 2), ('tspace', '', 2), (':', '', 2), (' \\n', '', 2), ('\\uf0b7', '', 2), ('deliverable', 'DELIVERABLE', 3), ('1', 'DELIVERABLE', 1), ('–', '', 2), ('draft', '', 2), ('design', '', 2), ('.', '', 2), (' \\n', '', 2), ('\\uf0b7', '', 2), ('deliverable', 'DELIVERABLE', 3), ('2', 'DELIVERABLE', 1), ('–', '', 2), ('reviewed', '', 2), ('design', '', 2), ('and', '', 2), ('implementation', '', 2), (' \\n', '', 2), ('\\uf0b7', '', 2), ('deliverable', 'DELIVERABLE', 3), ('3', 'DELIVERABLE', 1), ('–', '', 2), ('demonstration', '', 2), ('of', '', 2), ('unit', '', 2), ('tests', '', 2), ('and', '', 2), ('final', '', 2), ('product', '', 2), (' \\n', '', 2), ('\\uf0b7', '', 2), ('deliver', '', 2), ('able', '', 2), ('4', '', 2), ('–', '', 2), ('final', '', 2), ('version', '', 2), ('(', '', 2), ('release', '', 2), ('document', '', 2), ('and', '', 2), ('implementation', '', 2), ('.', '', 2), (' \\n', '', 2), ('\\uf0b7', '', 2), ('notes', '', 2), (':', '', 2), (' \\n', '', 2), ('o', '', 2), ('the', '', 2), ('design', '', 2), ('is', '', 2), ('documented', '', 2), ('in', '', 2), ('the', '', 2), ('release', '', 2), ('document', '', 2), ('.', '', 2), ('for', '', 2), ('the', '', 2), ('first', '', 2), ('two', '', 2), ('deliverables', '', 2), (',', '', 2), ('only', '', 2), ('the', '', 2), ('design', '', 2), ('sections', '', 2), ('of', '', 2), ('\\n', '', 2), ('new', '', 2), ('modules', '', 2), ('are', '', 2), ('included', '', 2), ('in', '', 2), ('a', '', 2), ('pdf', '', 2), ('document', '', 2), ('.', '', 2), ('for', '', 2), ('the', '', 2), ('final', '', 2), ('deliverable', '', 2), (',', '', 2), ('the', '', 2), ('com', '', 2), ('plete', '', 2), (' ', '', 2), ('release', '', 2), (' ', '', 2), ('document', '', 2), (' ', '', 2), ('is', '', 2), ('\\n', '', 2), ('submitted', '', 2), ('in', '', 2), ('pdf', '', 2), ('format', '', 2), (';', '', 2), ('b', '', 2), ('e', '', 2), ('sure', '', 2), ('to', '', 2), ('supply', '', 2), ('the', '', 2), ('complete', '', 2), ('release', '', 2), ('document', '', 2), ('and', '', 2), (' ', '', 2), ('not', '', 2), ('only', '', 2), ('the', '', 2), ('sections', '', 2), (' ', '', 2), ('developed', '', 2), ('\\n', '', 2), ('by', '', 2), ('the', '', 2), ('team', '', 2), ('.', '', 2), ('\\n', '', 2), ('o', '', 2), ('the', '', 2), ('implementation', '', 2), ('consists', '', 2), ('of', '', 2), ('a', '', 2), (' ', '', 2), ('zipped', '', 2), ('file', '', 2), ('of', '', 2), ('a', '', 2), ('code', '', 2), ('composer', '', 2), ('project', '', 2), ('.', '', 2), ('this', '', 2), ('project', '', 2), (' ', '', 2), ('contains', '', 2), ('the', '', 2), ('complete', '', 2), ('\\n', '', 2), ('source', '', 2), ('code', '', 2), ('for', '', 2), ('the', '', 2), ('sprint', '', 2), ('’s', '', 2), ('softwar', '', 2), ('e', '', 2), ('product', '', 2), ('as', '', 2), ('well', '', 2), ('as', '', 2), ('the', '', 2), (' ', '', 2), ('api', '', 2), ('html', '', 2), ('documentation', '', 2), ('generated', '', 2), ('with', '', 2), ('\\n', '', 2), ('doxygen', '', 2), ('.', '', 2), ('be', '', 2), ('sure', '', 2), ('to', '', 2), ('update', '', 2), ('the', '', 2), ('doxygen', '', 2), ('documentation', '', 2), ('to', '', 2), ('reflect', '', 2), ('changes', '', 2), ('and', '', 2), ('additions', '', 2), ('made', '', 2), ('to', '', 2), ('the', '', 2), ('\\n', '', 2), ('software', '', 2), ('.', '', 2), (' ', '', 2), ('run', '', 2), ('a', '', 2), ('“', '', 2), ('project', '', 2), ('clean', '', 2), ('”', '', 2), ('to', '', 2), ('k', '', 2), ('eep', '', 2), ('the', '', 2), ('size', '', 2), ('of', '', 2), ('the', '', 2), ('project', '', 2), ('to', '', 2), ('a', '', 2), ('minimum', '', 2), ('.', '', 2), (' \\n', '', 2), ('o', '', 2), ('for', '', 2), ('each', '', 2), ('deliverable', '', 2), (',', '', 2), ('t', '', 2), ('he', '', 2), ('form', '', 2), ('“', '', 2), ('personal', '', 2), ('ethics', '', 2), ('agreement', '', 2), ('concerning', '', 2), ('university', '', 2), ('assignments', '', 2), ('”', '', 2), (',', '', 2), ('signed', '', 2), ('by', '', 2), ('all', '', 2), ('\\n', '', 2), ('team', '', 2), ('members', '', 2), ('.', '', 2), (' \\n', '', 2), ('project', '', 2), ('deliverables', '', 2), ('are', '', 2), ('evaluated', '', 2), ('using', '', 2), ('a', '', 2), ('rubric', '', 2), ('scheme', '', 2), ('(', '', 2), ('posted', '', 2), ('on', '', 2), ('brightspace', '', 2), (')', '', 2), ('.', '', 2), (' \\n', '', 2), ('midterm', 'EXAM', 3), ('quiz', 'EXAM', 1), (':', '', 2), ('this', '', 2), ('quiz', '', 2), ('shall', '', 2), ('given', '', 2), ('in', '', 2), ('brigthspace', '', 2), ('and', '', 2), ('contain', '', 2), ('questions', '', 2), ('on', '', 2), ('fundamentals', '', 2), ('of', '', 2), ('real', '', 2), ('time', '', 2), ('systems', '', 2), ('topics', '', 2), ('\\n', '', 2), ('studied', '', 2), ('in', '', 2), ('the', '', 2), ('first', '', 2), ('part', '', 2), ('of', '', 2), ('the', '', 2), ('course', '', 2), ('.', '', 2), ('the', '', 2), ('midterm', '', 2), ('exam', '', 2), ('is', '', 2), ('scheduled', '', 2), ('on', '', 2), ('sunday', '', 2), (',', '', 2), ('march', '', 2), ('5', '', 2), ('between', '', 2), ('1', '', 2), ('0h00', '', 2), ('and', '', 2), ('1', '', 2), ('1h30', '', 2), ('.', '', 2), ('\\n', '', 2), ('final', 'EXAM', 3), ('exam', 'EXAM', 1), (':', '', 2), ('this', '', 2), ('exam', '', 2), ('will', '', 2), ('be', '', 2), ('op', '', 2), ('en', '', 2), ('book', '', 2), ('.', '', 2), ('it', '', 2), ('will', '', 2), ('consist', '', 2), ('of', '', 2), ('an', '', 2), ('analysis', '', 2), (' ', '', 2), ('and', '', 2), ('design', '', 2), ('exercise', '', 2), ('of', '', 2), (' ', '', 2), ('a', '', 2), ('real', '', 2), ('time', '', 2), ('embedded', '', 2), ('system', '', 2), (' \\n', '', 2), ('using', '', 2), ('the', '', 2), ('software', '', 2), ('tools', '', 2), ('(', '', 2), ('e.g.', '', 2), ('real', '', 2), ('-time', '', 2), ('os', '', 2), (')', '', 2), (',', '', 2), ('hardware', '', 2), (',', '', 2), ('and', '', 2), ('design', '', 2), ('methods', '', 2), ('applied', '', 2), ('during', '', 2), ('the', '', 2), ('term', '', 2), ('project', '', 2), ('.', '', 2), ('the', '', 2), ('university', '', 2), ('\\n', '', 2), ('will', '', 2), ('release', '', 2), ('the', '', 2), ('time', '', 2), ('and', '', 2), ('date', '', 2), ('of', '', 2), ('the', '', 2), ('final', '', 2), ('exam', '', 2), ('during', '', 2), ('the', '', 2), ('semester', '', 2), (' \\n', '', 2), ('12', '', 2), ('–', '', 2), ('in', '', 2), ('-', '', 2), ('class', '', 2), ('expectations', '', 2), (' \\n', '', 2), ('be', '', 2), ('prepared', '', 2), ('before', '', 2), ('class', '', 2), ('.', '', 2), ('an', '', 2), ('active', '', 2), ('participation', '', 2), (',', '', 2), ('both', '', 2), ('individual', '', 2), ('and', '', 2), ('especially', '', 2), ('as', '', 2), ('a', '', 2), ('team', '', 2), (',', '', 2), ('is', '', 2), ('expected', '', 2), ('.', '', 2), (' ', '', 2), ('arrive', '', 2), ('in', '', 2), ('class', '', 2), ('wi', '', 2), ('th', '', 2), ('\\n', '', 2), ('questions', '', 2), ('to', '', 2), ('help', '', 2), ('advance', '', 2), ('the', '', 2), ('work', '', 2), ('in', '', 2), ('the', '', 2), ('project', '', 2), ('.', '', 2), (' \\n', '', 2), ('13', '', 2), ('–', '', 2), ('grading', '', 2), ('s', '', 2), ('cheme', '', 2), (' \\n  \\n', '', 2), ('project', '', 2), (' ', '', 2), ('50', '', 2), ('%', '', 2), (' \\n', '', 2), ('mid', '', 2), ('-', '', 2), ('term', '', 2), ('exam', '', 2), (' ', '', 2), ('15', '', 2), ('%', '', 2), (' \\n', '', 2), ('final', '', 2), ('exam', '', 2), (' ', '', 2), ('35', '', 2), ('%', '', 2), (' \\n  \\n  ', '', 2), ('4/9', '', 2), ('14', '', 2), ('–', '', 2), ('passing', '', 2), ('grade', '', 2), (' \\n', '', 2), ('the', '', 2), ('passing', '', 2), ('grade', '', 2), ('for', '', 2), ('this', '', 2), ('course', '', 2), ('is', '', 2), ('55', '', 2), ('%', '', 2), ('(', '', 2), ('d+', '', 2), (')', '', 2), ('.', '', 2), (' \\n', '', 2), ('15', '', 2), ('–', '', 2), ('attendance', '', 2), ('and', '', 2), ('classroom', '', 2), ('etiquette', '', 2), (' \\n', '', 2), ('\\uf0a7', '', 2), ('attendance', '', 2), ('at', '', 2), ('lectures', '', 2), (',', '', 2), ('labs', '', 2), (' ', '', 2), ('and', '', 2), ('tutorials', '', 2), ('is', '', 2), ('mandatory', '', 2), ('.', '', 2), ('as', '', 2), ('per', '', 2), ('academic', '', 2), ('regulations', '', 2), (',', '', 2), ('students', '', 2), ('who', '', 2), ('do', '', 2), ('not', '', 2), ('attend', '', 2), ('\\n', '', 2), ('80', '', 2), ('%', '', 2), ('of', '', 2), ('these', '', 2), (' ', '', 2), ('class', '', 2), ('activities', '', 2), ('will', '', 2), ('not', '', 2), ('be', '', 2), ('allowed', '', 2), ('to', '', 2), ('write', '', 2), ('the', '', 2), ('final', '', 2), ('examination', '', 2), ('.', '', 2), ('  \\n', '', 2), ('\\uf0a7', '', 2), ('time', '', 2), ('spend', '', 2), ('on', '', 2), ('all', '', 2), ('course', '', 2), ('activities', '', 2), ('shall', '', 2), ('be', '', 2), ('reported', '', 2), ('via', '', 2), ('a', '', 2), ('project', '', 2), ('management', '', 2), ('software', '', 2), ('.', '', 2), (' \\n', '', 2), ('\\uf0a7', '', 2), ('cell', '', 2), ('-', '', 2), ('phones', '', 2), (' ', '', 2), ('should', '', 2), ('be', '', 2), ('turned', '', 2), ('to', '', 2), ('silent', '', 2), ('.', '', 2), (' \\n', '', 2), ('16', '', 2), ('–', '', 2), ('reminders', '', 2), (' \\n', '', 2), ('\\uf0a7', '', 2), ('all', '', 2), ('components', '', 2), ('of', '', 2), ('the', '', 2), ('course', '', 2), ('(', '', 2), ('i.e.', '', 2), (',', '', 2), ('laboratory', '', 2), ('reports', '', 2), (',', '', 2), ('assignments', '', 2), (',', '', 2), ('etc', '', 2), ('.', '', 2), (')', '', 2), ('must', '', 2), ('be', '', 2), ('fulfilled', '', 2), (';', '', 2), ('otherwise', '', 2), (',', '', 2), (' ', '', 2), ('students', '', 2), ('may', '', 2), ('\\n', '', 2), ('receive', '', 2), ('an', '', 2), ('inc', '', 2), ('as', '', 2), ('a', '', 2), ('final', '', 2), ('mark', '', 2), ('(', '', 2), ('equivalent', '', 2), ('to', '', 2), ('an', '', 2), ('f', '', 2), (')', '', 2), ('.', '', 2), ('this', '', 2), ('is', '', 2), ('also', '', 2), ('valid', '', 2), ('for', '', 2), ('a', '', 2), ('student', '', 2), ('who', '', 2), ('is', '', 2), ('taking', '', 2), ('the', '', 2), ('course', '', 2), ('for', '', 2), ('the', '', 2), ('\\n', '', 2), ('second', '', 2), ('time', '', 2), ('.', '', 2), ('\\n', '', 2), ('\\uf0a7', '', 2), ('information', '', 2), ('on', '', 2), ('academic', '', 2), ('fraud', '', 2), ('can', '', 2), ('be', '', 2), ('found', '', 2), ('at', '', 2), ('the', '', 2), ('following', '', 2), ('link', '', 2), (':', '', 2), ('\\n', '', 2), ('https://www.uottawa.ca/about', '', 2), ('-us', '', 2), ('/', '', 2), ('policies', '', 2), ('-regulations', '', 2), ('/', '', 2), ('academic', '', 2), ('-regulation', '', 2), ('-i-14', '', 2), ('-', '', 2), ('academic', '', 2), ('-fraud', '', 2), ('  \\n', '', 2), ('students', '', 2), ('are', '', 2), ('to', '', 2), ('become', '', 2), ('familiar', '', 2), ('with', '', 2), ('the', '', 2), ('faculty', '', 2), ('of', '', 2), ('engineering', '', 2), ('rules', '', 2), ('and', '', 2), ('regulations', '', 2), (';', '', 2), ('you', '', 2), ('may', '', 2), ('refer', '', 2), ('to', '', 2), ('them', '', 2), ('if', '', 2), ('you', '', 2), ('\\n', '', 2), ('happen', '', 2), ('to', '', 2), ('miss', '', 2), ('an', '', 2), ('exam', '', 2), ('.', '', 2), (' ', '', 2), ('these', '', 2), ('are', '', 2), ('within', '', 2), ('the', '', 2), ('university', '', 2), ('of', '', 2), ('ottawa', '', 2), ('’s', '', 2), ('regulations', '', 2), ('sections', '', 2), ('9.4', '', 2), (',', '', 2), ('9.5', '', 2), (',', '', 2), ('9.6', '', 2), (',', '', 2), ('14.2', '', 2), ('and', '', 2), ('\\n', '', 2), ('14.3', '', 2), (',', '', 2), ('which', '', 2), (' ', '', 2), ('define', '', 2), ('conduct', '', 2), ('during', '', 2), ('an', '', 2), ('examination', '', 2), (',', '', 2), ('academic', '', 2), ('fraud', '', 2), (',', '', 2), ('the', '', 2), ('sanctions', '', 2), ('and', '', 2), ('the', '', 2), ('decision', '', 2), ('and', '', 2), ('appeal', '', 2), ('\\n', '', 2), ('processes', '', 2), (':', '', 2), (' ', '', 2), ('https://www.uottawa.ca/about', '', 2), ('-us', '', 2), ('/', '', 2), ('policies', '', 2), ('-regulations', '', 2), ('/', '', 2), ('academic', '', 2), ('-regulation', '', 2), ('-i-9', '', 2), ('-', '', 2), ('evalu', '', 2), ('ation', '', 2), ('-student', '', 2), ('-', '', 2), ('\\n', '', 2), ('learning', '', 2), ('  \\n', '', 2), ('\\uf0a7', '', 2), ('students', '', 2), ('are', '', 2), ('to', '', 2), ('familiarize', '', 2), ('themselves', '', 2), ('with', '', 2), ('the', '', 2), ('university', '', 2), ('of', '', 2), ('ottawa', '', 2), ('’s', '', 2), ('policy', '', 2), ('on', '', 2), ('plagiarism', '', 2), ('\\n', '', 2), ('https://www.uottawa.ca/current', '', 2), ('-students', '', 2), ('/', '', 2), ('academic', '', 2), ('-integrity', '', 2), ('.', '', 2), ('this', '', 2), ('policy', '', 2), ('will', '', 2), ('be', '', 2), ('strictly', '', 2), ('enforced', '', 2), ('in', '', 2), ('this', '', 2), ('course', '', 2), ('.', '', 2), (' \\n', '', 2), ('\\uf0a7', '', 2), ('important', '', 2), ('dates', '', 2), ('and', '', 2), ('deadlines', '', 2), ('for', '', 2), ('the', '', 2), ('academic', '', 2), ('year', '', 2), ('can', '', 2), ('be', '', 2), ('found', '', 2), ('at', '', 2), ('the', '', 2), ('following', '', 2), ('link', '', 2), (':', '', 2), ('\\n', '', 2), ('https://www.uottawa.ca/important', '', 2), ('-academic', '', 2), ('-dates', '', 2), ('-and', '', 2), ('-', '', 2), ('deadlines/', '', 2), ('.', '', 2), (' \\n', '', 2), ('\\uf0a7', '', 2), ('several', '', 2), ('resources', '', 2), ('from', '', 2), ('the', '', 2), ('faculty', '', 2), ('of', '', 2), ('engineering', '', 2), ('can', '', 2), ('be', '', 2), ('found', '', 2), ('at', '', 2), ('the', '', 2), ('following', '', 2), ('link', '', 2), (':', '', 2), (' \\n', '', 2), ('https://www.uottawa', '', 2), ('.', '', 2), ('ca', '', 2), ('/', '', 2), ('en', '', 2), ('/', '', 2), ('students', '', 2), (' \\n', '', 2), ('\\uf0a7', '', 2), ('if', '', 2), ('necessary', '', 2), (',', '', 2), ('the', '', 2), ('instructor', '', 2), ('will', '', 2), ('contact', '', 2), ('students', '', 2), ('through', '', 2), ('their', '', 2), ('official', '', 2), ('university', '', 2), ('of', '', 2), ('ottawa', '', 2), ('’s', '', 2), ('e', '', 2), ('-mail', '', 2), ('address', '', 2), ('\\n', '', 2), ('(', '', 2), ('username@uottawa.ca', '', 2), (')', '', 2), ('.', '', 2), ('if', '', 2), ('you', '', 2), ('are', '', 2), ('using', '', 2), ('a', '', 2), ('personal', '', 2), ('e', '', 2), ('-mail', '', 2), ('address', '', 2), (',', '', 2), ('please', '', 2), ('go', '', 2), ('to', '', 2), ('the', '', 2), ('university', '', 2), ('mail', '', 2), ('management', '', 2), ('\\n', '', 2), ('web', '', 2), ('site', '', 2), ('to', '', 2), ('set', '', 2), ('a', '', 2), ('forwarding', '', 2), ('address', '', 2), ('(', '', 2), ('https://www.uottawa.ca/about', '', 2), ('-us', '', 2), ('/', '', 2), ('information', '', 2), ('-', '', 2), ('\\n', '', 2), ('technology', '', 2), ('/', '', 2), ('services', '', 2), ('/', '', 2), ('account', '', 2), ('/', '', 2), ('email', '', 2), (' ', '', 2), (')', '', 2), ('.', '', 2), ('you', '', 2), ('are', '', 2), ('responsible', '', 2), ('for', '', 2), ('ensuring', '', 2), ('you', '', 2), ('are', '', 2), ('receiving', '', 2), ('official', '', 2), ('course', '', 2), ('informat', '', 2), ('ion', '', 2), ('\\n', '', 2), ('in', '', 2), ('an', '', 2), ('efficient', '', 2), ('and', '', 2), ('timely', '', 2), ('manner', '', 2), ('.', '', 2), (' \\n   \\n  ', '', 2), ('5/9', '', 2), ('17', '', 2), ('–', '', 2), ('topics', '', 2), (' ', '', 2), ('and', '', 2), ('tentative', '', 2), ('schedule†', '', 2), ('\\n \\n', '', 2), ('the', '', 2), ('above', '', 2), (' ', '', 2), ('schedule', '', 2), ('is', '', 2), ('available', '', 2), ('on', '', 2), ('brightspace', '', 2), ('.', '', 2), (' \\n', '', 2), ('18', '', 2), ('–', '', 2), ('other', '', 2), ('information', '', 2), (' \\n', '', 2), ('\\uf0a7', '', 2), ('the', '', 2), ('university', '', 2), ('of', '', 2), ('ottawa', '', 2), ('provides', '', 2), (',', '', 2), ('upon', '', 2), ('request', '', 2), (',', '', 2), ('appropriate', '', 2), ('academic', '', 2), ('adjustments', '', 2), ('for', '', 2), ('students', '', 2), ('who', '', 2), ('have', '', 2), ('\\n', '', 2), ('learning', '', 2), ('disabilities', '', 2), (',', '', 2), ('health', '', 2), (',', '', 2), ('psychiatric', '', 2), ('or', '', 2), ('physical', '', 2), ('conditions', '', 2), ('.', '', 2), ('for', '', 2), ('more', '', 2), ('information', '', 2), (',', '', 2), ('please', '', 2), ('contact', '', 2), ('access', '', 2), ('\\n', '', 2), ('service', '', 2), ('(', '', 2), ('http://www.sass.uottawa.ca/access/', '', 2), (')', '', 2), ('.', '', 2), ('the', '', 2), ('student', '', 2), ('academic', '', 2), ('success', '', 2), ('service', '', 2), ('provides', '', 2), ('many', '', 2), ('more', '', 2), ('\\n', '', 2), ('services', '', 2), ('to', '', 2), ('help', '', 2), ('you', '', 2), ('succeed', '', 2), ('(', '', 2), ('http://www.sass.uottawa.ca/about/our', '', 2), ('-services.php', '', 2), (')', '', 2), ('.', '', 2), ('\\n \\n  \\n                                                 \\n', '', 2), ('†', '', 2), ('exact', '', 2), ('content', '', 2), ('and', '', 2), ('dates', '', 2), ('may', '', 2), ('vary', '', 2), ('from', '', 2), ('this', '', 2), ('list', '', 2), (':', '', 2), ('refer', '', 2), ('to', '', 2), ('course', '', 2), ('website', '', 2), ('for', '', 2), ('notifications', '', 2), (' \\n \\n  ', '', 2), ('6/9', '', 2), ('19', '', 2), ('–', '', 2), ('graduate', '', 2), ('a', '', 2), ('ttributes', '', 2), ('a', '', 2), ('ssessment', '', 2), ('  \\n', '', 2), ('.', '', 2), ('1', '', 2), (' ', '', 2), ('a', '', 2), ('knowledge', '', 2), ('base', '', 2), ('for', '', 2), ('engineering', '', 2), (':', '', 2), ('demonstrated', '', 2), ('competence', '', 2), ('in', '', 2), ('university', '', 2), ('level', '', 2), ('mathematics', '', 2), (',', '', 2), ('natural', '', 2), ('sciences', '', 2), (',', '', 2), ('engineering', '', 2), ('\\n', '', 2), ('fundamentals', '', 2), (',', '', 2), ('and', '', 2), ('specialized', '', 2), ('engineering', '', 2), ('knowledge', '', 2), ('appropriate', '', 2), ('to', '', 2), ('the', '', 2), ('program', '', 2), ('.', '', 2), (' \\n', '', 2), ('1.1', '', 2), ('will', '', 2), ('be', '', 2), ('able', '', 2), ('to', '', 2), ('describe', '', 2), ('the', '', 2), ('main', '', 2), ('characteristics', '', 2), ('of', '', 2), ('a', '', 2), ('real', '', 2), ('-time', '', 2), ('embedded', '', 2), ('system', '', 2), (' \\n', '', 2), ('.', '', 2), ('2', '', 2), (' ', '', 2), ('problem', '', 2), ('analysis', '', 2), (':', '', 2), ('an', '', 2), ('ability', '', 2), ('to', '', 2), ('use', '', 2), ('appropriate', '', 2), ('knowledge', '', 2), ('and', '', 2), ('skills', '', 2), ('to', '', 2), ('identify', '', 2), (',', '', 2), ('formulate', '', 2), (',', '', 2), ('analyze', '', 2), (',', '', 2), ('and', '', 2), ('solve', '', 2), ('complex', '', 2), ('engineering', '', 2), ('\\n', '', 2), ('problems', '', 2), ('in', '', 2), ('order', '', 2), ('to', '', 2), ('reach', '', 2), ('substantiated', '', 2), ('conclusions', '', 2), (' \\n', '', 2), ('2.1', '', 2), ('will', '', 2), ('have', '', 2), ('further', '', 2), ('developed', '', 2), ('independent', '', 2), ('study', '', 2), ('skills', '', 2), ('to', '', 2), ('master', '', 2), ('the', '', 2), ('hardware', '', 2), ('and', '', 2), ('software', '', 2), ('building', '', 2), ('blocks', '', 2), ('of', '', 2), ('real', '', 2), ('-time', '', 2), ('embedde', '', 2), ('d', '', 2), ('\\n', '', 2), ('systems', '', 2), (' \\n', '', 2), ('.', '', 2), ('3', '', 2), (' ', '', 2), ('investigation', '', 2), (':', '', 2), ('an', '', 2), ('ability', '', 2), ('to', '', 2), ('conduct', '', 2), ('investigations', '', 2), ('of', '', 2), ('complex', '', 2), ('problems', '', 2), ('by', '', 2), ('methods', '', 2), ('that', '', 2), ('include', '', 2), ('appropriate', '', 2), ('experiments', '', 2), (',', '', 2), ('analysis', '', 2), ('and', '', 2), ('\\n', '', 2), ('interpretation', '', 2), ('of', '', 2), ('data', '', 2), (',', '', 2), ('and', '', 2), ('synthesis', '', 2), ('of', '', 2), ('information', '', 2), ('in', '', 2), ('o', '', 2), ('rder', '', 2), ('to', '', 2), ('reach', '', 2), ('valid', '', 2), ('conclusions', '', 2), (' \\n', '', 2), ('3.1', '', 2), ('will', '', 2), ('have', '', 2), ('tested', '', 2), (' ', '', 2), ('and', '', 2), ('analyzed', '', 2), ('a', '', 2), ('real', '', 2), ('-time', '', 2), ('system', '', 2), ('as', '', 2), ('well', '', 2), ('as', '', 2), ('its', '', 2), ('performance', '', 2), (' \\n', '', 2), ('.', '', 2), ('4', '', 2), (' ', '', 2), ('design', '', 2), (':', '', 2), ('an', '', 2), ('ability', '', 2), ('to', '', 2), ('design', '', 2), ('solutions', '', 2), ('for', '', 2), ('complex', '', 2), (',', '', 2), ('open', '', 2), ('-ended', '', 2), ('engineering', '', 2), ('problems', '', 2), ('and', '', 2), ('to', '', 2), ('design', '', 2), ('systems', '', 2), (',', '', 2), ('components', '', 2), ('or', '', 2), ('processes', '', 2), ('\\n', '', 2), ('that', '', 2), ('meet', '', 2), ('specified', '', 2), ('needs', '', 2), ('with', '', 2), ('appropriate', '', 2), ('attention', '', 2), ('to', '', 2), ('health', '', 2), (' ', '', 2), ('and', '', 2), ('safety', '', 2), ('risks', '', 2), (',', '', 2), ('applicable', '', 2), ('standards', '', 2), (',', '', 2), ('and', '', 2), ('economic', '', 2), (',', '', 2), ('environmental', '', 2), (',', '', 2), ('\\n', '', 2), ('cultural', '', 2), ('and', '', 2), ('societal', '', 2), ('considerations', '', 2), ('.', '', 2), (' \\n', '', 2), ('4.1', '', 2), ('will', '', 2), ('be', '', 2), ('able', '', 2), ('to', '', 2), ('integrate', '', 2), ('hardware', '', 2), ('components', '', 2), ('into', '', 2), ('the', '', 2), ('design', '', 2), ('of', '', 2), (' ', '', 2), ('real', '', 2), ('-', '', 2), ('time', '', 2), ('embedded', '', 2), ('systems', '', 2), (' \\n', '', 2), ('4.2', '', 2), ('will', '', 2), ('be', '', 2), ('able', '', 2), ('to', '', 2), ('and', '', 2), ('have', '', 2), ('applied', '', 2), ('various', '', 2), ('task', '', 2), ('sc', '', 2), ('heduling', '', 2), ('methods', '', 2), ('into', '', 2), ('the', '', 2), ('design', '', 2), ('of', '', 2), ('real', '', 2), ('-time', '', 2), ('embedded', '', 2), ('systems', '', 2), (' \\n', '', 2), ('4.3', '', 2), ('will', '', 2), ('have', '', 2), ('contributed', '', 2), ('to', '', 2), ('the', '', 2), ('various', '', 2), ('designs', '', 2), ('and', '', 2), ('design', '', 2), ('documentation', '', 2), ('created', '', 2), ('to', '', 2), ('meet', '', 2), ('given', '', 2), ('requirements', '', 2), ('during', '', 2), ('team', '', 2), ('-based', '', 2), ('\\n', '', 2), ('embedded', '', 2), ('system', '', 2), ('development', '', 2), ('project', '', 2), (' \\n', '', 2), ('.', '', 2), ('5', '', 2), (' ', '', 2), ('use', '', 2), ('of', '', 2), ('engineering', '', 2), ('tools', '', 2), (':', '', 2), ('an', '', 2), ('ability', '', 2), ('to', '', 2), ('create', '', 2), (',', '', 2), ('select', '', 2), (',', '', 2), ('apply', '', 2), (',', '', 2), ('adapt', '', 2), (',', '', 2), ('and', '', 2), ('extend', '', 2), ('appropriate', '', 2), ('techniques', '', 2), (',', '', 2), ('resources', '', 2), (',', '', 2), ('and', '', 2), ('modern', '', 2), ('\\n', '', 2), ('engineering', '', 2), ('tools', '', 2), ('to', '', 2), ('a', '', 2), ('range', '', 2), ('of', '', 2), ('engineering', '', 2), ('activities', '', 2), (',', '', 2), ('from', '', 2), ('simple', '', 2), ('to', '', 2), ('complex', '', 2), (',', '', 2), ('with', '', 2), ('an', '', 2), ('understanding', '', 2), ('of', '', 2), ('the', '', 2), ('associated', '', 2), ('limit', '', 2), ('ations', '', 2), ('.', '', 2), (' \\n', '', 2), ('5.1', '', 2), ('will', '', 2), ('have', '', 2), ('gained', '', 2), ('s', '', 2), ('kills', '', 2), ('in', '', 2), ('utilizing', '', 2), ('a', '', 2), ('real', '', 2), ('-time', '', 2), ('operating', '', 2), ('system', '', 2), ('and', '', 2), ('software', '', 2), ('development', '', 2), ('tools', '', 2), ('to', '', 2), ('developing', '', 2), ('real', '', 2), ('-time', '', 2), ('embedded', '', 2), ('\\n', '', 2), ('system', '', 2), ('products', '', 2), (' \\n', '', 2), ('5.2', '', 2), ('will', '', 2), ('have', '', 2), ('contributed', '', 2), ('to', '', 2), ('the', '', 2), ('implementation', '', 2), (' ', '', 2), ('and', '', 2), ('testing', '', 2), (' ', '', 2), ('of', '', 2), ('a', '', 2), ('real', '', 2), ('-time', '', 2), ('embedded', '', 2), ('system', '', 2), ('from', '', 2), ('documented', '', 2), ('designs', '', 2), (' \\n', '', 2), ('.', '', 2), ('6', '', 2), (' ', '', 2), ('individual', '', 2), (' ', '', 2), ('and', '', 2), ('team', '', 2), ('work', '', 2), (':', '', 2), ('an', '', 2), ('ability', '', 2), ('to', '', 2), ('work', '', 2), ('effectively', '', 2), ('as', '', 2), ('a', '', 2), ('member', '', 2), ('and', '', 2), ('leader', '', 2), ('in', '', 2), ('teams', '', 2), (',', '', 2), ('preferably', '', 2), ('in', '', 2), ('a', '', 2), ('multi', '', 2), ('-disciplinary', '', 2), ('setting', '', 2), ('.', '', 2), (' \\n', '', 2), ('6.1', '', 2), ('will', '', 2), ('have', '', 2), (' ', '', 2), ('worked', '', 2), ('successfully', '', 2), ('in', '', 2), ('a', '', 2), ('team', '', 2), ('-based', '', 2), ('real', '', 2), ('-time', '', 2), ('embedded', '', 2), ('systems', '', 2), ('development', '', 2), ('project', '', 2), (' \\n', '', 2), ('.', '', 2), ('7', '', 2), (' ', '', 2), ('communication', '', 2), ('skills', '', 2), (':', '', 2), ('an', '', 2), ('ability', '', 2), ('to', '', 2), ('communicate', '', 2), ('complex', '', 2), ('engineering', '', 2), ('concepts', '', 2), ('within', '', 2), ('the', '', 2), ('profession', '', 2), ('and', '', 2), ('with', '', 2), ('society', '', 2), ('.', '', 2), ('such', '', 2), ('ability', '', 2), ('\\n', '', 2), ('includes', '', 2), ('reading', '', 2), (',', '', 2), ('writing', '', 2), (',', '', 2), ('speaking', '', 2), ('and', '', 2), ('listening', '', 2), (',', '', 2), ('and', '', 2), ('the', '', 2), ('ability', '', 2), ('to', '', 2), ('comprehend', '', 2), ('and', '', 2), ('write', '', 2), ('effective', '', 2), ('reports', '', 2), ('and', '', 2), ('design', '', 2), ('docum', '', 2), ('entation', '', 2), (',', '', 2), ('\\n', '', 2), ('and', '', 2), ('to', '', 2), ('give', '', 2), ('a', '', 2), ('nd', '', 2), ('effectively', '', 2), ('respond', '', 2), ('to', '', 2), ('clear', '', 2), ('instructions', '', 2), ('.', '', 2), (' \\n', '', 2), ('7.1', '', 2), ('will', '', 2), ('have', '', 2), ('contributed', '', 2), ('to', '', 2), ('the', '', 2), ('various', '', 2), ('designs', '', 2), ('and', '', 2), ('design', '', 2), ('documentation', '', 2), ('created', '', 2), ('to', '', 2), ('meet', '', 2), ('given', '', 2), ('requirements', '', 2), ('during', '', 2), ('team', '', 2), ('-based', '', 2), ('\\n', '', 2), ('embedded', '', 2), ('system', '', 2), ('development', '', 2), ('project', '', 2), (' \\n', '', 2), ('7.2', '', 2), ('will', '', 2), ('have', '', 2), ('evaluated', '', 2), ('real', '', 2), ('embedded', '', 2), ('systems', '', 2), ('r', '', 2), ('equirements', '', 2), ('documents', '', 2), (' \\n', '', 2), ('7.3', '', 2), ('will', '', 2), ('have', '', 2), ('worked', '', 2), ('as', '', 2), ('a', '', 2), ('team', '', 2), ('and', '', 2), ('with', '', 2), ('the', '', 2), ('teaching', '', 2), ('assistants', '', 2), ('to', '', 2), ('communicate', '', 2), ('their', '', 2), ('progress', '', 2), ('through', '', 2), ('regular', '', 2), ('weekly', '', 2), ('discussions', '', 2), ('\\n', '', 2), ('(', '', 2), ('scrums', '', 2), (')', '', 2), ('and', '', 2), ('online', '', 2), ('task', '', 2), ('tracking', '', 2), ('tool', '', 2), (',', '', 2), ('thereby', '', 2), ('further', '', 2), ('enhancing', '', 2), ('their', '', 2), ('communication', '', 2), ('skills', '', 2), (' \\n', '', 2), ('.', '', 2), ('8', '', 2), (' ', '', 2), ('professio', '', 2), ('nalism', '', 2), (':', '', 2), ('an', '', 2), ('understanding', '', 2), ('of', '', 2), ('the', '', 2), ('roles', '', 2), ('and', '', 2), ('responsibilities', '', 2), ('of', '', 2), ('the', '', 2), ('professional', '', 2), ('engineer', '', 2), ('in', '', 2), ('society', '', 2), (',', '', 2), ('especially', '', 2), ('the', '', 2), ('primary', '', 2), ('role', '', 2), ('of', '', 2), ('\\n', '', 2), ('protection', '', 2), ('of', '', 2), ('the', '', 2), ('public', '', 2), ('and', '', 2), ('the', '', 2), ('public', '', 2), ('interest', '', 2), ('.', '', 2), (' \\n', '', 2), ('8.1', '', 2), ('will', '', 2), ('demonstrate', '', 2), ('a', '', 2), ('responsible', '', 2), ('and', '', 2), ('professional', '', 2), ('attitude', '', 2), ('as', '', 2), ('a', '', 2), ('team', '', 2), ('memb', '', 2), ('er', '', 2), ('or', '', 2), ('team', '', 2), ('leader', '', 2), ('during', '', 2), ('the', '', 2), ('real', '', 2), ('time', '', 2), ('embedded', '', 2), ('systems', '', 2), ('\\n', '', 2), ('project', '', 2), (' \\n', '', 2), ('.', '', 2), ('9', '', 2), (' ', '', 2), ('impact', '', 2), ('of', '', 2), ('engineering', '', 2), ('on', '', 2), ('society', '', 2), ('and', '', 2), ('the', '', 2), ('environment', '', 2), (':', '', 2), ('an', '', 2), ('ability', '', 2), ('to', '', 2), ('analyze', '', 2), ('social', '', 2), ('and', '', 2), ('environmental', '', 2), ('aspects', '', 2), ('of', '', 2), ('engineering', '', 2), ('activities', '', 2), ('.', '', 2), ('\\n', '', 2), ('such', '', 2), ('ability', '', 2), ('includes', '', 2), ('an', '', 2), ('understanding', '', 2), ('of', '', 2), ('the', '', 2), ('interac', '', 2), ('tions', '', 2), ('that', '', 2), ('engineering', '', 2), ('has', '', 2), ('with', '', 2), ('the', '', 2), ('economic', '', 2), (',', '', 2), ('social', '', 2), (',', '', 2), ('health', '', 2), (',', '', 2), ('safety', '', 2), (',', '', 2), ('legal', '', 2), (',', '', 2), ('and', '', 2), ('\\n', '', 2), ('cultural', '', 2), ('aspects', '', 2), ('of', '', 2), ('society', '', 2), (',', '', 2), ('the', '', 2), ('uncertainties', '', 2), ('in', '', 2), ('the', '', 2), ('prediction', '', 2), ('of', '', 2), ('such', '', 2), ('interactions', '', 2), (';', '', 2), ('and', '', 2), ('the', '', 2), ('concepts', '', 2), ('of', '', 2), ('sustainable', '', 2), ('design', '', 2), (' ', '', 2), ('and', '', 2), ('\\n', '', 2), ('development', '', 2), ('and', '', 2), ('environmental', '', 2), ('stewardship', '', 2), ('.', '', 2), (' \\n', '', 2), ('.', '', 2), ('10', '', 2), ('ethics', '', 2), ('and', '', 2), ('equity', '', 2), (':', '', 2), ('an', '', 2), ('ability', '', 2), ('to', '', 2), ('apply', '', 2), ('professional', '', 2), ('ethics', '', 2), (',', '', 2), ('accountability', '', 2), (',', '', 2), ('and', '', 2), ('equity', '', 2), ('.', '', 2), (' \\n', '', 2), ('.', '', 2), ('11', '', 2), ('economics', '', 2), ('and', '', 2), ('project', '', 2), ('management', '', 2), (':', '', 2), ('an', '', 2), ('ability', '', 2), ('to', '', 2), ('appropriately', '', 2), ('incorporate', '', 2), ('economics', '', 2), ('and', '', 2), ('business', '', 2), ('practices', '', 2), ('including', '', 2), ('project', '', 2), (',', '', 2), ('risk', '', 2), (',', '', 2), ('\\n', '', 2), ('and', '', 2), ('change', '', 2), ('management', '', 2), ('into', '', 2), ('the', '', 2), ('p', '', 2), ('ractice', '', 2), ('of', '', 2), ('engineering', '', 2), ('and', '', 2), ('to', '', 2), ('understand', '', 2), ('their', '', 2), ('limitations', '', 2), ('.', '', 2), (' \\n', '', 2), ('11.1', '', 2), ('will', '', 2), ('have', '', 2), ('applied', '', 2), ('an', '', 2), ('iterative', '', 2), ('and', '', 2), ('agile', '', 2), ('development', '', 2), ('process', '', 2), ('(', '', 2), ('scrum', '', 2), (')', '', 2), ('to', '', 2), ('developing', '', 2), ('a', '', 2), ('number', '', 2), ('of', '', 2), ('real', '', 2), ('-time', '', 2), ('embedded', '', 2), ('system', '', 2), ('\\n', '', 2), ('products', '', 2), (' \\n', '', 2), ('.', '', 2), ('12', '', 2), ('life', '', 2), ('-', '', 2), ('long', '', 2), ('learning', '', 2), (':', '', 2), ('an', '', 2), ('ability', '', 2), ('to', '', 2), ('identify', '', 2), ('and', '', 2), ('to', '', 2), ('address', '', 2), ('their', '', 2), ('own', '', 2), ('educational', '', 2), ('needs', '', 2), ('in', '', 2), ('a', '', 2), ('changing', '', 2), ('world', '', 2), ('in', '', 2), ('ways', '', 2), ('sufficient', '', 2), ('to', '', 2), ('maintain', '', 2), ('\\n', '', 2), ('their', '', 2), ('competence', '', 2), ('and', '', 2), ('to', '', 2), ('allow', '', 2), ('them', '', 2), ('to', '', 2), ('contribute', '', 2), ('to', '', 2), ('the', '', 2), ('advancement', '', 2), ('of', '', 2), ('knowledge', '', 2), ('.', '', 2), (' \\n \\n   \\n  ', '', 2), ('7/9', '', 2), ('20', '', 2), ('-', '', 2), ('personnal', '', 2), ('ethics', '', 2), ('agreement', '', 2), ('concerning', '', 2), ('university', '', 2), ('\\n', '', 2), ('assignments', '', 2), ('/projects', '', 2), (' \\n \\n', '', 2), ('see', '', 2), ('following', '', 2), ('pages', '', 2), (' \\n   \\n  ', '', 2), ('8/9', '', 2), (' \\n \\n', '', 2), ('personal', '', 2), ('ethics', '', 2), ('agreement', '', 2), ('concerning', '', 2), ('university', '', 2), ('assignments', '', 2), (' \\n \\n', '', 2), ('individual', '', 2), ('assignment', '', 2), (' \\n \\n \\n', '', 2), ('i', '', 2), ('submit', '', 2), ('this', '', 2), ('assignment', '', 2), ('and', '', 2), ('attest', '', 2), ('that', '', 2), ('i', '', 2), ('have', '', 2), ('applied', '', 2), ('all', '', 2), ('the', '', 2), ('appropriate', '', 2), ('rules', '', 2), ('of', '', 2), ('quotation', '', 2), ('and', '', 2), ('referencing', '', 2), ('in', '', 2), ('use', '', 2), ('\\n', '', 2), ('at', '', 2), ('the', '', 2), ('university', '', 2), ('of', '', 2), ('ottawa', '', 2), (',', '', 2), ('https://www.uottawa.ca/current', '', 2), ('-students', '', 2), ('/', '', 2), ('academic', '', 2), ('-integrity', '', 2), ('.', '', 2), ('i', '', 2), ('attest', '', 2), ('that', '', 2), ('this', '', 2), ('work', '', 2), ('\\n', '', 2), ('conforms', '', 2), ('to', '', 2), ('t', '', 2), ('he', '', 2), ('regulations', '', 2), ('on', '', 2), ('academic', '', 2), ('integrity', '', 2), ('of', '', 2), ('the', '', 2), ('university', '', 2), ('of', '', 2), ('ottawa', '', 2), ('.', '', 2), (' \\n \\n \\n \\n', '', 2), ('_', '', 2), ('_', '', 2), ('_', '', 2), ('_', '', 2), ('_', '', 2), ('_', '', 2), ('_', '', 2), ('_', '', 2), ('_', '', 2), ('_', '', 2), ('_', '', 2), ('_', '', 2), ('_', '', 2), ('_', '', 2), ('_', '', 2), ('_', '', 2), ('_', '', 2), ('_', '', 2), ('_', '', 2), ('_', '', 2), ('_', '', 2), ('_', '', 2), ('_', '', 2), ('_', '', 2), ('_', '', 2), ('_', '', 2), ('_', '', 2), ('_', '', 2), ('_', '', 2), ('_', '', 2), ('_', '', 2), ('  ', '', 2), ('_', '', 2), ('_', '', 2), ('_', '', 2), ('_', '', 2), ('_', '', 2), ('_', '', 2), ('_', '', 2), ('_', '', 2), ('_', '', 2), ('_', '', 2), ('_', '', 2), ('_', '', 2), ('_', '', 2), ('_', '', 2), ('_', '', 2), ('_', '', 2), ('_', '', 2), (' \\n', '', 2), ('name', '', 2), (',', '', 2), ('capital', '', 2), ('letters', '', 2), ('    ', '', 2), ('student', '', 2), ('number', '', 2), (' \\n \\n \\n \\n', '', 2), ('_', '', 2), ('_', '', 2), ('_', '', 2), ('_', '', 2), ('_', '', 2), ('_', '', 2), ('_', '', 2), ('_', '', 2), ('_', '', 2), ('_', '', 2), ('_', '', 2), ('_', '', 2), ('_', '', 2), ('_', '', 2), ('_', '', 2), ('_', '', 2), ('_', '', 2), ('_', '', 2), ('_', '', 2), ('_', '', 2), ('_', '', 2), ('_', '', 2), ('_', '', 2), ('_', '', 2), ('_', '', 2), ('_', '', 2), ('_', '', 2), ('_', '', 2), ('_', '', 2), ('_', '', 2), ('_', '', 2), ('  ', '', 2), ('_', '', 2), ('_', '', 2), ('_', '', 2), ('_', '', 2), ('_', '', 2), ('_', '', 2), ('_', '', 2), ('_', '', 2), ('_', '', 2), ('_', '', 2), ('_', '', 2), ('_', '', 2), ('_', '', 2), ('_', '', 2), ('_', '', 2), ('_', '', 2), ('_', '', 2), (' \\n', '', 2), ('signature', '', 2), ('     ', '', 2), ('date', '', 2), (' \\n \\n   \\n  ', '', 2), ('9/9', '', 2), ('personal', '', 2), ('ethics', '', 2), ('agreement', '', 2), ('concerning', '', 2), ('university', '', 2), ('assignments', '', 2), (' \\n \\n', '', 2), ('group', '', 2), ('project', '', 2), (' \\n \\n', '', 2), ('we', '', 2), ('submit', '', 2), ('this', '', 2), ('assignment', '', 2), ('and', '', 2), ('attest', '', 2), ('that', '', 2), ('we', '', 2), ('have', '', 2), ('applied', '', 2), ('all', '', 2), ('the', '', 2), ('appropriate', '', 2), ('rules', '', 2), ('of', '', 2), ('quotation', '', 2), ('and', '', 2), ('referencing', '', 2), ('\\n', '', 2), ('in', '', 2), ('use', '', 2), ('at', '', 2), ('the', '', 2), ('university', '', 2), ('of', '', 2), ('ottawa', '', 2), (',', '', 2), ('https://www.uottawa.ca/current', '', 2), ('-students', '', 2), ('/', '', 2), ('academic', '', 2), ('-integrity', '', 2), ('.', '', 2), (' ', '', 2), ('we', '', 2), ('attest', '', 2), ('that', '', 2), ('this', '', 2), ('\\n', '', 2), ('work', '', 2), ('conforms', '', 2), ('to', '', 2), ('the', '', 2), ('regulations', '', 2), ('on', '', 2), ('academic', '', 2), ('integrity', '', 2), ('of', '', 2), ('the', '', 2), (' ', '', 2), ('university', '', 2), ('of', '', 2), ('ottawa', '', 2), ('.', '', 2), (' ', '', 2), ('we', '', 2), ('understand', '', 2), ('that', '', 2), ('this', '', 2), ('\\n', '', 2), ('assignment', '', 2), ('will', '', 2), ('not', '', 2), ('be', '', 2), ('accepted', '', 2), ('or', '', 2), ('graded', '', 2), ('if', '', 2), ('it', '', 2), ('is', '', 2), ('submitted', '', 2), ('without', '', 2), ('the', '', 2), ('signatures', '', 2), ('of', '', 2), ('all', '', 2), ('group', '', 2), ('members', '', 2), ('.', '', 2), (' \\n \\n \\n \\n', '', 2), ('_', '', 2), ('_', '', 2), ('_', '', 2), ('_', '', 2), ('_', '', 2), ('_', '', 2), ('_', '', 2), ('_', '', 2), ('_', '', 2), ('_', '', 2), ('_', '', 2), ('_', '', 2), ('_', '', 2), ('_', '', 2), ('_', '', 2), ('_', '', 2), ('_', '', 2), ('_', '', 2), ('_', '', 2), ('_', '', 2), ('_', '', 2), ('_', '', 2), ('_', '', 2), ('_', '', 2), ('_', '', 2), ('_', '', 2), ('_', '', 2), ('_', '', 2), ('_', '', 2), ('_', '', 2), ('_', '', 2), ('  ', '', 2), ('_', '', 2), ('_', '', 2), ('_', '', 2), ('_', '', 2), ('_', '', 2), ('_', '', 2), ('_', '', 2), ('_', '', 2), ('_', '', 2), ('_', '', 2), ('_', '', 2), ('_', '', 2), ('_', '', 2), ('_', '', 2), ('_', '', 2), ('_', '', 2), ('_', '', 2), (' \\n', '', 2), ('name', '', 2), (',', '', 2), ('capital', '', 2), ('letters', '', 2), ('    ', '', 2), ('student', '', 2), ('number', '', 2), (' \\n \\n \\n', '', 2), ('_', '', 2), ('_', '', 2), ('_', '', 2), ('_', '', 2), ('_', '', 2), ('_', '', 2), ('_', '', 2), ('_', '', 2), ('_', '', 2), ('_', '', 2), ('_', '', 2), ('_', '', 2), ('_', '', 2), ('_', '', 2), ('_', '', 2), ('_', '', 2), ('_', '', 2), ('_', '', 2), ('_', '', 2), ('_', '', 2), ('_', '', 2), ('_', '', 2), ('_', '', 2), ('_', '', 2), ('_', '', 2), ('_', '', 2), ('_', '', 2), ('_', '', 2), ('_', '', 2), ('_', '', 2), ('_', '', 2), ('  ', '', 2), ('_', '', 2), ('_', '', 2), ('_', '', 2), ('_', '', 2), ('_', '', 2), ('_', '', 2), ('_', '', 2), ('_', '', 2), ('_', '', 2), ('_', '', 2), ('_', '', 2), ('_', '', 2), ('_', '', 2), ('_', '', 2), ('_', '', 2), ('_', '', 2), ('_', '', 2), (' \\n', '', 2), ('signature', '', 2), ('     ', '', 2), ('date', '', 2), (' \\n \\n \\n', '', 2), ('_', '', 2), ('_', '', 2), ('_', '', 2), ('_', '', 2), ('_', '', 2), ('_', '', 2), ('_', '', 2), ('_', '', 2), ('_', '', 2), ('_', '', 2), ('_', '', 2), ('_', '', 2), ('_', '', 2), ('_', '', 2), ('_', '', 2), ('_', '', 2), ('_', '', 2), ('_', '', 2), ('_', '', 2), ('_', '', 2), ('_', '', 2), ('_', '', 2), ('_', '', 2), ('_', '', 2), ('_', '', 2), ('_', '', 2), ('_', '', 2), ('_', '', 2), ('_', '', 2), ('_', '', 2), ('_', '', 2), ('  ', '', 2), ('_', '', 2), ('_', '', 2), ('_', '', 2), ('_', '', 2), ('_', '', 2), ('_', '', 2), ('_', '', 2), ('_', '', 2), ('_', '', 2), ('_', '', 2), ('_', '', 2), ('_', '', 2), ('_', '', 2), ('_', '', 2), ('_', '', 2), ('_', '', 2), ('_', '', 2), (' \\n', '', 2), ('name', '', 2), (',', '', 2), ('capital', '', 2), ('letters', '', 2), ('    ', '', 2), ('student', '', 2), ('number', '', 2), (' \\n \\n \\n', '', 2), ('_', '', 2), ('_', '', 2), ('_', '', 2), ('_', '', 2), ('_', '', 2), ('_', '', 2), ('_', '', 2), ('_', '', 2), ('_', '', 2), ('_', '', 2), ('_', '', 2), ('_', '', 2), ('_', '', 2), ('_', '', 2), ('_', '', 2), ('_', '', 2), ('_', '', 2), ('_', '', 2), ('_', '', 2), ('_', '', 2), ('_', '', 2), ('_', '', 2), ('_', '', 2), ('_', '', 2), ('_', '', 2), ('_', '', 2), ('_', '', 2), ('_', '', 2), ('_', '', 2), ('_', '', 2), ('_', '', 2), ('  ', '', 2), ('_', '', 2), ('_', '', 2), ('_', '', 2), ('_', '', 2), ('_', '', 2), ('_', '', 2), ('_', '', 2), ('_', '', 2), ('_', '', 2), ('_', '', 2), ('_', '', 2), ('_', '', 2), ('_', '', 2), ('_', '', 2), ('_', '', 2), ('_', '', 2), ('_', '', 2), (' \\n', '', 2), ('signature', '', 2), ('     ', '', 2), ('date', '', 2), (' \\n \\n \\n', '', 2), ('_', '', 2), ('_', '', 2), ('_', '', 2), ('_', '', 2), ('_', '', 2), ('_', '', 2), ('_', '', 2), ('_', '', 2), ('_', '', 2), ('_', '', 2), ('_', '', 2), ('_', '', 2), ('_', '', 2), ('_', '', 2), ('_', '', 2), ('_', '', 2), ('_', '', 2), ('_', '', 2), ('_', '', 2), ('_', '', 2), ('_', '', 2), ('_', '', 2), ('_', '', 2), ('_', '', 2), ('_', '', 2), ('_', '', 2), ('_', '', 2), ('_', '', 2), ('_', '', 2), ('_', '', 2), ('_', '', 2), ('  ', '', 2), ('_', '', 2), ('_', '', 2), ('_', '', 2), ('_', '', 2), ('_', '', 2), ('_', '', 2), ('_', '', 2), ('_', '', 2), ('_', '', 2), ('_', '', 2), ('_', '', 2), ('_', '', 2), ('_', '', 2), ('_', '', 2), ('_', '', 2), ('_', '', 2), ('_', '', 2), (' \\n', '', 2), ('name', '', 2), (',', '', 2), ('capital', '', 2), ('letters', '', 2), ('    ', '', 2), ('student', '', 2), ('number', '', 2), (' \\n \\n \\n', '', 2), ('_', '', 2), ('_', '', 2), ('_', '', 2), ('_', '', 2), ('_', '', 2), ('_', '', 2), ('_', '', 2), ('_', '', 2), ('_', '', 2), ('_', '', 2), ('_', '', 2), ('_', '', 2), ('_', '', 2), ('_', '', 2), ('_', '', 2), ('_', '', 2), ('_', '', 2), ('_', '', 2), ('_', '', 2), ('_', '', 2), ('_', '', 2), ('_', '', 2), ('_', '', 2), ('_', '', 2), ('_', '', 2), ('_', '', 2), ('_', '', 2), ('_', '', 2), ('_', '', 2), ('_', '', 2), ('_', '', 2), ('  ', '', 2), ('_', '', 2), ('_', '', 2), ('_', '', 2), ('_', '', 2), ('_', '', 2), ('_', '', 2), ('_', '', 2), ('_', '', 2), ('_', '', 2), ('_', '', 2), ('_', '', 2), ('_', '', 2), ('_', '', 2), ('_', '', 2), ('_', '', 2), ('_', '', 2), ('_', '', 2), (' \\n', '', 2), ('signature', '', 2), ('     ', '', 2), ('date', '', 2), (' \\n \\n \\n', '', 2), ('_', '', 2), ('_', '', 2), ('_', '', 2), ('_', '', 2), ('_', '', 2), ('_', '', 2), ('_', '', 2), ('_', '', 2), ('_', '', 2), ('_', '', 2), ('_', '', 2), ('_', '', 2), ('_', '', 2), ('_', '', 2), ('_', '', 2), ('_', '', 2), ('_', '', 2), ('_', '', 2), ('_', '', 2), ('_', '', 2), ('_', '', 2), ('_', '', 2), ('_', '', 2), ('_', '', 2), ('_', '', 2), ('_', '', 2), ('_', '', 2), ('_', '', 2), ('_', '', 2), ('_', '', 2), ('_', '', 2), ('  ', '', 2), ('_', '', 2), ('_', '', 2), ('_', '', 2), ('_', '', 2), ('_', '', 2), ('_', '', 2), ('_', '', 2), ('_', '', 2), ('_', '', 2), ('_', '', 2), ('_', '', 2), ('_', '', 2), ('_', '', 2), ('_', '', 2), ('_', '', 2), ('_', '', 2), ('_', '', 2), (' \\n', '', 2), ('name', '', 2), (',', '', 2), ('capital', '', 2), ('letters', '', 2), ('    ', '', 2), ('student', '', 2), ('number', '', 2), (' \\n \\n \\n', '', 2), ('_', '', 2), ('_', '', 2), ('_', '', 2), ('_', '', 2), ('_', '', 2), ('_', '', 2), ('_', '', 2), ('_', '', 2), ('_', '', 2), ('_', '', 2), ('_', '', 2), ('_', '', 2), ('_', '', 2), ('_', '', 2), ('_', '', 2), ('_', '', 2), ('_', '', 2), ('_', '', 2), ('_', '', 2), ('_', '', 2), ('_', '', 2), ('_', '', 2), ('_', '', 2), ('_', '', 2), ('_', '', 2), ('_', '', 2), ('_', '', 2), ('_', '', 2), ('_', '', 2), ('_', '', 2), ('_', '', 2), ('  ', '', 2), ('_', '', 2), ('_', '', 2), ('_', '', 2), ('_', '', 2), ('_', '', 2), ('_', '', 2), ('_', '', 2), ('_', '', 2), ('_', '', 2), ('_', '', 2), ('_', '', 2), ('_', '', 2), ('_', '', 2), ('_', '', 2), ('_', '', 2), ('_', '', 2), ('_', '', 2), (' \\n', '', 2), ('signature', '', 2), ('     ', '', 2), ('date', '', 2), (' \\n \\n \\n', '', 2), ('_', '', 2), ('_', '', 2), ('_', '', 2), ('_', '', 2), ('_', '', 2), ('_', '', 2), ('_', '', 2), ('_', '', 2), ('_', '', 2), ('_', '', 2), ('_', '', 2), ('_', '', 2), ('_', '', 2), ('_', '', 2), ('_', '', 2), ('_', '', 2), ('_', '', 2), ('_', '', 2), ('_', '', 2), ('_', '', 2), ('_', '', 2), ('_', '', 2), ('_', '', 2), ('_', '', 2), ('_', '', 2), ('_', '', 2), ('_', '', 2), ('_', '', 2), ('_', '', 2), ('_', '', 2), ('_', '', 2), ('  ', '', 2), ('_', '', 2), ('_', '', 2), ('_', '', 2), ('_', '', 2), ('_', '', 2), ('_', '', 2), ('_', '', 2), ('_', '', 2), ('_', '', 2), ('_', '', 2), ('_', '', 2), ('_', '', 2), ('_', '', 2), ('_', '', 2), ('_', '', 2), ('_', '', 2), ('_', '', 2), (' \\n', '', 2), ('name', '', 2), (',', '', 2), ('capital', '', 2), ('letters', '', 2), ('    ', '', 2), ('student', '', 2), ('number', '', 2), (' \\n \\n \\n', '', 2), ('_', '', 2), ('_', '', 2), ('_', '', 2), ('_', '', 2), ('_', '', 2), ('_', '', 2), ('_', '', 2), ('_', '', 2), ('_', '', 2), ('_', '', 2), ('_', '', 2), ('_', '', 2), ('_', '', 2), ('_', '', 2), ('_', '', 2), ('_', '', 2), ('_', '', 2), ('_', '', 2), ('_', '', 2), ('_', '', 2), ('_', '', 2), ('_', '', 2), ('_', '', 2), ('_', '', 2), ('_', '', 2), ('_', '', 2), ('_', '', 2), ('_', '', 2), ('_', '', 2), ('_', '', 2), ('_', '', 2), ('  ', '', 2), ('_', '', 2), ('_', '', 2), ('_', '', 2), ('_', '', 2), ('_', '', 2), ('_', '', 2), ('_', '', 2), ('_', '', 2), ('_', '', 2), ('_', '', 2), ('_', '', 2), ('_', '', 2), ('_', '', 2), ('_', '', 2), ('_', '', 2), ('_', '', 2), ('_', '', 2), (' \\n', '', 2), ('signature', '', 2), ('     ', '', 2), ('date', '', 2), (' \\n \\n ', '', 2)]\n",
      "Entities [('labs', 'DELIVERABLE'), ('midterm 1', 'EXAM'), ('midterm 2', 'EXAM'), ('final exam', 'EXAM')]\n",
      "Tokens [('1', '', 2), ('\\n ', '', 2), ('ceg3185', '', 2), ('a', '', 2), ('–', '', 2), ('winter', '', 2), ('2023', '', 2), (' \\n', '', 2), ('introduction', '', 2), ('to', '', 2), ('data', '', 2), ('communication', '', 2), ('&', '', 2), ('networking', '', 2), (' \\n \\n', '', 2), ('instructor', '', 2), (':', '', 2), (' ', '', 2), ('prof', '', 2), ('.', '', 2), ('dimitrios', '', 2), ('makrakis', '', 2), (',', '', 2), ('phd', '', 2), (',', '', 2), ('p.eng', '', 2), ('.', '', 2), ('\\n ', '', 2), ('office', '', 2), (':', '', 2), ('cby', '', 2), ('519', '', 2), (',', '', 2), ('e', '', 2), ('-', '', 2), ('mail', '', 2), (':', '', 2), ('dmakraki@uottawa.ca', '', 2), (';', '', 2), (' \\n \\n \\n', '', 2), ('lectures', '', 2), ('and', '', 2), ('tutorials', '', 2), (':', '', 2), (' ', '', 2), ('in', '', 2), ('person', '', 2), ('or', '', 2), ('online', '', 2), (',', '', 2), ('depending', '', 2), ('on', '', 2), ('the', '', 2), ('conditions', '', 2), ('with', '', 2), ('covid-19', '', 2), ('\\n \\n', '', 2), ('consultation', '', 2), (':', '', 2), (' ', '', 2), ('through', '', 2), ('email', '', 2), ('.', '', 2), ('when', '', 2), ('in', '', 2), ('person', '', 2), ('or', '', 2), ('on', '', 2), ('-', '', 2), ('line', '', 2), ('meeting', '', 2), ('is', '', 2), ('needed', '', 2), (',', '', 2), ('it', '', 2), ('will', '', 2), ('be', '', 2), ('arranged', '', 2), ('.', '', 2), ('\\n  \\n', '', 2), ('labs', 'DELIVERABLE', 3), (':', '', 2), (' ', '', 2), ('mondays', '', 2), (',', '', 2), ('13:00', '', 2), ('–', '', 2), ('14:20', '', 2), ('(', '', 2), ('cby', '', 2), ('b402', '', 2), (',', '', 2), ('161', '', 2), ('louis', '', 2), ('pasteur', '', 2), (')', '', 2), ('\\n ', '', 2), ('tuesdays', '', 2), (',', '', 2), ('14.30', '', 2), ('–', '', 2), ('15:50', '', 2), ('(', '', 2), ('cby', '', 2), ('b402', '', 2), (',', '', 2), ('161', '', 2), ('louis', '', 2), ('pasteur', '', 2), (')', '', 2), ('\\n ', '', 2), ('thursdays', '', 2), (',', '', 2), ('11.30', '', 2), ('–', '', 2), ('12:50', '', 2), ('(', '', 2), ('cby', '', 2), ('b402', '', 2), (',', '', 2), ('161', '', 2), ('louis', '', 2), ('pasteur', '', 2), (')', '', 2), ('\\n ', '', 2), ('fridays', '', 2), (',', '', 2), ('17.30', '', 2), ('–', '', 2), ('18:50', '', 2), ('(', '', 2), ('cby', '', 2), ('b402', '', 2), (',', '', 2), ('161', '', 2), ('louis', '', 2), ('pasteur', '', 2), (')', '', 2), ('  \\n', '', 2), ('references', '', 2), (' \\n', '', 2), ('1', '', 2), (':', '', 2), ('w.', '', 2), ('stallings', '', 2), (',', '', 2), ('“', '', 2), ('data', '', 2), ('and', '', 2), ('computer', '', 2), ('communications', '', 2), ('”', '', 2), (',', '', 2), ('pearson', '', 2), ('prentice', '', 2), ('hall', '', 2), ('\\n', '', 2), ('2', '', 2), (':', '', 2), ('tanenbaum', '', 2), (',', '', 2), ('“', '', 2), ('computer', '', 2), ('networ', '', 2), ('ks', '', 2), ('”', '', 2), (',', '', 2), ('pearson', '', 2), ('prentice', '', 2), ('hall', '', 2), ('.', '', 2), ('\\n', '', 2), ('3', '', 2), (':', '', 2), ('j.', '', 2), ('walrand', '', 2), (',', '', 2), ('“', '', 2), ('communications', '', 2), ('networ', '', 2), ('ks', '', 2), (':', '', 2), ('a', '', 2), ('first', '', 2), ('course', '', 2), ('”', '', 2), (',', '', 2), ('r.d', '', 2), ('.', '', 2), ('irwin', '', 2), ('inc', '', 2), ('.', '', 2), ('\\n', '', 2), ('4', '', 2), (':', '', 2), ('d.', '', 2), ('comer', '', 2), (',', '', 2), ('“', '', 2), ('internetworking', '', 2), ('with', '', 2), ('tcp', '', 2), ('/', '', 2), ('ip', '', 2), (',', '', 2), ('vol', '', 2), ('.', '', 2), ('i', '', 2), (':', '', 2), ('principles', '', 2), (',', '', 2), ('protocols', '', 2), ('and', '', 2), ('architecture', '', 2), (',', '', 2), ('pearson', '', 2), ('    ', '', 2), ('prentice', '', 2), ('-', '', 2), ('hall', '', 2), ('.', '', 2), ('5', '', 2), (':', '', 2), ('a.', '', 2), ('leon', '', 2), ('-', '', 2), ('garcia', '', 2), ('&', '', 2), ('i.', '', 2), ('widjaja', '', 2), (',', '', 2), ('“', '', 2), ('communication', '', 2), ('ne', '', 2), ('tworks', '', 2), (':', '', 2), ('fundamental', '', 2), ('concepts', '', 2), ('and', '', 2), ('key', '', 2), ('      \\n    ', '', 2), ('architectures', '', 2), ('”', '', 2), (',', '', 2), ('mcgraw', '', 2), ('-', '', 2), ('hill', '', 2), ('.', '', 2), ('\\n ', '', 2), ('marking', '', 2), ('scheme', '', 2), ('labs', '', 2), ('10', '', 2), ('%', '', 2), (' ', '', 2), ('midterm', 'EXAM', 3), ('1', 'EXAM', 1), ('   ', '', 2), ('20', '', 2), ('%', '', 2), (' ', '', 2), ('midterm', 'EXAM', 3), ('2', 'EXAM', 1), ('20', '', 2), ('%', '', 2), (' ', '', 2), ('final', 'EXAM', 3), ('exam', 'EXAM', 1), (':', '', 2), ('    ', '', 2), ('50', '', 2), ('%', '', 2), ('\\n \\n', '', 2), ('labs', '', 2), ('.', '', 2), ('labs', '', 2), ('will', '', 2), ('be', '', 2), ('in', '', 2), ('-', '', 2), ('person', '', 2), ('.', '', 2), ('the', '', 2), ('lab', '', 2), ('reports', '', 2), ('are', '', 2), ('due', '', 2), ('1', '', 2), ('week', '', 2), ('after', '', 2), ('the', '', 2), ('lab', '', 2), ('takes', '', 2), ('place', '', 2), ('.', '', 2), (' \\n ', '', 2), ('tutorials', '', 2), (':', '', 2), (' ', '', 2), ('students', '', 2), ('will', '', 2), ('be', '', 2), ('provided', '', 2), ('with', '', 2), ('problems', '', 2), ('to', '', 2), ('be', '', 2), ('discussed', '', 2), (' ', '', 2), ('in', '', 2), ('tutorials', '', 2), (',', '', 2), ('in', '', 2), ('advance', '', 2), (',', '', 2), ('so', '', 2), ('that', '', 2), ('they', '', 2), ('try', '', 2), ('\\n', '', 2), ('themselves', '', 2), ('to', '', 2), ('solve', '', 2), ('them', '', 2), ('before', '', 2), (' ', '', 2), ('attending', '', 2), ('the', '', 2), ('tutorial', '', 2), ('session', '', 2), ('.', '', 2), (' \\n \\n', '', 2), ('mid', '', 2), ('-', '', 2), ('term', '', 2), ('exams', '', 2), ('-', '', 2), ('closed', '', 2), ('book', '', 2), ('   ', '', 2), ('dates', '', 2), (':', '', 2), (' ', '', 2), ('tbd', '', 2), ('\\n ', '', 2), ('final', '', 2), ('exam', '', 2), ('-', '', 2), ('closed', '', 2), ('book', '', 2), ('   ', '', 2), ('date', '', 2), (':', '', 2), ('unknown', '', 2), ('(', '', 2), ('on', '', 2), ('-', '', 2), ('line', '', 2), (')', '', 2), (' \\n ', '', 2), ('course', '', 2), ('description', '', 2), ('\\n', '', 2), ('overview', '', 2), ('of', '', 2), ('computer', '', 2), ('networking', '', 2), ('.', '', 2), ('communication', '', 2), ('and', '', 2), ('transmission', '', 2), ('systems', '', 2), ('.', '', 2), ('physical', '', 2), ('layer', '', 2), ('issues', '', 2), (':', '', 2), ('signal', '', 2), ('\\n', '', 2), ('analysis', '', 2), (',', '', 2), ('impairments', '', 2), (',', '', 2), ('analog', '', 2), ('and', '', 2), ('digital', '', 2), ('data', '', 2), ('tran', '', 2), ('smission', '', 2), (',', '', 2), ('channel', '', 2), ('capacity', '', 2), (',', '', 2), ('signal', '', 2), ('encoding', '', 2), ('.', '', 2), ('data', '', 2), ('link', '', 2), ('\\n', '', 2), ('layer', '', 2), (':', '', 2), ('framing', '', 2), (',', '', 2), ('error', '', 2), ('control', '', 2), (',', '', 2), ('flow', '', 2), ('control', '', 2), (',', '', 2), ('line', '', 2), ('conf', '', 2), ('igurations', '', 2), (',', '', 2), ('bridging', '', 2), (',', '', 2), ('protocols', '', 2), (',', '', 2), ('introduction', '', 2), ('to', '', 2), ('lans', '', 2), ('.', '', 2), ('\\n', '', 2), ('network', '', 2), ('layer', '', 2), (':', '', 2), (' ', '', 2), ('circuit', '', 2), ('and', '', 2), ('packet', '', 2), ('switching', '', 2), (';', '', 2), ('intern', '', 2), ('et', '', 2), ('protocols', '', 2), (';', '', 2), ('internet', '', 2), ('architectures', '', 2), (';', '', 2), ('flow', '', 2), ('/', '', 2), ('congestion', '', 2), ('\\n', '', 2), ('control', '', 2), ('and', '', 2), ('routing', '', 2), ('algorithms', '', 2), ('and', '', 2), ('protocols', '', 2), ('.', '', 2), ('\\n \\n', '', 2), ('prerequisite', '', 2), (':', '', 2), (' ', '', 2), ('mat2377', '', 2), ('(', '', 2), ('probability', '', 2), ('and', '', 2), ('statistics', '', 2), ('for', '', 2), ('engineers', '', 2), (')', '', 2), ('or', '', 2), ('corequisite', '', 2), ('elg3126', '', 2), ('\\n', '', 2), ('(', '', 2), ('random', '', 2), ('signals', '', 2), ('and', '', 2), ('systems', '', 2), (')', '', 2), ('.', '', 2), ('\\n \\n', '', 2), ('note', '', 2), (':', '', 2), (' ', '', 2), ('(', '', 2), ('1', '', 2), (')', '', 2), ('problems', '', 2), ('for', '', 2), ('exercising', '', 2), ('will', '', 2), ('be', '', 2), ('provided', '', 2), ('to', '', 2), ('the', '', 2), ('students', '', 2), ('but', '', 2), ('will', '', 2), ('not', '', 2), ('be', '', 2), ('marked', '', 2), ('.', '', 2), ('all', '', 2), ('\\n', '', 2), ('marked', '', 2), ('material', '', 2), ('will', '', 2), ('be', '', 2), ('based', '', 2), ('on', '', 2), ('in', '', 2), ('-', '', 2), ('class', '', 2), ('written', '', 2), ('exams', '', 2), ('.', '', 2), ('this', '', 2), ('reduces', '', 2), ('the', '', 2), ('probability', '', 2), ('of', '', 2), ('plagiarism', '', 2), ('.', '', 2), ('(', '', 2), ('2', '', 2), (')', '', 2), ('the', '', 2), ('current', '', 2), ('plan', '', 2), ('is', '', 2), ('to', '', 2), ('have', '', 2), ('the', '', 2), ('exams', '', 2), ('in', '', 2), ('-', '', 2), ('class', '', 2), ('.', '', 2), ('(', '', 2), ('3', '', 2), (')', '', 2), ('should', '', 2), ('conditions', '', 2), ('require', '', 2), ('to', '', 2), ('\\n', '', 2), ('have', '', 2), ('them', '', 2), ('changed', '', 2), ('and', '', 2), ('happen', '', 2), ('online', '', 2), (',', '', 2), ('they', '', 2), ('will', '', 2), ('be', '', 2), ('contacted', '', 2), ('using', '', 2), ('brightspace', '', 2), ('.', '', 2), ('in', '', 2), ('such', '', 2), ('case', '', 2), (',', '', 2), ('they', '', 2), ('will', '', 2), ('be', '', 2), ('supervised', '', 2), ('online', '', 2), (',', '', 2), ('using', '', 2), ('zoom', '', 2), ('and/or', '', 2), ('re', '', 2), ('spondus', '', 2), ('monitor', '', 2), ('.', '', 2), ('every', '', 2), ('student', '', 2), ('must', '', 2), ('always', '', 2), ('have', '', 2), ('\\n', '', 2), ('his', '', 2), ('/', '', 2), ('her', '', 2), ('camera', '', 2), ('active', '', 2), ('during', '', 2), ('the', '', 2), ('examination', '', 2), ('period', '', 2), ('.', '', 2), ('if', '', 2), ('the', '', 2), ('stude', '', 2), ('nt', '', 2), ('needs', '', 2), ('to', '', 2), ('walk', '', 2), ('away', '', 2), ('for', '', 2), ('2', '', 2), ('\\n ', '', 2), ('“', '', 2), ('nature', '', 2), ('’s', '', 2), ('needs', '', 2), ('”', '', 2), (',', '', 2), ('s', '', 2), ('/', '', 2), ('he', '', 2), ('must', '', 2), ('notify', '', 2), ('the', '', 2), ('proctoring', '', 2), ('team', '', 2), ('that', '', 2), ('s', '', 2), ('/', '', 2), ('he', '', 2), ('is', '', 2), ('going', '', 2), ('to', '', 2), ('be', '', 2), ('away', '', 2), ('.', '', 2), ('please', '', 2), ('note', '', 2), ('\\n', '', 2), ('that', '', 2), ('s', '', 2), ('/', '', 2), ('he', '', 2), ('can', '', 2), ('not', '', 2), ('remain', '', 2), ('absent', '', 2), ('from', '', 2), ('the', '', 2), ('camera', '', 2), ('’s', '', 2), ('view', '', 2), ('for', '', 2), ('more', '', 2), ('than', '', 2), ('10', '', 2), ('mi', '', 2), ('nutes', '', 2), ('in', '', 2), ('total', '', 2), ('over', '', 2), ('the', '', 2), ('\\n', '', 2), ('examination', '', 2), ('period', '', 2), ('.', '', 2), ('(', '', 2), ('4', '', 2), (')', '', 2), ('should', '', 2), ('an', '', 2), ('exam', '', 2), ('be', '', 2), ('conduc', '', 2), ('ted', '', 2), ('through', '', 2), ('brightspace', '', 2), (',', '', 2), ('only', '', 2), ('the', '', 2), ('device', '', 2), ('used', '', 2), ('\\n', '', 2), ('to', '', 2), ('connect', '', 2), ('to', '', 2), ('brightspace', '', 2), ('(', '', 2), ('to', '', 2), ('take', '', 2), ('the', '', 2), ('exam', '', 2), (')', '', 2), ('is', '', 2), ('a', '', 2), ('llowed', '', 2), ('to', '', 2), ('be', '', 2), ('in', '', 2), ('the', '', 2), ('proximity', '', 2), ('of', '', 2), ('the', '', 2), ('student', '', 2), (';', '', 2), ('all', '', 2), ('\\n', '', 2), ('other', '', 2), ('electronic', '', 2), ('devices', '', 2), (',', '', 2), ('includi', '', 2), ('ng', '', 2), ('smartphones', '', 2), (',', '', 2), ('tablets', '', 2), ('etc', '', 2), ('.', '', 2), ('have', '', 2), ('to', '', 2), ('be', '', 2), ('far', '', 2), ('from', '', 2), ('the', '', 2), ('student', '', 2), ('and', '', 2), ('\\n', '', 2), ('have', '', 2), ('to', '', 2), ('be', '', 2), ('switched', '', 2), ('off', '', 2), ('.', '', 2), (' ', '', 2), ('also', '', 2), ('books', '', 2), (',', '', 2), ('notes', '', 2), ('etc', '', 2), ('.', '', 2), ('ca', '', 2), ('nnot', '', 2), ('be', '', 2), ('close', '', 2), ('to', '', 2), ('the', '', 2), ('student', '', 2), ('.', '', 2), ('(', '', 2), ('5', '', 2), (')', '', 2), ('the', '', 2), ('student', '', 2), ('can', '', 2), ('\\n', '', 2), ('communicate', '', 2), ('only', '', 2), ('with', '', 2), ('the', '', 2), ('proctoring', '', 2), ('pe', '', 2), ('rsonnel', '', 2), ('during', '', 2), ('the', '', 2), ('examinat', '', 2), ('ion', '', 2), ('time', '', 2), ('.', '', 2), ('communication', '', 2), ('\\n', '', 2), ('with', '', 2), ('any', '', 2), ('other', '', 2), ('person', '', 2), ('during', '', 2), ('the', '', 2), ('examination', '', 2), ('period', '', 2), ('is', '', 2), ('not', '', 2), ('allowed', '', 2), ('.', '', 2), ('if', '', 2), ('it', '', 2), ('happens', '', 2), (',', '', 2), ('it', '', 2), ('will', '', 2), ('be', '', 2), ('considered', '', 2), ('as', '', 2), ('attempt', '', 2), ('to', '', 2), ('plagia', '', 2), ('rize', '', 2), ('and', '', 2), ('the', '', 2), ('process', '', 2), ('for', '', 2), ('breach', '', 2), ('of', '', 2), (' ', '', 2), ('academic', '', 2), ('integrity', '', 2), ('will', '', 2), ('be', '', 2), ('\\n', '', 2), ('initiated', '', 2), ('.', '', 2), ('(', '', 2), ('6', '', 2), (')', '', 2), ('if', '', 2), ('an', '', 2), ('exam', '', 2), ('does', '', 2), ('not', '', 2), ('take', '', 2), ('place', '', 2), ('in', '', 2), ('-', '', 2), ('cla', '', 2), ('ss', '', 2), (',', '', 2), ('a', '', 2), ('student', '', 2), ('writing', '', 2), ('the', '', 2), ('exam', '', 2), ('must', '', 2), ('be', '', 2), ('alone', '', 2), ('in', '', 2), ('\\n', '', 2), ('the', '', 2), ('physical', '', 2), ('space', '', 2), ('s', '', 2), ('/', '', 2), ('he', '', 2), ('is', '', 2), ('writing', '', 2), ('th', '', 2), ('e', '', 2), ('exam', '', 2), ('.', '', 2), ('(', '', 2), ('7', '', 2), (')', '', 2), ('plagiarism', '', 2), ('detection', '', 2), ('tools', '', 2), ('will', '', 2), ('be', '', 2), ('used', '', 2), (' ', '', 2), ('to', '', 2), ('identify', '', 2), ('\\n', '', 2), ('plagiarism', '', 2), ('.', '', 2), ('if', '', 2), ('plagiarism', '', 2), ('is', '', 2), ('identified', '', 2), (',', '', 2), ('the', '', 2), ('stud', '', 2), ('ent', '', 2), ('will', '', 2), ('be', '', 2), ('reported', '', 2), ('to', '', 2), ('the', '', 2), ('administration', '', 2), ('and', '', 2), ('a', '', 2), ('\\n', '', 2), ('formal', '', 2), ('investigation', '', 2), (',', '', 2), ('which', '', 2), ('might', '', 2), ('lead', '', 2), ('to', '', 2), ('expulsion', '', 2), (',', '', 2), ('will', '', 2), ('be', '', 2), ('initi', '', 2), ('alized', '', 2), ('.', '', 2), ('(', '', 2), ('8)', '', 2), ('every', '', 2), ('student', '', 2), ('taking', '', 2), ('\\n', '', 2), ('an', '', 2), ('examination', '', 2), ('will', '', 2), ('have', '', 2), ('to', '', 2), ('upload', '', 2), ('at', '', 2), ('the', '', 2), ('beginning', '', 2), ('of', '', 2), ('the', '', 2), ('course', '', 2), ('to', '', 2), ('brightspace', '', 2), ('a', '', 2), ('signed', '', 2), ('\\n', '', 2), ('academic', '', 2), ('integrity', '', 2), ('statement', '', 2), ('form', '', 2), ('.', '', 2), ('if', '', 2), ('such', '', 2), ('form', '', 2), ('is', '', 2), ('not', '', 2), ('uploaded', '', 2), (',', '', 2), ('the', '', 2), ('student', '', 2), ('will', '', 2), ('not', '', 2), ('be', '', 2), ('allowed', '', 2), ('\\n', '', 2), ('to', '', 2), ('take', '', 2), ('the', '', 2), ('exam', '', 2), (',', '', 2), ('ort', '', 2), ('if', '', 2), ('it', '', 2), ('is', '', 2), ('ta', '', 2), ('ken', '', 2), ('accidentally', '', 2), (',', '', 2), ('the', '', 2), ('exam', '', 2), ('will', '', 2), ('not', '', 2), ('be', '', 2), (' ', '', 2), ('marked', '', 2), ('and', '', 2), ('will', '', 2), ('receive', '', 2), ('failure', '', 2), ('\\n', '', 2), ('grade', '', 2), ('.', '', 2), ('(', '', 2), ('9', '', 2), (')', '', 2), ('in', '', 2), ('order', '', 2), ('to', '', 2), ('pass', '', 2), ('the', '', 2), ('c', '', 2), ('ourse', '', 2), (',', '', 2), ('you', '', 2), ('need', '', 2), ('to', '', 2), ('receive', '', 2), ('at', '', 2), ('least', '', 2), ('50', '', 2), ('%', '', 2), ('average', '', 2), ('in', '', 2), ('the', '', 2), ('lab', '', 2), ('exercises', '', 2), ('.', '', 2), ('\\n \\n', '', 2), ('course', '', 2), ('delivery', '', 2), ('schedule', '', 2), ('(', '', 2), ('chapters', '', 2), ('refer', '', 2), ('to', '', 2), ('william', '', 2), ('stallings', '', 2), (',', '', 2), ('10th', '', 2), ('addition', '', 2), (')', '', 2), ('\\n ', '', 2), ('1', '', 2), ('.', '', 2), ('data', '', 2), ('transmission', '', 2), ('(', '', 2), ('chapter', '', 2), ('3', '', 2), (')', '', 2), ('1', '', 2), ('week', '', 2), (' \\n', '', 2), ('concepts', '', 2), ('and', '', 2), ('terminology', '', 2), (',', '', 2), ('introduction', '', 2), ('to', '', 2), ('four', '', 2), ('ier', '', 2), ('transform', '', 2), ('and', '', 2), ('signal', '', 2), ('analysis', '', 2), (',', '', 2), ('analog', '', 2), ('and', '', 2), ('\\n', '', 2), ('digital', '', 2), ('data', '', 2), ('transmission', '', 2), (',', '', 2), ('transmis', '', 2), ('sion', '', 2), ('impairments', '', 2), (',', '', 2), ('channel', '', 2), ('capacity', '', 2), ('.', '', 2), (' \\n \\n', '', 2), ('2', '', 2), ('.', '', 2), ('transmission', '', 2), ('media', '', 2), ('(', '', 2), ('chapter', '', 2), ('4', '', 2), (')', '', 2), ('0.5', '', 2), ('week', '', 2), (' \\n', '', 2), ('guided', '', 2), ('transmission', '', 2), ('media', '', 2), (',', '', 2), ('wireless', '', 2), ('transmissi', '', 2), ('on', '', 2), ('and', '', 2), ('propagation', '', 2), (',', '', 2), ('line', '', 2), ('-', '', 2), ('of', '', 2), ('-', '', 2), ('sight', '', 2), ('transmission', '', 2), ('.', '', 2), (' \\n ', '', 2), ('3', '', 2), ('.', '', 2), ('signal', '', 2), ('encoding', '', 2), ('techniques', '', 2), ('(', '', 2), ('chapter', '', 2), ('5', '', 2), (')', '', 2), ('1', '', 2), ('week', '', 2), (' \\n', '', 2), ('digital', '', 2), ('data', '', 2), ('to', '', 2), ('digital', '', 2), ('signals', '', 2), (',', '', 2), ('digital', '', 2), ('data', '', 2), ('to', '', 2), ('analog', '', 2), ('signals', '', 2), (',', '', 2), ('analog', '', 2), ('data', '', 2), ('to', '', 2), ('digital', '', 2), ('signals', '', 2), (',', '', 2), ('analog', '', 2), ('\\n', '', 2), ('data', '', 2), ('to', '', 2), ('analog', '', 2), ('signals', '', 2), ('.', '', 2), (' \\n ', '', 2), ('4', '', 2), ('.', '', 2), ('multiplexing', '', 2), ('(', '', 2), ('chapter', '', 2), ('8)', '', 2), ('0.5', '', 2), ('week', '', 2), (' \\n', '', 2), ('frequency', '', 2), ('division', '', 2), ('multiplexing', '', 2), (',', '', 2), ('synchronous', '', 2), ('time', '', 2), ('division', '', 2), ('multiplexing', '', 2), (',', '', 2), ('statistical', '', 2), ('time', '', 2), ('division', '', 2), ('\\n', '', 2), ('multiplexing', '', 2), (',', '', 2), ('spread', '', 2), ('spectrum', '', 2), ('(', '', 2), ('freque', '', 2), ('ncy', '', 2), ('hopping', '', 2), (',', '', 2), ('direct', '', 2), ('sequence', '', 2), (')', '', 2), ('.', '', 2), (' \\n \\n', '', 2), ('5', '', 2), ('.', '', 2), ('digital', '', 2), ('data', '', 2), ('communication', '', 2), ('techniques', '', 2), ('(', '', 2), ('chapter', '', 2), ('6', '', 2), (')', '', 2), ('1', '', 2), ('week', '', 2), (' \\n', '', 2), ('asynchronous', '', 2), ('and', '', 2), ('synchronous', '', 2), ('transmi', '', 2), ('ssion', '', 2), (',', '', 2), ('type', '', 2), ('of', '', 2), ('errors', '', 2), (',', '', 2), ('error', '', 2), ('detection', '', 2), (',', '', 2), ('error', '', 2), ('correction', '', 2), (',', '', 2), ('line', '', 2), ('\\n', '', 2), ('configuration', '', 2), (',', '', 2), ('interfacing', '', 2), ('.', '', 2), ('  ', '', 2), ('6', '', 2), ('.', '', 2), ('data', '', 2), ('link', '', 2), ('control', '', 2), ('(', '', 2), ('chapter', '', 2), ('7', '', 2), (')', '', 2), ('1', '', 2), ('week', '', 2), (' \\n', '', 2), ('flow', '', 2), ('control', '', 2), (',', '', 2), ('error', '', 2), ('control', '', 2), (',', '', 2), ('hdlc', '', 2), ('.', '', 2), (' \\n ', '', 2), ('7', '', 2), ('.', '', 2), ('data', '', 2), ('communications', '', 2), ('and', '', 2), ('ne', '', 2), ('tworking', '', 2), ('(', '', 2), ('chapters', '', 2), ('1', '', 2), (',', '', 2), ('2', '', 2), (')', '', 2), ('0.5', '', 2), ('week', '', 2), (' \\n', '', 2), ('communications', '', 2), ('model', '', 2), (',', '', 2), ('data', '', 2), ('communications', '', 2), (',', '', 2), ('data', '', 2), ('communica', '', 2), ('tion', '', 2), ('networking', '', 2), (',', '', 2), ('protocol', '', 2), ('\\n', '', 2), ('architecture', '', 2), (',', '', 2), ('osi', '', 2), ('protocol', '', 2), ('architecture', '', 2), (',', '', 2), ('tcp', '', 2), ('/', '', 2), ('ip', '', 2), ('protocol', '', 2), ('architecture', '', 2), ('.', '', 2), ('\\n \\n', '', 2), ('8', '', 2), ('.', '', 2), ('local', '', 2), ('area', '', 2), ('network', '', 2), ('overview', '', 2), (',', '', 2), ('high', '', 2), ('-', '', 2), ('speed', '', 2), ('lans', '', 2), (',', '', 2), ('wireless', '', 2), ('lans', '', 2), ('(', '', 2), ('chapters', '', 2), ('11', '', 2), (',', '', 2), ('12', '', 2), (',', '', 2), ('13', '', 2), (')', '', 2), ('1.5', '', 2), ('\\n', '', 2), ('weeks', '', 2), (' \\n', '', 2), ('topologies', '', 2), ('and', '', 2), ('transmission', '', 2), ('media', '', 2), (',', '', 2), ('lan', '', 2), ('protocol', '', 2), (' ', '', 2), ('architecture', '', 2), (',', '', 2), ('bridges', '', 2), (',', '', 2), ('switches', '', 2), ('.', '', 2), ('ethernet', '', 2), (',', '', 2), ('\\n', '', 2), ('token', '', 2), ('ring', '', 2), (',', '', 2), ('fiber', '', 2), ('channel', '', 2), ('.', '', 2), ('  \\n', '', 2), ('9', '', 2), ('.', '', 2), ('circuit', '', 2), ('switching', '', 2), ('and', '', 2), ('packet', '', 2), ('switching', '', 2), ('(', '', 2), ('chapter', '', 2), ('9', '', 2), (')', '', 2), ('1', '', 2), ('week', '', 2), (' \\n', '', 2), ('switching', '', 2), ('networks', '', 2), (',', '', 2), ('circuit', '', 2), ('-', '', 2), ('switc', '', 2), ('hing', '', 2), ('network', '', 2), ('and', '', 2), ('concepts', '', 2), (',', '', 2), ('packet', '', 2), ('-', '', 2), ('switching', '', 2), ('principles', '', 2), (',', '', 2), ('x.25', '', 2), (',', '', 2), ('\\n', '', 2), ('frame', '', 2), ('relay', '', 2), ('.', '', 2), (' ', '', 2), ('3', '', 2), ('\\n  \\n', '', 2), ('10', '', 2), ('.', '', 2), ('congestion', '', 2), ('control', '', 2), ('in', '', 2), ('data', '', 2), ('networks', '', 2), ('(', '', 2), ('chapter', '', 2), ('20', '', 2), (')', '', 2), ('1', '', 2), ('week', '', 2), (' \\n', '', 2), ('effects', '', 2), ('of', '', 2), ('congestion', '', 2), (',', '', 2), ('congestion', '', 2), ('control', '', 2), (',', '', 2), ('traffic', '', 2), ('management', '', 2), ('.', '', 2), (' \\n ', '', 2), ('11', '', 2), ('.', '', 2), ('internetwork', '', 2), ('protocols', '', 2), ('(', '', 2), ('chapter', '', 2), ('14', '', 2), (')', '', 2), ('1.5', '', 2), ('weeks', '', 2), (' \\n', '', 2), ('tcp', '', 2), ('architecture', '', 2), ('and', '', 2), ('osi', '', 2), (',', '', 2), ('basic', '', 2), ('protocol', '', 2), ('functions', '', 2), (',', '', 2), ('principles', '', 2), ('of', '', 2), ('internetworking', '', 2), (',', '', 2), ('connectionless', '', 2), ('\\n', '', 2), ('internetworking', '', 2), (',', '', 2), ('internet', '', 2), ('protocol', '', 2), (' ', '', 2), ('(', '', 2), ('ipv4', '', 2), (',', '', 2), ('arp', '', 2), (',', '', 2), ('icmp', '', 2), (')', '', 2), (',', '', 2), ('ipv6', '', 2), (',', '', 2), ('tcp', '', 2), ('.', '', 2), (' \\n \\n', '', 2), ('12', '', 2), ('.', '', 2), ('routing', '', 2), ('and', '', 2), ('routing', '', 2), ('protocols', '', 2), ('(', '', 2), ('chapters', '', 2), ('19', '', 2), (')', '', 2), ('1', '', 2), ('week', '', 2), (' \\n', '', 2), ('routing', '', 2), ('in', '', 2), ('packet', '', 2), ('-', '', 2), ('switching', '', 2), ('networks', '', 2), (',', '', 2), ('least', '', 2), ('-', '', 2), ('c', '', 2), ('ost', '', 2), ('algorithms', '', 2), ('.', '', 2), ('routing', '', 2), ('protocols', '', 2), ('(', '', 2), ('rip', '', 2), (',', '', 2), ('ospf', '', 2), (',', '', 2), ('\\n', '', 2), ('bgp', '', 2), (')', '', 2), ('.', '', 2), ('  ', '', 2), ('13', '', 2), ('.', '', 2), ('other', '', 2), ('topics', '', 2), ('and', '', 2), ('reviews', '', 2), ('1', '', 2), ('week', '', 2), (' \\n', '', 2), ('concepts', '', 2), ('of', '', 2), ('atm', '', 2), (',', '', 2), ('cellular', '', 2), ('networks', '', 2), ('a', '', 2), ('nd', '', 2), ('/', '', 2), ('or', '', 2), ('qos', '', 2), ('technologies', '', 2), ('for', '', 2), ('ip', '', 2), ('networks', '', 2), ('.', '', 2)]\n"
     ]
    },
    {
     "name": "stdout",
     "output_type": "stream",
     "text": [
      "Entities [('midterm', 'EXAM'), ('final exam', 'EXAM')]\n",
      "Tokens [('csi', '', 2), ('3131', '', 2), ('winter', '', 2), ('2023', '', 2), ('\\n', '', 2), ('operating', '', 2), ('systems', '', 2), ('\\n', '', 2), ('instructor', '', 2), (':', '', 2), ('mohammad', '', 2), ('alnabhan', '', 2), ('\\n', '', 2), ('e', '', 2), ('-', '', 2), ('mail', '', 2), (':', '', 2), ('malnabha@uottawa.ca', '', 2), ('\\n', '', 2), ('office', '', 2), (':', '', 2), ('ste', '', 2), ('5084', '', 2), ('\\n', '', 2), ('office', '', 2), ('hours', '', 2), (':', '', 2), ('monday', '', 2), ('@', '', 2), ('3:00', '', 2), ('pm', '', 2), ('–', '', 2), ('4:00', '', 2), ('pm', '', 2), ('\\n', '', 2), ('course', '', 2), ('website', '', 2), (':', '', 2), ('brightspace', '', 2), ('\\n', '', 2), ('enquiry', '', 2), ('center', '', 2), (':', '', 2), ('brightspace', '', 2), ('discussion', '', 2), ('group', '', 2), ('–', '', 2), ('no', '', 2), ('emailstextbook', '', 2), ('and', '', 2), ('reading', '', 2), ('\\n', '', 2), ('course', '', 2), ('notes', '', 2), (':', '', 2), ('\\n', '', 2), ('❑', '', 2), ('made', '', 2), ('available', '', 2), ('on', '', 2), ('pdf', '', 2), ('files', '', 2), ('\\n', '', 2), ('textbook', '', 2), (':', '', 2), ('\\n', '', 2), ('operating', '', 2), ('system', '', 2), ('concepts', '', 2), ('by', '', 2), ('silberchatz', '', 2), (',', '', 2), ('galvin', '', 2), (',', '', 2), ('gange', '', 2), (',', '', 2), ('\\n', '', 2), ('10thed', '', 2), ('.', '', 2), (',', '', 2), ('john', '', 2), ('wiley', '', 2), ('&', '', 2), ('sons', '', 2), ('inc', '', 2), ('.', '', 2), (',', '', 2), ('2018', '', 2), ('\\n', '', 2), ('other', '', 2), ('useful', '', 2), ('books', '', 2), (':', '', 2), ('\\n', '', 2), ('“', '', 2), ('operating', '', 2), ('systems', '', 2), (':', '', 2), ('internals', '', 2), ('and', '', 2), ('design', '', 2), ('principles', '', 2), ('”', '', 2), ('by', '', 2), ('william', '', 2), ('\\n', '', 2), ('stallings', '', 2), (',', '', 2), ('9th', '', 2), ('ed', '', 2), ('.', '', 2), (',', '', 2), ('pearson', '', 2), (',', '', 2), ('2018', '', 2), ('.', '', 2), ('\\n', '', 2), ('“', '', 2), ('modern', '', 2), ('operating', '', 2), ('systems', '', 2), ('”', '', 2), ('by', '', 2), ('andrew', '', 2), ('s.', '', 2), ('tanenbaum', '', 2), (',', '', 2), ('4thed', '', 2), ('.', '', 2), (',', '', 2), ('\\n', '', 2), ('pearson', '', 2), (',', '', 2), ('2015', '', 2), ('.', '', 2), ('schedule', '', 2), ('\\n', '', 2), ('lectures', '', 2), (':', '', 2), ('\\n', '', 2), ('tuesdays', '', 2), ('16:00', '', 2), ('–', '', 2), ('17:20', '', 2), ('ste', '', 2), ('b0138', '', 2), ('\\n', '', 2), ('thursdays', '', 2), ('14:30', '', 2), ('–', '', 2), ('15:50', '', 2), ('ste', '', 2), ('b0138', '', 2), ('\\n', '', 2), ('lab', '', 2), ('/', '', 2), ('tutorial', '', 2), ('\\n', '', 2), ('tutorials', '', 2), ('1', '', 2), ('(', '', 2), ('thurs', '', 2), (')', '', 2), ('     ', '', 2), ('16:00', '', 2), ('–', '', 2), ('17:20', '', 2), ('crx', '', 2), ('c030', '', 2), ('\\n', '', 2), ('tutorials', '', 2), ('2', '', 2), ('(', '', 2), ('thurs', '', 2), (')', '', 2), ('     ', '', 2), ('16:00', '', 2), ('–', '', 2), ('17:20', '', 2), ('crx', '', 2), ('c040', '', 2), ('\\n', '', 2), ('lab', '', 2), ('1', '', 2), ('(', '', 2), ('tues', '', 2), (')', '', 2), ('17:30', '', 2), ('–', '', 2), ('18:50', '', 2), ('cby', '', 2), ('b02', '', 2), ('\\n', '', 2), ('lab', '', 2), ('2', '', 2), ('(', '', 2), ('thurs', '', 2), (')', '', 2), ('17:30', '', 2), ('–', '', 2), ('18:50', '', 2), ('cby', '', 2), ('b02', '', 2), ('\\n', '', 2), ('labs', '', 2), ('and', '', 2), ('tutorials', '', 2), ('will', '', 2), ('start', '', 2), ('in', '', 2), ('week', '', 2), ('2', '', 2), ('.', '', 2), ('\\n', '', 2), ('tutorials', '', 2), (':', '', 2), ('theoretical', '', 2), ('exercises', '', 2), ('.', '', 2), ('\\n', '', 2), ('labs', '', 2), (':', '', 2), ('to', '', 2), ('gain', '', 2), ('experience', '', 2), ('with', '', 2), ('tools', '', 2), ('used', '', 2), ('to', '', 2), ('complete', '', 2), ('the', '', 2), ('\\n', '', 2), ('assignments.grading', '', 2), ('\\n', '', 2), ('assignements', '', 2), ('(', '', 2), ('a', '', 2), ('):', '', 2), ('15', '', 2), ('%', '', 2), ('  ', '', 2), ('3', '', 2), ('or', '', 2), ('4', '', 2), ('(', '', 2), ('20', '', 2), ('%', '', 2), ('if', '', 2), ('4', '', 2), ('assignments', '', 2), (')', '', 2), ('\\n', '', 2), ('participation', '', 2), (':', '', 2), ('5', '', 2), ('%', '', 2), ('(', '', 2), ('new', '', 2), (')', '', 2), ('\\n', '', 2), ('midterm', 'EXAM', 3), ('(', '', 2), ('m', '', 2), ('):', '', 2), ('30', '', 2), ('%', '', 2), ('\\n', '', 2), ('final', 'EXAM', 3), ('exam', 'EXAM', 1), ('(', '', 2), ('e', '', 2), ('):', '', 2), ('50', '', 2), ('%', '', 2), ('\\n', '', 2), ('attendance', '', 2), ('policy', '', 2), (':', '', 2), ('\\n', '', 2), ('a', '', 2), ('minimum', '', 2), ('of', '', 2), ('80', '', 2), ('%', '', 2), ('attendance', '', 2), ('policy', '', 2), ('is', '', 2), ('being', '', 2), ('forced', '', 2), ('.', '', 2), ('\\n', '', 2), ('no', '', 2), ('marks', '', 2), ('on', '', 2), ('attendance', '', 2), (',', '', 2), ('but', '', 2), ('we', '', 2), ('will', '', 2), ('counting', '', 2), ('participations', '', 2), ('during', '', 2), ('\\n', '', 2), ('lectures', '', 2), ('.', '', 2), ('\\n', '', 2), ('extra', '', 2), ('marks', '', 2), ('may', '', 2), ('depend', '', 2), ('on', '', 2), ('attendance', '', 2), ('and', '', 2), ('participation', '', 2), ('\\n', '', 2), ('you', '', 2), ('must', '', 2), ('have', '', 2), ('at', '', 2), ('least', '', 2), ('50', '', 2), ('%', '', 2), ('on', '', 2), ('m+e', '', 2), (' ', '', 2), ('to', '', 2), ('pass', '', 2), ('the', '', 2), ('course.assignments', '', 2), ('and', '', 2), ('exams', '', 2), ('\\n', '', 2), ('assignments', '', 2), ('\\n', '', 2), ('c', '', 2), ('-', '', 2), ('programming', '', 2), ('under', '', 2), ('unix', '', 2), ('/', '', 2), ('linux', '', 2), ('(', '', 2), ('process', '', 2), ('creation', '', 2), ('/', '', 2), ('ipc', '', 2), (')', '', 2), ('\\n', '', 2), ('process', '', 2), ('synchronization', '', 2), ('using', '', 2), ('semaphores', '', 2), ('(', '', 2), ('in', '', 2), ('java', '', 2), (')', '', 2), ('\\n', '', 2), ('implementing', '', 2), ('parts', '', 2), ('of', '', 2), ('a', '', 2), ('basic', '', 2), ('os', '', 2), ('in', '', 2), ('a', '', 2), ('simple', '', 2), ('simulator', '', 2), ('(', '', 2), ('in', '', 2), ('java', '', 2), (')', '', 2), ('\\n', '', 2), ('exams', '', 2), ('\\n', '', 2), ('closed', '', 2), ('book', '', 2), ('\\n', '', 2), ('diverse', '', 2), ('format', '', 2), (':', '', 2), ('multiple', '', 2), ('choice', '', 2), (',', '', 2), ('answer', '', 2), ('questions', '', 2), (',', '', 2), ('solve', '', 2), ('problems', '', 2), ('\\n', '', 2), ('need', '', 2), ('to', '', 2), ('know', '', 2), ('and', '', 2), ('understand', '', 2), ('concepts', '', 2), ('and', '', 2), ('algorithms', '', 2), (',', '', 2), ('as', '', 2), ('well', '', 2), ('as', '', 2), ('\\n', '', 2), ('being', '', 2), ('able', '', 2), ('to', '', 2), ('apply', '', 2), ('this', '', 2), ('knowledge', '', 2), ('\\n', '', 2), ('midterm', '', 2), ('\\n', '', 2), ('february', '', 2), ('16', '', 2), (',', '', 2), ('2022', '', 2), ('(', '', 2), ('thursday', '', 2), (',', '', 2), ('14:30', '', 2), ('–', '', 2), ('15:20', '', 2), ('during', '', 2), ('class', '', 2), (')', '', 2), (' \\n', '', 2), ('tentative', '', 2), ('material', '', 2), (',', '', 2), ('module', '', 2), ('1', '', 2), ('to', '', 2), ('5', '', 2), (',', '', 2), ('process', '', 2), ('synchronization', '', 2), ('(', '', 2), ('ch', '', 2), ('1', '', 2), ('to', '', 2), ('6', '', 2), ('\\n', '', 2), ('in', '', 2), ('textbook', '', 2), (')', '', 2), ('.', '', 2), ('\\n', '', 2), ('final', '', 2), ('\\n', '', 2), ('comprehensive', '', 2), (',', '', 2), ('with', '', 2), ('more', '', 2), ('weight', '', 2), ('on', '', 2), ('post', '', 2), ('-midterm', '', 2), ('topics', '', 2), ('(', '', 2), ('tbd)office', '', 2), ('hours', '', 2), ('and', '', 2), ('after', '', 2), ('lectures', '', 2), ('\\n', '', 2), ('what', '', 2), ('are', '', 2), ('students', '', 2), ('expecting', '', 2), (':', '', 2), ('\\n', '', 2), ('during', '', 2), ('lectures', '', 2), ('?', '', 2), ('the', '', 2), ('kind', '', 2), ('of', '', 2), ('questions', '', 2), ('the', '', 2), ('professor', '', 2), ('will', '', 2), ('answer', '', 2), ('!', '', 2), ('\\n', '', 2), ('after', '', 2), ('lectures', '', 2), ('questions', '', 2), ('?', '', 2), ('\\n', '', 2), ('during', '', 2), ('labs', '', 2), ('?', '', 2), ('\\n', '', 2), ('during', '', 2), ('tutorials', '', 2), ('?', '', 2), ('\\n', '', 2), ('professor', '', 2), ('office', '', 2), ('hour', '', 2), ('?', '', 2), ('\\n', '', 2), ('ta', '', 2), ('office', '', 2), ('hour?course', '', 2), ('organization', '', 2), ('questions', '', 2), ('?', '', 2), ('\\n', '', 2), ('course', '', 2), ('objectives', '', 2), ('\\n', '', 2), ('you', '', 2), ('are', '', 2), ('expected', '', 2), ('to', '', 2), (':', '', 2), ('\\n', '', 2), ('learn', '', 2), ('basic', '', 2), ('concepts', '', 2), ('and', '', 2), ('principles', '', 2), ('behind', '', 2), ('the', '', 2), ('design', '', 2), ('of', '', 2), ('operating', '', 2), ('\\n', '', 2), ('systems', '', 2), ('\\n', '', 2), ('get', '', 2), ('exposed', '', 2), ('to', '', 2), ('the', '', 2), ('problems', '', 2), ('operating', '', 2), ('systems', '', 2), ('designers', '', 2), ('face', '', 2), (',', '', 2), ('explore', '', 2), ('\\n', '', 2), ('the', '', 2), ('tradeoffs', '', 2), ('and', '', 2), ('solutions', '', 2), ('to', '', 2), ('these', '', 2), ('problems', '', 2), ('\\n', '', 2), ('see', '', 2), ('how', '', 2), ('are', '', 2), ('these', '', 2), ('issues', '', 2), ('solved', '', 2), ('in', '', 2), ('practice', '', 2), ('in', '', 2), ('real', '', 2), ('operating', '', 2), ('systems', '', 2), ('\\n', '', 2), ('be', '', 2), ('able', '', 2), ('to', '', 2), ('apply', '', 2), ('these', '', 2), ('concepts', '', 2), ('and', '', 2), ('techniques', '', 2), ('in', '', 2), ('relevant', '', 2), ('\\n', '', 2), ('circumstances', '', 2), ('\\n', '', 2), ('get', '', 2), ('some', '', 2), ('hands', '', 2), ('-on', '', 2), ('experience', '', 2), ('programming', '', 2), ('os', '', 2), ('type', '', 2), ('problems', '', 2), ('(', '', 2), ('process', '', 2), ('\\n', '', 2), ('creation', '', 2), (',', '', 2), ('inter', '', 2), ('-process', '', 2), ('-communications', '', 2), (',', '', 2), ('process', '', 2), ('synchronization', '', 2), (',', '', 2), ('mutual', '', 2), ('\\n', '', 2), ('exclusion', '', 2), (',', '', 2), (' ', '', 2), ('deadlock', '', 2), ('avoidance)topics', '', 2), ('covered', '', 2), ('\\n', '', 2), ('what', '', 2), ('operating', '', 2), ('systems', '', 2), ('do', '', 2), ('\\n', '', 2), ('computer', '', 2), ('-system', '', 2), ('organization', '', 2), ('\\n', '', 2), ('computer', '', 2), ('-system', '', 2), ('architecture', '', 2), ('\\n', '', 2), ('operating', '', 2), ('-system', '', 2), ('structure', '', 2), ('\\n', '', 2), ('operating', '', 2), ('-system', '', 2), ('operations', '', 2), ('\\n', '', 2), ('process', '', 2), ('management', '', 2), ('\\n', '', 2), ('memory', '', 2), ('management', '', 2), ('\\n', '', 2), ('storage', '', 2), ('and', '', 2), ('i', '', 2), ('/', '', 2), ('o', '', 2), ('management', '', 2), ('\\n', '', 2), ('protection', '', 2), ('and', '', 2), ('security', '', 2), ('\\n', '', 2), ('distributed', '', 2), ('systems', '', 2), ('\\n', '', 2), ('special', '', 2), ('-purpose', '', 2), ('systems', '', 2), ('\\n', '', 2), ('computing', '', 2), ('environmentsbackground', '', 2), ('/', '', 2), ('intro', '', 2), ('\\n', '', 2), ('the', '', 2), ('main', '', 2), ('stuff', '', 2), ('\\n', '', 2), ('advanced', '', 2), ('topics', '', 2), (',', '', 2), ('not', '', 2), ('coveredtopics', '', 2), ('covered', '', 2), ('\\n', '', 2), ('introduction', '', 2), ('/', '', 2), ('background', '', 2), ('/', '', 2), ('overview', '', 2), ('\\n', '', 2), ('computer', '', 2), ('systems', '', 2), ('overview', '', 2), ('\\n', '', 2), ('operating', '', 2), ('systems', '', 2), ('overview', '', 2), (':', '', 2), ('interface', '', 2), (',', '', 2), ('system', '', 2), ('calls', '', 2), (',', '', 2), ('design', '', 2), ('and', '', 2), ('\\n', '', 2), ('implementation', '', 2), ('issues', '', 2), (',', '', 2), ('os', '', 2), ('structure', '', 2), ('\\n', '', 2), ('process', '', 2), ('management', '', 2), ('\\n', '', 2), ('processes', '', 2), ('and', '', 2), ('threads', '', 2), ('\\n', '', 2), ('interprocess', '', 2), ('communication', '', 2), ('\\n', '', 2), ('cpu', '', 2), ('scheduling', '', 2), ('–', '', 2), ('algorithms', '', 2), ('and', '', 2), ('criteria', '', 2), ('\\n', '', 2), ('process', '', 2), ('/', '', 2), ('thread', '', 2), ('synchronization', '', 2), ('–', '', 2), ('problems', '', 2), ('and', '', 2), ('solutions', '', 2), ('\\n', '', 2), ('deadlocks', '', 2), ('–', '', 2), ('prevention', '', 2), (',', '', 2), ('avoidance', '', 2), (',', '', 2), ('detection', '', 2), (',', '', 2), ('recoverytopics', '', 2), ('covered', '', 2), ('(', '', 2), ('contd', '', 2), ('.', '', 2), (')', '', 2), ('\\n', '', 2), ('memory', '', 2), ('management', '', 2), ('\\n', '', 2), ('basic', '', 2), ('main', '', 2), ('memory', '', 2), ('management', '', 2), ('(', '', 2), ('swapping', '', 2), (',', '', 2), ('contiguous', '', 2), ('\\n', '', 2), ('memory', '', 2), ('allocation', '', 2), (',', '', 2), ('paging', '', 2), (',', '', 2), ('segmentation', '', 2), (')', '', 2), ('\\n', '', 2), ('virtual', '', 2), ('memory', '', 2), ('(', '', 2), ('demand', '', 2), ('paging', '', 2), (',', '', 2), ('copy', '', 2), ('-on', '', 2), ('-', '', 2), ('write', '', 2), (',', '', 2), ('page', '', 2), ('\\n', '', 2), ('replacement', '', 2), (',', '', 2), ('allocating', '', 2), ('kernel', '', 2), ('memory', '', 2), (')', '', 2), ('\\n', '', 2), ('storage', '', 2), ('management', '', 2), ('and', '', 2), ('input', '', 2), ('/', '', 2), ('output', '', 2), ('\\n', '', 2), ('file', '', 2), ('-', '', 2), ('system', '', 2), ('interface', '', 2), ('(', '', 2), ('files', '', 2), (',', '', 2), ('directories', '', 2), (',', '', 2), ('mounting', '', 2), ('file', '', 2), ('system', '', 2), (',', '', 2), ('\\n', '', 2), ('file', '', 2), ('sharing', '', 2), (')', '', 2), ('\\n', '', 2), ('file', '', 2), ('-', '', 2), ('system', '', 2), ('implementation', '', 2), ('\\n', '', 2), ('mass', '', 2), ('-storage', '', 2), ('structure', '', 2), ('(', '', 2), ('disk', '', 2), ('structure', '', 2), (',', '', 2), ('scheduling', '', 2), (',', '', 2), ('\\n', '', 2), ('management', '', 2), (')', '', 2), ('\\n', '', 2), ('swap', '', 2), ('space', '', 2), ('management', '', 2), ('\\n', '', 2), ('i', '', 2), ('/', '', 2), ('o', '', 2), ('systems', '', 2), ('(', '', 2), ('hardware', '', 2), (',', '', 2), ('application', '', 2), ('i', '', 2), ('/', '', 2), ('o', '', 2), ('interface', '', 2), (',', '', 2), ('kernel', '', 2), ('i', '', 2), ('/', '', 2), ('o', '', 2), ('\\n', '', 2), ('subsystem', '', 2), (')', '', 2)]\n"
     ]
    }
   ],
   "source": [
    "# test the saved model\n",
    "print(\"Loading from\", output_dir)\n",
    "nlp2 = spacy.load(output_dir)\n",
    "for text, _ in TRAIN_DATA:\n",
    "    doc = nlp2(text)\n",
    "    print('Entities', [(ent.text, ent.label_) for ent in doc.ents])\n",
    "    print('Tokens', [(t.text, t.ent_type_, t.ent_iob) for t in doc])"
   ]
  }
 ],
 "metadata": {
  "kernelspec": {
   "display_name": "Python 3 (ipykernel)",
   "language": "python",
   "name": "python3"
  },
  "language_info": {
   "codemirror_mode": {
    "name": "ipython",
    "version": 3
   },
   "file_extension": ".py",
   "mimetype": "text/x-python",
   "name": "python",
   "nbconvert_exporter": "python",
   "pygments_lexer": "ipython3",
   "version": "3.9.7"
  }
 },
 "nbformat": 4,
 "nbformat_minor": 5
}
