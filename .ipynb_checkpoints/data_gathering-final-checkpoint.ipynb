{
 "cells": [
  {
   "cell_type": "markdown",
   "id": "5ab73c3d",
   "metadata": {},
   "source": [
    "# 1.Reading the data from the pdf document"
   ]
  },
  {
   "cell_type": "code",
   "execution_count": 1,
   "id": "3ac6e71d",
   "metadata": {},
   "outputs": [
    {
     "name": "stdout",
     "output_type": "stream",
     "text": [
      "Requirement already satisfied: pypdf in c:\\users\\ghaza\\anaconda3\\lib\\site-packages (3.5.0)\n",
      "Requirement already satisfied: typing_extensions>=3.10.0.0 in c:\\users\\ghaza\\anaconda3\\lib\\site-packages (from pypdf) (4.4.0)\n",
      "Note: you may need to restart the kernel to use updated packages.\n"
     ]
    }
   ],
   "source": [
    "pip install pypdf"
   ]
  },
  {
   "cell_type": "code",
   "execution_count": 2,
   "id": "bed491c0",
   "metadata": {},
   "outputs": [],
   "source": [
    "import pandas as pd"
   ]
  },
  {
   "cell_type": "code",
   "execution_count": 3,
   "id": "a8ea6dd7",
   "metadata": {},
   "outputs": [],
   "source": [
    "from pypdf import PdfReader"
   ]
  },
  {
   "cell_type": "code",
   "execution_count": 4,
   "id": "f54347fe",
   "metadata": {},
   "outputs": [],
   "source": [
    "#reading the text from the pdf\n",
    "def returnText(reader):\n",
    "    number_of_pages = len(reader.pages)\n",
    "    text = \"\"\n",
    "    for i in range(number_of_pages):\n",
    "      page = reader.pages[i]\n",
    "      text += page.extract_text()\n",
    "    return text"
   ]
  },
  {
   "cell_type": "markdown",
   "id": "6d9530d8",
   "metadata": {},
   "source": [
    "# 2.Splitting the text line by line"
   ]
  },
  {
   "cell_type": "code",
   "execution_count": 5,
   "id": "1d2ed295",
   "metadata": {},
   "outputs": [],
   "source": [
    "#print(lines)"
   ]
  },
  {
   "cell_type": "markdown",
   "id": "14c3b938",
   "metadata": {},
   "source": [
    "# 3.removing punctuation(except % and . )"
   ]
  },
  {
   "cell_type": "code",
   "execution_count": 6,
   "id": "ca3d3cc9",
   "metadata": {},
   "outputs": [],
   "source": [
    "import string"
   ]
  },
  {
   "cell_type": "code",
   "execution_count": 7,
   "id": "89d51f5f",
   "metadata": {},
   "outputs": [],
   "source": [
    "def remove_punct(text):\n",
    "    allowed_chars = string.ascii_letters + string.digits + \" %\" + '.'\n",
    "    text_nopunct = \"\".join([char for char in text if char in allowed_chars])\n",
    "    return text_nopunct\n",
    "\n"
   ]
  },
  {
   "cell_type": "code",
   "execution_count": 8,
   "id": "6f0c4805",
   "metadata": {},
   "outputs": [],
   "source": [
    "#print(remove_punct(lines))"
   ]
  },
  {
   "cell_type": "code",
   "execution_count": 9,
   "id": "89bdc4f1",
   "metadata": {},
   "outputs": [],
   "source": [
    "#split into sentences before deleting the punctuation"
   ]
  },
  {
   "cell_type": "code",
   "execution_count": 10,
   "id": "bbe6afdb",
   "metadata": {},
   "outputs": [],
   "source": [
    "#data_without_punct = [remove_punct(line) for line in lines] #remove_punct(text1) #[remove_punct(line) for line in lines]  #"
   ]
  },
  {
   "cell_type": "code",
   "execution_count": 11,
   "id": "f03650e2",
   "metadata": {},
   "outputs": [],
   "source": [
    "#print(text1[:200])"
   ]
  },
  {
   "cell_type": "code",
   "execution_count": 12,
   "id": "939957a9",
   "metadata": {},
   "outputs": [],
   "source": [
    "#print(data_without_punct[:200])"
   ]
  },
  {
   "cell_type": "markdown",
   "id": "3265a36f",
   "metadata": {},
   "source": [
    "# 4.removing empty strings"
   ]
  },
  {
   "cell_type": "code",
   "execution_count": 13,
   "id": "f91fdec8",
   "metadata": {},
   "outputs": [],
   "source": [
    "#cleaned_list = [element for element in data_without_punct if not element.isspace()]\n",
    "#print(cleaned_list)"
   ]
  },
  {
   "cell_type": "markdown",
   "id": "20bdfba6",
   "metadata": {},
   "source": [
    "# 5.removing white spaces from the beginning & end of strings"
   ]
  },
  {
   "cell_type": "code",
   "execution_count": 14,
   "id": "dfa28aa3",
   "metadata": {},
   "outputs": [],
   "source": [
    "#cleaned_list2 = [element.strip() for element in cleaned_list]\n",
    "#print(cleaned_list2)"
   ]
  },
  {
   "cell_type": "markdown",
   "id": "a1b3c400",
   "metadata": {},
   "source": [
    "# 6.removing stopwords"
   ]
  },
  {
   "cell_type": "code",
   "execution_count": 15,
   "id": "f998d1f5",
   "metadata": {},
   "outputs": [],
   "source": [
    "import nltk"
   ]
  },
  {
   "cell_type": "code",
   "execution_count": 16,
   "id": "152c80bb",
   "metadata": {},
   "outputs": [],
   "source": [
    "stopword = nltk.corpus.stopwords.words('english')\n",
    "#print(stopword)"
   ]
  },
  {
   "cell_type": "code",
   "execution_count": 17,
   "id": "f4eae50e",
   "metadata": {},
   "outputs": [],
   "source": [
    "def remove_stopwords(tokenized_list):\n",
    "    text = [word for word in tokenized_list if word not in stopword]\n",
    "    return text"
   ]
  },
  {
   "cell_type": "code",
   "execution_count": 18,
   "id": "255c0173",
   "metadata": {},
   "outputs": [],
   "source": [
    "#data_without_stopwords = remove_stopwords(cleaned_list2)\n",
    "#print(data_without_stopwords[0:5])"
   ]
  },
  {
   "cell_type": "markdown",
   "id": "773d9a49",
   "metadata": {},
   "source": [
    "# "
   ]
  },
  {
   "cell_type": "code",
   "execution_count": 19,
   "id": "dab2e754",
   "metadata": {},
   "outputs": [
    {
     "name": "stdout",
     "output_type": "stream",
     "text": [
      "Empty DataFrame\n",
      "Columns: [Sentences]\n",
      "Index: []\n",
      "len(df) 288  pdf_name  ECO1104F\n",
      "len(df) 680  pdf_name  ADM3313\n",
      "len(df) 852  pdf_name  MAT1348B\n",
      "len(df) 943  pdf_name  CSI3105\n",
      "len(df) 1081  pdf_name  ITI1121\n",
      "len(df) 1263  pdf_name  mat1322\n",
      "len(df) 1533  pdf_name  ADM1100\n"
     ]
    }
   ],
   "source": [
    "columns = ['Sentences']\n",
    "df = pd.DataFrame(columns=columns)\n",
    "print(df.head())\n",
    "###\n",
    "pdf_names = [\"ECO1104F\", \"ADM3313\", \"MAT1348B\", \"CSI3105\", \"ITI1121\", \"mat1322\", \"ADM1100\"]\n",
    "for pdf_name in pdf_names:\n",
    "    pdf_filename = f\"{pdf_name}.pdf\"\n",
    "    \n",
    "    #1. reading the data\n",
    "    reader = PdfReader(pdf_filename)\n",
    "    text1 = returnText(reader)\n",
    "    \n",
    "    #2. splitting the text by line\n",
    "    lines = text1.split('\\n')\n",
    "    #print(pdf_filename)\n",
    "    #print(lines)\n",
    "    \n",
    "    #3. removing the punctuation\n",
    "    data_without_punct = [remove_punct(line) for line in lines] \n",
    "    #print(\"data_without_punct\", data_without_punct)\n",
    "    \n",
    "    #4. removing empty strings\n",
    "    cleaned_list = [element for element in data_without_punct if not element.isspace()]\n",
    "    \n",
    "    #5. removing white spaces from the beginning & end of strings\n",
    "    cleaned_list2 = [element.strip() for element in cleaned_list]\n",
    "    \n",
    "    #6. removing the stopwords\n",
    "    data_without_stopwords = remove_stopwords(cleaned_list2)\n",
    "    \n",
    "    # Append each sentence to the DataFrame as a separate row\n",
    "    for sentence in data_without_stopwords:\n",
    "        df=df.append({'Sentences': sentence}, ignore_index=True)\n",
    "    #df = pd.DataFrame(data_without_stopwords, columns=['Sentences'])\n",
    "    #print(df.head())\n",
    "    print(\"len(df)\",len(df),\" pdf_name \", pdf_name)\n",
    "    #df = df.append({'Sentences': data_without_stopwords} ,ignore_index=True)"
   ]
  },
  {
   "cell_type": "code",
   "execution_count": 20,
   "id": "2a66077f",
   "metadata": {},
   "outputs": [
    {
     "name": "stdout",
     "output_type": "stream",
     "text": [
      "1450                                             Sept. 23\n",
      "1451                     Managing in a Global Environment\n",
      "1452    Managing Entrepreneurially and Options for Org...\n",
      "1453                                        Business  Ch4\n",
      "1454                               Ch5 and Lecture Slides\n",
      "1455                            Sept. 30  Decision Making\n",
      "1456                          Team case project demo  Ch8\n",
      "1457                                       Lecture Slides\n",
      "1458                      Oct. 7  Foundations of Planning\n",
      "1459                          Managing Strategically  Ch9\n",
      "1460                                                 Ch10\n",
      "1461                        Oct. 13  NO CLASS  STUDY WEEK\n",
      "1462                   Oct. 21   October 21  MIDTERM EXAM\n",
      "1463            Oct. 28  Managers and Communication  Ch12\n",
      "1464               Nov. 4  Managing Human Resources  Ch13\n",
      "1465                                  Nov. 11  Leadership\n",
      "1466                            Managing Groups and Teams\n",
      "1467         Group PROJECT DUE AT 1000AM ON NOV. 14  Ch14\n",
      "1468                                                 Ch16\n",
      "1469                    Nov. 18  Managerial Control  Ch17\n",
      "1470                    Nov. 25  Managerial Control  Ch17\n",
      "1471                 Dec. 2  Review for Final Examination\n",
      "1472                                          Exam Period\n",
      "1473                                           FINAL EXAM\n",
      "1474    1 Tentative Schedule  subject to change . This...\n",
      "1475    will be announced in class  and posted through...\n",
      "1476        they are absent when  changes  are announced.\n",
      "1477                                                    8\n",
      "1478                                       ACADEMIC FRAUD\n",
      "1479    Academic Regulation 14 defines academic fraud ...\n",
      "1480    distorted academic evaluation for that student...\n",
      "1481                 is not limited to activities such as\n",
      "1482                  a Plagiarism or cheating in any way\n",
      "1483    b Submitting work not partially or fully the s...\n",
      "1484    quotations and references.  Such work includes...\n",
      "1485    research reports and theses regardless of whet...\n",
      "1486                                                 form\n",
      "1487    c Presenting research data that are forged  fa...\n",
      "1488    d Attributing a statement of fact or reference...\n",
      "1489    e Submitting the same work or a large part of ...\n",
      "1490    course or a thesis or any other piece of work ...\n",
      "1491    approval of the appropriate professors or acad...\n",
      "1492    f Falsifying or misrepresenting an academic ev...\n",
      "1493    supporting document or facilitating the use of...\n",
      "1494    g Taking any action aimed at falsifying an aca...\n",
      "1495    The Telfer School of Management does not toler...\n",
      "1496    with the guidance provided at httpweb5.uottawa...\n",
      "1497    ACCESS SERVICE FOR STUDENTS WHO NEED ADAPTIVE ...\n",
      "1498    Students who have a disability or functional l...\n",
      "1499    changes to the physical setting arrangements f...\n",
      "Name: Sentences, dtype: object\n"
     ]
    }
   ],
   "source": [
    "df.head()\n",
    "len(df)\n",
    "print(df['Sentences'][1450:1500])"
   ]
  },
  {
   "cell_type": "markdown",
   "id": "d129e64d",
   "metadata": {},
   "source": [
    "# 7.creating a dataframe"
   ]
  },
  {
   "cell_type": "code",
   "execution_count": 21,
   "id": "76ebb498",
   "metadata": {},
   "outputs": [],
   "source": [
    "#df = pd.DataFrame(data_without_stopwords, columns=['Sentences'])\n",
    "#, 'contains_a_deadline' , 'deadline', 'deadline_type'\n",
    "#columns = ['Sentences']\n",
    "#df = pd.DataFrame(columns=columns)"
   ]
  },
  {
   "cell_type": "code",
   "execution_count": 22,
   "id": "d292254d",
   "metadata": {},
   "outputs": [],
   "source": [
    "df['contains_a_deadline'] = 0 #False\n",
    "#df['deadline']= ''\n",
    "#df['deadline_type'] = ''"
   ]
  },
  {
   "cell_type": "code",
   "execution_count": 23,
   "id": "acf98544",
   "metadata": {},
   "outputs": [
    {
     "data": {
      "text/plain": [
       "1533"
      ]
     },
     "execution_count": 23,
     "metadata": {},
     "output_type": "execute_result"
    }
   ],
   "source": [
    "df.head()\n",
    "len(df)"
   ]
  },
  {
   "cell_type": "code",
   "execution_count": 25,
   "id": "0a5c5e2a",
   "metadata": {},
   "outputs": [],
   "source": [
    "pd.set_option('display.max_colwidth', None) #to see all the length of each string"
   ]
  },
  {
   "cell_type": "markdown",
   "id": "55b31cff",
   "metadata": {},
   "source": [
    "# 8.adding the label to the contains_a_deadline column"
   ]
  },
  {
   "cell_type": "code",
   "execution_count": 27,
   "id": "77ec0c3a",
   "metadata": {},
   "outputs": [],
   "source": [
    "# 40 -> [0:48]  , 61 -> [48:100],  81 [40:100]\n",
    "has_deadlines = [61, 62, 63, 90, 121, 126,\n",
    "                 302, 303, 304, 377,\n",
    "                 770, 771, 772, 774, 775, 776,\n",
    "                 900, 901, 902, 906, 908, 910, 914, 915,\n",
    "                 999, 1003, 1004, 1005, 1006,\n",
    "                 1111, 1114, 1167, 1168, 1169, 1170, 1171,\n",
    "                 1281, 1282, 1335, 1462, 1467\n",
    "                ]\n",
    "for idx in has_deadlines:\n",
    "    df.loc[idx, 'contains_a_deadline'] =1 \n"
   ]
  },
  {
   "cell_type": "code",
   "execution_count": 29,
   "id": "9fc317b7",
   "metadata": {},
   "outputs": [
    {
     "data": {
      "text/plain": [
       "60     0\n",
       "61     1\n",
       "62     1\n",
       "63     1\n",
       "64     0\n",
       "      ..\n",
       "122    0\n",
       "123    0\n",
       "124    0\n",
       "125    0\n",
       "126    1\n",
       "Name: contains_a_deadline, Length: 67, dtype: int64"
      ]
     },
     "execution_count": 29,
     "metadata": {},
     "output_type": "execute_result"
    }
   ],
   "source": [
    "df['contains_a_deadline'][60:127]\n",
    "#900, 901, 902, 906, 908, 910, 914, 915]"
   ]
  },
  {
   "cell_type": "markdown",
   "id": "c6d08317",
   "metadata": {},
   "source": [
    "# 9. getting the year "
   ]
  },
  {
   "cell_type": "markdown",
   "id": "469b651d",
   "metadata": {},
   "source": [
    "# 10.adding the label to the deadline column"
   ]
  },
  {
   "cell_type": "code",
   "execution_count": 30,
   "id": "1e4d3841",
   "metadata": {},
   "outputs": [],
   "source": [
    "#ECO1104F\n",
    "df.loc[61, 'deadline'] = '2020-02-6' \n",
    "df.loc[62, 'deadline'] = '2020-03-12'\n",
    "df.loc[63, 'deadline'] = ''\n",
    "df.loc[90, 'deadline'] = '2020-05-05'\n",
    "df.loc[121, 'deadline'] = '2020-02-6'\n",
    "df.loc[126, 'deadline'] = '2020-03-12'\n",
    "\n",
    "# \"ADM3313\"\n",
    "df.loc[302, 'deadline'] = '2022-02-09'\n",
    "df.loc[303, 'deadline'] = '2022-03-2'\n",
    "df.loc[304, 'deadline'] = '2022-04-26'\n",
    "df.loc[377, 'deadline'] = '2022-02-09'\n",
    "\n",
    "#\"MAT1348B\"\n",
    "df.loc[770, 'deadline'] = '2022-01-28'\n",
    "df.loc[771, 'deadline'] = '2022-03-03'\n",
    "df.loc[772, 'deadline'] = '2022-04-01'\n",
    "df.loc[774, 'deadline'] = '2022-02-10'\n",
    "df.loc[775, 'deadline'] = '2022-03-16'\n",
    "df.loc[776, 'deadline'] = ''\n",
    "\n",
    "#900, 901, 902, 906, 908, 910, 914, 915]\n",
    "\n",
    "#\"CSI3105\"\n",
    "df.loc[900, 'deadline'] = '2022-09-22'\n",
    "df.loc[901, 'deadline'] = '2022-10-06'\n",
    "df.loc[902, 'deadline'] = '2022-11-10'\n",
    "df.loc[906, 'deadline'] = '2022-09-29'\n",
    "df.loc[908, 'deadline'] = '2022-10-13'\n",
    "df.loc[910, 'deadline'] = '2022-11-17'\n",
    "df.loc[914, 'deadline'] = '2022-10-17'\n",
    "df.loc[915, 'deadline'] = '2022-11-21'\n",
    "\n",
    "#\"ITI1121\",\n",
    "df.loc[999, 'deadline'] = '2021-03-06'\n",
    "df.loc[1003, 'deadline'] = '2021-02-05'\n",
    "df.loc[1004, 'deadline'] = '2021-02-26'\n",
    "df.loc[1005, 'deadline'] = '2021-03-19'\n",
    "df.loc[1006, 'deadline'] = '2021-04-09'\n",
    "\n",
    "\n",
    "\n",
    "\n",
    "\n",
    "#mat1322\n",
    "df.loc[1111, 'deadline'] = '2020-02-03'\n",
    "df.loc[1114, 'deadline'] = '2020-03-16'\n",
    "df.loc[1167, 'deadline'] = '2020-01-22'\n",
    "df.loc[1168, 'deadline'] = '2020-02-05'\n",
    "df.loc[1169, 'deadline'] = '2020-02-26'\n",
    "df.loc[1170, 'deadline'] = '2020-03-11'\n",
    "df.loc[1171, 'deadline'] = '2020-04-01'\n",
    "\n",
    "#ADM1100\n",
    "df.loc[1281, 'deadline'] = '2019-10-21'\n",
    "df.loc[1282, 'deadline'] = '2019-11-14'\n",
    "df.loc[1335, 'deadline'] = '2019-10-21'\n",
    "df.loc[1462, 'deadline'] = '2019-10-21'\n",
    "df.loc[1467, 'deadline'] = '2019-11-14'\n"
   ]
  },
  {
   "cell_type": "markdown",
   "id": "c5d09583",
   "metadata": {},
   "source": [
    "# 11.adding the label to the deadline_type column"
   ]
  },
  {
   "cell_type": "code",
   "execution_count": 31,
   "id": "71ed825f",
   "metadata": {},
   "outputs": [],
   "source": [
    "#ECO1104F\n",
    "df.loc[61, 'deadline_type'] = 'midterm'\n",
    "df.loc[62, 'deadline_type'] = 'midterm'\n",
    "df.loc[63, 'deadline_type'] = 'final'\n",
    "df.loc[90, 'deadline_type'] = 'final'\n",
    "df.loc[121, 'deadline_type'] = 'midterm'\n",
    "df.loc[126, 'deadline_type'] = 'midterm'\n",
    "\n",
    "# \"ADM3313\"\n",
    "df.loc[302, 'deadline_type'] = 'midterm'\n",
    "df.loc[303, 'deadline_type'] = 'report'\n",
    "df.loc[304, 'deadline_type'] = 'final'\n",
    "df.loc[377, 'deadline_type'] = 'midterm'\n",
    "\n",
    "#\"MAT1348B\"\n",
    "df.loc[770, 'deadline_type'] = 'assignment'\n",
    "df.loc[771, 'deadline_type'] = 'assignment'\n",
    "df.loc[772, 'deadline_type'] = 'assignment'\n",
    "df.loc[377, 'deadline_type'] = 'test'\n",
    "df.loc[377, 'deadline_type'] = 'test'\n",
    "df.loc[774, 'deadline_type'] = 'final'\n",
    "\n",
    "#\"CSI3105\"\n",
    "df.loc[900, 'deadline_type'] = 'assignment'\n",
    "df.loc[901, 'deadline_type'] = 'assignment'\n",
    "df.loc[902, 'deadline_type'] = 'assignment'\n",
    "df.loc[906, 'deadline_type'] = 'test'\n",
    "df.loc[908, 'deadline_type'] = 'test'\n",
    "df.loc[910, 'deadline_type'] = 'test'\n",
    "df.loc[914, 'deadline_type'] = 'exam'\n",
    "df.loc[915, 'deadline_type'] = 'exam'\n",
    "\n",
    "#\"ITI1121\",\n",
    "df.loc[999, 'deadline_type'] = 'midterm'\n",
    "df.loc[1003, 'deadline_type'] = 'assignment'\n",
    "df.loc[1004, 'deadline_type'] = 'assignment'\n",
    "df.loc[1005, 'deadline_type'] = 'assignment'\n",
    "df.loc[1006, 'deadline_type'] = 'assignment'\n",
    "\n",
    "#mat1322\n",
    "df.loc[1111, 'deadline_type'] = 'midterm'\n",
    "df.loc[1114, 'deadline_type'] = 'midterm'\n",
    "df.loc[1167, 'deadline_type'] = 'assignment'\n",
    "df.loc[1168, 'deadline_type'] = 'assignment'\n",
    "df.loc[1169, 'deadline_type'] = 'assignment'\n",
    "df.loc[1170, 'deadline_type'] = 'assignment'\n",
    "df.loc[1171, 'deadline_type'] = 'assignment'\n",
    "\n",
    "\n",
    "#ADM1100\n",
    "df.loc[1281, 'deadline_type'] = 'midterm'\n",
    "df.loc[1282, 'deadline_type'] = 'project'\n",
    "df.loc[1335, 'deadline_type'] = 'midterm'\n",
    "df.loc[1462, 'deadline_type'] = 'midterm'\n",
    "df.loc[1467, 'deadline_type'] = 'project'"
   ]
  },
  {
   "cell_type": "code",
   "execution_count": 32,
   "id": "84c099a9",
   "metadata": {},
   "outputs": [
    {
     "name": "stdout",
     "output_type": "stream",
     "text": [
      "                                                                                           Sentences  \\\n",
      "61                                                   First m idterm exam   20 or 25  % February  6th   \n",
      "62                                                      Second midterm exam  20 or 25  % March  12th   \n",
      "63                                 Assignments  20 %   Final exam  35  % Exam Period  April  7th  to   \n",
      "90           9evaluationofstudentlearning . The date of the deferred final exam is May 5 th  2020 at   \n",
      "121                                                                First midterm exam  February 6 th   \n",
      "126                                                                 Second midterm exam  March 12 th   \n",
      "302                                                         Midterm exam  February 9  230 530pm  30%   \n",
      "303                         Customer Validation  Report  March 2  230pm Presentation and Report  30%   \n",
      "304                                                                   Final Report  April 26 8pm 30%   \n",
      "377                                                                    Feb 9  Mid Term  Exam  Online   \n",
      "770                                          Due DatesAssignment 1  Tuesday January 28 before 900 pm   \n",
      "771                                                      Assignment 2  Tuesday March 3 before 900 pm   \n",
      "772                                                      Assignment 3  Tuesday April 1 before 900 pm   \n",
      "774                                                               in classTEST 1  Monday February 10   \n",
      "775                                                                          TEST 2  Monday March 16   \n",
      "776                      Final Exam  The exam will be scheduled during the nal exam period April 724   \n",
      "900                                         Deadline for Assignment 1 September 22 2022 before 1300.   \n",
      "901                                            Deadline for Assignment 2 October 6 2022 before 1300.   \n",
      "902                                          Deadline for Assignment 3 November 10 2022 before 1300.   \n",
      "906                     MiniTest 1 To be done directly in BrightSpace between Sept. 29 2022 at 14h30   \n",
      "908                      MiniTest 2 To be done directly in BrightSpace between Oct. 13 2022 at 14h30   \n",
      "910                      MiniTest 3 To be done directly in BrightSpace between Nov. 17 2022 at 14h30   \n",
      "914                                                         Exam 1 October 17 2022 from 1130 to 1250   \n",
      "915                                                        Exam 2 November 21 2022 from 1130 to 1250   \n",
      "999                       midterm test will be held on Saturday March  6th 2021 from 11 am to 1 pm .   \n",
      "1003                                                                    Assignment 1 February 5 2021   \n",
      "1004                                                                   Assignment 2 February 26 2021   \n",
      "1005                                                                      Assignment 3 March 19 2021   \n",
      "1006                                                                       Assignment 4 April 9 2021   \n",
      "1111                                                                     Midterm 1 Monday February 3   \n",
      "1114                                                                       Midterm 2 Monday March 16   \n",
      "1167                                                                  Homework 1 deadline January 22   \n",
      "1168                                                                  Homework 2 deadline February 5   \n",
      "1169                                                                 Homework 3 deadline February 26   \n",
      "1170                                                                    Homework 4 deadline March 11   \n",
      "1171                                                                    Homework 5 deadline April 01   \n",
      "1281                                                   MidTerm Exam  2 hours  Oct 21st in class  35%   \n",
      "1282                                                           Team  Case Study  Nov 14th 10AM   20%   \n",
      "1335  There will be a 2hour  midterm examination held during the semester on October 21  201 9.  The   \n",
      "1462                                                              Oct. 21   October 21  MIDTERM EXAM   \n",
      "1467                                                    Group PROJECT DUE AT 1000AM ON NOV. 14  Ch14   \n",
      "\n",
      "      contains_a_deadline    deadline deadline_type  \n",
      "61                      1   2020-02-6       midterm  \n",
      "62                      1  2020-03-12       midterm  \n",
      "63                      1                     final  \n",
      "90                      1  2020-05-05         final  \n",
      "121                     1   2020-02-6       midterm  \n",
      "126                     1  2020-03-12       midterm  \n",
      "302                     1  2022-02-09       midterm  \n",
      "303                     1   2022-03-2        report  \n",
      "304                     1  2022-04-26         final  \n",
      "377                     1  2022-02-09          test  \n",
      "770                     1  2022-01-28    assignment  \n",
      "771                     1  2022-03-03    assignment  \n",
      "772                     1  2022-04-01    assignment  \n",
      "774                     1  2022-02-10         final  \n",
      "775                     1  2022-03-16           NaN  \n",
      "776                     1                       NaN  \n",
      "900                     1  2022-09-22    assignment  \n",
      "901                     1  2022-10-06    assignment  \n",
      "902                     1  2022-11-10    assignment  \n",
      "906                     1  2022-09-29          test  \n",
      "908                     1  2022-10-13          test  \n",
      "910                     1  2022-11-17          test  \n",
      "914                     1  2022-10-17          exam  \n",
      "915                     1  2022-11-21          exam  \n",
      "999                     1  2021-03-06       midterm  \n",
      "1003                    1  2021-02-05    assignment  \n",
      "1004                    1  2021-02-26    assignment  \n",
      "1005                    1  2021-03-19    assignment  \n",
      "1006                    1  2021-04-09    assignment  \n",
      "1111                    1  2020-02-03       midterm  \n",
      "1114                    1  2020-03-16       midterm  \n",
      "1167                    1  2020-01-22    assignment  \n",
      "1168                    1  2020-02-05    assignment  \n",
      "1169                    1  2020-02-26    assignment  \n",
      "1170                    1  2020-03-11    assignment  \n",
      "1171                    1  2020-04-01    assignment  \n",
      "1281                    1  2019-10-21       midterm  \n",
      "1282                    1  2019-11-14       project  \n",
      "1335                    1  2019-10-21       midterm  \n",
      "1462                    1  2019-10-21       midterm  \n",
      "1467                    1  2019-11-14       project  \n"
     ]
    }
   ],
   "source": [
    "# Rows you want to print\n",
    "rows_to_print = [61, 62, 63, 90, 121, 126,\n",
    "                 302, 303, 304, 377,\n",
    "                 770, 771, 772, 774, 775, 776,\n",
    "                 900, 901, 902, 906, 908, 910, 914, 915,\n",
    "                 999, 1003, 1004, 1005, 1006,\n",
    "                 1111, 1114, 1167, 1168, 1169, 1170, 1171,\n",
    "                 1281, 1282, 1335, 1462, 1467\n",
    "                ]\n",
    "\n",
    "# Print the selected rows\n",
    "selected_rows = df.iloc[rows_to_print]\n",
    "print(selected_rows)"
   ]
  }
 ],
 "metadata": {
  "kernelspec": {
   "display_name": "Python 3 (ipykernel)",
   "language": "python",
   "name": "python3"
  },
  "language_info": {
   "codemirror_mode": {
    "name": "ipython",
    "version": 3
   },
   "file_extension": ".py",
   "mimetype": "text/x-python",
   "name": "python",
   "nbconvert_exporter": "python",
   "pygments_lexer": "ipython3",
   "version": "3.9.7"
  }
 },
 "nbformat": 4,
 "nbformat_minor": 5
}
